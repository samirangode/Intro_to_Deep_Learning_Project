{
  "nbformat": 4,
  "nbformat_minor": 0,
  "metadata": {
    "colab": {
      "name": "TRANSFORMERS IDL.ipynb",
      "provenance": [],
      "collapsed_sections": [],
      "machine_shape": "hm"
    },
    "kernelspec": {
      "name": "python3",
      "display_name": "Python 3"
    },
    "language_info": {
      "name": "python"
    },
    "accelerator": "GPU",
    "widgets": {
      "application/vnd.jupyter.widget-state+json": {
        "d93ec20b98e849eabb8813604e171cd8": {
          "model_module": "@jupyter-widgets/controls",
          "model_name": "HBoxModel",
          "model_module_version": "1.5.0",
          "state": {
            "_view_name": "HBoxView",
            "_dom_classes": [],
            "_model_name": "HBoxModel",
            "_view_module": "@jupyter-widgets/controls",
            "_model_module_version": "1.5.0",
            "_view_count": null,
            "_view_module_version": "1.5.0",
            "box_style": "",
            "layout": "IPY_MODEL_6702f9300d8e47f5a59390761056b372",
            "_model_module": "@jupyter-widgets/controls",
            "children": [
              "IPY_MODEL_eec81ae995654da39f3accc5d6c705ac",
              "IPY_MODEL_77cb9f4eefee4f66916b7de1b9fc4d3c",
              "IPY_MODEL_16185d7955c846a29301295c5d5b676e"
            ]
          }
        },
        "6702f9300d8e47f5a59390761056b372": {
          "model_module": "@jupyter-widgets/base",
          "model_name": "LayoutModel",
          "model_module_version": "1.2.0",
          "state": {
            "_view_name": "LayoutView",
            "grid_template_rows": null,
            "right": null,
            "justify_content": null,
            "_view_module": "@jupyter-widgets/base",
            "overflow": null,
            "_model_module_version": "1.2.0",
            "_view_count": null,
            "flex_flow": null,
            "width": null,
            "min_width": null,
            "border": null,
            "align_items": null,
            "bottom": null,
            "_model_module": "@jupyter-widgets/base",
            "top": null,
            "grid_column": null,
            "overflow_y": null,
            "overflow_x": null,
            "grid_auto_flow": null,
            "grid_area": null,
            "grid_template_columns": null,
            "flex": null,
            "_model_name": "LayoutModel",
            "justify_items": null,
            "grid_row": null,
            "max_height": null,
            "align_content": null,
            "visibility": null,
            "align_self": null,
            "height": null,
            "min_height": null,
            "padding": null,
            "grid_auto_rows": null,
            "grid_gap": null,
            "max_width": null,
            "order": null,
            "_view_module_version": "1.2.0",
            "grid_template_areas": null,
            "object_position": null,
            "object_fit": null,
            "grid_auto_columns": null,
            "margin": null,
            "display": null,
            "left": null
          }
        },
        "eec81ae995654da39f3accc5d6c705ac": {
          "model_module": "@jupyter-widgets/controls",
          "model_name": "HTMLModel",
          "model_module_version": "1.5.0",
          "state": {
            "_view_name": "HTMLView",
            "style": "IPY_MODEL_7a03237dc8e341dbb3b341f8ba424d9f",
            "_dom_classes": [],
            "description": "",
            "_model_name": "HTMLModel",
            "placeholder": "​",
            "_view_module": "@jupyter-widgets/controls",
            "_model_module_version": "1.5.0",
            "value": "Downloading: 100%",
            "_view_count": null,
            "_view_module_version": "1.5.0",
            "description_tooltip": null,
            "_model_module": "@jupyter-widgets/controls",
            "layout": "IPY_MODEL_8487ae543c1e4500be0fd9456c0a7148"
          }
        },
        "77cb9f4eefee4f66916b7de1b9fc4d3c": {
          "model_module": "@jupyter-widgets/controls",
          "model_name": "FloatProgressModel",
          "model_module_version": "1.5.0",
          "state": {
            "_view_name": "ProgressView",
            "style": "IPY_MODEL_0cd61ff88ff247bf8a2830562853f1e4",
            "_dom_classes": [],
            "description": "",
            "_model_name": "FloatProgressModel",
            "bar_style": "success",
            "max": 694,
            "_view_module": "@jupyter-widgets/controls",
            "_model_module_version": "1.5.0",
            "value": 694,
            "_view_count": null,
            "_view_module_version": "1.5.0",
            "orientation": "horizontal",
            "min": 0,
            "description_tooltip": null,
            "_model_module": "@jupyter-widgets/controls",
            "layout": "IPY_MODEL_2ce05d901e2c40df90a9f45355b416fa"
          }
        },
        "16185d7955c846a29301295c5d5b676e": {
          "model_module": "@jupyter-widgets/controls",
          "model_name": "HTMLModel",
          "model_module_version": "1.5.0",
          "state": {
            "_view_name": "HTMLView",
            "style": "IPY_MODEL_6f34817367f74c5d8b95c4c358dc34a8",
            "_dom_classes": [],
            "description": "",
            "_model_name": "HTMLModel",
            "placeholder": "​",
            "_view_module": "@jupyter-widgets/controls",
            "_model_module_version": "1.5.0",
            "value": " 694/694 [00:00&lt;00:00, 27.7kB/s]",
            "_view_count": null,
            "_view_module_version": "1.5.0",
            "description_tooltip": null,
            "_model_module": "@jupyter-widgets/controls",
            "layout": "IPY_MODEL_22ff80e835da47d1ab5b02d5b3a414ed"
          }
        },
        "7a03237dc8e341dbb3b341f8ba424d9f": {
          "model_module": "@jupyter-widgets/controls",
          "model_name": "DescriptionStyleModel",
          "model_module_version": "1.5.0",
          "state": {
            "_view_name": "StyleView",
            "_model_name": "DescriptionStyleModel",
            "description_width": "",
            "_view_module": "@jupyter-widgets/base",
            "_model_module_version": "1.5.0",
            "_view_count": null,
            "_view_module_version": "1.2.0",
            "_model_module": "@jupyter-widgets/controls"
          }
        },
        "8487ae543c1e4500be0fd9456c0a7148": {
          "model_module": "@jupyter-widgets/base",
          "model_name": "LayoutModel",
          "model_module_version": "1.2.0",
          "state": {
            "_view_name": "LayoutView",
            "grid_template_rows": null,
            "right": null,
            "justify_content": null,
            "_view_module": "@jupyter-widgets/base",
            "overflow": null,
            "_model_module_version": "1.2.0",
            "_view_count": null,
            "flex_flow": null,
            "width": null,
            "min_width": null,
            "border": null,
            "align_items": null,
            "bottom": null,
            "_model_module": "@jupyter-widgets/base",
            "top": null,
            "grid_column": null,
            "overflow_y": null,
            "overflow_x": null,
            "grid_auto_flow": null,
            "grid_area": null,
            "grid_template_columns": null,
            "flex": null,
            "_model_name": "LayoutModel",
            "justify_items": null,
            "grid_row": null,
            "max_height": null,
            "align_content": null,
            "visibility": null,
            "align_self": null,
            "height": null,
            "min_height": null,
            "padding": null,
            "grid_auto_rows": null,
            "grid_gap": null,
            "max_width": null,
            "order": null,
            "_view_module_version": "1.2.0",
            "grid_template_areas": null,
            "object_position": null,
            "object_fit": null,
            "grid_auto_columns": null,
            "margin": null,
            "display": null,
            "left": null
          }
        },
        "0cd61ff88ff247bf8a2830562853f1e4": {
          "model_module": "@jupyter-widgets/controls",
          "model_name": "ProgressStyleModel",
          "model_module_version": "1.5.0",
          "state": {
            "_view_name": "StyleView",
            "_model_name": "ProgressStyleModel",
            "description_width": "",
            "_view_module": "@jupyter-widgets/base",
            "_model_module_version": "1.5.0",
            "_view_count": null,
            "_view_module_version": "1.2.0",
            "bar_color": null,
            "_model_module": "@jupyter-widgets/controls"
          }
        },
        "2ce05d901e2c40df90a9f45355b416fa": {
          "model_module": "@jupyter-widgets/base",
          "model_name": "LayoutModel",
          "model_module_version": "1.2.0",
          "state": {
            "_view_name": "LayoutView",
            "grid_template_rows": null,
            "right": null,
            "justify_content": null,
            "_view_module": "@jupyter-widgets/base",
            "overflow": null,
            "_model_module_version": "1.2.0",
            "_view_count": null,
            "flex_flow": null,
            "width": null,
            "min_width": null,
            "border": null,
            "align_items": null,
            "bottom": null,
            "_model_module": "@jupyter-widgets/base",
            "top": null,
            "grid_column": null,
            "overflow_y": null,
            "overflow_x": null,
            "grid_auto_flow": null,
            "grid_area": null,
            "grid_template_columns": null,
            "flex": null,
            "_model_name": "LayoutModel",
            "justify_items": null,
            "grid_row": null,
            "max_height": null,
            "align_content": null,
            "visibility": null,
            "align_self": null,
            "height": null,
            "min_height": null,
            "padding": null,
            "grid_auto_rows": null,
            "grid_gap": null,
            "max_width": null,
            "order": null,
            "_view_module_version": "1.2.0",
            "grid_template_areas": null,
            "object_position": null,
            "object_fit": null,
            "grid_auto_columns": null,
            "margin": null,
            "display": null,
            "left": null
          }
        },
        "6f34817367f74c5d8b95c4c358dc34a8": {
          "model_module": "@jupyter-widgets/controls",
          "model_name": "DescriptionStyleModel",
          "model_module_version": "1.5.0",
          "state": {
            "_view_name": "StyleView",
            "_model_name": "DescriptionStyleModel",
            "description_width": "",
            "_view_module": "@jupyter-widgets/base",
            "_model_module_version": "1.5.0",
            "_view_count": null,
            "_view_module_version": "1.2.0",
            "_model_module": "@jupyter-widgets/controls"
          }
        },
        "22ff80e835da47d1ab5b02d5b3a414ed": {
          "model_module": "@jupyter-widgets/base",
          "model_name": "LayoutModel",
          "model_module_version": "1.2.0",
          "state": {
            "_view_name": "LayoutView",
            "grid_template_rows": null,
            "right": null,
            "justify_content": null,
            "_view_module": "@jupyter-widgets/base",
            "overflow": null,
            "_model_module_version": "1.2.0",
            "_view_count": null,
            "flex_flow": null,
            "width": null,
            "min_width": null,
            "border": null,
            "align_items": null,
            "bottom": null,
            "_model_module": "@jupyter-widgets/base",
            "top": null,
            "grid_column": null,
            "overflow_y": null,
            "overflow_x": null,
            "grid_auto_flow": null,
            "grid_area": null,
            "grid_template_columns": null,
            "flex": null,
            "_model_name": "LayoutModel",
            "justify_items": null,
            "grid_row": null,
            "max_height": null,
            "align_content": null,
            "visibility": null,
            "align_self": null,
            "height": null,
            "min_height": null,
            "padding": null,
            "grid_auto_rows": null,
            "grid_gap": null,
            "max_width": null,
            "order": null,
            "_view_module_version": "1.2.0",
            "grid_template_areas": null,
            "object_position": null,
            "object_fit": null,
            "grid_auto_columns": null,
            "margin": null,
            "display": null,
            "left": null
          }
        },
        "2dffcb7596fd487993fe50b4767b5b4b": {
          "model_module": "@jupyter-widgets/controls",
          "model_name": "HBoxModel",
          "model_module_version": "1.5.0",
          "state": {
            "_view_name": "HBoxView",
            "_dom_classes": [],
            "_model_name": "HBoxModel",
            "_view_module": "@jupyter-widgets/controls",
            "_model_module_version": "1.5.0",
            "_view_count": null,
            "_view_module_version": "1.5.0",
            "box_style": "",
            "layout": "IPY_MODEL_f5415c20b4e54148afaf7ab8b797e2ab",
            "_model_module": "@jupyter-widgets/controls",
            "children": [
              "IPY_MODEL_aab5e6f765194f25b8921f74e8252475",
              "IPY_MODEL_0747c42609684643b3dd935d765f17af",
              "IPY_MODEL_63f7e1f6f37642bc9167e993c6a67464"
            ]
          }
        },
        "f5415c20b4e54148afaf7ab8b797e2ab": {
          "model_module": "@jupyter-widgets/base",
          "model_name": "LayoutModel",
          "model_module_version": "1.2.0",
          "state": {
            "_view_name": "LayoutView",
            "grid_template_rows": null,
            "right": null,
            "justify_content": null,
            "_view_module": "@jupyter-widgets/base",
            "overflow": null,
            "_model_module_version": "1.2.0",
            "_view_count": null,
            "flex_flow": null,
            "width": null,
            "min_width": null,
            "border": null,
            "align_items": null,
            "bottom": null,
            "_model_module": "@jupyter-widgets/base",
            "top": null,
            "grid_column": null,
            "overflow_y": null,
            "overflow_x": null,
            "grid_auto_flow": null,
            "grid_area": null,
            "grid_template_columns": null,
            "flex": null,
            "_model_name": "LayoutModel",
            "justify_items": null,
            "grid_row": null,
            "max_height": null,
            "align_content": null,
            "visibility": null,
            "align_self": null,
            "height": null,
            "min_height": null,
            "padding": null,
            "grid_auto_rows": null,
            "grid_gap": null,
            "max_width": null,
            "order": null,
            "_view_module_version": "1.2.0",
            "grid_template_areas": null,
            "object_position": null,
            "object_fit": null,
            "grid_auto_columns": null,
            "margin": null,
            "display": null,
            "left": null
          }
        },
        "aab5e6f765194f25b8921f74e8252475": {
          "model_module": "@jupyter-widgets/controls",
          "model_name": "HTMLModel",
          "model_module_version": "1.5.0",
          "state": {
            "_view_name": "HTMLView",
            "style": "IPY_MODEL_718914c2b1794508a43cff695c1683ad",
            "_dom_classes": [],
            "description": "",
            "_model_name": "HTMLModel",
            "placeholder": "​",
            "_view_module": "@jupyter-widgets/controls",
            "_model_module_version": "1.5.0",
            "value": "Downloading: 100%",
            "_view_count": null,
            "_view_module_version": "1.5.0",
            "description_tooltip": null,
            "_model_module": "@jupyter-widgets/controls",
            "layout": "IPY_MODEL_1c6da7e57bf642b49d3e376cf00b426c"
          }
        },
        "0747c42609684643b3dd935d765f17af": {
          "model_module": "@jupyter-widgets/controls",
          "model_name": "FloatProgressModel",
          "model_module_version": "1.5.0",
          "state": {
            "_view_name": "ProgressView",
            "style": "IPY_MODEL_e72b3620b7924ca0a5cc609c1f047427",
            "_dom_classes": [],
            "description": "",
            "_model_name": "FloatProgressModel",
            "bar_style": "success",
            "max": 898823,
            "_view_module": "@jupyter-widgets/controls",
            "_model_module_version": "1.5.0",
            "value": 898823,
            "_view_count": null,
            "_view_module_version": "1.5.0",
            "orientation": "horizontal",
            "min": 0,
            "description_tooltip": null,
            "_model_module": "@jupyter-widgets/controls",
            "layout": "IPY_MODEL_0edd3aaf7bf4425a8484f30236d72344"
          }
        },
        "63f7e1f6f37642bc9167e993c6a67464": {
          "model_module": "@jupyter-widgets/controls",
          "model_name": "HTMLModel",
          "model_module_version": "1.5.0",
          "state": {
            "_view_name": "HTMLView",
            "style": "IPY_MODEL_f33bf94148404a409803d9084f415d63",
            "_dom_classes": [],
            "description": "",
            "_model_name": "HTMLModel",
            "placeholder": "​",
            "_view_module": "@jupyter-widgets/controls",
            "_model_module_version": "1.5.0",
            "value": " 878k/878k [00:00&lt;00:00, 798kB/s]",
            "_view_count": null,
            "_view_module_version": "1.5.0",
            "description_tooltip": null,
            "_model_module": "@jupyter-widgets/controls",
            "layout": "IPY_MODEL_fe14d17b0b56421aa371394bdbeb8a52"
          }
        },
        "718914c2b1794508a43cff695c1683ad": {
          "model_module": "@jupyter-widgets/controls",
          "model_name": "DescriptionStyleModel",
          "model_module_version": "1.5.0",
          "state": {
            "_view_name": "StyleView",
            "_model_name": "DescriptionStyleModel",
            "description_width": "",
            "_view_module": "@jupyter-widgets/base",
            "_model_module_version": "1.5.0",
            "_view_count": null,
            "_view_module_version": "1.2.0",
            "_model_module": "@jupyter-widgets/controls"
          }
        },
        "1c6da7e57bf642b49d3e376cf00b426c": {
          "model_module": "@jupyter-widgets/base",
          "model_name": "LayoutModel",
          "model_module_version": "1.2.0",
          "state": {
            "_view_name": "LayoutView",
            "grid_template_rows": null,
            "right": null,
            "justify_content": null,
            "_view_module": "@jupyter-widgets/base",
            "overflow": null,
            "_model_module_version": "1.2.0",
            "_view_count": null,
            "flex_flow": null,
            "width": null,
            "min_width": null,
            "border": null,
            "align_items": null,
            "bottom": null,
            "_model_module": "@jupyter-widgets/base",
            "top": null,
            "grid_column": null,
            "overflow_y": null,
            "overflow_x": null,
            "grid_auto_flow": null,
            "grid_area": null,
            "grid_template_columns": null,
            "flex": null,
            "_model_name": "LayoutModel",
            "justify_items": null,
            "grid_row": null,
            "max_height": null,
            "align_content": null,
            "visibility": null,
            "align_self": null,
            "height": null,
            "min_height": null,
            "padding": null,
            "grid_auto_rows": null,
            "grid_gap": null,
            "max_width": null,
            "order": null,
            "_view_module_version": "1.2.0",
            "grid_template_areas": null,
            "object_position": null,
            "object_fit": null,
            "grid_auto_columns": null,
            "margin": null,
            "display": null,
            "left": null
          }
        },
        "e72b3620b7924ca0a5cc609c1f047427": {
          "model_module": "@jupyter-widgets/controls",
          "model_name": "ProgressStyleModel",
          "model_module_version": "1.5.0",
          "state": {
            "_view_name": "StyleView",
            "_model_name": "ProgressStyleModel",
            "description_width": "",
            "_view_module": "@jupyter-widgets/base",
            "_model_module_version": "1.5.0",
            "_view_count": null,
            "_view_module_version": "1.2.0",
            "bar_color": null,
            "_model_module": "@jupyter-widgets/controls"
          }
        },
        "0edd3aaf7bf4425a8484f30236d72344": {
          "model_module": "@jupyter-widgets/base",
          "model_name": "LayoutModel",
          "model_module_version": "1.2.0",
          "state": {
            "_view_name": "LayoutView",
            "grid_template_rows": null,
            "right": null,
            "justify_content": null,
            "_view_module": "@jupyter-widgets/base",
            "overflow": null,
            "_model_module_version": "1.2.0",
            "_view_count": null,
            "flex_flow": null,
            "width": null,
            "min_width": null,
            "border": null,
            "align_items": null,
            "bottom": null,
            "_model_module": "@jupyter-widgets/base",
            "top": null,
            "grid_column": null,
            "overflow_y": null,
            "overflow_x": null,
            "grid_auto_flow": null,
            "grid_area": null,
            "grid_template_columns": null,
            "flex": null,
            "_model_name": "LayoutModel",
            "justify_items": null,
            "grid_row": null,
            "max_height": null,
            "align_content": null,
            "visibility": null,
            "align_self": null,
            "height": null,
            "min_height": null,
            "padding": null,
            "grid_auto_rows": null,
            "grid_gap": null,
            "max_width": null,
            "order": null,
            "_view_module_version": "1.2.0",
            "grid_template_areas": null,
            "object_position": null,
            "object_fit": null,
            "grid_auto_columns": null,
            "margin": null,
            "display": null,
            "left": null
          }
        },
        "f33bf94148404a409803d9084f415d63": {
          "model_module": "@jupyter-widgets/controls",
          "model_name": "DescriptionStyleModel",
          "model_module_version": "1.5.0",
          "state": {
            "_view_name": "StyleView",
            "_model_name": "DescriptionStyleModel",
            "description_width": "",
            "_view_module": "@jupyter-widgets/base",
            "_model_module_version": "1.5.0",
            "_view_count": null,
            "_view_module_version": "1.2.0",
            "_model_module": "@jupyter-widgets/controls"
          }
        },
        "fe14d17b0b56421aa371394bdbeb8a52": {
          "model_module": "@jupyter-widgets/base",
          "model_name": "LayoutModel",
          "model_module_version": "1.2.0",
          "state": {
            "_view_name": "LayoutView",
            "grid_template_rows": null,
            "right": null,
            "justify_content": null,
            "_view_module": "@jupyter-widgets/base",
            "overflow": null,
            "_model_module_version": "1.2.0",
            "_view_count": null,
            "flex_flow": null,
            "width": null,
            "min_width": null,
            "border": null,
            "align_items": null,
            "bottom": null,
            "_model_module": "@jupyter-widgets/base",
            "top": null,
            "grid_column": null,
            "overflow_y": null,
            "overflow_x": null,
            "grid_auto_flow": null,
            "grid_area": null,
            "grid_template_columns": null,
            "flex": null,
            "_model_name": "LayoutModel",
            "justify_items": null,
            "grid_row": null,
            "max_height": null,
            "align_content": null,
            "visibility": null,
            "align_self": null,
            "height": null,
            "min_height": null,
            "padding": null,
            "grid_auto_rows": null,
            "grid_gap": null,
            "max_width": null,
            "order": null,
            "_view_module_version": "1.2.0",
            "grid_template_areas": null,
            "object_position": null,
            "object_fit": null,
            "grid_auto_columns": null,
            "margin": null,
            "display": null,
            "left": null
          }
        },
        "7fb55e7868c44d379e59e449bd62ffc4": {
          "model_module": "@jupyter-widgets/controls",
          "model_name": "HBoxModel",
          "model_module_version": "1.5.0",
          "state": {
            "_view_name": "HBoxView",
            "_dom_classes": [],
            "_model_name": "HBoxModel",
            "_view_module": "@jupyter-widgets/controls",
            "_model_module_version": "1.5.0",
            "_view_count": null,
            "_view_module_version": "1.5.0",
            "box_style": "",
            "layout": "IPY_MODEL_ccaca1c692bd48359dbaa707e2589ae1",
            "_model_module": "@jupyter-widgets/controls",
            "children": [
              "IPY_MODEL_c2c66d6c74c840ca93961a1ddfc1206c",
              "IPY_MODEL_44ee93b15e4d45cc9bd725604dcad8e6",
              "IPY_MODEL_3954ba27ef24441f837a16765a4afa4c"
            ]
          }
        },
        "ccaca1c692bd48359dbaa707e2589ae1": {
          "model_module": "@jupyter-widgets/base",
          "model_name": "LayoutModel",
          "model_module_version": "1.2.0",
          "state": {
            "_view_name": "LayoutView",
            "grid_template_rows": null,
            "right": null,
            "justify_content": null,
            "_view_module": "@jupyter-widgets/base",
            "overflow": null,
            "_model_module_version": "1.2.0",
            "_view_count": null,
            "flex_flow": null,
            "width": null,
            "min_width": null,
            "border": null,
            "align_items": null,
            "bottom": null,
            "_model_module": "@jupyter-widgets/base",
            "top": null,
            "grid_column": null,
            "overflow_y": null,
            "overflow_x": null,
            "grid_auto_flow": null,
            "grid_area": null,
            "grid_template_columns": null,
            "flex": null,
            "_model_name": "LayoutModel",
            "justify_items": null,
            "grid_row": null,
            "max_height": null,
            "align_content": null,
            "visibility": null,
            "align_self": null,
            "height": null,
            "min_height": null,
            "padding": null,
            "grid_auto_rows": null,
            "grid_gap": null,
            "max_width": null,
            "order": null,
            "_view_module_version": "1.2.0",
            "grid_template_areas": null,
            "object_position": null,
            "object_fit": null,
            "grid_auto_columns": null,
            "margin": null,
            "display": null,
            "left": null
          }
        },
        "c2c66d6c74c840ca93961a1ddfc1206c": {
          "model_module": "@jupyter-widgets/controls",
          "model_name": "HTMLModel",
          "model_module_version": "1.5.0",
          "state": {
            "_view_name": "HTMLView",
            "style": "IPY_MODEL_5f9f8f1e31d44b62bff8cbfe8152d220",
            "_dom_classes": [],
            "description": "",
            "_model_name": "HTMLModel",
            "placeholder": "​",
            "_view_module": "@jupyter-widgets/controls",
            "_model_module_version": "1.5.0",
            "value": "Downloading: 100%",
            "_view_count": null,
            "_view_module_version": "1.5.0",
            "description_tooltip": null,
            "_model_module": "@jupyter-widgets/controls",
            "layout": "IPY_MODEL_6308fda9d26e453993a577fdb65debaa"
          }
        },
        "44ee93b15e4d45cc9bd725604dcad8e6": {
          "model_module": "@jupyter-widgets/controls",
          "model_name": "FloatProgressModel",
          "model_module_version": "1.5.0",
          "state": {
            "_view_name": "ProgressView",
            "style": "IPY_MODEL_3486fb8393b84b04b8ab790e35028914",
            "_dom_classes": [],
            "description": "",
            "_model_name": "FloatProgressModel",
            "bar_style": "success",
            "max": 456318,
            "_view_module": "@jupyter-widgets/controls",
            "_model_module_version": "1.5.0",
            "value": 456318,
            "_view_count": null,
            "_view_module_version": "1.5.0",
            "orientation": "horizontal",
            "min": 0,
            "description_tooltip": null,
            "_model_module": "@jupyter-widgets/controls",
            "layout": "IPY_MODEL_c4d6127045b5400891d7e9f600450abf"
          }
        },
        "3954ba27ef24441f837a16765a4afa4c": {
          "model_module": "@jupyter-widgets/controls",
          "model_name": "HTMLModel",
          "model_module_version": "1.5.0",
          "state": {
            "_view_name": "HTMLView",
            "style": "IPY_MODEL_11e82a6141c547c68762a20732a44060",
            "_dom_classes": [],
            "description": "",
            "_model_name": "HTMLModel",
            "placeholder": "​",
            "_view_module": "@jupyter-widgets/controls",
            "_model_module_version": "1.5.0",
            "value": " 446k/446k [00:00&lt;00:00, 712kB/s]",
            "_view_count": null,
            "_view_module_version": "1.5.0",
            "description_tooltip": null,
            "_model_module": "@jupyter-widgets/controls",
            "layout": "IPY_MODEL_92e16d022d8c4181bebfa14b57538922"
          }
        },
        "5f9f8f1e31d44b62bff8cbfe8152d220": {
          "model_module": "@jupyter-widgets/controls",
          "model_name": "DescriptionStyleModel",
          "model_module_version": "1.5.0",
          "state": {
            "_view_name": "StyleView",
            "_model_name": "DescriptionStyleModel",
            "description_width": "",
            "_view_module": "@jupyter-widgets/base",
            "_model_module_version": "1.5.0",
            "_view_count": null,
            "_view_module_version": "1.2.0",
            "_model_module": "@jupyter-widgets/controls"
          }
        },
        "6308fda9d26e453993a577fdb65debaa": {
          "model_module": "@jupyter-widgets/base",
          "model_name": "LayoutModel",
          "model_module_version": "1.2.0",
          "state": {
            "_view_name": "LayoutView",
            "grid_template_rows": null,
            "right": null,
            "justify_content": null,
            "_view_module": "@jupyter-widgets/base",
            "overflow": null,
            "_model_module_version": "1.2.0",
            "_view_count": null,
            "flex_flow": null,
            "width": null,
            "min_width": null,
            "border": null,
            "align_items": null,
            "bottom": null,
            "_model_module": "@jupyter-widgets/base",
            "top": null,
            "grid_column": null,
            "overflow_y": null,
            "overflow_x": null,
            "grid_auto_flow": null,
            "grid_area": null,
            "grid_template_columns": null,
            "flex": null,
            "_model_name": "LayoutModel",
            "justify_items": null,
            "grid_row": null,
            "max_height": null,
            "align_content": null,
            "visibility": null,
            "align_self": null,
            "height": null,
            "min_height": null,
            "padding": null,
            "grid_auto_rows": null,
            "grid_gap": null,
            "max_width": null,
            "order": null,
            "_view_module_version": "1.2.0",
            "grid_template_areas": null,
            "object_position": null,
            "object_fit": null,
            "grid_auto_columns": null,
            "margin": null,
            "display": null,
            "left": null
          }
        },
        "3486fb8393b84b04b8ab790e35028914": {
          "model_module": "@jupyter-widgets/controls",
          "model_name": "ProgressStyleModel",
          "model_module_version": "1.5.0",
          "state": {
            "_view_name": "StyleView",
            "_model_name": "ProgressStyleModel",
            "description_width": "",
            "_view_module": "@jupyter-widgets/base",
            "_model_module_version": "1.5.0",
            "_view_count": null,
            "_view_module_version": "1.2.0",
            "bar_color": null,
            "_model_module": "@jupyter-widgets/controls"
          }
        },
        "c4d6127045b5400891d7e9f600450abf": {
          "model_module": "@jupyter-widgets/base",
          "model_name": "LayoutModel",
          "model_module_version": "1.2.0",
          "state": {
            "_view_name": "LayoutView",
            "grid_template_rows": null,
            "right": null,
            "justify_content": null,
            "_view_module": "@jupyter-widgets/base",
            "overflow": null,
            "_model_module_version": "1.2.0",
            "_view_count": null,
            "flex_flow": null,
            "width": null,
            "min_width": null,
            "border": null,
            "align_items": null,
            "bottom": null,
            "_model_module": "@jupyter-widgets/base",
            "top": null,
            "grid_column": null,
            "overflow_y": null,
            "overflow_x": null,
            "grid_auto_flow": null,
            "grid_area": null,
            "grid_template_columns": null,
            "flex": null,
            "_model_name": "LayoutModel",
            "justify_items": null,
            "grid_row": null,
            "max_height": null,
            "align_content": null,
            "visibility": null,
            "align_self": null,
            "height": null,
            "min_height": null,
            "padding": null,
            "grid_auto_rows": null,
            "grid_gap": null,
            "max_width": null,
            "order": null,
            "_view_module_version": "1.2.0",
            "grid_template_areas": null,
            "object_position": null,
            "object_fit": null,
            "grid_auto_columns": null,
            "margin": null,
            "display": null,
            "left": null
          }
        },
        "11e82a6141c547c68762a20732a44060": {
          "model_module": "@jupyter-widgets/controls",
          "model_name": "DescriptionStyleModel",
          "model_module_version": "1.5.0",
          "state": {
            "_view_name": "StyleView",
            "_model_name": "DescriptionStyleModel",
            "description_width": "",
            "_view_module": "@jupyter-widgets/base",
            "_model_module_version": "1.5.0",
            "_view_count": null,
            "_view_module_version": "1.2.0",
            "_model_module": "@jupyter-widgets/controls"
          }
        },
        "92e16d022d8c4181bebfa14b57538922": {
          "model_module": "@jupyter-widgets/base",
          "model_name": "LayoutModel",
          "model_module_version": "1.2.0",
          "state": {
            "_view_name": "LayoutView",
            "grid_template_rows": null,
            "right": null,
            "justify_content": null,
            "_view_module": "@jupyter-widgets/base",
            "overflow": null,
            "_model_module_version": "1.2.0",
            "_view_count": null,
            "flex_flow": null,
            "width": null,
            "min_width": null,
            "border": null,
            "align_items": null,
            "bottom": null,
            "_model_module": "@jupyter-widgets/base",
            "top": null,
            "grid_column": null,
            "overflow_y": null,
            "overflow_x": null,
            "grid_auto_flow": null,
            "grid_area": null,
            "grid_template_columns": null,
            "flex": null,
            "_model_name": "LayoutModel",
            "justify_items": null,
            "grid_row": null,
            "max_height": null,
            "align_content": null,
            "visibility": null,
            "align_self": null,
            "height": null,
            "min_height": null,
            "padding": null,
            "grid_auto_rows": null,
            "grid_gap": null,
            "max_width": null,
            "order": null,
            "_view_module_version": "1.2.0",
            "grid_template_areas": null,
            "object_position": null,
            "object_fit": null,
            "grid_auto_columns": null,
            "margin": null,
            "display": null,
            "left": null
          }
        },
        "152d6363ac734e78bef175a87786b7d1": {
          "model_module": "@jupyter-widgets/controls",
          "model_name": "HBoxModel",
          "model_module_version": "1.5.0",
          "state": {
            "_view_name": "HBoxView",
            "_dom_classes": [],
            "_model_name": "HBoxModel",
            "_view_module": "@jupyter-widgets/controls",
            "_model_module_version": "1.5.0",
            "_view_count": null,
            "_view_module_version": "1.5.0",
            "box_style": "",
            "layout": "IPY_MODEL_2bf1f7e38c154aa78f1a7c375a5cc8de",
            "_model_module": "@jupyter-widgets/controls",
            "children": [
              "IPY_MODEL_4dc21137fe5b46e6a1546bac1d4159ce",
              "IPY_MODEL_a17e789adfa04df2affd5f8324a04643",
              "IPY_MODEL_e94ef65c991840d3afd5c67950721b08"
            ]
          }
        },
        "2bf1f7e38c154aa78f1a7c375a5cc8de": {
          "model_module": "@jupyter-widgets/base",
          "model_name": "LayoutModel",
          "model_module_version": "1.2.0",
          "state": {
            "_view_name": "LayoutView",
            "grid_template_rows": null,
            "right": null,
            "justify_content": null,
            "_view_module": "@jupyter-widgets/base",
            "overflow": null,
            "_model_module_version": "1.2.0",
            "_view_count": null,
            "flex_flow": null,
            "width": null,
            "min_width": null,
            "border": null,
            "align_items": null,
            "bottom": null,
            "_model_module": "@jupyter-widgets/base",
            "top": null,
            "grid_column": null,
            "overflow_y": null,
            "overflow_x": null,
            "grid_auto_flow": null,
            "grid_area": null,
            "grid_template_columns": null,
            "flex": null,
            "_model_name": "LayoutModel",
            "justify_items": null,
            "grid_row": null,
            "max_height": null,
            "align_content": null,
            "visibility": null,
            "align_self": null,
            "height": null,
            "min_height": null,
            "padding": null,
            "grid_auto_rows": null,
            "grid_gap": null,
            "max_width": null,
            "order": null,
            "_view_module_version": "1.2.0",
            "grid_template_areas": null,
            "object_position": null,
            "object_fit": null,
            "grid_auto_columns": null,
            "margin": null,
            "display": null,
            "left": null
          }
        },
        "4dc21137fe5b46e6a1546bac1d4159ce": {
          "model_module": "@jupyter-widgets/controls",
          "model_name": "HTMLModel",
          "model_module_version": "1.5.0",
          "state": {
            "_view_name": "HTMLView",
            "style": "IPY_MODEL_95f021a1745c428fae3619418e4f9539",
            "_dom_classes": [],
            "description": "",
            "_model_name": "HTMLModel",
            "placeholder": "​",
            "_view_module": "@jupyter-widgets/controls",
            "_model_module_version": "1.5.0",
            "value": "Downloading: 100%",
            "_view_count": null,
            "_view_module_version": "1.5.0",
            "description_tooltip": null,
            "_model_module": "@jupyter-widgets/controls",
            "layout": "IPY_MODEL_e580da4940f5448f93604b24a5635e13"
          }
        },
        "a17e789adfa04df2affd5f8324a04643": {
          "model_module": "@jupyter-widgets/controls",
          "model_name": "FloatProgressModel",
          "model_module_version": "1.5.0",
          "state": {
            "_view_name": "ProgressView",
            "style": "IPY_MODEL_10dcbc55e4fe405caf2e28bf472707ac",
            "_dom_classes": [],
            "description": "",
            "_model_name": "FloatProgressModel",
            "bar_style": "success",
            "max": 1355863,
            "_view_module": "@jupyter-widgets/controls",
            "_model_module_version": "1.5.0",
            "value": 1355863,
            "_view_count": null,
            "_view_module_version": "1.5.0",
            "orientation": "horizontal",
            "min": 0,
            "description_tooltip": null,
            "_model_module": "@jupyter-widgets/controls",
            "layout": "IPY_MODEL_8fc5d96c1b7548b489f247aaaa89d33f"
          }
        },
        "e94ef65c991840d3afd5c67950721b08": {
          "model_module": "@jupyter-widgets/controls",
          "model_name": "HTMLModel",
          "model_module_version": "1.5.0",
          "state": {
            "_view_name": "HTMLView",
            "style": "IPY_MODEL_9825437e4719466ab63a622fccb97a2f",
            "_dom_classes": [],
            "description": "",
            "_model_name": "HTMLModel",
            "placeholder": "​",
            "_view_module": "@jupyter-widgets/controls",
            "_model_module_version": "1.5.0",
            "value": " 1.29M/1.29M [00:00&lt;00:00, 2.56MB/s]",
            "_view_count": null,
            "_view_module_version": "1.5.0",
            "description_tooltip": null,
            "_model_module": "@jupyter-widgets/controls",
            "layout": "IPY_MODEL_9a145ce8dbd04eb292a451b98ed17df6"
          }
        },
        "95f021a1745c428fae3619418e4f9539": {
          "model_module": "@jupyter-widgets/controls",
          "model_name": "DescriptionStyleModel",
          "model_module_version": "1.5.0",
          "state": {
            "_view_name": "StyleView",
            "_model_name": "DescriptionStyleModel",
            "description_width": "",
            "_view_module": "@jupyter-widgets/base",
            "_model_module_version": "1.5.0",
            "_view_count": null,
            "_view_module_version": "1.2.0",
            "_model_module": "@jupyter-widgets/controls"
          }
        },
        "e580da4940f5448f93604b24a5635e13": {
          "model_module": "@jupyter-widgets/base",
          "model_name": "LayoutModel",
          "model_module_version": "1.2.0",
          "state": {
            "_view_name": "LayoutView",
            "grid_template_rows": null,
            "right": null,
            "justify_content": null,
            "_view_module": "@jupyter-widgets/base",
            "overflow": null,
            "_model_module_version": "1.2.0",
            "_view_count": null,
            "flex_flow": null,
            "width": null,
            "min_width": null,
            "border": null,
            "align_items": null,
            "bottom": null,
            "_model_module": "@jupyter-widgets/base",
            "top": null,
            "grid_column": null,
            "overflow_y": null,
            "overflow_x": null,
            "grid_auto_flow": null,
            "grid_area": null,
            "grid_template_columns": null,
            "flex": null,
            "_model_name": "LayoutModel",
            "justify_items": null,
            "grid_row": null,
            "max_height": null,
            "align_content": null,
            "visibility": null,
            "align_self": null,
            "height": null,
            "min_height": null,
            "padding": null,
            "grid_auto_rows": null,
            "grid_gap": null,
            "max_width": null,
            "order": null,
            "_view_module_version": "1.2.0",
            "grid_template_areas": null,
            "object_position": null,
            "object_fit": null,
            "grid_auto_columns": null,
            "margin": null,
            "display": null,
            "left": null
          }
        },
        "10dcbc55e4fe405caf2e28bf472707ac": {
          "model_module": "@jupyter-widgets/controls",
          "model_name": "ProgressStyleModel",
          "model_module_version": "1.5.0",
          "state": {
            "_view_name": "StyleView",
            "_model_name": "ProgressStyleModel",
            "description_width": "",
            "_view_module": "@jupyter-widgets/base",
            "_model_module_version": "1.5.0",
            "_view_count": null,
            "_view_module_version": "1.2.0",
            "bar_color": null,
            "_model_module": "@jupyter-widgets/controls"
          }
        },
        "8fc5d96c1b7548b489f247aaaa89d33f": {
          "model_module": "@jupyter-widgets/base",
          "model_name": "LayoutModel",
          "model_module_version": "1.2.0",
          "state": {
            "_view_name": "LayoutView",
            "grid_template_rows": null,
            "right": null,
            "justify_content": null,
            "_view_module": "@jupyter-widgets/base",
            "overflow": null,
            "_model_module_version": "1.2.0",
            "_view_count": null,
            "flex_flow": null,
            "width": null,
            "min_width": null,
            "border": null,
            "align_items": null,
            "bottom": null,
            "_model_module": "@jupyter-widgets/base",
            "top": null,
            "grid_column": null,
            "overflow_y": null,
            "overflow_x": null,
            "grid_auto_flow": null,
            "grid_area": null,
            "grid_template_columns": null,
            "flex": null,
            "_model_name": "LayoutModel",
            "justify_items": null,
            "grid_row": null,
            "max_height": null,
            "align_content": null,
            "visibility": null,
            "align_self": null,
            "height": null,
            "min_height": null,
            "padding": null,
            "grid_auto_rows": null,
            "grid_gap": null,
            "max_width": null,
            "order": null,
            "_view_module_version": "1.2.0",
            "grid_template_areas": null,
            "object_position": null,
            "object_fit": null,
            "grid_auto_columns": null,
            "margin": null,
            "display": null,
            "left": null
          }
        },
        "9825437e4719466ab63a622fccb97a2f": {
          "model_module": "@jupyter-widgets/controls",
          "model_name": "DescriptionStyleModel",
          "model_module_version": "1.5.0",
          "state": {
            "_view_name": "StyleView",
            "_model_name": "DescriptionStyleModel",
            "description_width": "",
            "_view_module": "@jupyter-widgets/base",
            "_model_module_version": "1.5.0",
            "_view_count": null,
            "_view_module_version": "1.2.0",
            "_model_module": "@jupyter-widgets/controls"
          }
        },
        "9a145ce8dbd04eb292a451b98ed17df6": {
          "model_module": "@jupyter-widgets/base",
          "model_name": "LayoutModel",
          "model_module_version": "1.2.0",
          "state": {
            "_view_name": "LayoutView",
            "grid_template_rows": null,
            "right": null,
            "justify_content": null,
            "_view_module": "@jupyter-widgets/base",
            "overflow": null,
            "_model_module_version": "1.2.0",
            "_view_count": null,
            "flex_flow": null,
            "width": null,
            "min_width": null,
            "border": null,
            "align_items": null,
            "bottom": null,
            "_model_module": "@jupyter-widgets/base",
            "top": null,
            "grid_column": null,
            "overflow_y": null,
            "overflow_x": null,
            "grid_auto_flow": null,
            "grid_area": null,
            "grid_template_columns": null,
            "flex": null,
            "_model_name": "LayoutModel",
            "justify_items": null,
            "grid_row": null,
            "max_height": null,
            "align_content": null,
            "visibility": null,
            "align_self": null,
            "height": null,
            "min_height": null,
            "padding": null,
            "grid_auto_rows": null,
            "grid_gap": null,
            "max_width": null,
            "order": null,
            "_view_module_version": "1.2.0",
            "grid_template_areas": null,
            "object_position": null,
            "object_fit": null,
            "grid_auto_columns": null,
            "margin": null,
            "display": null,
            "left": null
          }
        },
        "db6c33f4bb724f42b5a9c21f332cad6b": {
          "model_module": "@jupyter-widgets/controls",
          "model_name": "HBoxModel",
          "model_module_version": "1.5.0",
          "state": {
            "_view_name": "HBoxView",
            "_dom_classes": [],
            "_model_name": "HBoxModel",
            "_view_module": "@jupyter-widgets/controls",
            "_model_module_version": "1.5.0",
            "_view_count": null,
            "_view_module_version": "1.5.0",
            "box_style": "",
            "layout": "IPY_MODEL_e6e67b66716b41e2ba184482b423568d",
            "_model_module": "@jupyter-widgets/controls",
            "children": [
              "IPY_MODEL_1ae78b6c6fbf4139b67ed7232729493b",
              "IPY_MODEL_adf026c5e5d44b5da1d2546ed6b74669",
              "IPY_MODEL_0e162bed2f1b4817b2773c1a05f8fe22"
            ]
          }
        },
        "e6e67b66716b41e2ba184482b423568d": {
          "model_module": "@jupyter-widgets/base",
          "model_name": "LayoutModel",
          "model_module_version": "1.2.0",
          "state": {
            "_view_name": "LayoutView",
            "grid_template_rows": null,
            "right": null,
            "justify_content": null,
            "_view_module": "@jupyter-widgets/base",
            "overflow": null,
            "_model_module_version": "1.2.0",
            "_view_count": null,
            "flex_flow": null,
            "width": null,
            "min_width": null,
            "border": null,
            "align_items": null,
            "bottom": null,
            "_model_module": "@jupyter-widgets/base",
            "top": null,
            "grid_column": null,
            "overflow_y": null,
            "overflow_x": null,
            "grid_auto_flow": null,
            "grid_area": null,
            "grid_template_columns": null,
            "flex": null,
            "_model_name": "LayoutModel",
            "justify_items": null,
            "grid_row": null,
            "max_height": null,
            "align_content": null,
            "visibility": null,
            "align_self": null,
            "height": null,
            "min_height": null,
            "padding": null,
            "grid_auto_rows": null,
            "grid_gap": null,
            "max_width": null,
            "order": null,
            "_view_module_version": "1.2.0",
            "grid_template_areas": null,
            "object_position": null,
            "object_fit": null,
            "grid_auto_columns": null,
            "margin": null,
            "display": null,
            "left": null
          }
        },
        "1ae78b6c6fbf4139b67ed7232729493b": {
          "model_module": "@jupyter-widgets/controls",
          "model_name": "HTMLModel",
          "model_module_version": "1.5.0",
          "state": {
            "_view_name": "HTMLView",
            "style": "IPY_MODEL_640be7095b224030a00dd437d6c6e794",
            "_dom_classes": [],
            "description": "",
            "_model_name": "HTMLModel",
            "placeholder": "​",
            "_view_module": "@jupyter-widgets/controls",
            "_model_module_version": "1.5.0",
            "value": "Downloading: 100%",
            "_view_count": null,
            "_view_module_version": "1.5.0",
            "description_tooltip": null,
            "_model_module": "@jupyter-widgets/controls",
            "layout": "IPY_MODEL_6876664fb23446019fc0957bff7def0b"
          }
        },
        "adf026c5e5d44b5da1d2546ed6b74669": {
          "model_module": "@jupyter-widgets/controls",
          "model_name": "FloatProgressModel",
          "model_module_version": "1.5.0",
          "state": {
            "_view_name": "ProgressView",
            "style": "IPY_MODEL_ff17ce30df904953bc01e7f5c3acf31f",
            "_dom_classes": [],
            "description": "",
            "_model_name": "FloatProgressModel",
            "bar_style": "success",
            "max": 597257159,
            "_view_module": "@jupyter-widgets/controls",
            "_model_module_version": "1.5.0",
            "value": 597257159,
            "_view_count": null,
            "_view_module_version": "1.5.0",
            "orientation": "horizontal",
            "min": 0,
            "description_tooltip": null,
            "_model_module": "@jupyter-widgets/controls",
            "layout": "IPY_MODEL_1740329377374f6e9904bcfcc8489aa6"
          }
        },
        "0e162bed2f1b4817b2773c1a05f8fe22": {
          "model_module": "@jupyter-widgets/controls",
          "model_name": "HTMLModel",
          "model_module_version": "1.5.0",
          "state": {
            "_view_name": "HTMLView",
            "style": "IPY_MODEL_f65886595be943f1a701605bca713467",
            "_dom_classes": [],
            "description": "",
            "_model_name": "HTMLModel",
            "placeholder": "​",
            "_view_module": "@jupyter-widgets/controls",
            "_model_module_version": "1.5.0",
            "value": " 570M/570M [00:10&lt;00:00, 57.1MB/s]",
            "_view_count": null,
            "_view_module_version": "1.5.0",
            "description_tooltip": null,
            "_model_module": "@jupyter-widgets/controls",
            "layout": "IPY_MODEL_171c9bb1e4c047219179b31e08ff8a2e"
          }
        },
        "640be7095b224030a00dd437d6c6e794": {
          "model_module": "@jupyter-widgets/controls",
          "model_name": "DescriptionStyleModel",
          "model_module_version": "1.5.0",
          "state": {
            "_view_name": "StyleView",
            "_model_name": "DescriptionStyleModel",
            "description_width": "",
            "_view_module": "@jupyter-widgets/base",
            "_model_module_version": "1.5.0",
            "_view_count": null,
            "_view_module_version": "1.2.0",
            "_model_module": "@jupyter-widgets/controls"
          }
        },
        "6876664fb23446019fc0957bff7def0b": {
          "model_module": "@jupyter-widgets/base",
          "model_name": "LayoutModel",
          "model_module_version": "1.2.0",
          "state": {
            "_view_name": "LayoutView",
            "grid_template_rows": null,
            "right": null,
            "justify_content": null,
            "_view_module": "@jupyter-widgets/base",
            "overflow": null,
            "_model_module_version": "1.2.0",
            "_view_count": null,
            "flex_flow": null,
            "width": null,
            "min_width": null,
            "border": null,
            "align_items": null,
            "bottom": null,
            "_model_module": "@jupyter-widgets/base",
            "top": null,
            "grid_column": null,
            "overflow_y": null,
            "overflow_x": null,
            "grid_auto_flow": null,
            "grid_area": null,
            "grid_template_columns": null,
            "flex": null,
            "_model_name": "LayoutModel",
            "justify_items": null,
            "grid_row": null,
            "max_height": null,
            "align_content": null,
            "visibility": null,
            "align_self": null,
            "height": null,
            "min_height": null,
            "padding": null,
            "grid_auto_rows": null,
            "grid_gap": null,
            "max_width": null,
            "order": null,
            "_view_module_version": "1.2.0",
            "grid_template_areas": null,
            "object_position": null,
            "object_fit": null,
            "grid_auto_columns": null,
            "margin": null,
            "display": null,
            "left": null
          }
        },
        "ff17ce30df904953bc01e7f5c3acf31f": {
          "model_module": "@jupyter-widgets/controls",
          "model_name": "ProgressStyleModel",
          "model_module_version": "1.5.0",
          "state": {
            "_view_name": "StyleView",
            "_model_name": "ProgressStyleModel",
            "description_width": "",
            "_view_module": "@jupyter-widgets/base",
            "_model_module_version": "1.5.0",
            "_view_count": null,
            "_view_module_version": "1.2.0",
            "bar_color": null,
            "_model_module": "@jupyter-widgets/controls"
          }
        },
        "1740329377374f6e9904bcfcc8489aa6": {
          "model_module": "@jupyter-widgets/base",
          "model_name": "LayoutModel",
          "model_module_version": "1.2.0",
          "state": {
            "_view_name": "LayoutView",
            "grid_template_rows": null,
            "right": null,
            "justify_content": null,
            "_view_module": "@jupyter-widgets/base",
            "overflow": null,
            "_model_module_version": "1.2.0",
            "_view_count": null,
            "flex_flow": null,
            "width": null,
            "min_width": null,
            "border": null,
            "align_items": null,
            "bottom": null,
            "_model_module": "@jupyter-widgets/base",
            "top": null,
            "grid_column": null,
            "overflow_y": null,
            "overflow_x": null,
            "grid_auto_flow": null,
            "grid_area": null,
            "grid_template_columns": null,
            "flex": null,
            "_model_name": "LayoutModel",
            "justify_items": null,
            "grid_row": null,
            "max_height": null,
            "align_content": null,
            "visibility": null,
            "align_self": null,
            "height": null,
            "min_height": null,
            "padding": null,
            "grid_auto_rows": null,
            "grid_gap": null,
            "max_width": null,
            "order": null,
            "_view_module_version": "1.2.0",
            "grid_template_areas": null,
            "object_position": null,
            "object_fit": null,
            "grid_auto_columns": null,
            "margin": null,
            "display": null,
            "left": null
          }
        },
        "f65886595be943f1a701605bca713467": {
          "model_module": "@jupyter-widgets/controls",
          "model_name": "DescriptionStyleModel",
          "model_module_version": "1.5.0",
          "state": {
            "_view_name": "StyleView",
            "_model_name": "DescriptionStyleModel",
            "description_width": "",
            "_view_module": "@jupyter-widgets/base",
            "_model_module_version": "1.5.0",
            "_view_count": null,
            "_view_module_version": "1.2.0",
            "_model_module": "@jupyter-widgets/controls"
          }
        },
        "171c9bb1e4c047219179b31e08ff8a2e": {
          "model_module": "@jupyter-widgets/base",
          "model_name": "LayoutModel",
          "model_module_version": "1.2.0",
          "state": {
            "_view_name": "LayoutView",
            "grid_template_rows": null,
            "right": null,
            "justify_content": null,
            "_view_module": "@jupyter-widgets/base",
            "overflow": null,
            "_model_module_version": "1.2.0",
            "_view_count": null,
            "flex_flow": null,
            "width": null,
            "min_width": null,
            "border": null,
            "align_items": null,
            "bottom": null,
            "_model_module": "@jupyter-widgets/base",
            "top": null,
            "grid_column": null,
            "overflow_y": null,
            "overflow_x": null,
            "grid_auto_flow": null,
            "grid_area": null,
            "grid_template_columns": null,
            "flex": null,
            "_model_name": "LayoutModel",
            "justify_items": null,
            "grid_row": null,
            "max_height": null,
            "align_content": null,
            "visibility": null,
            "align_self": null,
            "height": null,
            "min_height": null,
            "padding": null,
            "grid_auto_rows": null,
            "grid_gap": null,
            "max_width": null,
            "order": null,
            "_view_module_version": "1.2.0",
            "grid_template_areas": null,
            "object_position": null,
            "object_fit": null,
            "grid_auto_columns": null,
            "margin": null,
            "display": null,
            "left": null
          }
        }
      }
    }
  },
  "cells": [
    {
      "cell_type": "code",
      "metadata": {
        "id": "oGjlnMz_s1Mk"
      },
      "source": [
        "import numpy as np\n",
        "import pandas as pd\n",
        "from nltk.corpus import stopwords\n",
        "from nltk.tokenize import word_tokenize\n",
        "import re\n",
        "import math\n",
        "# import metrics\n",
        "# from metrics import *\n",
        "import ast\n",
        "import sklearn\n",
        "from sklearn.metrics import precision_score, recall_score, accuracy_score, f1_score\n",
        "from sklearn.preprocessing import MultiLabelBinarizer\n",
        "from sklearn.metrics import hamming_loss\n",
        "#from annoy import AnnoyIndex\n",
        "import tensorflow_hub as hub\n",
        "import tensorflow as tf\n",
        "import json\n",
        "import torch\n",
        "\n",
        "import warnings\n",
        "warnings.filterwarnings(\"ignore\")"
      ],
      "execution_count": null,
      "outputs": []
    },
    {
      "cell_type": "code",
      "metadata": {
        "colab": {
          "base_uri": "https://localhost:8080/"
        },
        "id": "j9tpKSPitHgc",
        "outputId": "8d3db5c6-2f94-486b-c71a-fc3f97959ec7"
      },
      "source": [
        "from google.colab import drive\n",
        "drive.mount('/content/drive')"
      ],
      "execution_count": null,
      "outputs": [
        {
          "output_type": "stream",
          "name": "stdout",
          "text": [
            "Mounted at /content/drive\n"
          ]
        }
      ]
    },
    {
      "cell_type": "code",
      "metadata": {
        "id": "tv6-x-5YtJrJ"
      },
      "source": [
        "with open('/content/drive/MyDrive/Project-data/Wiki-text/104_117_without_other_party_annotated.json') as fin:\n",
        "  data = json.load(fin)"
      ],
      "execution_count": null,
      "outputs": []
    },
    {
      "cell_type": "code",
      "metadata": {
        "colab": {
          "base_uri": "https://localhost:8080/"
        },
        "id": "Y3juseJCV41j",
        "outputId": "c397da52-4a62-4cff-f357-13d1d16a5df9"
      },
      "source": [
        "print(len(data))"
      ],
      "execution_count": null,
      "outputs": [
        {
          "output_type": "stream",
          "name": "stdout",
          "text": [
            "1509\n"
          ]
        }
      ]
    },
    {
      "cell_type": "code",
      "metadata": {
        "id": "0agAZfLbtMOH"
      },
      "source": [
        "text = []\n",
        "for i,representative in enumerate(data):\n",
        "  #inner_text = []\n",
        "  inner_text = \"\"\n",
        "  for keys in representative.keys():\n",
        "    if(keys not in ['Name','PersonalDetails']):\n",
        "      #inner_text.append(representative[keys])\n",
        "      #print(representative[keys])\n",
        "      inner_text += str(representative[keys]) + \" \"  \n",
        "  text.append(inner_text)"
      ],
      "execution_count": null,
      "outputs": []
    },
    {
      "cell_type": "code",
      "metadata": {
        "colab": {
          "base_uri": "https://localhost:8080/"
        },
        "id": "Rlop0x3ptKe_",
        "outputId": "408262e2-67c5-4b2a-aa68-7c6efadc119d"
      },
      "source": [
        "other_length=[]\n",
        "political_length=[]\n",
        "background_length=[]\n",
        "\n",
        "other_greater_than_4096 = 0\n",
        "background_greater_than_4096 = 0\n",
        "political_greater_than_4096 = 0\n",
        "\n",
        "political=[]\n",
        "background = []\n",
        "max_length=0\n",
        "for i in range(len(data)):\n",
        "  political.append(len(data[i]['Political']))\n",
        "  background.append(len(data[i]['Background']))\n",
        "  if(len(data[i]['Others'])>4096):\n",
        "    other_greater_than_4096+=1\n",
        "    other_length.append(i)\n",
        "\n",
        "  if(len(data[i]['Background'])>4096):\n",
        "    background_greater_than_4096+=1\n",
        "    background_length.append(i)\n",
        "\n",
        "  if(len(data[i]['Political'])>4096):\n",
        "    if len(data[i]['Political'])>max_length:\n",
        "      max_length=len(data[i]['Political'])\n",
        "    political_greater_than_4096+=1\n",
        "    political_length.append(i)\n",
        "\n",
        "print(other_greater_than_4096)\n",
        "print(background_greater_than_4096)\n",
        "print(political_greater_than_4096)"
      ],
      "execution_count": null,
      "outputs": [
        {
          "output_type": "stream",
          "name": "stdout",
          "text": [
            "92\n",
            "329\n",
            "959\n"
          ]
        }
      ]
    },
    {
      "cell_type": "code",
      "metadata": {
        "colab": {
          "base_uri": "https://localhost:8080/"
        },
        "id": "lh8gsOHSpVa3",
        "outputId": "850264e5-5800-45b3-dd18-92622a9af773"
      },
      "source": [
        "print(max_length)"
      ],
      "execution_count": null,
      "outputs": [
        {
          "output_type": "stream",
          "name": "stdout",
          "text": [
            "70482\n"
          ]
        }
      ]
    },
    {
      "cell_type": "code",
      "metadata": {
        "colab": {
          "base_uri": "https://localhost:8080/"
        },
        "id": "O7-QAJgIggSv",
        "outputId": "4fc41918-4347-4fd2-c1ef-19a5d3fe7d44"
      },
      "source": [
        "common=list(set(political_length) & set(background_length))\n",
        "print(common)"
      ],
      "execution_count": null,
      "outputs": [
        {
          "output_type": "stream",
          "name": "stdout",
          "text": [
            "[1, 514, 515, 4, 1030, 7, 8, 1031, 10, 524, 1037, 14, 1038, 17, 530, 531, 20, 21, 24, 1050, 27, 29, 30, 542, 544, 35, 1061, 38, 39, 550, 1064, 43, 44, 46, 559, 49, 561, 51, 52, 566, 55, 1081, 58, 61, 64, 1088, 69, 70, 71, 72, 73, 74, 581, 587, 588, 1101, 593, 1106, 1109, 1110, 599, 1111, 1112, 1113, 607, 612, 1124, 102, 106, 1130, 110, 1134, 624, 1136, 626, 1139, 116, 630, 634, 1146, 637, 1149, 640, 1155, 644, 645, 1158, 647, 1160, 140, 1164, 142, 143, 654, 145, 655, 658, 1168, 149, 150, 662, 1171, 1178, 1181, 1188, 1189, 1194, 172, 1199, 1200, 689, 1201, 1202, 696, 697, 699, 188, 189, 193, 705, 196, 709, 198, 200, 714, 715, 719, 1232, 209, 1233, 723, 213, 214, 215, 726, 727, 221, 1246, 1248, 1252, 741, 1259, 236, 1260, 1261, 239, 240, 245, 757, 247, 1269, 1271, 250, 1274, 252, 255, 769, 770, 259, 771, 1282, 1287, 1288, 1289, 1293, 785, 275, 277, 789, 790, 1304, 793, 1305, 795, 1306, 1310, 1311, 803, 1317, 296, 810, 1323, 309, 1335, 1336, 314, 826, 1338, 1341, 318, 831, 1345, 322, 834, 1346, 837, 838, 839, 328, 1350, 330, 1361, 338, 851, 340, 854, 857, 1375, 1378, 357, 871, 873, 367, 368, 880, 881, 883, 884, 1392, 1395, 377, 890, 892, 893, 1404, 897, 902, 903, 907, 1419, 909, 910, 912, 1425, 916, 405, 1429, 408, 922, 923, 927, 417, 929, 1442, 932, 1445, 1454, 944, 1459, 948, 951, 440, 952, 1463, 958, 964, 966, 457, 1492, 992, 481, 993, 994, 995, 996, 999, 488, 1000, 491, 1003, 493, 499, 1013, 502, 1022]\n"
          ]
        }
      ]
    },
    {
      "cell_type": "code",
      "metadata": {
        "colab": {
          "base_uri": "https://localhost:8080/",
          "height": 279
        },
        "id": "yUFxGcK0QmD6",
        "outputId": "a6102502-7131-496f-a9d7-40f4a461d6cd"
      },
      "source": [
        "import matplotlib.pyplot as plt\n",
        "import numpy as np\n",
        "%matplotlib inline\n",
        "\n",
        "plt.hist(background, bins=100,density=False)  # density=False would make counts\n",
        "plt.ylabel('Frequency')\n",
        "plt.xlabel('Lenghth of Text');"
      ],
      "execution_count": null,
      "outputs": [
        {
          "output_type": "display_data",
          "data": {
            "image/png": "[encoded data removed]",
            "text/plain": [
              "<Figure size 432x288 with 1 Axes>"
            ]
          },
          "metadata": {
            "needs_background": "light"
          }
        }
      ]
    },
    {
      "cell_type": "code",
      "metadata": {
        "colab": {
          "base_uri": "https://localhost:8080/"
        },
        "id": "9ISePvZHw-Nl",
        "outputId": "95e1bda2-a02d-4762-9036-0f787e64ecfe"
      },
      "source": [
        "print(max(political_length))"
      ],
      "execution_count": null,
      "outputs": [
        {
          "output_type": "stream",
          "name": "stdout",
          "text": [
            "1507\n"
          ]
        }
      ]
    },
    {
      "cell_type": "code",
      "metadata": {
        "colab": {
          "base_uri": "https://localhost:8080/"
        },
        "id": "bfMLPMyLt4jT",
        "outputId": "8775ea2c-2a31-4d33-ccc1-76672a6389e6"
      },
      "source": [
        "# Y = []\n",
        "# for i,t in enumerate(data):\n",
        "#   try:\n",
        "#     Y.append(t['PersonalDetails']['Political party'])\n",
        "#   except:\n",
        "#     Y.append(\"Party-NA\")\n",
        "# print(Y)"
      ],
      "execution_count": null,
      "outputs": [
        {
          "output_type": "stream",
          "name": "stdout",
          "text": [
            "['Democratic', 'Republican', 'Republican', 'Republican', 'Republican', 'Democratic', 'Democratic', 'Democratic', 'Democratic', 'Republican', 'Democratic', 'Republican', 'Republican', 'Democratic', 'Democratic', 'Republican', 'Democratic', 'Democratic', 'Republican', 'Republican', 'Democratic', 'Democratic', 'Republican', 'Republican', 'Democratic', 'Republican', 'Republican', 'Republican', 'Republican', 'Republican', 'Republican', 'Democratic', 'Democratic', 'Democratic', 'Republican', 'Republican', 'Democratic', 'Democratic', 'Democratic', 'Democratic', 'Republican', 'Democratic', 'Republican', 'Republican', 'Republican', 'Republican', 'Democratic', 'Democratic', 'Democratic', 'Democratic', 'Republican', 'Democratic', 'Democratic', 'Democratic', 'Republican', 'Democratic', 'Republican', 'Republican', 'Democratic', 'Republican', 'Republican', 'Republican', 'Republican', 'Democratic', 'Republican', 'Republican', 'Democratic', 'Democratic', 'Democratic', 'Republican', 'Republican', 'Republican', 'Republican', 'Republican', 'Democratic', 'Democratic', 'Republican', 'Republican', 'Democratic', 'Democratic', 'Democratic', 'Democratic', 'Republican', 'Republican', 'Republican', 'Democratic', 'Democratic', 'Democratic', 'Republican', 'Democratic', 'Republican', 'Republican', 'Democratic', 'Republican', 'Republican', 'Democratic', 'Democratic', 'Republican', 'Republican', 'Republican', 'Republican', 'Democratic', 'Republican', 'Democratic', 'Democratic', 'Democratic', 'Democratic', 'Democratic', 'Republican', 'Republican', 'Democratic', 'Democratic', 'Democratic', 'Democratic', 'Democratic', 'Democratic', 'Democratic', 'Republican', 'Democratic', 'Republican', 'Republican', 'Republican', 'Democratic', 'Republican', 'Democratic', 'Republican', 'Republican', 'Democratic', 'Democratic', 'Democratic', 'Democratic', 'Democratic', 'Democratic', 'Democratic', 'Democratic', 'Democratic', 'Republican', 'Republican', 'Republican', 'Republican', 'Democratic', 'Republican', 'Republican', 'Republican', 'Republican', 'Republican', 'Republican', 'Republican', 'Democratic', 'Republican', 'Republican', 'Democratic', 'Democratic', 'Republican', 'Republican', 'Republican', 'Republican', 'Democratic', 'Democratic', 'Democratic', 'Republican', 'Republican', 'Republican', 'Republican', 'Democratic', 'Democratic', 'Republican', 'Democratic', 'Republican', 'Republican', 'Republican', 'Republican', 'Republican', 'Democratic', 'Republican', 'Republican', 'Republican', 'Republican', 'Democratic', 'Republican', 'Democratic', 'Democratic', 'Republican', 'Republican', 'Democratic', 'Republican', 'Democratic', 'Republican', 'Democratic', 'Republican', 'Republican', 'Republican', 'Democratic', 'Democratic', 'Republican', 'Republican', 'Democratic', 'Democratic', 'Democratic', 'Democratic', 'Democratic', 'Republican', 'Democratic', 'Republican', 'Democratic', 'Republican', 'Republican', 'Democratic', 'Republican', 'Republican', 'Republican', 'Republican', 'Democratic', 'Republican', 'Democratic', 'Democratic', 'Democratic', 'Republican', 'Democratic', 'Republican', 'Republican', 'Republican', 'Republican', 'Republican', 'Democratic', 'Democratic', 'Republican', 'Republican', 'Republican', 'Republican', 'Republican', 'Republican', 'Republican', 'Republican', 'Republican', 'Democratic', 'Republican', 'Republican', 'Democratic', 'Republican', 'Democratic', 'Democratic', 'Republican', 'Democratic', 'Republican', 'Democratic', 'Democratic', 'Democratic', 'Republican', 'Democratic', 'Democratic', 'Republican', 'Democratic', 'Democratic', 'Republican', 'Democratic', 'Democratic', 'Republican', 'Democratic', 'Democratic', 'Democratic', 'Democratic', 'Democratic', 'Republican', 'Republican', 'Republican', 'Democratic', 'Republican', 'Republican', 'Republican', 'Democratic', 'Democratic', 'Republican', 'Democratic', 'Democratic', 'Democratic', 'Democratic', 'Democratic', 'Republican', 'Republican', 'Republican', 'Democratic', 'Democratic', 'Democratic', 'Republican', 'Democratic', 'Democratic', 'Democratic', 'Democratic', 'Republican', 'Republican', 'Democratic', 'Democratic', 'Republican', 'Republican', 'Republican', 'Republican', 'Republican', 'Republican', 'Republican', 'Democratic', 'Republican', 'Republican', 'Republican', 'Democratic', 'Republican', 'Republican', 'Democratic', 'Democratic', 'Republican', 'Republican', 'Democratic', 'Republican', 'Republican', 'Democratic', 'Republican', 'Republican', 'Republican', 'Democratic', 'Democratic', 'Democratic', 'Democratic', 'Democratic', 'Democratic', 'Democratic', 'Democratic', 'Republican', 'Democratic', 'Democratic', 'Democratic', 'Democratic', 'Democratic', 'Republican', 'Republican', 'Democratic', 'Republican', 'Republican', 'Republican', 'Democratic', 'Republican', 'Democratic', 'Democratic', 'Republican[1]', 'Republican', 'Democratic', 'Republican', 'Republican', 'Republican', 'Republican', 'Democratic', 'Democratic', 'Republican', 'Republican', 'Republican', 'Democratic', 'Democratic', 'Republican', 'Republican', 'Democratic', 'Republican', 'Republican', 'Republican', 'Republican', 'Republican', 'Democratic', 'Republican', 'Democratic', 'Republican', 'Democratic', 'Democratic', 'Republican', 'Republican', 'Republican', 'Republican', 'Republican', 'Republican', 'Democratic', 'Republican', 'Republican', 'Republican', 'Democratic', 'Republican', 'Democratic', 'Democratic', 'Democratic', 'Democratic', 'Democratic', 'Democratic', 'Republican', 'Democratic', 'Republican', 'Republican', 'Republican', 'Republican', 'Democratic', 'Democratic', 'Republican', 'Democratic', 'Democratic', 'Republican', 'Republican', 'Democratic', 'Republican', 'Democratic', 'Republican', 'Democratic', 'Democratic', 'Republican', 'Republican', 'Republican', 'Democratic', 'Democratic', 'Democratic', 'Republican', 'Republican', 'Republican', 'Republican', 'Democratic', 'Democratic', 'Republican', 'Democratic', 'Democratic', 'Democratic', 'Democratic', 'Republican', 'Democratic', 'Republican', 'Republican', 'Republican', 'Democratic', 'Democratic', 'Democratic', 'Republican', 'Democratic', 'Democratic', 'Democratic', 'Democratic', 'Republican', 'Democratic', 'Republican', 'Republican', 'Republican', 'Democratic', 'Democratic', 'Republican', 'Democratic', 'Democratic', 'Democratic', 'Democratic', 'Republican', 'Republican', 'Democratic', 'Democratic', 'Democratic', 'Democratic', 'Democratic', 'Republican', 'Democratic', 'Democratic', 'Republican', 'Republican', 'Republican', 'Republican', 'Republican', 'Republican', 'Republican', 'Democratic', 'Democratic', 'Republican', 'Republican', 'Democratic', 'Democratic', 'Democratic', 'Republican', 'Republican', 'Republican', 'Democratic', 'Democratic', 'Republican', 'Democratic', 'Republican', 'Republican', 'Republican', 'Democratic', 'Democratic', 'Democratic', 'Republican', 'Democratic', 'Democratic', 'Democratic', 'Republican', 'Republican', 'Republican', 'Republican', 'Republican', 'Republican', 'Republican', 'Democratic', 'Democratic', 'Republican', 'Democratic', 'Democratic', 'Democratic', 'Democratic', 'Democratic', 'Democratic', 'Republican', 'Republican', 'Democratic', 'Republican', 'Democratic', 'Democratic', 'Democratic', 'Democratic', 'Democratic', 'Democratic[1]', 'Democratic', 'Republican', 'Democratic', 'Republican', 'Republican', 'Republican', 'Democratic', 'Democratic', 'Republican', 'Republican', 'Republican', 'Republican', 'Democratic', 'Democratic', 'Democratic', 'Democratic', 'Democratic', 'Democratic', 'Democratic', 'Republican', 'Republican', 'Republican', 'Republican', 'Republican', 'Republican', 'Democratic', 'Democratic', 'Republican', 'Republican', 'Republican', 'Democratic', 'Republican', 'Democratic', 'Democratic', 'Democratic', 'Democratic', 'Democratic', 'Republican', 'Democratic', 'Democratic', 'Republican', 'Republican', 'Democratic', 'Republican', 'Republican', 'Democratic', 'Democratic', 'Democratic', 'Republican', 'Republican', 'Democratic', 'Republican', 'Democratic', 'Democratic', 'Democratic', 'Democratic', 'Republican', 'Democratic', 'Democratic', 'Democratic', 'Democratic', 'Democratic', 'Republican', 'Republican', 'Democratic', 'Democratic', 'Republican', 'Democratic', 'Republican', 'Democratic', 'Republican', 'Republican', 'Democratic', 'Democratic', 'Republican', 'Republican', 'Democratic', 'Democratic', 'Republican', 'Democratic', 'Democratic', 'Democratic', 'Democratic', 'Republican', 'Republican', 'Democratic', 'Republican', 'Republican', 'Republican', 'Democratic', 'Republican', 'Democratic', 'Republican', 'Democratic', 'Democratic', 'Democratic', 'Democratic', 'Republican', 'Republican', 'Republican', 'Democratic', 'Democratic', 'Republican', 'Republican', 'Democratic', 'Republican', 'Republican', 'Democratic', 'Democratic', 'Democratic', 'Republican', 'Democratic', 'Republican', 'Republican', 'Democratic', 'Democratic', 'Democratic', 'Democratic', 'Democratic', 'Democratic', 'Republican', 'Republican', 'Democratic', 'Republican', 'Republican', 'Democratic', 'Democratic', 'Republican', 'Democratic', 'Democratic', 'Democratic', 'Republican', 'Democratic', 'Republican', 'Republican', 'Republican', 'Republican', 'Democratic', 'Republican', 'Republican', 'Republican', 'Republican', 'Democratic', 'Republican', 'Republican', 'Democratic', 'Republican', 'Republican', 'Republican', 'Republican', 'Republican', 'Republican', 'Democratic', 'Republican', 'Republican', 'Democratic', 'Republican', 'Republican', 'Republican', 'Democratic', 'Republican', 'Republican', 'Republican', 'Democratic', 'Republican', 'Republican', 'Republican', 'Republican', 'Democratic', 'Democratic', 'Republican', 'Democratic', 'Republican', 'Republican', 'Republican', 'Republican', 'Republican', 'Republican', 'Republican', 'Democratic', 'Republican', 'Democratic', 'Republican', 'Republican', 'Democratic', 'Republican', 'Republican', 'Democratic', 'Republican', 'Republican', 'Democratic', 'Republican', 'Republican', 'Democratic', 'Democratic', 'Republican', 'Republican', 'Democratic', 'Democratic', 'Democratic', 'Republican', 'Republican', 'Republican', 'Republican', 'Republican', 'Democratic', 'Democratic', 'Democratic', 'Democratic', 'Democratic', 'Democratic', 'Democratic', 'Republican', 'Republican', 'Republican', 'Republican', 'Republican', 'Republican', 'Republican', 'Republican', 'Democratic', 'Democratic', 'Republican', 'Democratic', 'Democratic', 'Democratic', 'Democratic', 'Republican', 'Democratic', 'Republican', 'Republican', 'Democratic', 'Democratic', 'Republican', 'Republican', 'Republican', 'Republican', 'Republican', 'Republican', 'Democratic', 'Democratic', 'Democratic', 'Republican', 'Democratic', 'Republican', 'Republican', 'Democratic', 'Republican', 'Republican', 'Republican', 'Democratic', 'Democratic', 'Democratic', 'Democratic', 'Democratic', 'Republican', 'Democratic', 'Republican', 'Democratic', 'Republican', 'Democratic', 'Democratic', 'Republican', 'Democratic', 'Republican', 'Democratic', 'Republican', 'Republican', 'Democratic', 'Republican', 'Republican', 'Democratic', 'Democratic', 'Democratic', 'Republican', 'Republican', 'Republican', 'Republican', 'Democratic', 'Republican', 'Democratic', 'Democratic', 'Republican', 'Republican', 'Republican', 'Democratic', 'Democratic', 'Democratic', 'Republican', 'Democratic', 'Republican', 'Republican', 'Republican', 'Democratic', 'Republican', 'Democratic', 'Republican', 'Democratic', 'Republican', 'Democratic', 'Republican', 'Republican', 'Republican', 'Republican', 'Democratic', 'Republican', 'Republican', 'Republican', 'Republican', 'Republican', 'Democratic', 'Republican', 'Democratic', 'Republican', 'Republican', 'Republican', 'Democratic', 'Democratic', 'Democratic', 'Democratic', 'Democratic', 'Democratic', 'Republican', 'Republican', 'Democratic', 'Democratic', 'Democratic', 'Republican', 'Democratic', 'Republican', 'Democratic', 'Democratic', 'Democratic', 'Republican', 'Democratic', 'Republican', 'Democratic', 'Democratic', 'Democratic', 'Republican', 'Democratic', 'Democratic', 'Republican', 'Republican', 'Democratic', 'Democratic', 'Democratic', 'Democratic', 'Democratic', 'Democratic', 'Democratic', 'Republican', 'Democratic', 'Democratic', 'Democratic', 'Democratic', 'Republican', 'Republican', 'Democratic', 'Republican', 'Republican', 'Democratic', 'Democratic', 'Democratic', 'Democratic', 'Democratic', 'Democratic', 'Democratic', 'Republican', 'Republican', 'Democratic', 'Republican', 'Democratic', 'Democratic', 'Democratic', 'Democratic', 'Democratic', 'Democratic', 'Democratic', 'Republican', 'Republican', 'Democratic', 'Democratic', 'Republican', 'Republican', 'Democratic', 'Democratic', 'Democratic', 'Democratic', 'Republican', 'Republican', 'Democratic', 'Democratic', 'Republican', 'Democratic', 'Democratic', 'Democratic', 'Democratic', 'Democratic', 'Democratic', 'Democratic', 'Democratic', 'Republican', 'Democratic', 'Democratic', 'Republican', 'Republican', 'Democratic', 'Democratic', 'Republican', 'Democratic', 'Democratic', 'Republican', 'Republican', 'Democratic', 'Democratic', 'Democratic', 'Republican', 'Democratic', 'Democratic', 'Democratic', 'Democratic', 'Republican', 'Democratic', 'Republican', 'Republican', 'Republican', 'Republican', 'Republican', 'Democratic', 'Republican', 'Democratic', 'Democratic', 'Democratic', 'Democratic', 'Democratic', 'Democratic', 'Republican', 'Republican', 'Republican', 'Democratic', 'Democratic', 'Republican', 'Democratic', 'Democratic', 'Democratic', 'Democratic', 'Democratic', 'Democratic', 'Democratic', 'Democratic', 'Democratic', 'Democratic', 'Democratic', 'Democratic', 'Republican', 'Democratic', 'Republican', 'Democratic', 'Democratic', 'Republican', 'Democratic', 'Democratic', 'Democratic', 'Democratic', 'Republican', 'Democratic', 'Republican', 'Democratic', 'Republican', 'Republican', 'Democratic', 'Democratic', 'Democratic', 'Democratic', 'Republican', 'Democratic', 'Republican', 'Democratic', 'Republican', 'Democratic', 'Republican', 'Democratic', 'Republican', 'Republican', 'Republican', 'Republican', 'Democratic', 'Republican', 'Republican', 'Republican', 'Democratic', 'Republican', 'Republican', 'Republican', 'Republican', 'Democratic', 'Democratic', 'Republican', 'Republican', 'Democratic', 'Republican', 'Republican', 'Republican', 'Republican', 'Democratic', 'Republican', 'Republican', 'Republican', 'Republican', 'Republican', 'Democratic', 'Republican', 'Republican', 'Republican', 'Republican', 'Republican', 'Republican', 'Republican', 'Republican', 'Republican', 'Republican', 'Republican', 'Republican', 'Democratic', 'Republican', 'Republican', 'Republican', 'Democratic', 'Republican', 'Republican', 'Democratic', 'Democratic', 'Democratic', 'Republican', 'Republican', 'Republican', 'Republican', 'Republican', 'Republican', 'Republican', 'Republican', 'Republican', 'Democratic', 'Democratic', 'Republican', 'Republican', 'Republican', 'Republican', 'Republican', 'Republican', 'Democratic', 'Republican', 'Republican', 'Republican', 'Republican', 'Republican', 'Republican', 'Republican', 'Republican', 'Democratic', 'Republican', 'Republican', 'Republican', 'Republican', 'Republican', 'Republican', 'Democratic', 'Republican', 'Republican', 'Republican', 'Republican', 'Republican', 'Republican', 'Republican', 'Republican', 'Republican', 'Republican', 'Republican', 'Republican', 'Republican', 'Republican', 'Republican', 'Republican', 'Democratic', 'Republican', 'Republican', 'Republican', 'Republican', 'Democratic', 'Democratic', 'Republican', 'Republican', 'Democratic', 'Republican', 'Republican', 'Democratic', 'Republican', 'Republican', 'Democratic', 'Democratic', 'Republican', 'Democratic', 'Republican', 'Democratic', 'Democratic', 'Democratic', 'Democratic', 'Democratic', 'Democratic', 'Democratic', 'Democratic', 'Democratic', 'Republican', 'Republican', 'Republican', 'Republican', 'Democratic', 'Democratic', 'Republican', 'Democratic', 'Republican', 'Democratic', 'Democratic', 'Democratic', 'Democratic', 'Republican', 'Democratic', 'Republican', 'Republican', 'Republican', 'Republican', 'Republican', 'Democratic', 'Democratic', 'Democratic', 'Democratic', 'Republican', 'Republican', 'Republican', 'Republican', 'Democratic', 'Democratic', 'Democratic', 'Democratic', 'Democratic', 'Democratic', 'Democratic', 'Democratic', 'Democratic', 'Democratic', 'Democratic', 'Republican', 'Republican', 'Republican', 'Republican', 'Democratic', 'Republican', 'Republican', 'Republican', 'Democratic', 'Republican', 'Republican', 'Republican', 'Republican', 'Republican', 'Republican', 'Democratic', 'Republican', 'Republican', 'Republican', 'Democratic', 'Democratic', 'Democratic', 'Democratic', 'Republican', 'Democratic', 'Democratic', 'Republican', 'Republican', 'Democratic', 'Democratic', 'Democratic', 'Republican', 'Republican', 'Republican', 'Republican', 'Republican', 'Republican', 'Republican', 'Republican', 'Democratic', 'Republican', 'Republican', 'Republican', 'Democratic', 'Democratic', 'Democratic', 'Republican', 'Republican', 'Democratic', 'Republican', 'Republican', 'Republican', 'Republican', 'Republican', 'Democratic', 'Republican', 'Republican', 'Republican', 'Republican', 'Republican', 'Republican', 'Republican', 'Republican', 'Republican', 'Democratic', 'Democratic', 'Republican', 'Republican', 'Republican', 'Democratic', 'Republican', 'Republican', 'Republican', 'Republican', 'Republican', 'Democratic', 'Republican', 'Republican', 'Republican', 'Republican', 'Republican', 'Republican', 'Republican', 'Republican', 'Republican', 'Democratic', 'Republican', 'Democratic', 'Republican', 'Republican', 'Republican', 'Republican', 'Republican', 'Democratic', 'Republican', 'Republican', 'Republican', 'Republican', 'Republican', 'Republican', 'Democratic', 'Democratic', 'Democratic', 'Democratic', 'Republican', 'Republican', 'Democratic', 'Democratic', 'Democratic', 'Democratic', 'Democratic', 'Democratic', 'Democratic', 'Democratic', 'Republican', 'Republican', 'Republican', 'Democratic', 'Democratic', 'Democratic', 'Democratic', 'Republican', 'Republican', 'Republican', 'Republican', 'Democratic', 'Democratic', 'Republican', 'Republican', 'Republican', 'Democratic', 'Republican', 'Republican', 'Republican', 'Republican', 'Republican', 'Democratic', 'Democratic', 'Democratic', 'Democratic', 'Republican', 'Democratic', 'Republican', 'Republican', 'Republican', 'Democratic', 'Democratic', 'Democratic', 'Democratic', 'Democratic', 'Republican', 'Republican', 'Democratic', 'Republican', 'Republican', 'Republican', 'Republican', 'Republican', 'Republican', 'Democratic', 'Republican', 'Democratic', 'Republican', 'Democratic', 'Republican', 'Republican', 'Democratic', 'Republican', 'Democratic', 'Republican', 'Republican', 'Democratic', 'Republican', 'Democratic', 'Republican', 'Republican', 'Republican', 'Republican', 'Republican', 'Democratic', 'Democratic', 'Democratic', 'Democratic', 'Republican', 'Democratic', 'Democratic', 'Democratic', 'Democratic', 'Democratic', 'Republican', 'Republican', 'Republican', 'Democratic', 'Democratic', 'Democratic', 'Democratic', 'Republican', 'Democratic', 'Democratic', 'Democratic', 'Republican', 'Republican', 'Democratic', 'Democratic', 'Republican', 'Democratic', 'Democratic', 'Democratic', 'Democratic', 'Democratic', 'Democratic', 'Democratic', 'Democratic', 'Democratic', 'Democratic', 'Republican', 'Republican', 'Republican', 'Republican', 'Democratic', 'Democratic', 'Democratic', 'Democratic', 'Democratic', 'Democratic', 'Democratic', 'Democratic', 'Democratic', 'Democratic', 'Democratic', 'Democratic', 'Republican', 'Republican', 'Republican', 'Republican', 'Republican', 'Republican', 'Republican', 'Democratic', 'Democratic', 'Democratic', 'Republican', 'Republican', 'Republican', 'Republican', 'Democratic', 'Republican', 'Republican', 'Republican', 'Republican', 'Republican', 'Republican', 'Republican', 'Republican', 'Republican', 'Democratic', 'Democratic', 'Republican', 'Republican', 'Democratic', 'Democratic', 'Democratic', 'Democratic', 'Republican', 'Republican', 'Democratic', 'Democratic', 'Democratic', 'Democratic', 'Republican', 'Republican', 'Republican', 'Republican', 'Democratic', 'Republican', 'Democratic', 'Democratic', 'Democratic', 'Democratic', 'Republican', 'Republican', 'Republican', 'Republican', 'Republican', 'Republican', 'Democratic', 'Republican', 'Republican', 'Republican', 'Republican', 'Republican', 'Republican', 'Democratic', 'Democratic', 'Republican', 'Republican', 'Democratic', 'Democratic', 'Republican', 'Democratic', 'Republican', 'Republican', 'Republican', 'Republican', 'Republican', 'Republican', 'Republican', 'Democratic', 'Republican', 'Republican', 'Republican', 'Republican', 'Democratic', 'Republican', 'Democratic', 'Republican', 'Democratic', 'Republican', 'Republican', 'Democratic', 'Democratic', 'Democratic', 'Democratic', 'Democratic', 'Republican', 'Republican', 'Republican', 'Republican', 'Republican', 'Republican', 'Republican', 'Republican', 'Republican[1]', 'Republican', 'Republican', 'Republican', 'Republican', 'Republican', 'Democratic', 'Republican', 'Republican']\n"
          ]
        }
      ]
    },
    {
      "cell_type": "code",
      "metadata": {
        "colab": {
          "base_uri": "https://localhost:8080/"
        },
        "id": "mC1oTr3LmPOH",
        "outputId": "e269d2e8-9a29-4328-f0a7-f6f51fb9385a"
      },
      "source": [
        "# '''\n",
        "# Solved people who did not shift parties\n",
        "# '''\n",
        "# rcount=0\n",
        "# dcount = 0\n",
        "# other_count = 0\n",
        "# other=[]\n",
        "# for i in range(len(Y)):\n",
        "#   if (Y[i] == 'Republican' or Y[i] == 'Republican[1]'):\n",
        "#       # print(Y[i])\n",
        "#       rcount +=1\n",
        "#   elif (Y[i] == 'Democratic' or Y[i] == 'Democratic[1]'):\n",
        "#       # print(Y[i])\n",
        "#       dcount+=1\n",
        "#   else:\n",
        "#     # print(Y[i])\n",
        "#     # print(data[i]['Name'])\n",
        "#     other.append(i)\n",
        "#     other_count += 1\n",
        "# print(rcount,\" republicans\")\n",
        "# print(dcount,\" democrats\")\n",
        "# print(other_count,\"others\")\n",
        "# print(other)"
      ],
      "execution_count": null,
      "outputs": [
        {
          "output_type": "stream",
          "name": "stdout",
          "text": [
            "805  republicans\n",
            "704  democrats\n",
            "0 others\n",
            "[]\n"
          ]
        }
      ]
    },
    {
      "cell_type": "code",
      "metadata": {
        "id": "1fMI-ucrUhdL"
      },
      "source": [
        "# \"DELETE those who shifted party\"\n",
        "# new_data=[]\n",
        "# for idx in range(len(data)):\n",
        "#   if idx not in other:\n",
        "#       new_data.append(data[idx])"
      ],
      "execution_count": null,
      "outputs": []
    },
    {
      "cell_type": "code",
      "metadata": {
        "colab": {
          "base_uri": "https://localhost:8080/"
        },
        "id": "tDYwEiT8YLtW",
        "outputId": "a5b6e967-e1f8-46fc-e78f-dcef74fcdea0"
      },
      "source": [
        "# print(len(new_data))"
      ],
      "execution_count": null,
      "outputs": [
        {
          "output_type": "stream",
          "name": "stdout",
          "text": [
            "1509\n"
          ]
        }
      ]
    },
    {
      "cell_type": "code",
      "metadata": {
        "id": "ztO512INecd9"
      },
      "source": [
        "# with open(\"/content/drive/MyDrive/Project-data/Wiki-text/104_117_without_other_party_annotated.json\", 'w') as outfile:\n",
        "    # json.dump(new_data, outfile)"
      ],
      "execution_count": null,
      "outputs": []
    },
    {
      "cell_type": "code",
      "metadata": {
        "id": "IZfer_3WG4Uf"
      },
      "source": [
        ""
      ],
      "execution_count": null,
      "outputs": []
    },
    {
      "cell_type": "code",
      "metadata": {
        "colab": {
          "base_uri": "https://localhost:8080/"
        },
        "id": "xEPUi5sLYaFw",
        "outputId": "0214c32e-daa5-4548-9379-f2cb141924b2"
      },
      "source": [
        "Y = []\n",
        "for i,t in enumerate(data):\n",
        "  try:\n",
        "    Y.append(t['PersonalDetails']['Political party'])\n",
        "  except:\n",
        "    Y.append(\"Party-NA\")\n",
        "print(Y)"
      ],
      "execution_count": null,
      "outputs": [
        {
          "output_type": "stream",
          "name": "stdout",
          "text": [
            "['Democratic', 'Republican', 'Republican', 'Republican', 'Republican', 'Democratic', 'Democratic', 'Democratic', 'Democratic', 'Republican', 'Democratic', 'Republican', 'Republican', 'Democratic', 'Democratic', 'Republican', 'Democratic', 'Democratic', 'Republican', 'Republican', 'Democratic', 'Democratic', 'Republican', 'Republican', 'Democratic', 'Republican', 'Republican', 'Republican', 'Republican', 'Republican', 'Republican', 'Democratic', 'Democratic', 'Democratic', 'Republican', 'Republican', 'Democratic', 'Democratic', 'Democratic', 'Democratic', 'Republican', 'Democratic', 'Republican', 'Republican', 'Republican', 'Republican', 'Democratic', 'Democratic', 'Democratic', 'Democratic', 'Republican', 'Democratic', 'Democratic', 'Democratic', 'Republican', 'Democratic', 'Republican', 'Republican', 'Democratic', 'Republican', 'Republican', 'Republican', 'Republican', 'Democratic', 'Republican', 'Republican', 'Democratic', 'Democratic', 'Democratic', 'Republican', 'Republican', 'Republican', 'Republican', 'Republican', 'Democratic', 'Democratic', 'Republican', 'Republican', 'Democratic', 'Democratic', 'Democratic', 'Democratic', 'Republican', 'Republican', 'Republican', 'Democratic', 'Democratic', 'Democratic', 'Republican', 'Democratic', 'Republican', 'Republican', 'Democratic', 'Republican', 'Republican', 'Democratic', 'Democratic', 'Republican', 'Republican', 'Republican', 'Republican', 'Democratic', 'Republican', 'Democratic', 'Democratic', 'Democratic', 'Democratic', 'Democratic', 'Republican', 'Republican', 'Democratic', 'Democratic', 'Democratic', 'Democratic', 'Democratic', 'Democratic', 'Democratic', 'Republican', 'Democratic', 'Republican', 'Republican', 'Republican', 'Democratic', 'Republican', 'Democratic', 'Republican', 'Republican', 'Democratic', 'Democratic', 'Democratic', 'Democratic', 'Democratic', 'Democratic', 'Democratic', 'Democratic', 'Democratic', 'Republican', 'Republican', 'Republican', 'Republican', 'Democratic', 'Republican', 'Republican', 'Republican', 'Republican', 'Republican', 'Republican', 'Republican', 'Democratic', 'Republican', 'Republican', 'Democratic', 'Democratic', 'Republican', 'Republican', 'Republican', 'Republican', 'Democratic', 'Democratic', 'Democratic', 'Republican', 'Republican', 'Republican', 'Republican', 'Democratic', 'Democratic', 'Republican', 'Democratic', 'Republican', 'Republican', 'Republican', 'Republican', 'Republican', 'Democratic', 'Republican', 'Republican', 'Republican', 'Republican', 'Democratic', 'Republican', 'Democratic', 'Democratic', 'Republican', 'Republican', 'Democratic', 'Republican', 'Democratic', 'Republican', 'Democratic', 'Republican', 'Republican', 'Republican', 'Democratic', 'Democratic', 'Republican', 'Republican', 'Democratic', 'Democratic', 'Democratic', 'Democratic', 'Democratic', 'Republican', 'Democratic', 'Republican', 'Democratic', 'Republican', 'Republican', 'Democratic', 'Republican', 'Republican', 'Republican', 'Republican', 'Democratic', 'Republican', 'Democratic', 'Democratic', 'Democratic', 'Republican', 'Democratic', 'Republican', 'Republican', 'Republican', 'Republican', 'Republican', 'Democratic', 'Democratic', 'Republican', 'Republican', 'Republican', 'Republican', 'Republican', 'Republican', 'Republican', 'Republican', 'Republican', 'Democratic', 'Republican', 'Republican', 'Democratic', 'Republican', 'Democratic', 'Democratic', 'Republican', 'Democratic', 'Republican', 'Democratic', 'Democratic', 'Democratic', 'Republican', 'Democratic', 'Democratic', 'Republican', 'Democratic', 'Democratic', 'Republican', 'Democratic', 'Democratic', 'Republican', 'Democratic', 'Democratic', 'Democratic', 'Democratic', 'Democratic', 'Republican', 'Republican', 'Republican', 'Democratic', 'Republican', 'Republican', 'Republican', 'Democratic', 'Democratic', 'Republican', 'Democratic', 'Democratic', 'Democratic', 'Democratic', 'Democratic', 'Republican', 'Republican', 'Republican', 'Democratic', 'Democratic', 'Democratic', 'Republican', 'Democratic', 'Democratic', 'Democratic', 'Democratic', 'Republican', 'Republican', 'Democratic', 'Democratic', 'Republican', 'Republican', 'Republican', 'Republican', 'Republican', 'Republican', 'Republican', 'Democratic', 'Republican', 'Republican', 'Republican', 'Democratic', 'Republican', 'Republican', 'Democratic', 'Democratic', 'Republican', 'Republican', 'Democratic', 'Republican', 'Republican', 'Democratic', 'Republican', 'Republican', 'Republican', 'Democratic', 'Democratic', 'Democratic', 'Democratic', 'Democratic', 'Democratic', 'Democratic', 'Democratic', 'Republican', 'Democratic', 'Democratic', 'Democratic', 'Democratic', 'Democratic', 'Republican', 'Republican', 'Democratic', 'Republican', 'Republican', 'Republican', 'Democratic', 'Republican', 'Democratic', 'Democratic', 'Republican[1]', 'Republican', 'Democratic', 'Republican', 'Republican', 'Republican', 'Republican', 'Democratic', 'Democratic', 'Republican', 'Republican', 'Republican', 'Democratic', 'Democratic', 'Republican', 'Republican', 'Democratic', 'Republican', 'Republican', 'Republican', 'Republican', 'Republican', 'Democratic', 'Republican', 'Democratic', 'Republican', 'Democratic', 'Democratic', 'Republican', 'Republican', 'Republican', 'Republican', 'Republican', 'Republican', 'Democratic', 'Republican', 'Republican', 'Republican', 'Democratic', 'Republican', 'Democratic', 'Democratic', 'Democratic', 'Democratic', 'Democratic', 'Democratic', 'Republican', 'Democratic', 'Republican', 'Republican', 'Republican', 'Republican', 'Democratic', 'Democratic', 'Republican', 'Democratic', 'Democratic', 'Republican', 'Republican', 'Democratic', 'Republican', 'Democratic', 'Republican', 'Democratic', 'Democratic', 'Republican', 'Republican', 'Republican', 'Democratic', 'Democratic', 'Democratic', 'Republican', 'Republican', 'Republican', 'Republican', 'Democratic', 'Democratic', 'Republican', 'Democratic', 'Democratic', 'Democratic', 'Democratic', 'Republican', 'Democratic', 'Republican', 'Republican', 'Republican', 'Democratic', 'Democratic', 'Democratic', 'Republican', 'Democratic', 'Democratic', 'Democratic', 'Democratic', 'Republican', 'Democratic', 'Republican', 'Republican', 'Republican', 'Democratic', 'Democratic', 'Republican', 'Democratic', 'Democratic', 'Democratic', 'Democratic', 'Republican', 'Republican', 'Democratic', 'Democratic', 'Democratic', 'Democratic', 'Democratic', 'Republican', 'Democratic', 'Democratic', 'Republican', 'Republican', 'Republican', 'Republican', 'Republican', 'Republican', 'Republican', 'Democratic', 'Democratic', 'Republican', 'Republican', 'Democratic', 'Democratic', 'Democratic', 'Republican', 'Republican', 'Republican', 'Democratic', 'Democratic', 'Republican', 'Democratic', 'Republican', 'Republican', 'Republican', 'Democratic', 'Democratic', 'Democratic', 'Republican', 'Democratic', 'Democratic', 'Democratic', 'Republican', 'Republican', 'Republican', 'Republican', 'Republican', 'Republican', 'Republican', 'Democratic', 'Democratic', 'Republican', 'Democratic', 'Democratic', 'Democratic', 'Democratic', 'Democratic', 'Democratic', 'Republican', 'Republican', 'Democratic', 'Republican', 'Democratic', 'Democratic', 'Democratic', 'Democratic', 'Democratic', 'Democratic[1]', 'Democratic', 'Republican', 'Democratic', 'Republican', 'Republican', 'Republican', 'Democratic', 'Democratic', 'Republican', 'Republican', 'Republican', 'Republican', 'Democratic', 'Democratic', 'Democratic', 'Democratic', 'Democratic', 'Democratic', 'Democratic', 'Republican', 'Republican', 'Republican', 'Republican', 'Republican', 'Republican', 'Democratic', 'Democratic', 'Republican', 'Republican', 'Republican', 'Democratic', 'Republican', 'Democratic', 'Democratic', 'Democratic', 'Democratic', 'Democratic', 'Republican', 'Democratic', 'Democratic', 'Republican', 'Republican', 'Democratic', 'Republican', 'Republican', 'Democratic', 'Democratic', 'Democratic', 'Republican', 'Republican', 'Democratic', 'Republican', 'Democratic', 'Democratic', 'Democratic', 'Democratic', 'Republican', 'Democratic', 'Democratic', 'Democratic', 'Democratic', 'Democratic', 'Republican', 'Republican', 'Democratic', 'Democratic', 'Republican', 'Democratic', 'Republican', 'Democratic', 'Republican', 'Republican', 'Democratic', 'Democratic', 'Republican', 'Republican', 'Democratic', 'Democratic', 'Republican', 'Democratic', 'Democratic', 'Democratic', 'Democratic', 'Republican', 'Republican', 'Democratic', 'Republican', 'Republican', 'Republican', 'Democratic', 'Republican', 'Democratic', 'Republican', 'Democratic', 'Democratic', 'Democratic', 'Democratic', 'Republican', 'Republican', 'Republican', 'Democratic', 'Democratic', 'Republican', 'Republican', 'Democratic', 'Republican', 'Republican', 'Democratic', 'Democratic', 'Democratic', 'Republican', 'Democratic', 'Republican', 'Republican', 'Democratic', 'Democratic', 'Democratic', 'Democratic', 'Democratic', 'Democratic', 'Republican', 'Republican', 'Democratic', 'Republican', 'Republican', 'Democratic', 'Democratic', 'Republican', 'Democratic', 'Democratic', 'Democratic', 'Republican', 'Democratic', 'Republican', 'Republican', 'Republican', 'Republican', 'Democratic', 'Republican', 'Republican', 'Republican', 'Republican', 'Democratic', 'Republican', 'Republican', 'Democratic', 'Republican', 'Republican', 'Republican', 'Republican', 'Republican', 'Republican', 'Democratic', 'Republican', 'Republican', 'Democratic', 'Republican', 'Republican', 'Republican', 'Democratic', 'Republican', 'Republican', 'Republican', 'Democratic', 'Republican', 'Republican', 'Republican', 'Republican', 'Democratic', 'Democratic', 'Republican', 'Democratic', 'Republican', 'Republican', 'Republican', 'Republican', 'Republican', 'Republican', 'Republican', 'Democratic', 'Republican', 'Democratic', 'Republican', 'Republican', 'Democratic', 'Republican', 'Republican', 'Democratic', 'Republican', 'Republican', 'Democratic', 'Republican', 'Republican', 'Democratic', 'Democratic', 'Republican', 'Republican', 'Democratic', 'Democratic', 'Democratic', 'Republican', 'Republican', 'Republican', 'Republican', 'Republican', 'Democratic', 'Democratic', 'Democratic', 'Democratic', 'Democratic', 'Democratic', 'Democratic', 'Republican', 'Republican', 'Republican', 'Republican', 'Republican', 'Republican', 'Republican', 'Republican', 'Democratic', 'Democratic', 'Republican', 'Democratic', 'Democratic', 'Democratic', 'Democratic', 'Republican', 'Democratic', 'Republican', 'Republican', 'Democratic', 'Democratic', 'Republican', 'Republican', 'Republican', 'Republican', 'Republican', 'Republican', 'Democratic', 'Democratic', 'Democratic', 'Republican', 'Democratic', 'Republican', 'Republican', 'Democratic', 'Republican', 'Republican', 'Republican', 'Democratic', 'Democratic', 'Democratic', 'Democratic', 'Democratic', 'Republican', 'Democratic', 'Republican', 'Democratic', 'Republican', 'Democratic', 'Democratic', 'Republican', 'Democratic', 'Republican', 'Democratic', 'Republican', 'Republican', 'Democratic', 'Republican', 'Republican', 'Democratic', 'Democratic', 'Democratic', 'Republican', 'Republican', 'Republican', 'Republican', 'Democratic', 'Republican', 'Democratic', 'Democratic', 'Republican', 'Republican', 'Republican', 'Democratic', 'Democratic', 'Democratic', 'Republican', 'Democratic', 'Republican', 'Republican', 'Republican', 'Democratic', 'Republican', 'Democratic', 'Republican', 'Democratic', 'Republican', 'Democratic', 'Republican', 'Republican', 'Republican', 'Republican', 'Democratic', 'Republican', 'Republican', 'Republican', 'Republican', 'Republican', 'Democratic', 'Republican', 'Democratic', 'Republican', 'Republican', 'Republican', 'Democratic', 'Democratic', 'Democratic', 'Democratic', 'Democratic', 'Democratic', 'Republican', 'Republican', 'Democratic', 'Democratic', 'Democratic', 'Republican', 'Democratic', 'Republican', 'Democratic', 'Democratic', 'Democratic', 'Republican', 'Democratic', 'Republican', 'Democratic', 'Democratic', 'Democratic', 'Republican', 'Democratic', 'Democratic', 'Republican', 'Republican', 'Democratic', 'Democratic', 'Democratic', 'Democratic', 'Democratic', 'Democratic', 'Democratic', 'Republican', 'Democratic', 'Democratic', 'Democratic', 'Democratic', 'Republican', 'Republican', 'Democratic', 'Republican', 'Republican', 'Democratic', 'Democratic', 'Democratic', 'Democratic', 'Democratic', 'Democratic', 'Democratic', 'Republican', 'Republican', 'Democratic', 'Republican', 'Democratic', 'Democratic', 'Democratic', 'Democratic', 'Democratic', 'Democratic', 'Democratic', 'Republican', 'Republican', 'Democratic', 'Democratic', 'Republican', 'Republican', 'Democratic', 'Democratic', 'Democratic', 'Democratic', 'Republican', 'Republican', 'Democratic', 'Democratic', 'Republican', 'Democratic', 'Democratic', 'Democratic', 'Democratic', 'Democratic', 'Democratic', 'Democratic', 'Democratic', 'Republican', 'Democratic', 'Democratic', 'Republican', 'Republican', 'Democratic', 'Democratic', 'Republican', 'Democratic', 'Democratic', 'Republican', 'Republican', 'Democratic', 'Democratic', 'Democratic', 'Republican', 'Democratic', 'Democratic', 'Democratic', 'Democratic', 'Republican', 'Democratic', 'Republican', 'Republican', 'Republican', 'Republican', 'Republican', 'Democratic', 'Republican', 'Democratic', 'Democratic', 'Democratic', 'Democratic', 'Democratic', 'Democratic', 'Republican', 'Republican', 'Republican', 'Democratic', 'Democratic', 'Republican', 'Democratic', 'Democratic', 'Democratic', 'Democratic', 'Democratic', 'Democratic', 'Democratic', 'Democratic', 'Democratic', 'Democratic', 'Democratic', 'Democratic', 'Republican', 'Democratic', 'Republican', 'Democratic', 'Democratic', 'Republican', 'Democratic', 'Democratic', 'Democratic', 'Democratic', 'Republican', 'Democratic', 'Republican', 'Democratic', 'Republican', 'Republican', 'Democratic', 'Democratic', 'Democratic', 'Democratic', 'Republican', 'Democratic', 'Republican', 'Democratic', 'Republican', 'Democratic', 'Republican', 'Democratic', 'Republican', 'Republican', 'Republican', 'Republican', 'Democratic', 'Republican', 'Republican', 'Republican', 'Democratic', 'Republican', 'Republican', 'Republican', 'Republican', 'Democratic', 'Democratic', 'Republican', 'Republican', 'Democratic', 'Republican', 'Republican', 'Republican', 'Republican', 'Democratic', 'Republican', 'Republican', 'Republican', 'Republican', 'Republican', 'Democratic', 'Republican', 'Republican', 'Republican', 'Republican', 'Republican', 'Republican', 'Republican', 'Republican', 'Republican', 'Republican', 'Republican', 'Republican', 'Democratic', 'Republican', 'Republican', 'Republican', 'Democratic', 'Republican', 'Republican', 'Democratic', 'Democratic', 'Democratic', 'Republican', 'Republican', 'Republican', 'Republican', 'Republican', 'Republican', 'Republican', 'Republican', 'Republican', 'Democratic', 'Democratic', 'Republican', 'Republican', 'Republican', 'Republican', 'Republican', 'Republican', 'Democratic', 'Republican', 'Republican', 'Republican', 'Republican', 'Republican', 'Republican', 'Republican', 'Republican', 'Democratic', 'Republican', 'Republican', 'Republican', 'Republican', 'Republican', 'Republican', 'Democratic', 'Republican', 'Republican', 'Republican', 'Republican', 'Republican', 'Republican', 'Republican', 'Republican', 'Republican', 'Republican', 'Republican', 'Republican', 'Republican', 'Republican', 'Republican', 'Republican', 'Democratic', 'Republican', 'Republican', 'Republican', 'Republican', 'Democratic', 'Democratic', 'Republican', 'Republican', 'Democratic', 'Republican', 'Republican', 'Democratic', 'Republican', 'Republican', 'Democratic', 'Democratic', 'Republican', 'Democratic', 'Republican', 'Democratic', 'Democratic', 'Democratic', 'Democratic', 'Democratic', 'Democratic', 'Democratic', 'Democratic', 'Democratic', 'Republican', 'Republican', 'Republican', 'Republican', 'Democratic', 'Democratic', 'Republican', 'Democratic', 'Republican', 'Democratic', 'Democratic', 'Democratic', 'Democratic', 'Republican', 'Democratic', 'Republican', 'Republican', 'Republican', 'Republican', 'Republican', 'Democratic', 'Democratic', 'Democratic', 'Democratic', 'Republican', 'Republican', 'Republican', 'Republican', 'Democratic', 'Democratic', 'Democratic', 'Democratic', 'Democratic', 'Democratic', 'Democratic', 'Democratic', 'Democratic', 'Democratic', 'Democratic', 'Republican', 'Republican', 'Republican', 'Republican', 'Democratic', 'Republican', 'Republican', 'Republican', 'Democratic', 'Republican', 'Republican', 'Republican', 'Republican', 'Republican', 'Republican', 'Democratic', 'Republican', 'Republican', 'Republican', 'Democratic', 'Democratic', 'Democratic', 'Democratic', 'Republican', 'Democratic', 'Democratic', 'Republican', 'Republican', 'Democratic', 'Democratic', 'Democratic', 'Republican', 'Republican', 'Republican', 'Republican', 'Republican', 'Republican', 'Republican', 'Republican', 'Democratic', 'Republican', 'Republican', 'Republican', 'Democratic', 'Democratic', 'Democratic', 'Republican', 'Republican', 'Democratic', 'Republican', 'Republican', 'Republican', 'Republican', 'Republican', 'Democratic', 'Republican', 'Republican', 'Republican', 'Republican', 'Republican', 'Republican', 'Republican', 'Republican', 'Republican', 'Democratic', 'Democratic', 'Republican', 'Republican', 'Republican', 'Democratic', 'Republican', 'Republican', 'Republican', 'Republican', 'Republican', 'Democratic', 'Republican', 'Republican', 'Republican', 'Republican', 'Republican', 'Republican', 'Republican', 'Republican', 'Republican', 'Democratic', 'Republican', 'Democratic', 'Republican', 'Republican', 'Republican', 'Republican', 'Republican', 'Democratic', 'Republican', 'Republican', 'Republican', 'Republican', 'Republican', 'Republican', 'Democratic', 'Democratic', 'Democratic', 'Democratic', 'Republican', 'Republican', 'Democratic', 'Democratic', 'Democratic', 'Democratic', 'Democratic', 'Democratic', 'Democratic', 'Democratic', 'Republican', 'Republican', 'Republican', 'Democratic', 'Democratic', 'Democratic', 'Democratic', 'Republican', 'Republican', 'Republican', 'Republican', 'Democratic', 'Democratic', 'Republican', 'Republican', 'Republican', 'Democratic', 'Republican', 'Republican', 'Republican', 'Republican', 'Republican', 'Democratic', 'Democratic', 'Democratic', 'Democratic', 'Republican', 'Democratic', 'Republican', 'Republican', 'Republican', 'Democratic', 'Democratic', 'Democratic', 'Democratic', 'Democratic', 'Republican', 'Republican', 'Democratic', 'Republican', 'Republican', 'Republican', 'Republican', 'Republican', 'Republican', 'Democratic', 'Republican', 'Democratic', 'Republican', 'Democratic', 'Republican', 'Republican', 'Democratic', 'Republican', 'Democratic', 'Republican', 'Republican', 'Democratic', 'Republican', 'Democratic', 'Republican', 'Republican', 'Republican', 'Republican', 'Republican', 'Democratic', 'Democratic', 'Democratic', 'Democratic', 'Republican', 'Democratic', 'Democratic', 'Democratic', 'Democratic', 'Democratic', 'Republican', 'Republican', 'Republican', 'Democratic', 'Democratic', 'Democratic', 'Democratic', 'Republican', 'Democratic', 'Democratic', 'Democratic', 'Republican', 'Republican', 'Democratic', 'Democratic', 'Republican', 'Democratic', 'Democratic', 'Democratic', 'Democratic', 'Democratic', 'Democratic', 'Democratic', 'Democratic', 'Democratic', 'Democratic', 'Republican', 'Republican', 'Republican', 'Republican', 'Democratic', 'Democratic', 'Democratic', 'Democratic', 'Democratic', 'Democratic', 'Democratic', 'Democratic', 'Democratic', 'Democratic', 'Democratic', 'Democratic', 'Republican', 'Republican', 'Republican', 'Republican', 'Republican', 'Republican', 'Republican', 'Democratic', 'Democratic', 'Democratic', 'Republican', 'Republican', 'Republican', 'Republican', 'Democratic', 'Republican', 'Republican', 'Republican', 'Republican', 'Republican', 'Republican', 'Republican', 'Republican', 'Republican', 'Democratic', 'Democratic', 'Republican', 'Republican', 'Democratic', 'Democratic', 'Democratic', 'Democratic', 'Republican', 'Republican', 'Democratic', 'Democratic', 'Democratic', 'Democratic', 'Republican', 'Republican', 'Republican', 'Republican', 'Democratic', 'Republican', 'Democratic', 'Democratic', 'Democratic', 'Democratic', 'Republican', 'Republican', 'Republican', 'Republican', 'Republican', 'Republican', 'Democratic', 'Republican', 'Republican', 'Republican', 'Republican', 'Republican', 'Republican', 'Democratic', 'Democratic', 'Republican', 'Republican', 'Democratic', 'Democratic', 'Republican', 'Democratic', 'Republican', 'Republican', 'Republican', 'Republican', 'Republican', 'Republican', 'Republican', 'Democratic', 'Republican', 'Republican', 'Republican', 'Republican', 'Democratic', 'Republican', 'Democratic', 'Republican', 'Democratic', 'Republican', 'Republican', 'Democratic', 'Democratic', 'Democratic', 'Democratic', 'Democratic', 'Republican', 'Republican', 'Republican', 'Republican', 'Republican', 'Republican', 'Republican', 'Republican', 'Republican[1]', 'Republican', 'Republican', 'Republican', 'Republican', 'Republican', 'Democratic', 'Republican', 'Republican']\n"
          ]
        }
      ]
    },
    {
      "cell_type": "code",
      "metadata": {
        "colab": {
          "base_uri": "https://localhost:8080/"
        },
        "id": "ZXBMVGqxuNMR",
        "outputId": "a6e8fac3-914b-4529-a13e-9a16cebdac25"
      },
      "source": [
        "new_y = Y\n",
        "for i in range(len(Y)):\n",
        "  if(Y[i][0]=='D'):\n",
        "    new_y[i] = 0\n",
        "  else:\n",
        "    new_y[i] = 1\n",
        "print(new_y)"
      ],
      "execution_count": null,
      "outputs": [
        {
          "output_type": "stream",
          "name": "stdout",
          "text": [
            "[0, 1, 1, 1, 1, 0, 0, 0, 0, 1, 0, 1, 1, 0, 0, 1, 0, 0, 1, 1, 0, 0, 1, 1, 0, 1, 1, 1, 1, 1, 1, 0, 0, 0, 1, 1, 0, 0, 0, 0, 1, 0, 1, 1, 1, 1, 0, 0, 0, 0, 1, 0, 0, 0, 1, 0, 1, 1, 0, 1, 1, 1, 1, 0, 1, 1, 0, 0, 0, 1, 1, 1, 1, 1, 0, 0, 1, 1, 0, 0, 0, 0, 1, 1, 1, 0, 0, 0, 1, 0, 1, 1, 0, 1, 1, 0, 0, 1, 1, 1, 1, 0, 1, 0, 0, 0, 0, 0, 1, 1, 0, 0, 0, 0, 0, 0, 0, 1, 0, 1, 1, 1, 0, 1, 0, 1, 1, 0, 0, 0, 0, 0, 0, 0, 0, 0, 1, 1, 1, 1, 0, 1, 1, 1, 1, 1, 1, 1, 0, 1, 1, 0, 0, 1, 1, 1, 1, 0, 0, 0, 1, 1, 1, 1, 0, 0, 1, 0, 1, 1, 1, 1, 1, 0, 1, 1, 1, 1, 0, 1, 0, 0, 1, 1, 0, 1, 0, 1, 0, 1, 1, 1, 0, 0, 1, 1, 0, 0, 0, 0, 0, 1, 0, 1, 0, 1, 1, 0, 1, 1, 1, 1, 0, 1, 0, 0, 0, 1, 0, 1, 1, 1, 1, 1, 0, 0, 1, 1, 1, 1, 1, 1, 1, 1, 1, 0, 1, 1, 0, 1, 0, 0, 1, 0, 1, 0, 0, 0, 1, 0, 0, 1, 0, 0, 1, 0, 0, 1, 0, 0, 0, 0, 0, 1, 1, 1, 0, 1, 1, 1, 0, 0, 1, 0, 0, 0, 0, 0, 1, 1, 1, 0, 0, 0, 1, 0, 0, 0, 0, 1, 1, 0, 0, 1, 1, 1, 1, 1, 1, 1, 0, 1, 1, 1, 0, 1, 1, 0, 0, 1, 1, 0, 1, 1, 0, 1, 1, 1, 0, 0, 0, 0, 0, 0, 0, 0, 1, 0, 0, 0, 0, 0, 1, 1, 0, 1, 1, 1, 0, 1, 0, 0, 1, 1, 0, 1, 1, 1, 1, 0, 0, 1, 1, 1, 0, 0, 1, 1, 0, 1, 1, 1, 1, 1, 0, 1, 0, 1, 0, 0, 1, 1, 1, 1, 1, 1, 0, 1, 1, 1, 0, 1, 0, 0, 0, 0, 0, 0, 1, 0, 1, 1, 1, 1, 0, 0, 1, 0, 0, 1, 1, 0, 1, 0, 1, 0, 0, 1, 1, 1, 0, 0, 0, 1, 1, 1, 1, 0, 0, 1, 0, 0, 0, 0, 1, 0, 1, 1, 1, 0, 0, 0, 1, 0, 0, 0, 0, 1, 0, 1, 1, 1, 0, 0, 1, 0, 0, 0, 0, 1, 1, 0, 0, 0, 0, 0, 1, 0, 0, 1, 1, 1, 1, 1, 1, 1, 0, 0, 1, 1, 0, 0, 0, 1, 1, 1, 0, 0, 1, 0, 1, 1, 1, 0, 0, 0, 1, 0, 0, 0, 1, 1, 1, 1, 1, 1, 1, 0, 0, 1, 0, 0, 0, 0, 0, 0, 1, 1, 0, 1, 0, 0, 0, 0, 0, 0, 0, 1, 0, 1, 1, 1, 0, 0, 1, 1, 1, 1, 0, 0, 0, 0, 0, 0, 0, 1, 1, 1, 1, 1, 1, 0, 0, 1, 1, 1, 0, 1, 0, 0, 0, 0, 0, 1, 0, 0, 1, 1, 0, 1, 1, 0, 0, 0, 1, 1, 0, 1, 0, 0, 0, 0, 1, 0, 0, 0, 0, 0, 1, 1, 0, 0, 1, 0, 1, 0, 1, 1, 0, 0, 1, 1, 0, 0, 1, 0, 0, 0, 0, 1, 1, 0, 1, 1, 1, 0, 1, 0, 1, 0, 0, 0, 0, 1, 1, 1, 0, 0, 1, 1, 0, 1, 1, 0, 0, 0, 1, 0, 1, 1, 0, 0, 0, 0, 0, 0, 1, 1, 0, 1, 1, 0, 0, 1, 0, 0, 0, 1, 0, 1, 1, 1, 1, 0, 1, 1, 1, 1, 0, 1, 1, 0, 1, 1, 1, 1, 1, 1, 0, 1, 1, 0, 1, 1, 1, 0, 1, 1, 1, 0, 1, 1, 1, 1, 0, 0, 1, 0, 1, 1, 1, 1, 1, 1, 1, 0, 1, 0, 1, 1, 0, 1, 1, 0, 1, 1, 0, 1, 1, 0, 0, 1, 1, 0, 0, 0, 1, 1, 1, 1, 1, 0, 0, 0, 0, 0, 0, 0, 1, 1, 1, 1, 1, 1, 1, 1, 0, 0, 1, 0, 0, 0, 0, 1, 0, 1, 1, 0, 0, 1, 1, 1, 1, 1, 1, 0, 0, 0, 1, 0, 1, 1, 0, 1, 1, 1, 0, 0, 0, 0, 0, 1, 0, 1, 0, 1, 0, 0, 1, 0, 1, 0, 1, 1, 0, 1, 1, 0, 0, 0, 1, 1, 1, 1, 0, 1, 0, 0, 1, 1, 1, 0, 0, 0, 1, 0, 1, 1, 1, 0, 1, 0, 1, 0, 1, 0, 1, 1, 1, 1, 0, 1, 1, 1, 1, 1, 0, 1, 0, 1, 1, 1, 0, 0, 0, 0, 0, 0, 1, 1, 0, 0, 0, 1, 0, 1, 0, 0, 0, 1, 0, 1, 0, 0, 0, 1, 0, 0, 1, 1, 0, 0, 0, 0, 0, 0, 0, 1, 0, 0, 0, 0, 1, 1, 0, 1, 1, 0, 0, 0, 0, 0, 0, 0, 1, 1, 0, 1, 0, 0, 0, 0, 0, 0, 0, 1, 1, 0, 0, 1, 1, 0, 0, 0, 0, 1, 1, 0, 0, 1, 0, 0, 0, 0, 0, 0, 0, 0, 1, 0, 0, 1, 1, 0, 0, 1, 0, 0, 1, 1, 0, 0, 0, 1, 0, 0, 0, 0, 1, 0, 1, 1, 1, 1, 1, 0, 1, 0, 0, 0, 0, 0, 0, 1, 1, 1, 0, 0, 1, 0, 0, 0, 0, 0, 0, 0, 0, 0, 0, 0, 0, 1, 0, 1, 0, 0, 1, 0, 0, 0, 0, 1, 0, 1, 0, 1, 1, 0, 0, 0, 0, 1, 0, 1, 0, 1, 0, 1, 0, 1, 1, 1, 1, 0, 1, 1, 1, 0, 1, 1, 1, 1, 0, 0, 1, 1, 0, 1, 1, 1, 1, 0, 1, 1, 1, 1, 1, 0, 1, 1, 1, 1, 1, 1, 1, 1, 1, 1, 1, 1, 0, 1, 1, 1, 0, 1, 1, 0, 0, 0, 1, 1, 1, 1, 1, 1, 1, 1, 1, 0, 0, 1, 1, 1, 1, 1, 1, 0, 1, 1, 1, 1, 1, 1, 1, 1, 0, 1, 1, 1, 1, 1, 1, 0, 1, 1, 1, 1, 1, 1, 1, 1, 1, 1, 1, 1, 1, 1, 1, 1, 0, 1, 1, 1, 1, 0, 0, 1, 1, 0, 1, 1, 0, 1, 1, 0, 0, 1, 0, 1, 0, 0, 0, 0, 0, 0, 0, 0, 0, 1, 1, 1, 1, 0, 0, 1, 0, 1, 0, 0, 0, 0, 1, 0, 1, 1, 1, 1, 1, 0, 0, 0, 0, 1, 1, 1, 1, 0, 0, 0, 0, 0, 0, 0, 0, 0, 0, 0, 1, 1, 1, 1, 0, 1, 1, 1, 0, 1, 1, 1, 1, 1, 1, 0, 1, 1, 1, 0, 0, 0, 0, 1, 0, 0, 1, 1, 0, 0, 0, 1, 1, 1, 1, 1, 1, 1, 1, 0, 1, 1, 1, 0, 0, 0, 1, 1, 0, 1, 1, 1, 1, 1, 0, 1, 1, 1, 1, 1, 1, 1, 1, 1, 0, 0, 1, 1, 1, 0, 1, 1, 1, 1, 1, 0, 1, 1, 1, 1, 1, 1, 1, 1, 1, 0, 1, 0, 1, 1, 1, 1, 1, 0, 1, 1, 1, 1, 1, 1, 0, 0, 0, 0, 1, 1, 0, 0, 0, 0, 0, 0, 0, 0, 1, 1, 1, 0, 0, 0, 0, 1, 1, 1, 1, 0, 0, 1, 1, 1, 0, 1, 1, 1, 1, 1, 0, 0, 0, 0, 1, 0, 1, 1, 1, 0, 0, 0, 0, 0, 1, 1, 0, 1, 1, 1, 1, 1, 1, 0, 1, 0, 1, 0, 1, 1, 0, 1, 0, 1, 1, 0, 1, 0, 1, 1, 1, 1, 1, 0, 0, 0, 0, 1, 0, 0, 0, 0, 0, 1, 1, 1, 0, 0, 0, 0, 1, 0, 0, 0, 1, 1, 0, 0, 1, 0, 0, 0, 0, 0, 0, 0, 0, 0, 0, 1, 1, 1, 1, 0, 0, 0, 0, 0, 0, 0, 0, 0, 0, 0, 0, 1, 1, 1, 1, 1, 1, 1, 0, 0, 0, 1, 1, 1, 1, 0, 1, 1, 1, 1, 1, 1, 1, 1, 1, 0, 0, 1, 1, 0, 0, 0, 0, 1, 1, 0, 0, 0, 0, 1, 1, 1, 1, 0, 1, 0, 0, 0, 0, 1, 1, 1, 1, 1, 1, 0, 1, 1, 1, 1, 1, 1, 0, 0, 1, 1, 0, 0, 1, 0, 1, 1, 1, 1, 1, 1, 1, 0, 1, 1, 1, 1, 0, 1, 0, 1, 0, 1, 1, 0, 0, 0, 0, 0, 1, 1, 1, 1, 1, 1, 1, 1, 1, 1, 1, 1, 1, 1, 0, 1, 1]\n"
          ]
        }
      ]
    },
    {
      "cell_type": "code",
      "metadata": {
        "colab": {
          "base_uri": "https://localhost:8080/"
        },
        "id": "YIVYsJvbYqHc",
        "outputId": "0746cef7-41df-4c28-8af8-a225220a0399"
      },
      "source": [
        "print(len(new_y))"
      ],
      "execution_count": null,
      "outputs": [
        {
          "output_type": "stream",
          "name": "stdout",
          "text": [
            "1509\n"
          ]
        }
      ]
    },
    {
      "cell_type": "code",
      "metadata": {
        "id": "la52rKJ7uh2_"
      },
      "source": [
        "# !pip install -U sentence-transformers"
      ],
      "execution_count": null,
      "outputs": []
    },
    {
      "cell_type": "code",
      "metadata": {
        "id": "zCaWcAojluQq"
      },
      "source": [
        "background_text = []\n",
        "political_text = []\n",
        "others_text = []\n",
        "\n",
        "for i,representative in enumerate(data):\n",
        "  #inner_text = []\n",
        "  b_text = \"\"\n",
        "  p_text = \"\"\n",
        "  o_text = \"\"\n",
        "  for keys in representative.keys():\n",
        "    if keys=='Background':\n",
        "      b_text += str(representative[keys]) + \" \"\n",
        "    if keys=='Political':\n",
        "      p_text += str(representative[keys]) + \" \"\n",
        "    if keys=='Others':\n",
        "      o_text += str(representative[keys]) + \" \"\n",
        "  background_text.append(b_text)\n",
        "  political_text.append(p_text)\n",
        "  others_text.append(o_text)\n",
        "      \n",
        "    # if(keys not in ['Name','PersonalDetails']):\n",
        "    #   #inner_text.append(representative[keys])\n",
        "    #   #print(representative[keys])\n",
        "    #   inner_text += str(representative[keys]) + \" \"  \n",
        "  # text.append(inner_text)"
      ],
      "execution_count": null,
      "outputs": []
    },
    {
      "cell_type": "code",
      "metadata": {
        "colab": {
          "base_uri": "https://localhost:8080/",
          "height": 122
        },
        "id": "KIafOknxmbCq",
        "outputId": "7c284981-9db4-486c-e8ec-b6a1d67c6f33"
      },
      "source": [
        "political_text[1]"
      ],
      "execution_count": null,
      "outputs": [
        {
          "output_type": "execute_result",
          "data": {
            "application/vnd.google.colaboratory.intrinsic+json": {
              "type": "string"
            },
            "text/plain": [
              "'\\nStevens had been with Charles Clasby\\'s law firm for six months when Robert J. McNealy, a Democrat appointed as U.S. Attorney for Fairbanks during the Truman administration,[14] informed U.S. District Judge Harry Pratt he would be resigning effective August 15, 1953,[26] having already delayed his resignation by several months at the request of Justice Department officials newly appointed by Eisenhower. The latter had asked McNealy to delay his resignation until Eisenhower could appoint a replacement.[25] Despite Stevens\\'s short tenure as an Alaska resident and his relative lack of trial or criminal law experience, Pratt asked Stevens to serve in the position until Eisenhower acted.[26] Stevens agreed. \"I said, \\'Sure, I\\'d like to do that,\\'\" Stevens recalled years later. \"Clasby said, \\'It\\'s not going to pay you as much money, but, if you want to do it, that\\'s your business.\\' He was very pissed that I decided to go.\"[14] Most members of the Fairbanks Bar Association were outraged at the appointment of a newcomer, and members in attendance at the association\\'s meeting that December voted to support Carl Messenger for the permanent appointment, an endorsement seconded by the Alaska Republican Party Committee for the Fairbanks-area judicial division.[26] However, Stevens was favored by Attorney General Herbert Brownell, by Senator William F. Knowland of California, and by the Republican National Committee,[26] (Alaska itself had no Senators at this time, as it was still a territory). Eisenhower sent Stevens\\'s nomination to the U.S. Senate,[27] which confirmed him on March 30, 1954.[14]\\n\\nStevens soon gained a reputation as an active prosecutor who vigorously prosecuted violations of federal and territorial liquor, drug, and prostitution laws,[14] characterized by Fairbanks area homesteader Niilo Koponen (who later served in the Alaska State House of Representatives from 1982 to 1991) as \"this rough tough shorty of a district attorney who was going to crush crime\".[27] Stevens sometimes accompanied U.S. Marshals on raids. As recounted years later by Justice Jay Rabinowitz, \"U.S. marshals went in with Tommy guns and Ted led the charge, smoking a stogie and with six guns on his hips.\"[14] However, Stevens himself said the colorful stories spread about him as a pistol-packing D.A. were greatly exaggerated, and recalled only one incident when he carried a gun: on a vice raid to the town of Big Delta about 75 miles (121\\xa0km) southeast of Fairbanks, he carried a holstered gun on a marshal\\'s suggestion.[14]\\n\\nStevens also became known for his explosive temper, which was focused particularly on a criminal defense lawyer named Warren A. Taylor[14] who would later go on to become the Alaska Legislature\\'s first Speaker of the House in the First Alaska State Legislature.[28] \"Ted would get red in the face, blow up and stalk out of the courtroom,\" a former court clerk later recalled of Stevens\\'s relationship with Taylor.[14]\\n\\nIn 1956, in a trial which received national headlines, Stevens prosecuted Jack Marler; a former Internal Revenue Service agent accused of failing to file tax returns. Marler\\'s first trial, which was handled by a different prosecutor, had ended in a deadlocked jury and a mistrial. For the second trial, Stevens was up against Edgar Paul Boyko, a flamboyant Anchorage attorney who built his defense of Marler on the theory of no taxation without representation, citing the Territory of Alaska\\'s lack of representation in the U.S. Congress. As recalled by Boyko, his closing argument to the jury was a rabble-rousing appeal for the jury to \"strike a blow for Alaskan freedom\", claiming that \"this case was the jury\\'s chance to move Alaska toward statehood.\" Boyko remembered that \"Ted had done a hell of a job in the case,\" but Boyko\\'s tactics paid off, and Marler was acquitted on April 3, 1956. Following the acquittal, Stevens issued a statement saying, \"I don\\'t believe the jury\\'s verdict is an expression of resistance to taxes or law enforcement or the start of a Boston Tea Party. I do believe, however, that the decision will be a blow to the hopes for Alaska statehood.\"[14]\\n\\nIn March 1956, Stevens\\'s friend Elmer Bennett, legislative counsel in the Department of the Interior, was promoted by Secretary of the Interior Douglas McKay to the Secretary\\'s office. Bennett successfully lobbied McKay to replace him in his old job with Stevens, and Stevens returned to Washington, D.C., to take up the position.[29] By the time he arrived in June 1956, McKay had resigned in order to run for the U.S. Senate from his home state of Oregon,[29] and Fred Andrew Seaton had been appointed to replace him.[29][30] Seaton, a newspaper publisher from Nebraska,[29] was a close friend of Fairbanks Daily News-Miner publisher C.W. Snedden, and in common with Snedden was an advocate of Alaska statehood,[30] unlike McKay, who had been lukewarm in his support.[29] Seaton asked Snedden if he knew any Alaskan who could come to Washington, D.C. to work for Alaska statehood; Snedden replied that the man he needed (Stevens) was already there working in the Department of the Interior.[30] The fight for Alaska statehood became Stevens\\'s principal work at Interior. \"He did all the work on statehood,\" Roger Ernst, Seaton\\'s assistant secretary for public land management, later said of Stevens. \"He wrote 90 percent of all the speeches. Statehood was his main project.\"[30] A sign on Stevens\\'s door proclaimed his office as \"Alaskan Headquarters\", and Stevens became known at the Department of the Interior as \"Mr. Alaska\".[29]\\n\\nEfforts to make Alaska a state had been going on since 1943, and had nearly come to fruition during the Truman administration in 1950 when a statehood bill passed in the U.S. House of Representatives, only to die in the Senate.[30] The national Republican Party opposed statehood for Alaska, in part out of fear that Alaska would elect Democrats to Congress.[30] At the time Stevens arrived in Washington, D.C., to take up his new job, a constitutional convention to write an Alaska constitution had just been concluded on the campus of the University of Alaska in Fairbanks.[31] The 55 delegates also elected three unofficial representatives (all Democrats) as unofficial delegates to Congress: Ernest Gruening and William Egan as U.S. Senators and Ralph Rivers as U.S. representative.[30]\\n\\nPresident Eisenhower, a Republican, regarded Alaska as too large and sparsely populated to be economically self-sufficient as a state, and furthermore saw statehood as an obstacle to effective defense of Alaska should the Soviet Union seek to invade it.[30] Eisenhower was especially worried about the sparsely populated areas of northern and western Alaska. In March 1954, he had drawn a line on a map indicating his opinion of the portions of Alaska which he felt ought to remain in federal hands even if Alaska were granted statehood.[30]\\n\\nSeaton and Stevens worked with Gen. Nathan Twining, Chairman of the Joint Chiefs of Staff, who had served in Alaska; and Jack L. Stempler, a top Defense Department attorney, to create a compromise that would address Eisenhower\\'s concerns. Much of their work was conducted in a hospital room at Walter Reed Army Hospital, where Seaton was being treated for back problems.[30] Their work concentrated on refining the line on the map that Eisenhower had drawn in 1954, one which became known as the PYK Line after three rivers (the Porcupine, Yukon, and Kuskokwim) whose courses defined much of the line.[30] The PYK Line was the basis for Section\\xa010 of the Alaska Statehood Act, which Stevens wrote.[30] Under Section 10, the land north and west of the PYK Line\\xa0– which included the entirety of Alaska\\'s North Slope, the Seward Peninsula, most of the Yukon-Kuskokwim Delta, the western portions of the Alaska Peninsula, and the Aleutian and Pribilof Islands\\xa0– would be part of the new state, but the President would be granted emergency powers to establish special national defense withdrawals in those areas if deemed necessary.[32] \"It\\'s still in the law but it\\'s never been exercised,\" Stevens later recollected. \"Now that the problem with Russia is gone, it\\'s surplusage. But it is a special law that only applies to Alaska.\"[30]\\n\\nStevens also took part (illegally) in lobbying for the statehood bill,[30] working closely with the Alaska Statehood Committee from his office at Interior.[30] Stevens hired Marilyn Atwood,[30] daughter of Anchorage Times publisher Robert Atwood,[30] who was chairman of the Alaska Statehood Committee,[33] to work with him in the Interior Department. \"We were violating the law,\" Stevens told a researcher in an October 1977 oral history interview for the Eisenhower Library. \"[W]e were lobbying from the executive branch, and there\\'s been a statute against that for a long time.\\xa0... We more or less, I would say, masterminded the House and Senate attack from the executive branch.\"[30] Stevens and the younger Atwood created file cards on members of Congress based on \"whether they were Rotarians or Kiwanians or Catholics or Baptists and veterans or loggers, the whole thing\", Stevens said in the 1977 interview. \"And we\\'d assigned these Alaskans to go talk to individual members of the Senate and split them down on the basis of people that had something in common with them.\"[30] The lobbying campaign extended to presidential press conferences. \"We set Ike up quite often at press conferences by planting questions about Alaska statehood,\" Stevens said in the 1977 interview. \"We never let a press conference go by without getting someone to try to ask him about statehood.\"[30] Newspapers were also targeted, according to Stevens. \"We planted editorials in weeklies and dailies and newspapers in the district of people we thought were opposed to us or states where they were opposed to us so that suddenly they were thinking twice about opposing us.\"[30]\\n\\nThe Alaska Statehood Act became law with Eisenhower\\'s signature on July 7, 1958,[32] and Alaska formally was admitted to statehood on January 3, 1959, when Eisenhower signed the Alaska Statehood Proclamation.[34]\\n\\nAfter returning to Alaska, Stevens practiced law in Anchorage and became a member of Operation Rampart, a group in favor of building the Rampart Dam, a hydroelectric project on the Yukon River.[35] Elected to the Alaska House of Representatives in 1964, he became House Majority Leader in his second term.\\n\\nStevens first ran for the U.S. Senate in 1962 and won the Republican nomination, but lost in the general election to incumbent Democratic U.S. Senator Ernest Gruening.[36] In 1968, Stevens once again ran for the U.S. Senate, but lost in the Republican primary to Anchorage Mayor Elmer E. Rasmuson. Rasmuson lost the general election to Democrat Mike Gravel. In December 1968, after the death of Alaska\\'s other senator, Democrat Bob Bartlett, Governor Wally Hickel appointed Stevens to the seat.[37] Since Gravel took office ten days after Stevens did, Stevens was Alaska\\'s senior senator for all but ten days of his forty-year tenure in the Senate.\\n\\nIn a special election in 1970, Stevens won the right to finish the remainder of Bartlett\\'s term. He won the seat in his own right in 1972, and was reelected in 1978, 1984, 1990, 1996 and 2002 elections. His final term expired in January 2009. Since his first election to a full term in 1972, Stevens never received less than 66% of the vote before his 2008 defeat for re-election.[38]\\n\\nStevens lost his Senate re-election bid in 2008.[39] He won the Republican primary in August[40] and was defeated by Anchorage Mayor Mark Begich in the general election.[41]\\n\\nStevens, who would have been 90 years old on election day, had filed to run for a rematch against Begich in the 2014 election,[42] but he was killed in a plane crash on August 9, 2010.[43]\\n\\nStevens served as the Assistant Republican Leader (Whip) from 1977 to 1985. Stevens served as Acting Minority Leader during Howard Baker\\'s run for president during the 1980 Republican primaries.[44] In 1994, after the Republicans took control of the Senate, Stevens was appointed Chairman of the Senate Rules Committee. Stevens became the Senate\\'s President Pro Tempore when Republicans regained control of the chamber as a result of the 2002 mid-term elections, during which the previous most senior Republican senator and former President Pro Tempore Strom Thurmond retired.\\n\\nAfter Howard Baker retired in 1984, Stevens sought the position of Republican (and then-Majority) leader, running against Bob Dole, Dick Lugar, Jim McClure and Pete Domenici. As Republican whip, Stevens was theoretically the favorite to succeed Baker, but lost to Dole in a fourth ballot.[45]\\n\\nStevens chaired the Senate Appropriations Committee from 1997 to 2005, except for the 18 months when Democrats controlled the chamber. The chairmanship gave Stevens considerable influence among fellow Senators, who relied on him for home-state project funds. Even before becoming chairman of the Appropriations Committee, Stevens secured large sums of federal money for the State of Alaska.[citation needed] Due to Republican Party rules that limited committee chairmanships to six years, Stevens gave up the Appropriations gavel at the start of the 109th Congress, in January 2005.\\n\\nHe chaired the United States Senate Committee on Commerce, Science and Transportation during the 109th Congress, becoming the committee\\'s ranking member after the Democrats regained control of the Senate for the 110th Congress. He resigned his ranking-member position on the committee due to his indictment.[46]\\n\\nAt various times, Stevens also served as Chairman of the Senate Governmental Affairs Committee, the Senate Ethics Committee, the Arms Control Observer Group, and the Joint Committee on the Library of Congress.\\n\\nDue to Stevens\\'s long tenure and that of the state\\'s sole congressman, Don Young, Alaska was considered to have clout in national politics well beyond its small population (the state was long the smallest in population and is currently 47th, ahead of only Wyoming, North Dakota, and Vermont).\\n\\nOn June 28, 2006, the Senate commerce committee was in the final day of three days of hearings,[47] during which the Committee members considered more than two hundred amendments to an omnibus telecommunications bill. Stevens authored the bill, S. 2686,[48] the Communications, Consumer\\'s Choice, and Broadband Deployment Act of 2006.\\n\\nSenators Olympia Snowe (R-ME) and Byron Dorgan (D-ND) cosponsored and spoke on behalf of an amendment that would have inserted strong network neutrality mandates into the bill. In between speeches by Snowe and Dorgan, Stevens gave a vehement 11-minute speech using colorful language to explain his opposition to the amendment. Stevens referred to the Internet as \"not a big truck\", but a \"series of tubes\" that could be clogged with information. Stevens also confused the terms Internet and e-mail. Soon after, Stevens\\'s interpretation of how the Internet works became a topic of amusement and ridicule by some in the blogosphere.[49] The phrases \"the Internet is not a big truck\" and \"series of tubes\" became internet memes and were prominently featured on U.S. television shows including Comedy Central\\'s The Daily Show.\\n\\nCNET journalist Declan McCullagh called \"series of tubes\" an \"entirely reasonable\" metaphor for the Internet, noting that some computer operating systems use the term \\'pipes\\' to describe interprocess communication. McCullagh also suggested that ridicule of Stevens was almost entirely political, espousing his belief that if Stevens has spoken in a similar manner, yet in support of Net Neutrality, \"the online chortling would have been muted or nonexistent.\"[50]\\n\\nStevens was a long-standing proponent of logging and championed a plan that would allow 2,400,000 acres (9,700\\xa0km2) of roadless old growth forest to be clear-cut. Stevens said this would revive Alaska\\'s timber industry and bring jobs to unemployed loggers; however, the proposal would mean that thousands of miles of roads would be constructed at the expense of the United States Forest Service, judged to cost taxpayers $200,000 per job created.[citation needed]\\n\\nStevens considered himself pro-abortion. According to On the Issues[51] and NARAL,[52] Stevens had a mildly anti-abortion voting record, despite some notable pro-abortion votes.[53]\\n\\nHowever, as a former member of the moderate Republican Main Street Partnership, Stevens supported human embryonic stem cell research.[54]\\n\\nStevens, once an avowed critic of anthropogenic climate change, began actively supporting legislation to combat climate change in early 2007. \"Global climate change is a very serious problem for us, becoming more so every day,\" he said at a Senate hearing, adding that he was \"concerned about the human impacts on our climate\".[55] However, in September 2007, Stevens said:\\n\\nStevens voted in favor of the bill establishing Martin Luther King Jr. Day as a federal holiday and the Civil Rights Restoration Act of 1987 (as well as to override President Reagan\\'s veto).[57][58][59] Stevens voted in favor of the nominations of Robert Bork and Clarence Thomas to the U.S. Supreme Court.\\n\\nAs a Senator, Stevens was subject to criticism several times:\\n '"
            ]
          },
          "metadata": {},
          "execution_count": 14
        }
      ]
    },
    {
      "cell_type": "code",
      "metadata": {
        "colab": {
          "base_uri": "https://localhost:8080/"
        },
        "id": "PTmiDkGguiO5",
        "outputId": "2859b69f-76b1-4e4b-ee37-39292778c77c"
      },
      "source": [
        "from tqdm import tqdm\n",
        "#stop_words = set(stopwords.words('english'))\n",
        "preprocessed_text = []\n",
        "# tqdm is for printing the status bar\n",
        "r_count=0\n",
        "d_count=0\n",
        "trump_count=0\n",
        "obama_count=0\n",
        "bill_count=0\n",
        "\n",
        "####### \n",
        "\n",
        "text=background_text   ###background_text,political_text,others_text\n",
        "\n",
        "\n",
        "######\n",
        "\n",
        "for sent in tqdm(text):\n",
        "    sent = sent.replace('\\\\r', ' ')\n",
        "    sent = sent.replace('\\\\\"', ' ')\n",
        "    sent = sent.replace('\\\\n', ' ')\n",
        "    sent = sent.replace('\\n\\n', ' ')\n",
        "    sent = re.sub('[^A-Za-z0-9]+', ' ', sent)\n",
        "    sent = re.sub(r'\\d+', '', sent)\n",
        "    sent = sent.replace('  ', ' ')\n",
        "    if 'republic' in sent.lower():\n",
        "      # print(sent)\n",
        "      sent=sent.replace('republican',' ')\n",
        "      sent=sent.replace('republic',' ')\n",
        "      sent=sent.replace('Republic',' ')\n",
        "      sent=sent.replace('Republican',' ')\n",
        "      r_count+=1\n",
        "      # print(sent)\n",
        "      \n",
        "    if 'democrat' in sent.lower():\n",
        "      d_count+=1\n",
        "      sent=sent.replace('democrat',' ')\n",
        "      sent=sent.replace('Democrat',' ')\n",
        "      sent=sent.replace('Democratic',' ')\n",
        "      sent=sent.replace('democratic',' ')\n",
        "\n",
        "    if 'trump' or 'donald' in sent.lower():\n",
        "      trump_count+=1\n",
        "      sent=sent.replace('Trump',' ')\n",
        "      sent=sent.replace('trump',' ')\n",
        "      sent=sent.replace('Donald Trump',' ')\n",
        "      sent=sent.replace('donald trump',' ')\n",
        "      sent=sent.replace('Donald',' ')\n",
        "      sent=sent.replace('donald',' ')\n",
        "\n",
        "    if 'obama' in sent.lower():\n",
        "      obama_count+=1\n",
        "      sent=sent.replace('Obama',' ')\n",
        "      sent=sent.replace('obama',' ')\n",
        "      sent=sent.replace('Barack Obama',' ')\n",
        "      sent=sent.replace('barack obama',' ')\n",
        "      sent=sent.replace('Barack',' ')\n",
        "      sent=sent.replace('barack',' ')\n",
        "\n",
        "    if 'clinton' in sent.lower():\n",
        "      bill_count+=1\n",
        "      sent=sent.replace('Clinton',' ')\n",
        "      sent=sent.replace('clinton',' ')\n",
        "      sent=sent.replace('bill clinton',' ')\n",
        "      sent=sent.replace('Bill Clinton',' ')\n",
        "      sent=sent.replace('William Clinton',' ')\n",
        "      sent=sent.replace('william clinton',' ')\n",
        "      sent=sent.replace('William',' ')\n",
        "      sent=sent.replace('william',' ')\n",
        "\n",
        "\n",
        "    preprocessed_text.append(sent.lower().strip())\n",
        "\n",
        "#print(preprocessed_answers)\n",
        "print(r_count)\n",
        "print(d_count)   \n",
        "print(trump_count)\n",
        "print(obama_count) \n",
        "print(bill_count)"
      ],
      "execution_count": null,
      "outputs": [
        {
          "output_type": "stream",
          "name": "stderr",
          "text": [
            "100%|██████████| 1509/1509 [00:00<00:00, 3601.54it/s]"
          ]
        },
        {
          "output_type": "stream",
          "name": "stdout",
          "text": [
            "279\n",
            "265\n",
            "1509\n",
            "39\n",
            "65\n"
          ]
        },
        {
          "output_type": "stream",
          "name": "stderr",
          "text": [
            "\n"
          ]
        }
      ]
    },
    {
      "cell_type": "code",
      "metadata": {
        "colab": {
          "base_uri": "https://localhost:8080/"
        },
        "id": "Dl6MbKaFOLgs",
        "outputId": "574d8012-b64e-4edf-9d14-2a1b727af3fc"
      },
      "source": [
        "# r_count=0\n",
        "# d_count=0\n",
        "# trump_count=0\n",
        "# obama_count=0\n",
        "# bill_count=0\n",
        "# for sent in tqdm(preprocessed_text):\n",
        "#     if 'republic' in sent.lower():\n",
        "#       r_count+=1\n",
        "#       # sent=sent.replace('republic',' ')\n",
        "      \n",
        "#     if 'democrat' in sent.lower():\n",
        "#       d_count+=1\n",
        "#       # sent=sent.replace('democrat','')\n",
        "      \n",
        "#     if 'donald' in sent.lower():\n",
        "#       trump_count+=1\n",
        "#       # sent=sent.replace('trump','')\n",
        "\n",
        "#     if 'barack'  in sent.lower():\n",
        "#       obama_count+=1\n",
        "#       # sent=sent.replace('obama','')\n",
        "\n",
        "#     if 'clinton' in sent.lower():\n",
        "#       bill_count+=1\n",
        "\n",
        "\n",
        "# print(r_count)\n",
        "# print(d_count)   \n",
        "# print(trump_count)\n",
        "# print(obama_count) \n",
        "# print(bill_count)"
      ],
      "execution_count": null,
      "outputs": [
        {
          "output_type": "stream",
          "name": "stderr",
          "text": [
            "100%|██████████| 1509/1509 [00:00<00:00, 47250.85it/s]"
          ]
        },
        {
          "output_type": "stream",
          "name": "stdout",
          "text": [
            "0\n",
            "0\n",
            "0\n",
            "0\n",
            "0\n"
          ]
        },
        {
          "output_type": "stream",
          "name": "stderr",
          "text": [
            "\n"
          ]
        }
      ]
    },
    {
      "cell_type": "code",
      "metadata": {
        "colab": {
          "base_uri": "https://localhost:8080/",
          "height": 122
        },
        "id": "U2W8pG7yulHM",
        "outputId": "2253e3a5-0a5a-41de-f42d-85c07a3c9cd0"
      },
      "source": [
        "preprocessed_text[5]"
      ],
      "execution_count": null,
      "outputs": [
        {
          "output_type": "execute_result",
          "data": {
            "application/vnd.google.colaboratory.intrinsic+json": {
              "type": "string"
            },
            "text/plain": [
              "'pryor was born in camden the seat of ouachita county in southern arkansas to william edgar pryor and the former susan pryor n e newton both had deep roots in arkansas the marriage united two of the pioneer families of arkansas william pryor moved to camden from holly springs in and started selling cars by he had bought the partners out of the business and become sole owner of edgar pryor inc a well known chevrolet dealership in the area the family was also involved in the civic religious and political life of camden with w e serving as ouachita county sheriff from to  david was a third generation ouachita county resident he attended public schools in camden attended henderson state teacher s college in arkadelphia and graduated from the university of arkansas in fayetteville in pryor was founder and publisher of the ouachita citizen from to he graduated from law school at the university of arkansas in and was admitted to the bar that same year in pryor married barbara jean lunsford who at the time was a year old freshman at the university of arkansas unable to tolerate the stresses of public life she briefly lived away from her family from to while her husband was governor during that time she took various university courses and had trouble finding a job and she eventually moved back into the governor s mansion after completing her rest on july  arkansas governor asa hutchinson announced at a press briefing about the covid pandemic in the state that pryor and his wife barbara tested positive for the disease with pryor hospitalized at uams in little rock and his wife under home quarantine pryor was born in camden the seat of ouachita county in southern arkansas to william edgar pryor and the former susan pryor n e newton both had deep roots in arkansas the marriage united two of the pioneer families of arkansas william pryor moved to camden from holly springs in and started selling cars by he had bought the partners out of the business and become sole owner of edgar pryor inc a well known chevrolet dealership in the area the family was also involved in the civic religious and political life of camden with w e serving as ouachita county sheriff from to  david was a third generation ouachita county resident he attended public schools in camden attended henderson state teacher s college in arkadelphia and graduated from the university of arkansas in fayetteville in pryor was founder and publisher of the ouachita citizen from to he graduated from law school at the university of arkansas in and was admitted to the bar that same year in pryor married barbara jean lunsford who at the time was a year old freshman at the university of arkansas unable to tolerate the stresses of public life she briefly lived away from her family from to while her husband was governor during that time she took various university courses and had trouble finding a job and she eventually moved back into the governor s mansion after completing her rest on july  arkansas governor asa hutchinson announced at a press briefing about the covid pandemic in the state that pryor and his wife barbara tested positive for the disease with pryor hospitalized at uams in little rock and his wife under home quarantine'"
            ]
          },
          "metadata": {},
          "execution_count": 44
        }
      ]
    },
    {
      "cell_type": "code",
      "metadata": {
        "colab": {
          "base_uri": "https://localhost:8080/"
        },
        "id": "XHb8zS8-oOeC",
        "outputId": "0fd04d57-4a96-42a9-c43c-90eaf8502632"
      },
      "source": [
        "other_length=[]\n",
        "political_length=[]\n",
        "background_length=[]\n",
        "\n",
        "other_greater_than_4096 = 0\n",
        "background_greater_than_4096 = 0\n",
        "political_greater_than_4096 = 0\n",
        "max_length=0\n",
        "for i in range(len(preprocessed_text)):\n",
        "  # # if(len(preprocessed_text[i]['Others'])>4096):\n",
        "  # #   other_greater_than_4096+=1\n",
        "  # #   other_length.append(i)\n",
        "\n",
        "  # if(len(preprocessed_text[i]['Background'])>4096):\n",
        "  #   background_greater_than_4096+=1\n",
        "  #   background_length.append(i)\n",
        "\n",
        "  if(len(preprocessed_text[i])>4096):\n",
        "    if len(preprocessed_text[i])>max_length:\n",
        "      max_length=len(preprocessed_text[i])\n",
        "    political_greater_than_4096+=1\n",
        "    political_length.append(i)\n",
        "\n",
        "print(other_greater_than_4096)\n",
        "print(background_greater_than_4096)\n",
        "print(political_greater_than_4096)"
      ],
      "execution_count": null,
      "outputs": [
        {
          "output_type": "stream",
          "name": "stdout",
          "text": [
            "0\n",
            "0\n",
            "281\n"
          ]
        }
      ]
    },
    {
      "cell_type": "code",
      "metadata": {
        "colab": {
          "base_uri": "https://localhost:8080/",
          "height": 122
        },
        "id": "f_Q7J73mpqmJ",
        "outputId": "76577173-555f-4434-d87c-d0cb8f3e7844"
      },
      "source": [
        "preprocessed_text[0]"
      ],
      "execution_count": null,
      "outputs": [
        {
          "output_type": "execute_result",
          "data": {
            "application/vnd.google.colaboratory.intrinsic+json": {
              "type": "string"
            },
            "text/plain": [
              "'heflin was born on june  in poulan georgia he attended public school in alabama graduating from colbert county high school in leighton he earned his bachelor of arts degree in from birmingham southern college in birmingham there was a tradition of politics in his family he was a nephew of james thomas heflin a prominent white supremacist politician and u s senator and great nephew of robert stell heflin a u s representative during world war ii from to heflin served as an officer in the united states marine corps he was awarded the silver star for valor in combat and received two purple heart medals having seen action on bougainville and guam after world war ii heflin attended the university of alabama school of law from which he graduated in for nearly two decades he served as a law professor while concurrently practicing law in tuscumbia alabama the university of alabama school of law has honored heflin with the howell heflin conference room in the bounds law library tuscumbia named a street howell heflin lane in his honor the howell heflin lock and dam in alabama is named in his honor the howell t heflin seminar room in the birmingham southern college library is also named in his honor the new york times characterized him as the conscience of the senate heflin was born on june  in poulan georgia he attended public school in alabama graduating from colbert county high school in leighton he earned his bachelor of arts degree in from birmingham southern college in birmingham there was a tradition of politics in his family he was a nephew of james thomas heflin a prominent white supremacist politician and u s senator and great nephew of robert stell heflin a u s representative during world war ii from to heflin served as an officer in the united states marine corps he was awarded the silver star for valor in combat and received two purple heart medals having seen action on bougainville and guam after world war ii heflin attended the university of alabama school of law from which he graduated in for nearly two decades he served as a law professor while concurrently practicing law in tuscumbia alabama the university of alabama school of law has honored heflin with the howell heflin conference room in the bounds law library tuscumbia named a street howell heflin lane in his honor the howell heflin lock and dam in alabama is named in his honor the howell t heflin seminar room in the birmingham southern college library is also named in his honor the new york times characterized him as the conscience of the senate'"
            ]
          },
          "metadata": {},
          "execution_count": 46
        }
      ]
    },
    {
      "cell_type": "code",
      "metadata": {
        "colab": {
          "base_uri": "https://localhost:8080/"
        },
        "id": "jNCjIIBUpeoA",
        "outputId": "010f5b20-ec10-4c54-ba36-060345c40870"
      },
      "source": [
        "print(max_length)"
      ],
      "execution_count": null,
      "outputs": [
        {
          "output_type": "stream",
          "name": "stdout",
          "text": [
            "50549\n"
          ]
        }
      ]
    },
    {
      "cell_type": "code",
      "metadata": {
        "id": "miSRpH2eun0m"
      },
      "source": [
        "# from sentence_transformers import SentenceTransformer\n",
        "# model = SentenceTransformer('sentence-transformers/paraphrase-distilroberta-base-v2')"
      ],
      "execution_count": null,
      "outputs": []
    },
    {
      "cell_type": "code",
      "metadata": {
        "id": "krxvDIQSuqc2"
      },
      "source": [
        "# model.max_seq_length = 256"
      ],
      "execution_count": null,
      "outputs": []
    },
    {
      "cell_type": "code",
      "metadata": {
        "colab": {
          "base_uri": "https://localhost:8080/"
        },
        "id": "gqL-ZmnAutCG",
        "outputId": "2df1b204-717e-4227-b216-0d3e1962d48e"
      },
      "source": [
        "# !pip install transformers"
      ],
      "execution_count": null,
      "outputs": [
        {
          "output_type": "stream",
          "name": "stdout",
          "text": [
            "Collecting transformers\n",
            "  Downloading transformers-4.12.5-py3-none-any.whl (3.1 MB)\n",
            "\u001b[K     |████████████████████████████████| 3.1 MB 10.0 MB/s \n",
            "\u001b[?25hRequirement already satisfied: requests in /usr/local/lib/python3.7/dist-packages (from transformers) (2.23.0)\n",
            "Collecting sacremoses\n",
            "  Downloading sacremoses-0.0.46-py3-none-any.whl (895 kB)\n",
            "\u001b[K     |████████████████████████████████| 895 kB 87.7 MB/s \n",
            "\u001b[?25hRequirement already satisfied: numpy>=1.17 in /usr/local/lib/python3.7/dist-packages (from transformers) (1.19.5)\n",
            "Requirement already satisfied: tqdm>=4.27 in /usr/local/lib/python3.7/dist-packages (from transformers) (4.62.3)\n",
            "Collecting tokenizers<0.11,>=0.10.1\n",
            "  Downloading tokenizers-0.10.3-cp37-cp37m-manylinux_2_5_x86_64.manylinux1_x86_64.manylinux_2_12_x86_64.manylinux2010_x86_64.whl (3.3 MB)\n",
            "\u001b[K     |████████████████████████████████| 3.3 MB 54.7 MB/s \n",
            "\u001b[?25hCollecting pyyaml>=5.1\n",
            "  Downloading PyYAML-6.0-cp37-cp37m-manylinux_2_5_x86_64.manylinux1_x86_64.manylinux_2_12_x86_64.manylinux2010_x86_64.whl (596 kB)\n",
            "\u001b[K     |████████████████████████████████| 596 kB 63.4 MB/s \n",
            "\u001b[?25hRequirement already satisfied: packaging>=20.0 in /usr/local/lib/python3.7/dist-packages (from transformers) (21.3)\n",
            "Requirement already satisfied: importlib-metadata in /usr/local/lib/python3.7/dist-packages (from transformers) (4.8.2)\n",
            "Requirement already satisfied: regex!=2019.12.17 in /usr/local/lib/python3.7/dist-packages (from transformers) (2019.12.20)\n",
            "Requirement already satisfied: filelock in /usr/local/lib/python3.7/dist-packages (from transformers) (3.4.0)\n",
            "Collecting huggingface-hub<1.0,>=0.1.0\n",
            "  Downloading huggingface_hub-0.1.2-py3-none-any.whl (59 kB)\n",
            "\u001b[K     |████████████████████████████████| 59 kB 8.3 MB/s \n",
            "\u001b[?25hRequirement already satisfied: typing-extensions>=3.7.4.3 in /usr/local/lib/python3.7/dist-packages (from huggingface-hub<1.0,>=0.1.0->transformers) (3.10.0.2)\n",
            "Requirement already satisfied: pyparsing!=3.0.5,>=2.0.2 in /usr/local/lib/python3.7/dist-packages (from packaging>=20.0->transformers) (3.0.6)\n",
            "Requirement already satisfied: zipp>=0.5 in /usr/local/lib/python3.7/dist-packages (from importlib-metadata->transformers) (3.6.0)\n",
            "Requirement already satisfied: certifi>=2017.4.17 in /usr/local/lib/python3.7/dist-packages (from requests->transformers) (2021.10.8)\n",
            "Requirement already satisfied: chardet<4,>=3.0.2 in /usr/local/lib/python3.7/dist-packages (from requests->transformers) (3.0.4)\n",
            "Requirement already satisfied: urllib3!=1.25.0,!=1.25.1,<1.26,>=1.21.1 in /usr/local/lib/python3.7/dist-packages (from requests->transformers) (1.24.3)\n",
            "Requirement already satisfied: idna<3,>=2.5 in /usr/local/lib/python3.7/dist-packages (from requests->transformers) (2.10)\n",
            "Requirement already satisfied: click in /usr/local/lib/python3.7/dist-packages (from sacremoses->transformers) (7.1.2)\n",
            "Requirement already satisfied: six in /usr/local/lib/python3.7/dist-packages (from sacremoses->transformers) (1.15.0)\n",
            "Requirement already satisfied: joblib in /usr/local/lib/python3.7/dist-packages (from sacremoses->transformers) (1.1.0)\n",
            "Installing collected packages: pyyaml, tokenizers, sacremoses, huggingface-hub, transformers\n",
            "  Attempting uninstall: pyyaml\n",
            "    Found existing installation: PyYAML 3.13\n",
            "    Uninstalling PyYAML-3.13:\n",
            "      Successfully uninstalled PyYAML-3.13\n",
            "Successfully installed huggingface-hub-0.1.2 pyyaml-6.0 sacremoses-0.0.46 tokenizers-0.10.3 transformers-4.12.5\n"
          ]
        }
      ]
    },
    {
      "cell_type": "code",
      "metadata": {
        "colab": {
          "base_uri": "https://localhost:8080/",
          "height": 249,
          "referenced_widgets": [
            "d93ec20b98e849eabb8813604e171cd8",
            "6702f9300d8e47f5a59390761056b372",
            "eec81ae995654da39f3accc5d6c705ac",
            "77cb9f4eefee4f66916b7de1b9fc4d3c",
            "16185d7955c846a29301295c5d5b676e",
            "7a03237dc8e341dbb3b341f8ba424d9f",
            "8487ae543c1e4500be0fd9456c0a7148",
            "0cd61ff88ff247bf8a2830562853f1e4",
            "2ce05d901e2c40df90a9f45355b416fa",
            "6f34817367f74c5d8b95c4c358dc34a8",
            "22ff80e835da47d1ab5b02d5b3a414ed",
            "2dffcb7596fd487993fe50b4767b5b4b",
            "f5415c20b4e54148afaf7ab8b797e2ab",
            "aab5e6f765194f25b8921f74e8252475",
            "0747c42609684643b3dd935d765f17af",
            "63f7e1f6f37642bc9167e993c6a67464",
            "718914c2b1794508a43cff695c1683ad",
            "1c6da7e57bf642b49d3e376cf00b426c",
            "e72b3620b7924ca0a5cc609c1f047427",
            "0edd3aaf7bf4425a8484f30236d72344",
            "f33bf94148404a409803d9084f415d63",
            "fe14d17b0b56421aa371394bdbeb8a52",
            "7fb55e7868c44d379e59e449bd62ffc4",
            "ccaca1c692bd48359dbaa707e2589ae1",
            "c2c66d6c74c840ca93961a1ddfc1206c",
            "44ee93b15e4d45cc9bd725604dcad8e6",
            "3954ba27ef24441f837a16765a4afa4c",
            "5f9f8f1e31d44b62bff8cbfe8152d220",
            "6308fda9d26e453993a577fdb65debaa",
            "3486fb8393b84b04b8ab790e35028914",
            "c4d6127045b5400891d7e9f600450abf",
            "11e82a6141c547c68762a20732a44060",
            "92e16d022d8c4181bebfa14b57538922",
            "152d6363ac734e78bef175a87786b7d1",
            "2bf1f7e38c154aa78f1a7c375a5cc8de",
            "4dc21137fe5b46e6a1546bac1d4159ce",
            "a17e789adfa04df2affd5f8324a04643",
            "e94ef65c991840d3afd5c67950721b08",
            "95f021a1745c428fae3619418e4f9539",
            "e580da4940f5448f93604b24a5635e13",
            "10dcbc55e4fe405caf2e28bf472707ac",
            "8fc5d96c1b7548b489f247aaaa89d33f",
            "9825437e4719466ab63a622fccb97a2f",
            "9a145ce8dbd04eb292a451b98ed17df6",
            "db6c33f4bb724f42b5a9c21f332cad6b",
            "e6e67b66716b41e2ba184482b423568d",
            "1ae78b6c6fbf4139b67ed7232729493b",
            "adf026c5e5d44b5da1d2546ed6b74669",
            "0e162bed2f1b4817b2773c1a05f8fe22",
            "640be7095b224030a00dd437d6c6e794",
            "6876664fb23446019fc0957bff7def0b",
            "ff17ce30df904953bc01e7f5c3acf31f",
            "1740329377374f6e9904bcfcc8489aa6",
            "f65886595be943f1a701605bca713467",
            "171c9bb1e4c047219179b31e08ff8a2e"
          ]
        },
        "id": "3y_Syh_IuvCo",
        "outputId": "e10f3ddf-9b15-4a95-da75-734b40eb74d8"
      },
      "source": [
        "from transformers import AutoTokenizer, AutoModel\n",
        "  \n",
        "tokenizer = AutoTokenizer.from_pretrained(\"allenai/longformer-base-4096\")\n",
        "\n",
        "model = AutoModel.from_pretrained(\"allenai/longformer-base-4096\")"
      ],
      "execution_count": null,
      "outputs": [
        {
          "output_type": "display_data",
          "data": {
            "application/vnd.jupyter.widget-view+json": {
              "model_id": "d93ec20b98e849eabb8813604e171cd8",
              "version_minor": 0,
              "version_major": 2
            },
            "text/plain": [
              "Downloading:   0%|          | 0.00/694 [00:00<?, ?B/s]"
            ]
          },
          "metadata": {}
        },
        {
          "output_type": "display_data",
          "data": {
            "application/vnd.jupyter.widget-view+json": {
              "model_id": "2dffcb7596fd487993fe50b4767b5b4b",
              "version_minor": 0,
              "version_major": 2
            },
            "text/plain": [
              "Downloading:   0%|          | 0.00/878k [00:00<?, ?B/s]"
            ]
          },
          "metadata": {}
        },
        {
          "output_type": "display_data",
          "data": {
            "application/vnd.jupyter.widget-view+json": {
              "model_id": "7fb55e7868c44d379e59e449bd62ffc4",
              "version_minor": 0,
              "version_major": 2
            },
            "text/plain": [
              "Downloading:   0%|          | 0.00/446k [00:00<?, ?B/s]"
            ]
          },
          "metadata": {}
        },
        {
          "output_type": "display_data",
          "data": {
            "application/vnd.jupyter.widget-view+json": {
              "model_id": "152d6363ac734e78bef175a87786b7d1",
              "version_minor": 0,
              "version_major": 2
            },
            "text/plain": [
              "Downloading:   0%|          | 0.00/1.29M [00:00<?, ?B/s]"
            ]
          },
          "metadata": {}
        },
        {
          "output_type": "display_data",
          "data": {
            "application/vnd.jupyter.widget-view+json": {
              "model_id": "db6c33f4bb724f42b5a9c21f332cad6b",
              "version_minor": 0,
              "version_major": 2
            },
            "text/plain": [
              "Downloading:   0%|          | 0.00/570M [00:00<?, ?B/s]"
            ]
          },
          "metadata": {}
        },
        {
          "output_type": "stream",
          "name": "stderr",
          "text": [
            "Some weights of the model checkpoint at allenai/longformer-base-4096 were not used when initializing LongformerModel: ['lm_head.layer_norm.bias', 'lm_head.dense.bias', 'lm_head.dense.weight', 'lm_head.bias', 'lm_head.layer_norm.weight', 'lm_head.decoder.weight']\n",
            "- This IS expected if you are initializing LongformerModel from the checkpoint of a model trained on another task or with another architecture (e.g. initializing a BertForSequenceClassification model from a BertForPreTraining model).\n",
            "- This IS NOT expected if you are initializing LongformerModel from the checkpoint of a model that you expect to be exactly identical (initializing a BertForSequenceClassification model from a BertForSequenceClassification model).\n"
          ]
        }
      ]
    },
    {
      "cell_type": "code",
      "metadata": {
        "id": "q28vv25auxZF"
      },
      "source": [
        "def mean_pooling(model_output, attention_mask):\n",
        "    token_embeddings = model_output[0]\n",
        "    input_mask_expanded = attention_mask.unsqueeze(-1).expand(token_embeddings.size()).float()\n",
        "    sum_embeddings = torch.sum(token_embeddings * input_mask_expanded, 1)\n",
        "    sum_mask = torch.clamp(input_mask_expanded.sum(1), min=1e-9)\n",
        "    return sum_embeddings / sum_mask"
      ],
      "execution_count": null,
      "outputs": []
    },
    {
      "cell_type": "code",
      "metadata": {
        "id": "_SEvEoR9xWBI"
      },
      "source": [
        "cuda = torch.cuda.is_available()\n",
        "device = torch.device(\"cuda\" if cuda else \"cpu\")\n",
        "model = model.to(device)"
      ],
      "execution_count": null,
      "outputs": []
    },
    {
      "cell_type": "code",
      "metadata": {
        "id": "QEIA0jtrvDUM"
      },
      "source": [
        "longformer_embeddings = []\n",
        "for i,t in enumerate(preprocessed_text):  \n",
        "  encoded_input = tokenizer(t, padding=True, truncation=True, max_length=4096, return_tensors='pt')\n",
        "\n",
        "  with torch.no_grad():\n",
        "      encoded_input=encoded_input.to(device)\n",
        "      model_output = model(**encoded_input)\n",
        "\n",
        "  # mean pooling\n",
        "  sentence_embeddings = mean_pooling(model_output, encoded_input['attention_mask'])\n",
        "  longformer_embeddings.append(sentence_embeddings)  "
      ],
      "execution_count": null,
      "outputs": []
    },
    {
      "cell_type": "code",
      "metadata": {
        "id": "QFj3V6Pq3DJD"
      },
      "source": [
        "# ######### New for increased token lengths\n",
        "# longformer_embeddings = []\n",
        "# for i,t in enumerate(preprocessed_text):  \n",
        "#   if(len(t)<=4096):\n",
        "#     encoded_input = tokenizer(t, padding=True, truncation=True, max_length=4096, return_tensors='pt')\n",
        "\n",
        "#     with torch.no_grad():\n",
        "#         encoded_input=encoded_input.to(device)\n",
        "#         model_output = model(**encoded_input)\n",
        "\n",
        "#     # mean pooling\n",
        "#     sentence_embeddings = mean_pooling(model_output, encoded_input['attention_mask'])\n",
        "#     x = sentence_embeddings\n",
        "#     new_sentence_embeddings = torch.cat((x,x,x,x,x),axis=1)\n",
        "#     longformer_embeddings.append(new_sentence_embeddings)\n",
        "#   else:\n",
        "#     nums = len(t)/4096\n",
        "#     for k in nums:\n",
        "#         encoded_input = tokenizer(t, padding=True, truncation=True, max_length=128, return_tensors='pt')\n",
        "\n",
        "#         with torch.no_grad():\n",
        "#             encoded_input=encoded_input.to(device)\n",
        "#             model_output = model(**encoded_input)\n",
        "\n",
        "#         # mean pooling\n",
        "#         sentence_embeddings = mean_pooling(model_output, encoded_input['attention_mask'])\n",
        "#         x = sentence_embeddings\n",
        "#         new_sentence_embeddings = torch.cat((x,x,x,x,x),axis=1)\n",
        "#         longformer_embeddings.append(new_sentence_embeddings)"
      ],
      "execution_count": null,
      "outputs": []
    },
    {
      "cell_type": "code",
      "metadata": {
        "id": "GRiRJ0KEvUR9"
      },
      "source": [
        "longformer_embeddings_numpy = []\n",
        "for embedding in longformer_embeddings:\n",
        "  longformer_embeddings_numpy.append(embedding.cpu().detach().numpy())"
      ],
      "execution_count": null,
      "outputs": []
    },
    {
      "cell_type": "code",
      "metadata": {
        "id": "qeWOKcKpvyC0"
      },
      "source": [
        "longformer_embeddings_numpy = np.array(longformer_embeddings_numpy)\n",
        "# np.save(\"/content/drive/MyDrive/longformer_embeddings_18_nov.npy\", longformer_embeddings_numpy)"
      ],
      "execution_count": null,
      "outputs": []
    },
    {
      "cell_type": "code",
      "metadata": {
        "id": "980B04RFv2B1"
      },
      "source": [
        "for i in range(len(longformer_embeddings_numpy)):\n",
        "  longformer_embeddings_numpy[i] = longformer_embeddings_numpy[i].reshape((768,))"
      ],
      "execution_count": null,
      "outputs": []
    },
    {
      "cell_type": "code",
      "metadata": {
        "id": "mXWeIy_Yv4Fa"
      },
      "source": [
        "longformer_embeddings_numpy = longformer_embeddings_numpy.reshape((1509,768))"
      ],
      "execution_count": null,
      "outputs": []
    },
    {
      "cell_type": "code",
      "metadata": {
        "id": "RLugg-sWv58A"
      },
      "source": [
        "from sklearn.pipeline import make_pipeline\n",
        "from sklearn.preprocessing import StandardScaler\n",
        "from sklearn.svm import SVC\n",
        "clf = make_pipeline(StandardScaler(), SVC(gamma='auto'))\n",
        "# clf.fit(longformer_embeddings_numpy[:1300], new_y[:1300])"
      ],
      "execution_count": null,
      "outputs": []
    },
    {
      "cell_type": "code",
      "metadata": {
        "id": "Psw3cgcHv78G"
      },
      "source": [
        "# clf.score(longformer_embeddings_numpy[1300:],new_y[1300:])"
      ],
      "execution_count": null,
      "outputs": []
    },
    {
      "cell_type": "code",
      "metadata": {
        "id": "yY6rfsD3tYtk"
      },
      "source": [
        "# clf.score(longformer_embeddings_numpy[:1300],new_y[:1300])"
      ],
      "execution_count": null,
      "outputs": []
    },
    {
      "cell_type": "code",
      "metadata": {
        "id": "13YKTNyUw066"
      },
      "source": [
        "from sklearn.utils import shuffle\n",
        "X_new, Y_new = shuffle(longformer_embeddings_numpy, new_y)"
      ],
      "execution_count": null,
      "outputs": []
    },
    {
      "cell_type": "code",
      "metadata": {
        "id": "D0i0QlAfyDUD"
      },
      "source": [
        "X_train = X_new[:1000]\n",
        "X_test = X_new[1000:]\n",
        "Y_train = Y_new[:1000]\n",
        "Y_test = Y_new[1000:]"
      ],
      "execution_count": null,
      "outputs": []
    },
    {
      "cell_type": "code",
      "metadata": {
        "id": "IFWBOeDHZCdw"
      },
      "source": [
        "X_train = X_new[:1300]\n",
        "X_test = X_new[1300:]\n",
        "Y_train = Y_new[:1300]\n",
        "Y_test = Y_new[1300:]"
      ],
      "execution_count": null,
      "outputs": []
    },
    {
      "cell_type": "code",
      "metadata": {
        "colab": {
          "base_uri": "https://localhost:8080/"
        },
        "id": "Zs_3C7LUyl4A",
        "outputId": "282bf34e-2cb5-4984-e4c3-bb5779fda7b0"
      },
      "source": [
        "clf.fit(X_train, Y_train)"
      ],
      "execution_count": null,
      "outputs": [
        {
          "output_type": "execute_result",
          "data": {
            "text/plain": [
              "Pipeline(steps=[('standardscaler', StandardScaler()),\n",
              "                ('svc', SVC(gamma='auto'))])"
            ]
          },
          "metadata": {},
          "execution_count": 63
        }
      ]
    },
    {
      "cell_type": "code",
      "metadata": {
        "colab": {
          "base_uri": "https://localhost:8080/"
        },
        "id": "SCnOrbiXyqlu",
        "outputId": "bc88b6f2-c3f8-4b40-b2c5-a84cea8c448b"
      },
      "source": [
        "clf.score(X_test,Y_test)"
      ],
      "execution_count": null,
      "outputs": [
        {
          "output_type": "execute_result",
          "data": {
            "text/plain": [
              "0.7170923379174853"
            ]
          },
          "metadata": {},
          "execution_count": 64
        }
      ]
    },
    {
      "cell_type": "code",
      "metadata": {
        "id": "BAWyowrVyvV4"
      },
      "source": [
        ""
      ],
      "execution_count": null,
      "outputs": []
    }
  ]
}