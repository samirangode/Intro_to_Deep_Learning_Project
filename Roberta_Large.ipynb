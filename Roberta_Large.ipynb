{
  "nbformat": 4,
  "nbformat_minor": 0,
  "metadata": {
    "colab": {
      "name": "Copy of TRANSFORMERS IDL.ipynb",
      "provenance": [],
      "collapsed_sections": [],
      "machine_shape": "hm"
    },
    "kernelspec": {
      "name": "python3",
      "display_name": "Python 3"
    },
    "language_info": {
      "name": "python"
    },
    "accelerator": "GPU",
    "widgets": {
      "application/vnd.jupyter.widget-state+json": {
        "6fd75da8f1cc4e2e94bcbfae020cc52a": {
          "model_module": "@jupyter-widgets/controls",
          "model_name": "HBoxModel",
          "model_module_version": "1.5.0",
          "state": {
            "_view_name": "HBoxView",
            "_dom_classes": [],
            "_model_name": "HBoxModel",
            "_view_module": "@jupyter-widgets/controls",
            "_model_module_version": "1.5.0",
            "_view_count": null,
            "_view_module_version": "1.5.0",
            "box_style": "",
            "layout": "IPY_MODEL_a634c3858c4c45b3b405ac876333ab77",
            "_model_module": "@jupyter-widgets/controls",
            "children": [
              "IPY_MODEL_dffbd2cf75bf41558d694d776de7aa98",
              "IPY_MODEL_d930405dd9aa45199143f753b300d676",
              "IPY_MODEL_7112e41051b4458b9df3488d427ff3e2"
            ]
          }
        },
        "a634c3858c4c45b3b405ac876333ab77": {
          "model_module": "@jupyter-widgets/base",
          "model_name": "LayoutModel",
          "model_module_version": "1.2.0",
          "state": {
            "_view_name": "LayoutView",
            "grid_template_rows": null,
            "right": null,
            "justify_content": null,
            "_view_module": "@jupyter-widgets/base",
            "overflow": null,
            "_model_module_version": "1.2.0",
            "_view_count": null,
            "flex_flow": null,
            "width": null,
            "min_width": null,
            "border": null,
            "align_items": null,
            "bottom": null,
            "_model_module": "@jupyter-widgets/base",
            "top": null,
            "grid_column": null,
            "overflow_y": null,
            "overflow_x": null,
            "grid_auto_flow": null,
            "grid_area": null,
            "grid_template_columns": null,
            "flex": null,
            "_model_name": "LayoutModel",
            "justify_items": null,
            "grid_row": null,
            "max_height": null,
            "align_content": null,
            "visibility": null,
            "align_self": null,
            "height": null,
            "min_height": null,
            "padding": null,
            "grid_auto_rows": null,
            "grid_gap": null,
            "max_width": null,
            "order": null,
            "_view_module_version": "1.2.0",
            "grid_template_areas": null,
            "object_position": null,
            "object_fit": null,
            "grid_auto_columns": null,
            "margin": null,
            "display": null,
            "left": null
          }
        },
        "dffbd2cf75bf41558d694d776de7aa98": {
          "model_module": "@jupyter-widgets/controls",
          "model_name": "HTMLModel",
          "model_module_version": "1.5.0",
          "state": {
            "_view_name": "HTMLView",
            "style": "IPY_MODEL_712ac66d950541b99ddceb4f81cc51cb",
            "_dom_classes": [],
            "description": "",
            "_model_name": "HTMLModel",
            "placeholder": "​",
            "_view_module": "@jupyter-widgets/controls",
            "_model_module_version": "1.5.0",
            "value": "Downloading: 100%",
            "_view_count": null,
            "_view_module_version": "1.5.0",
            "description_tooltip": null,
            "_model_module": "@jupyter-widgets/controls",
            "layout": "IPY_MODEL_22b42a0495a34735bac1640ed6746623"
          }
        },
        "d930405dd9aa45199143f753b300d676": {
          "model_module": "@jupyter-widgets/controls",
          "model_name": "FloatProgressModel",
          "model_module_version": "1.5.0",
          "state": {
            "_view_name": "ProgressView",
            "style": "IPY_MODEL_a27fe124bc484e92a7d22aa4d70f0272",
            "_dom_classes": [],
            "description": "",
            "_model_name": "FloatProgressModel",
            "bar_style": "success",
            "max": 737,
            "_view_module": "@jupyter-widgets/controls",
            "_model_module_version": "1.5.0",
            "value": 737,
            "_view_count": null,
            "_view_module_version": "1.5.0",
            "orientation": "horizontal",
            "min": 0,
            "description_tooltip": null,
            "_model_module": "@jupyter-widgets/controls",
            "layout": "IPY_MODEL_c2db5e6591d74356ab4a1709bf7cac5d"
          }
        },
        "7112e41051b4458b9df3488d427ff3e2": {
          "model_module": "@jupyter-widgets/controls",
          "model_name": "HTMLModel",
          "model_module_version": "1.5.0",
          "state": {
            "_view_name": "HTMLView",
            "style": "IPY_MODEL_7681cb14c35f4c1da5cce038196b94f3",
            "_dom_classes": [],
            "description": "",
            "_model_name": "HTMLModel",
            "placeholder": "​",
            "_view_module": "@jupyter-widgets/controls",
            "_model_module_version": "1.5.0",
            "value": " 737/737 [00:00&lt;00:00, 23.7kB/s]",
            "_view_count": null,
            "_view_module_version": "1.5.0",
            "description_tooltip": null,
            "_model_module": "@jupyter-widgets/controls",
            "layout": "IPY_MODEL_c8f685ceb19947849d683e36ac037bfe"
          }
        },
        "712ac66d950541b99ddceb4f81cc51cb": {
          "model_module": "@jupyter-widgets/controls",
          "model_name": "DescriptionStyleModel",
          "model_module_version": "1.5.0",
          "state": {
            "_view_name": "StyleView",
            "_model_name": "DescriptionStyleModel",
            "description_width": "",
            "_view_module": "@jupyter-widgets/base",
            "_model_module_version": "1.5.0",
            "_view_count": null,
            "_view_module_version": "1.2.0",
            "_model_module": "@jupyter-widgets/controls"
          }
        },
        "22b42a0495a34735bac1640ed6746623": {
          "model_module": "@jupyter-widgets/base",
          "model_name": "LayoutModel",
          "model_module_version": "1.2.0",
          "state": {
            "_view_name": "LayoutView",
            "grid_template_rows": null,
            "right": null,
            "justify_content": null,
            "_view_module": "@jupyter-widgets/base",
            "overflow": null,
            "_model_module_version": "1.2.0",
            "_view_count": null,
            "flex_flow": null,
            "width": null,
            "min_width": null,
            "border": null,
            "align_items": null,
            "bottom": null,
            "_model_module": "@jupyter-widgets/base",
            "top": null,
            "grid_column": null,
            "overflow_y": null,
            "overflow_x": null,
            "grid_auto_flow": null,
            "grid_area": null,
            "grid_template_columns": null,
            "flex": null,
            "_model_name": "LayoutModel",
            "justify_items": null,
            "grid_row": null,
            "max_height": null,
            "align_content": null,
            "visibility": null,
            "align_self": null,
            "height": null,
            "min_height": null,
            "padding": null,
            "grid_auto_rows": null,
            "grid_gap": null,
            "max_width": null,
            "order": null,
            "_view_module_version": "1.2.0",
            "grid_template_areas": null,
            "object_position": null,
            "object_fit": null,
            "grid_auto_columns": null,
            "margin": null,
            "display": null,
            "left": null
          }
        },
        "a27fe124bc484e92a7d22aa4d70f0272": {
          "model_module": "@jupyter-widgets/controls",
          "model_name": "ProgressStyleModel",
          "model_module_version": "1.5.0",
          "state": {
            "_view_name": "StyleView",
            "_model_name": "ProgressStyleModel",
            "description_width": "",
            "_view_module": "@jupyter-widgets/base",
            "_model_module_version": "1.5.0",
            "_view_count": null,
            "_view_module_version": "1.2.0",
            "bar_color": null,
            "_model_module": "@jupyter-widgets/controls"
          }
        },
        "c2db5e6591d74356ab4a1709bf7cac5d": {
          "model_module": "@jupyter-widgets/base",
          "model_name": "LayoutModel",
          "model_module_version": "1.2.0",
          "state": {
            "_view_name": "LayoutView",
            "grid_template_rows": null,
            "right": null,
            "justify_content": null,
            "_view_module": "@jupyter-widgets/base",
            "overflow": null,
            "_model_module_version": "1.2.0",
            "_view_count": null,
            "flex_flow": null,
            "width": null,
            "min_width": null,
            "border": null,
            "align_items": null,
            "bottom": null,
            "_model_module": "@jupyter-widgets/base",
            "top": null,
            "grid_column": null,
            "overflow_y": null,
            "overflow_x": null,
            "grid_auto_flow": null,
            "grid_area": null,
            "grid_template_columns": null,
            "flex": null,
            "_model_name": "LayoutModel",
            "justify_items": null,
            "grid_row": null,
            "max_height": null,
            "align_content": null,
            "visibility": null,
            "align_self": null,
            "height": null,
            "min_height": null,
            "padding": null,
            "grid_auto_rows": null,
            "grid_gap": null,
            "max_width": null,
            "order": null,
            "_view_module_version": "1.2.0",
            "grid_template_areas": null,
            "object_position": null,
            "object_fit": null,
            "grid_auto_columns": null,
            "margin": null,
            "display": null,
            "left": null
          }
        },
        "7681cb14c35f4c1da5cce038196b94f3": {
          "model_module": "@jupyter-widgets/controls",
          "model_name": "DescriptionStyleModel",
          "model_module_version": "1.5.0",
          "state": {
            "_view_name": "StyleView",
            "_model_name": "DescriptionStyleModel",
            "description_width": "",
            "_view_module": "@jupyter-widgets/base",
            "_model_module_version": "1.5.0",
            "_view_count": null,
            "_view_module_version": "1.2.0",
            "_model_module": "@jupyter-widgets/controls"
          }
        },
        "c8f685ceb19947849d683e36ac037bfe": {
          "model_module": "@jupyter-widgets/base",
          "model_name": "LayoutModel",
          "model_module_version": "1.2.0",
          "state": {
            "_view_name": "LayoutView",
            "grid_template_rows": null,
            "right": null,
            "justify_content": null,
            "_view_module": "@jupyter-widgets/base",
            "overflow": null,
            "_model_module_version": "1.2.0",
            "_view_count": null,
            "flex_flow": null,
            "width": null,
            "min_width": null,
            "border": null,
            "align_items": null,
            "bottom": null,
            "_model_module": "@jupyter-widgets/base",
            "top": null,
            "grid_column": null,
            "overflow_y": null,
            "overflow_x": null,
            "grid_auto_flow": null,
            "grid_area": null,
            "grid_template_columns": null,
            "flex": null,
            "_model_name": "LayoutModel",
            "justify_items": null,
            "grid_row": null,
            "max_height": null,
            "align_content": null,
            "visibility": null,
            "align_self": null,
            "height": null,
            "min_height": null,
            "padding": null,
            "grid_auto_rows": null,
            "grid_gap": null,
            "max_width": null,
            "order": null,
            "_view_module_version": "1.2.0",
            "grid_template_areas": null,
            "object_position": null,
            "object_fit": null,
            "grid_auto_columns": null,
            "margin": null,
            "display": null,
            "left": null
          }
        },
        "39ed2f3a817247509c6ccb5db1ebbbd3": {
          "model_module": "@jupyter-widgets/controls",
          "model_name": "HBoxModel",
          "model_module_version": "1.5.0",
          "state": {
            "_view_name": "HBoxView",
            "_dom_classes": [],
            "_model_name": "HBoxModel",
            "_view_module": "@jupyter-widgets/controls",
            "_model_module_version": "1.5.0",
            "_view_count": null,
            "_view_module_version": "1.5.0",
            "box_style": "",
            "layout": "IPY_MODEL_ab04ae262b464f91af0d33b423ce18c6",
            "_model_module": "@jupyter-widgets/controls",
            "children": [
              "IPY_MODEL_17ae000d36224ec4a3f043c83c1808cf",
              "IPY_MODEL_7bf3ea3f732041b8af6ad889c31a804f",
              "IPY_MODEL_3edb50d737d2414a9a6b5d1b151ef016"
            ]
          }
        },
        "ab04ae262b464f91af0d33b423ce18c6": {
          "model_module": "@jupyter-widgets/base",
          "model_name": "LayoutModel",
          "model_module_version": "1.2.0",
          "state": {
            "_view_name": "LayoutView",
            "grid_template_rows": null,
            "right": null,
            "justify_content": null,
            "_view_module": "@jupyter-widgets/base",
            "overflow": null,
            "_model_module_version": "1.2.0",
            "_view_count": null,
            "flex_flow": null,
            "width": null,
            "min_width": null,
            "border": null,
            "align_items": null,
            "bottom": null,
            "_model_module": "@jupyter-widgets/base",
            "top": null,
            "grid_column": null,
            "overflow_y": null,
            "overflow_x": null,
            "grid_auto_flow": null,
            "grid_area": null,
            "grid_template_columns": null,
            "flex": null,
            "_model_name": "LayoutModel",
            "justify_items": null,
            "grid_row": null,
            "max_height": null,
            "align_content": null,
            "visibility": null,
            "align_self": null,
            "height": null,
            "min_height": null,
            "padding": null,
            "grid_auto_rows": null,
            "grid_gap": null,
            "max_width": null,
            "order": null,
            "_view_module_version": "1.2.0",
            "grid_template_areas": null,
            "object_position": null,
            "object_fit": null,
            "grid_auto_columns": null,
            "margin": null,
            "display": null,
            "left": null
          }
        },
        "17ae000d36224ec4a3f043c83c1808cf": {
          "model_module": "@jupyter-widgets/controls",
          "model_name": "HTMLModel",
          "model_module_version": "1.5.0",
          "state": {
            "_view_name": "HTMLView",
            "style": "IPY_MODEL_6b0778be9b76492a9d9adc366964c210",
            "_dom_classes": [],
            "description": "",
            "_model_name": "HTMLModel",
            "placeholder": "​",
            "_view_module": "@jupyter-widgets/controls",
            "_model_module_version": "1.5.0",
            "value": "Downloading: 100%",
            "_view_count": null,
            "_view_module_version": "1.5.0",
            "description_tooltip": null,
            "_model_module": "@jupyter-widgets/controls",
            "layout": "IPY_MODEL_0b4984be184142b8b006c7b86ec80d0a"
          }
        },
        "7bf3ea3f732041b8af6ad889c31a804f": {
          "model_module": "@jupyter-widgets/controls",
          "model_name": "FloatProgressModel",
          "model_module_version": "1.5.0",
          "state": {
            "_view_name": "ProgressView",
            "style": "IPY_MODEL_a455b968c2cf46ff995f7aa1c19da4af",
            "_dom_classes": [],
            "description": "",
            "_model_name": "FloatProgressModel",
            "bar_style": "success",
            "max": 9839,
            "_view_module": "@jupyter-widgets/controls",
            "_model_module_version": "1.5.0",
            "value": 9839,
            "_view_count": null,
            "_view_module_version": "1.5.0",
            "orientation": "horizontal",
            "min": 0,
            "description_tooltip": null,
            "_model_module": "@jupyter-widgets/controls",
            "layout": "IPY_MODEL_0913b107da844237951350a725fa37ed"
          }
        },
        "3edb50d737d2414a9a6b5d1b151ef016": {
          "model_module": "@jupyter-widgets/controls",
          "model_name": "HTMLModel",
          "model_module_version": "1.5.0",
          "state": {
            "_view_name": "HTMLView",
            "style": "IPY_MODEL_9f68e50c6b454b8c92b1da8e45ec273b",
            "_dom_classes": [],
            "description": "",
            "_model_name": "HTMLModel",
            "placeholder": "​",
            "_view_module": "@jupyter-widgets/controls",
            "_model_module_version": "1.5.0",
            "value": " 9.84k/9.84k [00:00&lt;00:00, 335kB/s]",
            "_view_count": null,
            "_view_module_version": "1.5.0",
            "description_tooltip": null,
            "_model_module": "@jupyter-widgets/controls",
            "layout": "IPY_MODEL_3760b9d866c34976ad5afbf0ec85dc69"
          }
        },
        "6b0778be9b76492a9d9adc366964c210": {
          "model_module": "@jupyter-widgets/controls",
          "model_name": "DescriptionStyleModel",
          "model_module_version": "1.5.0",
          "state": {
            "_view_name": "StyleView",
            "_model_name": "DescriptionStyleModel",
            "description_width": "",
            "_view_module": "@jupyter-widgets/base",
            "_model_module_version": "1.5.0",
            "_view_count": null,
            "_view_module_version": "1.2.0",
            "_model_module": "@jupyter-widgets/controls"
          }
        },
        "0b4984be184142b8b006c7b86ec80d0a": {
          "model_module": "@jupyter-widgets/base",
          "model_name": "LayoutModel",
          "model_module_version": "1.2.0",
          "state": {
            "_view_name": "LayoutView",
            "grid_template_rows": null,
            "right": null,
            "justify_content": null,
            "_view_module": "@jupyter-widgets/base",
            "overflow": null,
            "_model_module_version": "1.2.0",
            "_view_count": null,
            "flex_flow": null,
            "width": null,
            "min_width": null,
            "border": null,
            "align_items": null,
            "bottom": null,
            "_model_module": "@jupyter-widgets/base",
            "top": null,
            "grid_column": null,
            "overflow_y": null,
            "overflow_x": null,
            "grid_auto_flow": null,
            "grid_area": null,
            "grid_template_columns": null,
            "flex": null,
            "_model_name": "LayoutModel",
            "justify_items": null,
            "grid_row": null,
            "max_height": null,
            "align_content": null,
            "visibility": null,
            "align_self": null,
            "height": null,
            "min_height": null,
            "padding": null,
            "grid_auto_rows": null,
            "grid_gap": null,
            "max_width": null,
            "order": null,
            "_view_module_version": "1.2.0",
            "grid_template_areas": null,
            "object_position": null,
            "object_fit": null,
            "grid_auto_columns": null,
            "margin": null,
            "display": null,
            "left": null
          }
        },
        "a455b968c2cf46ff995f7aa1c19da4af": {
          "model_module": "@jupyter-widgets/controls",
          "model_name": "ProgressStyleModel",
          "model_module_version": "1.5.0",
          "state": {
            "_view_name": "StyleView",
            "_model_name": "ProgressStyleModel",
            "description_width": "",
            "_view_module": "@jupyter-widgets/base",
            "_model_module_version": "1.5.0",
            "_view_count": null,
            "_view_module_version": "1.2.0",
            "bar_color": null,
            "_model_module": "@jupyter-widgets/controls"
          }
        },
        "0913b107da844237951350a725fa37ed": {
          "model_module": "@jupyter-widgets/base",
          "model_name": "LayoutModel",
          "model_module_version": "1.2.0",
          "state": {
            "_view_name": "LayoutView",
            "grid_template_rows": null,
            "right": null,
            "justify_content": null,
            "_view_module": "@jupyter-widgets/base",
            "overflow": null,
            "_model_module_version": "1.2.0",
            "_view_count": null,
            "flex_flow": null,
            "width": null,
            "min_width": null,
            "border": null,
            "align_items": null,
            "bottom": null,
            "_model_module": "@jupyter-widgets/base",
            "top": null,
            "grid_column": null,
            "overflow_y": null,
            "overflow_x": null,
            "grid_auto_flow": null,
            "grid_area": null,
            "grid_template_columns": null,
            "flex": null,
            "_model_name": "LayoutModel",
            "justify_items": null,
            "grid_row": null,
            "max_height": null,
            "align_content": null,
            "visibility": null,
            "align_self": null,
            "height": null,
            "min_height": null,
            "padding": null,
            "grid_auto_rows": null,
            "grid_gap": null,
            "max_width": null,
            "order": null,
            "_view_module_version": "1.2.0",
            "grid_template_areas": null,
            "object_position": null,
            "object_fit": null,
            "grid_auto_columns": null,
            "margin": null,
            "display": null,
            "left": null
          }
        },
        "9f68e50c6b454b8c92b1da8e45ec273b": {
          "model_module": "@jupyter-widgets/controls",
          "model_name": "DescriptionStyleModel",
          "model_module_version": "1.5.0",
          "state": {
            "_view_name": "StyleView",
            "_model_name": "DescriptionStyleModel",
            "description_width": "",
            "_view_module": "@jupyter-widgets/base",
            "_model_module_version": "1.5.0",
            "_view_count": null,
            "_view_module_version": "1.2.0",
            "_model_module": "@jupyter-widgets/controls"
          }
        },
        "3760b9d866c34976ad5afbf0ec85dc69": {
          "model_module": "@jupyter-widgets/base",
          "model_name": "LayoutModel",
          "model_module_version": "1.2.0",
          "state": {
            "_view_name": "LayoutView",
            "grid_template_rows": null,
            "right": null,
            "justify_content": null,
            "_view_module": "@jupyter-widgets/base",
            "overflow": null,
            "_model_module_version": "1.2.0",
            "_view_count": null,
            "flex_flow": null,
            "width": null,
            "min_width": null,
            "border": null,
            "align_items": null,
            "bottom": null,
            "_model_module": "@jupyter-widgets/base",
            "top": null,
            "grid_column": null,
            "overflow_y": null,
            "overflow_x": null,
            "grid_auto_flow": null,
            "grid_area": null,
            "grid_template_columns": null,
            "flex": null,
            "_model_name": "LayoutModel",
            "justify_items": null,
            "grid_row": null,
            "max_height": null,
            "align_content": null,
            "visibility": null,
            "align_self": null,
            "height": null,
            "min_height": null,
            "padding": null,
            "grid_auto_rows": null,
            "grid_gap": null,
            "max_width": null,
            "order": null,
            "_view_module_version": "1.2.0",
            "grid_template_areas": null,
            "object_position": null,
            "object_fit": null,
            "grid_auto_columns": null,
            "margin": null,
            "display": null,
            "left": null
          }
        },
        "6a0893d974cb40699537420f87e1f2cb": {
          "model_module": "@jupyter-widgets/controls",
          "model_name": "HBoxModel",
          "model_module_version": "1.5.0",
          "state": {
            "_view_name": "HBoxView",
            "_dom_classes": [],
            "_model_name": "HBoxModel",
            "_view_module": "@jupyter-widgets/controls",
            "_model_module_version": "1.5.0",
            "_view_count": null,
            "_view_module_version": "1.5.0",
            "box_style": "",
            "layout": "IPY_MODEL_937b5afc6fa342349e161314e2ff0286",
            "_model_module": "@jupyter-widgets/controls",
            "children": [
              "IPY_MODEL_2b9e2ff99ef745c2a0b5f5af2baa2745",
              "IPY_MODEL_f1fe1124170a4c6e94e7218a0b53183c",
              "IPY_MODEL_0b64adc1b22d416fbf6ef0309ad5a53a"
            ]
          }
        },
        "937b5afc6fa342349e161314e2ff0286": {
          "model_module": "@jupyter-widgets/base",
          "model_name": "LayoutModel",
          "model_module_version": "1.2.0",
          "state": {
            "_view_name": "LayoutView",
            "grid_template_rows": null,
            "right": null,
            "justify_content": null,
            "_view_module": "@jupyter-widgets/base",
            "overflow": null,
            "_model_module_version": "1.2.0",
            "_view_count": null,
            "flex_flow": null,
            "width": null,
            "min_width": null,
            "border": null,
            "align_items": null,
            "bottom": null,
            "_model_module": "@jupyter-widgets/base",
            "top": null,
            "grid_column": null,
            "overflow_y": null,
            "overflow_x": null,
            "grid_auto_flow": null,
            "grid_area": null,
            "grid_template_columns": null,
            "flex": null,
            "_model_name": "LayoutModel",
            "justify_items": null,
            "grid_row": null,
            "max_height": null,
            "align_content": null,
            "visibility": null,
            "align_self": null,
            "height": null,
            "min_height": null,
            "padding": null,
            "grid_auto_rows": null,
            "grid_gap": null,
            "max_width": null,
            "order": null,
            "_view_module_version": "1.2.0",
            "grid_template_areas": null,
            "object_position": null,
            "object_fit": null,
            "grid_auto_columns": null,
            "margin": null,
            "display": null,
            "left": null
          }
        },
        "2b9e2ff99ef745c2a0b5f5af2baa2745": {
          "model_module": "@jupyter-widgets/controls",
          "model_name": "HTMLModel",
          "model_module_version": "1.5.0",
          "state": {
            "_view_name": "HTMLView",
            "style": "IPY_MODEL_20217e040dd0454b88ea9c121e9ca45d",
            "_dom_classes": [],
            "description": "",
            "_model_name": "HTMLModel",
            "placeholder": "​",
            "_view_module": "@jupyter-widgets/controls",
            "_model_module_version": "1.5.0",
            "value": "Downloading: 100%",
            "_view_count": null,
            "_view_module_version": "1.5.0",
            "description_tooltip": null,
            "_model_module": "@jupyter-widgets/controls",
            "layout": "IPY_MODEL_3f5d0601600e436dab563eb4bfd41e30"
          }
        },
        "f1fe1124170a4c6e94e7218a0b53183c": {
          "model_module": "@jupyter-widgets/controls",
          "model_name": "FloatProgressModel",
          "model_module_version": "1.5.0",
          "state": {
            "_view_name": "ProgressView",
            "style": "IPY_MODEL_7552e8f4247f4bcc8d9ab5a17a01d536",
            "_dom_classes": [],
            "description": "",
            "_model_name": "FloatProgressModel",
            "bar_style": "success",
            "max": 650,
            "_view_module": "@jupyter-widgets/controls",
            "_model_module_version": "1.5.0",
            "value": 650,
            "_view_count": null,
            "_view_module_version": "1.5.0",
            "orientation": "horizontal",
            "min": 0,
            "description_tooltip": null,
            "_model_module": "@jupyter-widgets/controls",
            "layout": "IPY_MODEL_bbbc73abf8e947608b0369c69a04c2ce"
          }
        },
        "0b64adc1b22d416fbf6ef0309ad5a53a": {
          "model_module": "@jupyter-widgets/controls",
          "model_name": "HTMLModel",
          "model_module_version": "1.5.0",
          "state": {
            "_view_name": "HTMLView",
            "style": "IPY_MODEL_94e268e037fd439c945bc5caedac5a17",
            "_dom_classes": [],
            "description": "",
            "_model_name": "HTMLModel",
            "placeholder": "​",
            "_view_module": "@jupyter-widgets/controls",
            "_model_module_version": "1.5.0",
            "value": " 650/650 [00:00&lt;00:00, 17.7kB/s]",
            "_view_count": null,
            "_view_module_version": "1.5.0",
            "description_tooltip": null,
            "_model_module": "@jupyter-widgets/controls",
            "layout": "IPY_MODEL_0ab6559e5026460d90578520faab5c5a"
          }
        },
        "20217e040dd0454b88ea9c121e9ca45d": {
          "model_module": "@jupyter-widgets/controls",
          "model_name": "DescriptionStyleModel",
          "model_module_version": "1.5.0",
          "state": {
            "_view_name": "StyleView",
            "_model_name": "DescriptionStyleModel",
            "description_width": "",
            "_view_module": "@jupyter-widgets/base",
            "_model_module_version": "1.5.0",
            "_view_count": null,
            "_view_module_version": "1.2.0",
            "_model_module": "@jupyter-widgets/controls"
          }
        },
        "3f5d0601600e436dab563eb4bfd41e30": {
          "model_module": "@jupyter-widgets/base",
          "model_name": "LayoutModel",
          "model_module_version": "1.2.0",
          "state": {
            "_view_name": "LayoutView",
            "grid_template_rows": null,
            "right": null,
            "justify_content": null,
            "_view_module": "@jupyter-widgets/base",
            "overflow": null,
            "_model_module_version": "1.2.0",
            "_view_count": null,
            "flex_flow": null,
            "width": null,
            "min_width": null,
            "border": null,
            "align_items": null,
            "bottom": null,
            "_model_module": "@jupyter-widgets/base",
            "top": null,
            "grid_column": null,
            "overflow_y": null,
            "overflow_x": null,
            "grid_auto_flow": null,
            "grid_area": null,
            "grid_template_columns": null,
            "flex": null,
            "_model_name": "LayoutModel",
            "justify_items": null,
            "grid_row": null,
            "max_height": null,
            "align_content": null,
            "visibility": null,
            "align_self": null,
            "height": null,
            "min_height": null,
            "padding": null,
            "grid_auto_rows": null,
            "grid_gap": null,
            "max_width": null,
            "order": null,
            "_view_module_version": "1.2.0",
            "grid_template_areas": null,
            "object_position": null,
            "object_fit": null,
            "grid_auto_columns": null,
            "margin": null,
            "display": null,
            "left": null
          }
        },
        "7552e8f4247f4bcc8d9ab5a17a01d536": {
          "model_module": "@jupyter-widgets/controls",
          "model_name": "ProgressStyleModel",
          "model_module_version": "1.5.0",
          "state": {
            "_view_name": "StyleView",
            "_model_name": "ProgressStyleModel",
            "description_width": "",
            "_view_module": "@jupyter-widgets/base",
            "_model_module_version": "1.5.0",
            "_view_count": null,
            "_view_module_version": "1.2.0",
            "bar_color": null,
            "_model_module": "@jupyter-widgets/controls"
          }
        },
        "bbbc73abf8e947608b0369c69a04c2ce": {
          "model_module": "@jupyter-widgets/base",
          "model_name": "LayoutModel",
          "model_module_version": "1.2.0",
          "state": {
            "_view_name": "LayoutView",
            "grid_template_rows": null,
            "right": null,
            "justify_content": null,
            "_view_module": "@jupyter-widgets/base",
            "overflow": null,
            "_model_module_version": "1.2.0",
            "_view_count": null,
            "flex_flow": null,
            "width": null,
            "min_width": null,
            "border": null,
            "align_items": null,
            "bottom": null,
            "_model_module": "@jupyter-widgets/base",
            "top": null,
            "grid_column": null,
            "overflow_y": null,
            "overflow_x": null,
            "grid_auto_flow": null,
            "grid_area": null,
            "grid_template_columns": null,
            "flex": null,
            "_model_name": "LayoutModel",
            "justify_items": null,
            "grid_row": null,
            "max_height": null,
            "align_content": null,
            "visibility": null,
            "align_self": null,
            "height": null,
            "min_height": null,
            "padding": null,
            "grid_auto_rows": null,
            "grid_gap": null,
            "max_width": null,
            "order": null,
            "_view_module_version": "1.2.0",
            "grid_template_areas": null,
            "object_position": null,
            "object_fit": null,
            "grid_auto_columns": null,
            "margin": null,
            "display": null,
            "left": null
          }
        },
        "94e268e037fd439c945bc5caedac5a17": {
          "model_module": "@jupyter-widgets/controls",
          "model_name": "DescriptionStyleModel",
          "model_module_version": "1.5.0",
          "state": {
            "_view_name": "StyleView",
            "_model_name": "DescriptionStyleModel",
            "description_width": "",
            "_view_module": "@jupyter-widgets/base",
            "_model_module_version": "1.5.0",
            "_view_count": null,
            "_view_module_version": "1.2.0",
            "_model_module": "@jupyter-widgets/controls"
          }
        },
        "0ab6559e5026460d90578520faab5c5a": {
          "model_module": "@jupyter-widgets/base",
          "model_name": "LayoutModel",
          "model_module_version": "1.2.0",
          "state": {
            "_view_name": "LayoutView",
            "grid_template_rows": null,
            "right": null,
            "justify_content": null,
            "_view_module": "@jupyter-widgets/base",
            "overflow": null,
            "_model_module_version": "1.2.0",
            "_view_count": null,
            "flex_flow": null,
            "width": null,
            "min_width": null,
            "border": null,
            "align_items": null,
            "bottom": null,
            "_model_module": "@jupyter-widgets/base",
            "top": null,
            "grid_column": null,
            "overflow_y": null,
            "overflow_x": null,
            "grid_auto_flow": null,
            "grid_area": null,
            "grid_template_columns": null,
            "flex": null,
            "_model_name": "LayoutModel",
            "justify_items": null,
            "grid_row": null,
            "max_height": null,
            "align_content": null,
            "visibility": null,
            "align_self": null,
            "height": null,
            "min_height": null,
            "padding": null,
            "grid_auto_rows": null,
            "grid_gap": null,
            "max_width": null,
            "order": null,
            "_view_module_version": "1.2.0",
            "grid_template_areas": null,
            "object_position": null,
            "object_fit": null,
            "grid_auto_columns": null,
            "margin": null,
            "display": null,
            "left": null
          }
        },
        "35ddf66873814a528e132afd2ed290aa": {
          "model_module": "@jupyter-widgets/controls",
          "model_name": "HBoxModel",
          "model_module_version": "1.5.0",
          "state": {
            "_view_name": "HBoxView",
            "_dom_classes": [],
            "_model_name": "HBoxModel",
            "_view_module": "@jupyter-widgets/controls",
            "_model_module_version": "1.5.0",
            "_view_count": null,
            "_view_module_version": "1.5.0",
            "box_style": "",
            "layout": "IPY_MODEL_e8a3021a6b8543dcb925bb274aadbc9e",
            "_model_module": "@jupyter-widgets/controls",
            "children": [
              "IPY_MODEL_206b56fe15f64fc18ec6a94f7fdce6d6",
              "IPY_MODEL_103a8f0098f04012ae8f656d6e9de73e",
              "IPY_MODEL_0b03f41372e34d17bedac742af581b2f"
            ]
          }
        },
        "e8a3021a6b8543dcb925bb274aadbc9e": {
          "model_module": "@jupyter-widgets/base",
          "model_name": "LayoutModel",
          "model_module_version": "1.2.0",
          "state": {
            "_view_name": "LayoutView",
            "grid_template_rows": null,
            "right": null,
            "justify_content": null,
            "_view_module": "@jupyter-widgets/base",
            "overflow": null,
            "_model_module_version": "1.2.0",
            "_view_count": null,
            "flex_flow": null,
            "width": null,
            "min_width": null,
            "border": null,
            "align_items": null,
            "bottom": null,
            "_model_module": "@jupyter-widgets/base",
            "top": null,
            "grid_column": null,
            "overflow_y": null,
            "overflow_x": null,
            "grid_auto_flow": null,
            "grid_area": null,
            "grid_template_columns": null,
            "flex": null,
            "_model_name": "LayoutModel",
            "justify_items": null,
            "grid_row": null,
            "max_height": null,
            "align_content": null,
            "visibility": null,
            "align_self": null,
            "height": null,
            "min_height": null,
            "padding": null,
            "grid_auto_rows": null,
            "grid_gap": null,
            "max_width": null,
            "order": null,
            "_view_module_version": "1.2.0",
            "grid_template_areas": null,
            "object_position": null,
            "object_fit": null,
            "grid_auto_columns": null,
            "margin": null,
            "display": null,
            "left": null
          }
        },
        "206b56fe15f64fc18ec6a94f7fdce6d6": {
          "model_module": "@jupyter-widgets/controls",
          "model_name": "HTMLModel",
          "model_module_version": "1.5.0",
          "state": {
            "_view_name": "HTMLView",
            "style": "IPY_MODEL_4554c539785147a3bf82ea4c08760286",
            "_dom_classes": [],
            "description": "",
            "_model_name": "HTMLModel",
            "placeholder": "​",
            "_view_module": "@jupyter-widgets/controls",
            "_model_module_version": "1.5.0",
            "value": "Downloading: 100%",
            "_view_count": null,
            "_view_module_version": "1.5.0",
            "description_tooltip": null,
            "_model_module": "@jupyter-widgets/controls",
            "layout": "IPY_MODEL_bf0947810aa64c39bfcb0f54387caca4"
          }
        },
        "103a8f0098f04012ae8f656d6e9de73e": {
          "model_module": "@jupyter-widgets/controls",
          "model_name": "FloatProgressModel",
          "model_module_version": "1.5.0",
          "state": {
            "_view_name": "ProgressView",
            "style": "IPY_MODEL_ee01a4e65645420f9506a478a98e0134",
            "_dom_classes": [],
            "description": "",
            "_model_name": "FloatProgressModel",
            "bar_style": "success",
            "max": 116,
            "_view_module": "@jupyter-widgets/controls",
            "_model_module_version": "1.5.0",
            "value": 116,
            "_view_count": null,
            "_view_module_version": "1.5.0",
            "orientation": "horizontal",
            "min": 0,
            "description_tooltip": null,
            "_model_module": "@jupyter-widgets/controls",
            "layout": "IPY_MODEL_ccb2e2023d6d4e02bfc03d3ba7c0e489"
          }
        },
        "0b03f41372e34d17bedac742af581b2f": {
          "model_module": "@jupyter-widgets/controls",
          "model_name": "HTMLModel",
          "model_module_version": "1.5.0",
          "state": {
            "_view_name": "HTMLView",
            "style": "IPY_MODEL_a60694965fa8462d9f63f35205dc8429",
            "_dom_classes": [],
            "description": "",
            "_model_name": "HTMLModel",
            "placeholder": "​",
            "_view_module": "@jupyter-widgets/controls",
            "_model_module_version": "1.5.0",
            "value": " 116/116 [00:00&lt;00:00, 3.05kB/s]",
            "_view_count": null,
            "_view_module_version": "1.5.0",
            "description_tooltip": null,
            "_model_module": "@jupyter-widgets/controls",
            "layout": "IPY_MODEL_d8a1f9211b3d4b989b066e9487a5eeba"
          }
        },
        "4554c539785147a3bf82ea4c08760286": {
          "model_module": "@jupyter-widgets/controls",
          "model_name": "DescriptionStyleModel",
          "model_module_version": "1.5.0",
          "state": {
            "_view_name": "StyleView",
            "_model_name": "DescriptionStyleModel",
            "description_width": "",
            "_view_module": "@jupyter-widgets/base",
            "_model_module_version": "1.5.0",
            "_view_count": null,
            "_view_module_version": "1.2.0",
            "_model_module": "@jupyter-widgets/controls"
          }
        },
        "bf0947810aa64c39bfcb0f54387caca4": {
          "model_module": "@jupyter-widgets/base",
          "model_name": "LayoutModel",
          "model_module_version": "1.2.0",
          "state": {
            "_view_name": "LayoutView",
            "grid_template_rows": null,
            "right": null,
            "justify_content": null,
            "_view_module": "@jupyter-widgets/base",
            "overflow": null,
            "_model_module_version": "1.2.0",
            "_view_count": null,
            "flex_flow": null,
            "width": null,
            "min_width": null,
            "border": null,
            "align_items": null,
            "bottom": null,
            "_model_module": "@jupyter-widgets/base",
            "top": null,
            "grid_column": null,
            "overflow_y": null,
            "overflow_x": null,
            "grid_auto_flow": null,
            "grid_area": null,
            "grid_template_columns": null,
            "flex": null,
            "_model_name": "LayoutModel",
            "justify_items": null,
            "grid_row": null,
            "max_height": null,
            "align_content": null,
            "visibility": null,
            "align_self": null,
            "height": null,
            "min_height": null,
            "padding": null,
            "grid_auto_rows": null,
            "grid_gap": null,
            "max_width": null,
            "order": null,
            "_view_module_version": "1.2.0",
            "grid_template_areas": null,
            "object_position": null,
            "object_fit": null,
            "grid_auto_columns": null,
            "margin": null,
            "display": null,
            "left": null
          }
        },
        "ee01a4e65645420f9506a478a98e0134": {
          "model_module": "@jupyter-widgets/controls",
          "model_name": "ProgressStyleModel",
          "model_module_version": "1.5.0",
          "state": {
            "_view_name": "StyleView",
            "_model_name": "ProgressStyleModel",
            "description_width": "",
            "_view_module": "@jupyter-widgets/base",
            "_model_module_version": "1.5.0",
            "_view_count": null,
            "_view_module_version": "1.2.0",
            "bar_color": null,
            "_model_module": "@jupyter-widgets/controls"
          }
        },
        "ccb2e2023d6d4e02bfc03d3ba7c0e489": {
          "model_module": "@jupyter-widgets/base",
          "model_name": "LayoutModel",
          "model_module_version": "1.2.0",
          "state": {
            "_view_name": "LayoutView",
            "grid_template_rows": null,
            "right": null,
            "justify_content": null,
            "_view_module": "@jupyter-widgets/base",
            "overflow": null,
            "_model_module_version": "1.2.0",
            "_view_count": null,
            "flex_flow": null,
            "width": null,
            "min_width": null,
            "border": null,
            "align_items": null,
            "bottom": null,
            "_model_module": "@jupyter-widgets/base",
            "top": null,
            "grid_column": null,
            "overflow_y": null,
            "overflow_x": null,
            "grid_auto_flow": null,
            "grid_area": null,
            "grid_template_columns": null,
            "flex": null,
            "_model_name": "LayoutModel",
            "justify_items": null,
            "grid_row": null,
            "max_height": null,
            "align_content": null,
            "visibility": null,
            "align_self": null,
            "height": null,
            "min_height": null,
            "padding": null,
            "grid_auto_rows": null,
            "grid_gap": null,
            "max_width": null,
            "order": null,
            "_view_module_version": "1.2.0",
            "grid_template_areas": null,
            "object_position": null,
            "object_fit": null,
            "grid_auto_columns": null,
            "margin": null,
            "display": null,
            "left": null
          }
        },
        "a60694965fa8462d9f63f35205dc8429": {
          "model_module": "@jupyter-widgets/controls",
          "model_name": "DescriptionStyleModel",
          "model_module_version": "1.5.0",
          "state": {
            "_view_name": "StyleView",
            "_model_name": "DescriptionStyleModel",
            "description_width": "",
            "_view_module": "@jupyter-widgets/base",
            "_model_module_version": "1.5.0",
            "_view_count": null,
            "_view_module_version": "1.2.0",
            "_model_module": "@jupyter-widgets/controls"
          }
        },
        "d8a1f9211b3d4b989b066e9487a5eeba": {
          "model_module": "@jupyter-widgets/base",
          "model_name": "LayoutModel",
          "model_module_version": "1.2.0",
          "state": {
            "_view_name": "LayoutView",
            "grid_template_rows": null,
            "right": null,
            "justify_content": null,
            "_view_module": "@jupyter-widgets/base",
            "overflow": null,
            "_model_module_version": "1.2.0",
            "_view_count": null,
            "flex_flow": null,
            "width": null,
            "min_width": null,
            "border": null,
            "align_items": null,
            "bottom": null,
            "_model_module": "@jupyter-widgets/base",
            "top": null,
            "grid_column": null,
            "overflow_y": null,
            "overflow_x": null,
            "grid_auto_flow": null,
            "grid_area": null,
            "grid_template_columns": null,
            "flex": null,
            "_model_name": "LayoutModel",
            "justify_items": null,
            "grid_row": null,
            "max_height": null,
            "align_content": null,
            "visibility": null,
            "align_self": null,
            "height": null,
            "min_height": null,
            "padding": null,
            "grid_auto_rows": null,
            "grid_gap": null,
            "max_width": null,
            "order": null,
            "_view_module_version": "1.2.0",
            "grid_template_areas": null,
            "object_position": null,
            "object_fit": null,
            "grid_auto_columns": null,
            "margin": null,
            "display": null,
            "left": null
          }
        },
        "d3eb6bcff1114d908ebc0be0a5cfd74d": {
          "model_module": "@jupyter-widgets/controls",
          "model_name": "HBoxModel",
          "model_module_version": "1.5.0",
          "state": {
            "_view_name": "HBoxView",
            "_dom_classes": [],
            "_model_name": "HBoxModel",
            "_view_module": "@jupyter-widgets/controls",
            "_model_module_version": "1.5.0",
            "_view_count": null,
            "_view_module_version": "1.5.0",
            "box_style": "",
            "layout": "IPY_MODEL_81f4fcaf5a6b4c94949eb2483b6c7809",
            "_model_module": "@jupyter-widgets/controls",
            "children": [
              "IPY_MODEL_af806a5107464a29abe275361e242927",
              "IPY_MODEL_eea6b874e29a4d0c9867241826ce3a78",
              "IPY_MODEL_ebb804fc73c64cd28d3b338a73114185"
            ]
          }
        },
        "81f4fcaf5a6b4c94949eb2483b6c7809": {
          "model_module": "@jupyter-widgets/base",
          "model_name": "LayoutModel",
          "model_module_version": "1.2.0",
          "state": {
            "_view_name": "LayoutView",
            "grid_template_rows": null,
            "right": null,
            "justify_content": null,
            "_view_module": "@jupyter-widgets/base",
            "overflow": null,
            "_model_module_version": "1.2.0",
            "_view_count": null,
            "flex_flow": null,
            "width": null,
            "min_width": null,
            "border": null,
            "align_items": null,
            "bottom": null,
            "_model_module": "@jupyter-widgets/base",
            "top": null,
            "grid_column": null,
            "overflow_y": null,
            "overflow_x": null,
            "grid_auto_flow": null,
            "grid_area": null,
            "grid_template_columns": null,
            "flex": null,
            "_model_name": "LayoutModel",
            "justify_items": null,
            "grid_row": null,
            "max_height": null,
            "align_content": null,
            "visibility": null,
            "align_self": null,
            "height": null,
            "min_height": null,
            "padding": null,
            "grid_auto_rows": null,
            "grid_gap": null,
            "max_width": null,
            "order": null,
            "_view_module_version": "1.2.0",
            "grid_template_areas": null,
            "object_position": null,
            "object_fit": null,
            "grid_auto_columns": null,
            "margin": null,
            "display": null,
            "left": null
          }
        },
        "af806a5107464a29abe275361e242927": {
          "model_module": "@jupyter-widgets/controls",
          "model_name": "HTMLModel",
          "model_module_version": "1.5.0",
          "state": {
            "_view_name": "HTMLView",
            "style": "IPY_MODEL_3b3e3897639441adb57ec92d179b86ea",
            "_dom_classes": [],
            "description": "",
            "_model_name": "HTMLModel",
            "placeholder": "​",
            "_view_module": "@jupyter-widgets/controls",
            "_model_module_version": "1.5.0",
            "value": "Downloading: 100%",
            "_view_count": null,
            "_view_module_version": "1.5.0",
            "description_tooltip": null,
            "_model_module": "@jupyter-widgets/controls",
            "layout": "IPY_MODEL_552e346f7982431c842c1c5915a9521a"
          }
        },
        "eea6b874e29a4d0c9867241826ce3a78": {
          "model_module": "@jupyter-widgets/controls",
          "model_name": "FloatProgressModel",
          "model_module_version": "1.5.0",
          "state": {
            "_view_name": "ProgressView",
            "style": "IPY_MODEL_637a1bbb48174ce4a9f8e7b3b6ad5bf6",
            "_dom_classes": [],
            "description": "",
            "_model_name": "FloatProgressModel",
            "bar_style": "success",
            "max": 15679,
            "_view_module": "@jupyter-widgets/controls",
            "_model_module_version": "1.5.0",
            "value": 15679,
            "_view_count": null,
            "_view_module_version": "1.5.0",
            "orientation": "horizontal",
            "min": 0,
            "description_tooltip": null,
            "_model_module": "@jupyter-widgets/controls",
            "layout": "IPY_MODEL_8adc394cbc0e47cb9785afcbb7a60714"
          }
        },
        "ebb804fc73c64cd28d3b338a73114185": {
          "model_module": "@jupyter-widgets/controls",
          "model_name": "HTMLModel",
          "model_module_version": "1.5.0",
          "state": {
            "_view_name": "HTMLView",
            "style": "IPY_MODEL_b597d5a71c2b4f409af84aa8d50c91e5",
            "_dom_classes": [],
            "description": "",
            "_model_name": "HTMLModel",
            "placeholder": "​",
            "_view_module": "@jupyter-widgets/controls",
            "_model_module_version": "1.5.0",
            "value": " 15.7k/15.7k [00:00&lt;00:00, 475kB/s]",
            "_view_count": null,
            "_view_module_version": "1.5.0",
            "description_tooltip": null,
            "_model_module": "@jupyter-widgets/controls",
            "layout": "IPY_MODEL_d924691e78404f6fb53b2204a6b0854a"
          }
        },
        "3b3e3897639441adb57ec92d179b86ea": {
          "model_module": "@jupyter-widgets/controls",
          "model_name": "DescriptionStyleModel",
          "model_module_version": "1.5.0",
          "state": {
            "_view_name": "StyleView",
            "_model_name": "DescriptionStyleModel",
            "description_width": "",
            "_view_module": "@jupyter-widgets/base",
            "_model_module_version": "1.5.0",
            "_view_count": null,
            "_view_module_version": "1.2.0",
            "_model_module": "@jupyter-widgets/controls"
          }
        },
        "552e346f7982431c842c1c5915a9521a": {
          "model_module": "@jupyter-widgets/base",
          "model_name": "LayoutModel",
          "model_module_version": "1.2.0",
          "state": {
            "_view_name": "LayoutView",
            "grid_template_rows": null,
            "right": null,
            "justify_content": null,
            "_view_module": "@jupyter-widgets/base",
            "overflow": null,
            "_model_module_version": "1.2.0",
            "_view_count": null,
            "flex_flow": null,
            "width": null,
            "min_width": null,
            "border": null,
            "align_items": null,
            "bottom": null,
            "_model_module": "@jupyter-widgets/base",
            "top": null,
            "grid_column": null,
            "overflow_y": null,
            "overflow_x": null,
            "grid_auto_flow": null,
            "grid_area": null,
            "grid_template_columns": null,
            "flex": null,
            "_model_name": "LayoutModel",
            "justify_items": null,
            "grid_row": null,
            "max_height": null,
            "align_content": null,
            "visibility": null,
            "align_self": null,
            "height": null,
            "min_height": null,
            "padding": null,
            "grid_auto_rows": null,
            "grid_gap": null,
            "max_width": null,
            "order": null,
            "_view_module_version": "1.2.0",
            "grid_template_areas": null,
            "object_position": null,
            "object_fit": null,
            "grid_auto_columns": null,
            "margin": null,
            "display": null,
            "left": null
          }
        },
        "637a1bbb48174ce4a9f8e7b3b6ad5bf6": {
          "model_module": "@jupyter-widgets/controls",
          "model_name": "ProgressStyleModel",
          "model_module_version": "1.5.0",
          "state": {
            "_view_name": "StyleView",
            "_model_name": "ProgressStyleModel",
            "description_width": "",
            "_view_module": "@jupyter-widgets/base",
            "_model_module_version": "1.5.0",
            "_view_count": null,
            "_view_module_version": "1.2.0",
            "bar_color": null,
            "_model_module": "@jupyter-widgets/controls"
          }
        },
        "8adc394cbc0e47cb9785afcbb7a60714": {
          "model_module": "@jupyter-widgets/base",
          "model_name": "LayoutModel",
          "model_module_version": "1.2.0",
          "state": {
            "_view_name": "LayoutView",
            "grid_template_rows": null,
            "right": null,
            "justify_content": null,
            "_view_module": "@jupyter-widgets/base",
            "overflow": null,
            "_model_module_version": "1.2.0",
            "_view_count": null,
            "flex_flow": null,
            "width": null,
            "min_width": null,
            "border": null,
            "align_items": null,
            "bottom": null,
            "_model_module": "@jupyter-widgets/base",
            "top": null,
            "grid_column": null,
            "overflow_y": null,
            "overflow_x": null,
            "grid_auto_flow": null,
            "grid_area": null,
            "grid_template_columns": null,
            "flex": null,
            "_model_name": "LayoutModel",
            "justify_items": null,
            "grid_row": null,
            "max_height": null,
            "align_content": null,
            "visibility": null,
            "align_self": null,
            "height": null,
            "min_height": null,
            "padding": null,
            "grid_auto_rows": null,
            "grid_gap": null,
            "max_width": null,
            "order": null,
            "_view_module_version": "1.2.0",
            "grid_template_areas": null,
            "object_position": null,
            "object_fit": null,
            "grid_auto_columns": null,
            "margin": null,
            "display": null,
            "left": null
          }
        },
        "b597d5a71c2b4f409af84aa8d50c91e5": {
          "model_module": "@jupyter-widgets/controls",
          "model_name": "DescriptionStyleModel",
          "model_module_version": "1.5.0",
          "state": {
            "_view_name": "StyleView",
            "_model_name": "DescriptionStyleModel",
            "description_width": "",
            "_view_module": "@jupyter-widgets/base",
            "_model_module_version": "1.5.0",
            "_view_count": null,
            "_view_module_version": "1.2.0",
            "_model_module": "@jupyter-widgets/controls"
          }
        },
        "d924691e78404f6fb53b2204a6b0854a": {
          "model_module": "@jupyter-widgets/base",
          "model_name": "LayoutModel",
          "model_module_version": "1.2.0",
          "state": {
            "_view_name": "LayoutView",
            "grid_template_rows": null,
            "right": null,
            "justify_content": null,
            "_view_module": "@jupyter-widgets/base",
            "overflow": null,
            "_model_module_version": "1.2.0",
            "_view_count": null,
            "flex_flow": null,
            "width": null,
            "min_width": null,
            "border": null,
            "align_items": null,
            "bottom": null,
            "_model_module": "@jupyter-widgets/base",
            "top": null,
            "grid_column": null,
            "overflow_y": null,
            "overflow_x": null,
            "grid_auto_flow": null,
            "grid_area": null,
            "grid_template_columns": null,
            "flex": null,
            "_model_name": "LayoutModel",
            "justify_items": null,
            "grid_row": null,
            "max_height": null,
            "align_content": null,
            "visibility": null,
            "align_self": null,
            "height": null,
            "min_height": null,
            "padding": null,
            "grid_auto_rows": null,
            "grid_gap": null,
            "max_width": null,
            "order": null,
            "_view_module_version": "1.2.0",
            "grid_template_areas": null,
            "object_position": null,
            "object_fit": null,
            "grid_auto_columns": null,
            "margin": null,
            "display": null,
            "left": null
          }
        },
        "c6a06393392f4a6c989d0620a54365c2": {
          "model_module": "@jupyter-widgets/controls",
          "model_name": "HBoxModel",
          "model_module_version": "1.5.0",
          "state": {
            "_view_name": "HBoxView",
            "_dom_classes": [],
            "_model_name": "HBoxModel",
            "_view_module": "@jupyter-widgets/controls",
            "_model_module_version": "1.5.0",
            "_view_count": null,
            "_view_module_version": "1.5.0",
            "box_style": "",
            "layout": "IPY_MODEL_ef93dc611e0c4b8599c71b143f72c25d",
            "_model_module": "@jupyter-widgets/controls",
            "children": [
              "IPY_MODEL_4c2a13f171a14d938e28ed061af9b53a",
              "IPY_MODEL_08802761ecb34289b29901d532145845",
              "IPY_MODEL_26ddef94a8624e9f8f329b3ccd3e5a78"
            ]
          }
        },
        "ef93dc611e0c4b8599c71b143f72c25d": {
          "model_module": "@jupyter-widgets/base",
          "model_name": "LayoutModel",
          "model_module_version": "1.2.0",
          "state": {
            "_view_name": "LayoutView",
            "grid_template_rows": null,
            "right": null,
            "justify_content": null,
            "_view_module": "@jupyter-widgets/base",
            "overflow": null,
            "_model_module_version": "1.2.0",
            "_view_count": null,
            "flex_flow": null,
            "width": null,
            "min_width": null,
            "border": null,
            "align_items": null,
            "bottom": null,
            "_model_module": "@jupyter-widgets/base",
            "top": null,
            "grid_column": null,
            "overflow_y": null,
            "overflow_x": null,
            "grid_auto_flow": null,
            "grid_area": null,
            "grid_template_columns": null,
            "flex": null,
            "_model_name": "LayoutModel",
            "justify_items": null,
            "grid_row": null,
            "max_height": null,
            "align_content": null,
            "visibility": null,
            "align_self": null,
            "height": null,
            "min_height": null,
            "padding": null,
            "grid_auto_rows": null,
            "grid_gap": null,
            "max_width": null,
            "order": null,
            "_view_module_version": "1.2.0",
            "grid_template_areas": null,
            "object_position": null,
            "object_fit": null,
            "grid_auto_columns": null,
            "margin": null,
            "display": null,
            "left": null
          }
        },
        "4c2a13f171a14d938e28ed061af9b53a": {
          "model_module": "@jupyter-widgets/controls",
          "model_name": "HTMLModel",
          "model_module_version": "1.5.0",
          "state": {
            "_view_name": "HTMLView",
            "style": "IPY_MODEL_de13a61a370143c48621d0a7d0996274",
            "_dom_classes": [],
            "description": "",
            "_model_name": "HTMLModel",
            "placeholder": "​",
            "_view_module": "@jupyter-widgets/controls",
            "_model_module_version": "1.5.0",
            "value": "Downloading: 100%",
            "_view_count": null,
            "_view_module_version": "1.5.0",
            "description_tooltip": null,
            "_model_module": "@jupyter-widgets/controls",
            "layout": "IPY_MODEL_0996faf7d9b74bdaa380ce24fe153455"
          }
        },
        "08802761ecb34289b29901d532145845": {
          "model_module": "@jupyter-widgets/controls",
          "model_name": "FloatProgressModel",
          "model_module_version": "1.5.0",
          "state": {
            "_view_name": "ProgressView",
            "style": "IPY_MODEL_6d26a69973ac4f10b6f2500106a46790",
            "_dom_classes": [],
            "description": "",
            "_model_name": "FloatProgressModel",
            "bar_style": "success",
            "max": 456356,
            "_view_module": "@jupyter-widgets/controls",
            "_model_module_version": "1.5.0",
            "value": 456356,
            "_view_count": null,
            "_view_module_version": "1.5.0",
            "orientation": "horizontal",
            "min": 0,
            "description_tooltip": null,
            "_model_module": "@jupyter-widgets/controls",
            "layout": "IPY_MODEL_7e5f34ae5dd743c3acbdc27fb148dd8a"
          }
        },
        "26ddef94a8624e9f8f329b3ccd3e5a78": {
          "model_module": "@jupyter-widgets/controls",
          "model_name": "HTMLModel",
          "model_module_version": "1.5.0",
          "state": {
            "_view_name": "HTMLView",
            "style": "IPY_MODEL_1d6d972d16074d86a3962a4a52e5dd40",
            "_dom_classes": [],
            "description": "",
            "_model_name": "HTMLModel",
            "placeholder": "​",
            "_view_module": "@jupyter-widgets/controls",
            "_model_module_version": "1.5.0",
            "value": " 456k/456k [00:00&lt;00:00, 1.04MB/s]",
            "_view_count": null,
            "_view_module_version": "1.5.0",
            "description_tooltip": null,
            "_model_module": "@jupyter-widgets/controls",
            "layout": "IPY_MODEL_48b03478b33d4db58cd71daac3bae7af"
          }
        },
        "de13a61a370143c48621d0a7d0996274": {
          "model_module": "@jupyter-widgets/controls",
          "model_name": "DescriptionStyleModel",
          "model_module_version": "1.5.0",
          "state": {
            "_view_name": "StyleView",
            "_model_name": "DescriptionStyleModel",
            "description_width": "",
            "_view_module": "@jupyter-widgets/base",
            "_model_module_version": "1.5.0",
            "_view_count": null,
            "_view_module_version": "1.2.0",
            "_model_module": "@jupyter-widgets/controls"
          }
        },
        "0996faf7d9b74bdaa380ce24fe153455": {
          "model_module": "@jupyter-widgets/base",
          "model_name": "LayoutModel",
          "model_module_version": "1.2.0",
          "state": {
            "_view_name": "LayoutView",
            "grid_template_rows": null,
            "right": null,
            "justify_content": null,
            "_view_module": "@jupyter-widgets/base",
            "overflow": null,
            "_model_module_version": "1.2.0",
            "_view_count": null,
            "flex_flow": null,
            "width": null,
            "min_width": null,
            "border": null,
            "align_items": null,
            "bottom": null,
            "_model_module": "@jupyter-widgets/base",
            "top": null,
            "grid_column": null,
            "overflow_y": null,
            "overflow_x": null,
            "grid_auto_flow": null,
            "grid_area": null,
            "grid_template_columns": null,
            "flex": null,
            "_model_name": "LayoutModel",
            "justify_items": null,
            "grid_row": null,
            "max_height": null,
            "align_content": null,
            "visibility": null,
            "align_self": null,
            "height": null,
            "min_height": null,
            "padding": null,
            "grid_auto_rows": null,
            "grid_gap": null,
            "max_width": null,
            "order": null,
            "_view_module_version": "1.2.0",
            "grid_template_areas": null,
            "object_position": null,
            "object_fit": null,
            "grid_auto_columns": null,
            "margin": null,
            "display": null,
            "left": null
          }
        },
        "6d26a69973ac4f10b6f2500106a46790": {
          "model_module": "@jupyter-widgets/controls",
          "model_name": "ProgressStyleModel",
          "model_module_version": "1.5.0",
          "state": {
            "_view_name": "StyleView",
            "_model_name": "ProgressStyleModel",
            "description_width": "",
            "_view_module": "@jupyter-widgets/base",
            "_model_module_version": "1.5.0",
            "_view_count": null,
            "_view_module_version": "1.2.0",
            "bar_color": null,
            "_model_module": "@jupyter-widgets/controls"
          }
        },
        "7e5f34ae5dd743c3acbdc27fb148dd8a": {
          "model_module": "@jupyter-widgets/base",
          "model_name": "LayoutModel",
          "model_module_version": "1.2.0",
          "state": {
            "_view_name": "LayoutView",
            "grid_template_rows": null,
            "right": null,
            "justify_content": null,
            "_view_module": "@jupyter-widgets/base",
            "overflow": null,
            "_model_module_version": "1.2.0",
            "_view_count": null,
            "flex_flow": null,
            "width": null,
            "min_width": null,
            "border": null,
            "align_items": null,
            "bottom": null,
            "_model_module": "@jupyter-widgets/base",
            "top": null,
            "grid_column": null,
            "overflow_y": null,
            "overflow_x": null,
            "grid_auto_flow": null,
            "grid_area": null,
            "grid_template_columns": null,
            "flex": null,
            "_model_name": "LayoutModel",
            "justify_items": null,
            "grid_row": null,
            "max_height": null,
            "align_content": null,
            "visibility": null,
            "align_self": null,
            "height": null,
            "min_height": null,
            "padding": null,
            "grid_auto_rows": null,
            "grid_gap": null,
            "max_width": null,
            "order": null,
            "_view_module_version": "1.2.0",
            "grid_template_areas": null,
            "object_position": null,
            "object_fit": null,
            "grid_auto_columns": null,
            "margin": null,
            "display": null,
            "left": null
          }
        },
        "1d6d972d16074d86a3962a4a52e5dd40": {
          "model_module": "@jupyter-widgets/controls",
          "model_name": "DescriptionStyleModel",
          "model_module_version": "1.5.0",
          "state": {
            "_view_name": "StyleView",
            "_model_name": "DescriptionStyleModel",
            "description_width": "",
            "_view_module": "@jupyter-widgets/base",
            "_model_module_version": "1.5.0",
            "_view_count": null,
            "_view_module_version": "1.2.0",
            "_model_module": "@jupyter-widgets/controls"
          }
        },
        "48b03478b33d4db58cd71daac3bae7af": {
          "model_module": "@jupyter-widgets/base",
          "model_name": "LayoutModel",
          "model_module_version": "1.2.0",
          "state": {
            "_view_name": "LayoutView",
            "grid_template_rows": null,
            "right": null,
            "justify_content": null,
            "_view_module": "@jupyter-widgets/base",
            "overflow": null,
            "_model_module_version": "1.2.0",
            "_view_count": null,
            "flex_flow": null,
            "width": null,
            "min_width": null,
            "border": null,
            "align_items": null,
            "bottom": null,
            "_model_module": "@jupyter-widgets/base",
            "top": null,
            "grid_column": null,
            "overflow_y": null,
            "overflow_x": null,
            "grid_auto_flow": null,
            "grid_area": null,
            "grid_template_columns": null,
            "flex": null,
            "_model_name": "LayoutModel",
            "justify_items": null,
            "grid_row": null,
            "max_height": null,
            "align_content": null,
            "visibility": null,
            "align_self": null,
            "height": null,
            "min_height": null,
            "padding": null,
            "grid_auto_rows": null,
            "grid_gap": null,
            "max_width": null,
            "order": null,
            "_view_module_version": "1.2.0",
            "grid_template_areas": null,
            "object_position": null,
            "object_fit": null,
            "grid_auto_columns": null,
            "margin": null,
            "display": null,
            "left": null
          }
        },
        "c3d8ba4403fb471fa11a9ddbfb97ac26": {
          "model_module": "@jupyter-widgets/controls",
          "model_name": "HBoxModel",
          "model_module_version": "1.5.0",
          "state": {
            "_view_name": "HBoxView",
            "_dom_classes": [],
            "_model_name": "HBoxModel",
            "_view_module": "@jupyter-widgets/controls",
            "_model_module_version": "1.5.0",
            "_view_count": null,
            "_view_module_version": "1.5.0",
            "box_style": "",
            "layout": "IPY_MODEL_75eed12bf0d844b78504334b626d6773",
            "_model_module": "@jupyter-widgets/controls",
            "children": [
              "IPY_MODEL_4a1fbb55631d44c282ad7d47676fc8fa",
              "IPY_MODEL_9b36555af76246739d1f2c28c7d0d208",
              "IPY_MODEL_701314f69e004f019e6cd23c96b2671b"
            ]
          }
        },
        "75eed12bf0d844b78504334b626d6773": {
          "model_module": "@jupyter-widgets/base",
          "model_name": "LayoutModel",
          "model_module_version": "1.2.0",
          "state": {
            "_view_name": "LayoutView",
            "grid_template_rows": null,
            "right": null,
            "justify_content": null,
            "_view_module": "@jupyter-widgets/base",
            "overflow": null,
            "_model_module_version": "1.2.0",
            "_view_count": null,
            "flex_flow": null,
            "width": null,
            "min_width": null,
            "border": null,
            "align_items": null,
            "bottom": null,
            "_model_module": "@jupyter-widgets/base",
            "top": null,
            "grid_column": null,
            "overflow_y": null,
            "overflow_x": null,
            "grid_auto_flow": null,
            "grid_area": null,
            "grid_template_columns": null,
            "flex": null,
            "_model_name": "LayoutModel",
            "justify_items": null,
            "grid_row": null,
            "max_height": null,
            "align_content": null,
            "visibility": null,
            "align_self": null,
            "height": null,
            "min_height": null,
            "padding": null,
            "grid_auto_rows": null,
            "grid_gap": null,
            "max_width": null,
            "order": null,
            "_view_module_version": "1.2.0",
            "grid_template_areas": null,
            "object_position": null,
            "object_fit": null,
            "grid_auto_columns": null,
            "margin": null,
            "display": null,
            "left": null
          }
        },
        "4a1fbb55631d44c282ad7d47676fc8fa": {
          "model_module": "@jupyter-widgets/controls",
          "model_name": "HTMLModel",
          "model_module_version": "1.5.0",
          "state": {
            "_view_name": "HTMLView",
            "style": "IPY_MODEL_c8d5c4369f5f42269d2b6b2b426b8cb7",
            "_dom_classes": [],
            "description": "",
            "_model_name": "HTMLModel",
            "placeholder": "​",
            "_view_module": "@jupyter-widgets/controls",
            "_model_module_version": "1.5.0",
            "value": "Downloading: 100%",
            "_view_count": null,
            "_view_module_version": "1.5.0",
            "description_tooltip": null,
            "_model_module": "@jupyter-widgets/controls",
            "layout": "IPY_MODEL_c51da31c248a45378c79484080f16d90"
          }
        },
        "9b36555af76246739d1f2c28c7d0d208": {
          "model_module": "@jupyter-widgets/controls",
          "model_name": "FloatProgressModel",
          "model_module_version": "1.5.0",
          "state": {
            "_view_name": "ProgressView",
            "style": "IPY_MODEL_2a9f484fb79f460baf1970fa24437976",
            "_dom_classes": [],
            "description": "",
            "_model_name": "FloatProgressModel",
            "bar_style": "success",
            "max": 349,
            "_view_module": "@jupyter-widgets/controls",
            "_model_module_version": "1.5.0",
            "value": 349,
            "_view_count": null,
            "_view_module_version": "1.5.0",
            "orientation": "horizontal",
            "min": 0,
            "description_tooltip": null,
            "_model_module": "@jupyter-widgets/controls",
            "layout": "IPY_MODEL_ed966c4521b84f109fbe2ca5132826d3"
          }
        },
        "701314f69e004f019e6cd23c96b2671b": {
          "model_module": "@jupyter-widgets/controls",
          "model_name": "HTMLModel",
          "model_module_version": "1.5.0",
          "state": {
            "_view_name": "HTMLView",
            "style": "IPY_MODEL_db5dcf1f657543369e221f489523cc8d",
            "_dom_classes": [],
            "description": "",
            "_model_name": "HTMLModel",
            "placeholder": "​",
            "_view_module": "@jupyter-widgets/controls",
            "_model_module_version": "1.5.0",
            "value": " 349/349 [00:00&lt;00:00, 10.3kB/s]",
            "_view_count": null,
            "_view_module_version": "1.5.0",
            "description_tooltip": null,
            "_model_module": "@jupyter-widgets/controls",
            "layout": "IPY_MODEL_fe6472e3c7d1440caa7e52fa5149f504"
          }
        },
        "c8d5c4369f5f42269d2b6b2b426b8cb7": {
          "model_module": "@jupyter-widgets/controls",
          "model_name": "DescriptionStyleModel",
          "model_module_version": "1.5.0",
          "state": {
            "_view_name": "StyleView",
            "_model_name": "DescriptionStyleModel",
            "description_width": "",
            "_view_module": "@jupyter-widgets/base",
            "_model_module_version": "1.5.0",
            "_view_count": null,
            "_view_module_version": "1.2.0",
            "_model_module": "@jupyter-widgets/controls"
          }
        },
        "c51da31c248a45378c79484080f16d90": {
          "model_module": "@jupyter-widgets/base",
          "model_name": "LayoutModel",
          "model_module_version": "1.2.0",
          "state": {
            "_view_name": "LayoutView",
            "grid_template_rows": null,
            "right": null,
            "justify_content": null,
            "_view_module": "@jupyter-widgets/base",
            "overflow": null,
            "_model_module_version": "1.2.0",
            "_view_count": null,
            "flex_flow": null,
            "width": null,
            "min_width": null,
            "border": null,
            "align_items": null,
            "bottom": null,
            "_model_module": "@jupyter-widgets/base",
            "top": null,
            "grid_column": null,
            "overflow_y": null,
            "overflow_x": null,
            "grid_auto_flow": null,
            "grid_area": null,
            "grid_template_columns": null,
            "flex": null,
            "_model_name": "LayoutModel",
            "justify_items": null,
            "grid_row": null,
            "max_height": null,
            "align_content": null,
            "visibility": null,
            "align_self": null,
            "height": null,
            "min_height": null,
            "padding": null,
            "grid_auto_rows": null,
            "grid_gap": null,
            "max_width": null,
            "order": null,
            "_view_module_version": "1.2.0",
            "grid_template_areas": null,
            "object_position": null,
            "object_fit": null,
            "grid_auto_columns": null,
            "margin": null,
            "display": null,
            "left": null
          }
        },
        "2a9f484fb79f460baf1970fa24437976": {
          "model_module": "@jupyter-widgets/controls",
          "model_name": "ProgressStyleModel",
          "model_module_version": "1.5.0",
          "state": {
            "_view_name": "StyleView",
            "_model_name": "ProgressStyleModel",
            "description_width": "",
            "_view_module": "@jupyter-widgets/base",
            "_model_module_version": "1.5.0",
            "_view_count": null,
            "_view_module_version": "1.2.0",
            "bar_color": null,
            "_model_module": "@jupyter-widgets/controls"
          }
        },
        "ed966c4521b84f109fbe2ca5132826d3": {
          "model_module": "@jupyter-widgets/base",
          "model_name": "LayoutModel",
          "model_module_version": "1.2.0",
          "state": {
            "_view_name": "LayoutView",
            "grid_template_rows": null,
            "right": null,
            "justify_content": null,
            "_view_module": "@jupyter-widgets/base",
            "overflow": null,
            "_model_module_version": "1.2.0",
            "_view_count": null,
            "flex_flow": null,
            "width": null,
            "min_width": null,
            "border": null,
            "align_items": null,
            "bottom": null,
            "_model_module": "@jupyter-widgets/base",
            "top": null,
            "grid_column": null,
            "overflow_y": null,
            "overflow_x": null,
            "grid_auto_flow": null,
            "grid_area": null,
            "grid_template_columns": null,
            "flex": null,
            "_model_name": "LayoutModel",
            "justify_items": null,
            "grid_row": null,
            "max_height": null,
            "align_content": null,
            "visibility": null,
            "align_self": null,
            "height": null,
            "min_height": null,
            "padding": null,
            "grid_auto_rows": null,
            "grid_gap": null,
            "max_width": null,
            "order": null,
            "_view_module_version": "1.2.0",
            "grid_template_areas": null,
            "object_position": null,
            "object_fit": null,
            "grid_auto_columns": null,
            "margin": null,
            "display": null,
            "left": null
          }
        },
        "db5dcf1f657543369e221f489523cc8d": {
          "model_module": "@jupyter-widgets/controls",
          "model_name": "DescriptionStyleModel",
          "model_module_version": "1.5.0",
          "state": {
            "_view_name": "StyleView",
            "_model_name": "DescriptionStyleModel",
            "description_width": "",
            "_view_module": "@jupyter-widgets/base",
            "_model_module_version": "1.5.0",
            "_view_count": null,
            "_view_module_version": "1.2.0",
            "_model_module": "@jupyter-widgets/controls"
          }
        },
        "fe6472e3c7d1440caa7e52fa5149f504": {
          "model_module": "@jupyter-widgets/base",
          "model_name": "LayoutModel",
          "model_module_version": "1.2.0",
          "state": {
            "_view_name": "LayoutView",
            "grid_template_rows": null,
            "right": null,
            "justify_content": null,
            "_view_module": "@jupyter-widgets/base",
            "overflow": null,
            "_model_module_version": "1.2.0",
            "_view_count": null,
            "flex_flow": null,
            "width": null,
            "min_width": null,
            "border": null,
            "align_items": null,
            "bottom": null,
            "_model_module": "@jupyter-widgets/base",
            "top": null,
            "grid_column": null,
            "overflow_y": null,
            "overflow_x": null,
            "grid_auto_flow": null,
            "grid_area": null,
            "grid_template_columns": null,
            "flex": null,
            "_model_name": "LayoutModel",
            "justify_items": null,
            "grid_row": null,
            "max_height": null,
            "align_content": null,
            "visibility": null,
            "align_self": null,
            "height": null,
            "min_height": null,
            "padding": null,
            "grid_auto_rows": null,
            "grid_gap": null,
            "max_width": null,
            "order": null,
            "_view_module_version": "1.2.0",
            "grid_template_areas": null,
            "object_position": null,
            "object_fit": null,
            "grid_auto_columns": null,
            "margin": null,
            "display": null,
            "left": null
          }
        },
        "546c91809f924c4286c6630257f983a3": {
          "model_module": "@jupyter-widgets/controls",
          "model_name": "HBoxModel",
          "model_module_version": "1.5.0",
          "state": {
            "_view_name": "HBoxView",
            "_dom_classes": [],
            "_model_name": "HBoxModel",
            "_view_module": "@jupyter-widgets/controls",
            "_model_module_version": "1.5.0",
            "_view_count": null,
            "_view_module_version": "1.5.0",
            "box_style": "",
            "layout": "IPY_MODEL_60cde5ad542d4bf78b1f8cc63a1bad28",
            "_model_module": "@jupyter-widgets/controls",
            "children": [
              "IPY_MODEL_70c890d5d06b46068aea4a66097f869a",
              "IPY_MODEL_f329ccc9b5c84af29a74c1a71bc63617",
              "IPY_MODEL_1588ae413ced42abb0bd11b40135a9c2"
            ]
          }
        },
        "60cde5ad542d4bf78b1f8cc63a1bad28": {
          "model_module": "@jupyter-widgets/base",
          "model_name": "LayoutModel",
          "model_module_version": "1.2.0",
          "state": {
            "_view_name": "LayoutView",
            "grid_template_rows": null,
            "right": null,
            "justify_content": null,
            "_view_module": "@jupyter-widgets/base",
            "overflow": null,
            "_model_module_version": "1.2.0",
            "_view_count": null,
            "flex_flow": null,
            "width": null,
            "min_width": null,
            "border": null,
            "align_items": null,
            "bottom": null,
            "_model_module": "@jupyter-widgets/base",
            "top": null,
            "grid_column": null,
            "overflow_y": null,
            "overflow_x": null,
            "grid_auto_flow": null,
            "grid_area": null,
            "grid_template_columns": null,
            "flex": null,
            "_model_name": "LayoutModel",
            "justify_items": null,
            "grid_row": null,
            "max_height": null,
            "align_content": null,
            "visibility": null,
            "align_self": null,
            "height": null,
            "min_height": null,
            "padding": null,
            "grid_auto_rows": null,
            "grid_gap": null,
            "max_width": null,
            "order": null,
            "_view_module_version": "1.2.0",
            "grid_template_areas": null,
            "object_position": null,
            "object_fit": null,
            "grid_auto_columns": null,
            "margin": null,
            "display": null,
            "left": null
          }
        },
        "70c890d5d06b46068aea4a66097f869a": {
          "model_module": "@jupyter-widgets/controls",
          "model_name": "HTMLModel",
          "model_module_version": "1.5.0",
          "state": {
            "_view_name": "HTMLView",
            "style": "IPY_MODEL_ea7c6da9fa1c452d9352f5de77499100",
            "_dom_classes": [],
            "description": "",
            "_model_name": "HTMLModel",
            "placeholder": "​",
            "_view_module": "@jupyter-widgets/controls",
            "_model_module_version": "1.5.0",
            "value": "Downloading: 100%",
            "_view_count": null,
            "_view_module_version": "1.5.0",
            "description_tooltip": null,
            "_model_module": "@jupyter-widgets/controls",
            "layout": "IPY_MODEL_15886d78f9b841a6a1f4efeab8c80dde"
          }
        },
        "f329ccc9b5c84af29a74c1a71bc63617": {
          "model_module": "@jupyter-widgets/controls",
          "model_name": "FloatProgressModel",
          "model_module_version": "1.5.0",
          "state": {
            "_view_name": "ProgressView",
            "style": "IPY_MODEL_80eaa6e0794744d2a7cd015c1e32c713",
            "_dom_classes": [],
            "description": "",
            "_model_name": "FloatProgressModel",
            "bar_style": "success",
            "max": 1421566897,
            "_view_module": "@jupyter-widgets/controls",
            "_model_module_version": "1.5.0",
            "value": 1421566897,
            "_view_count": null,
            "_view_module_version": "1.5.0",
            "orientation": "horizontal",
            "min": 0,
            "description_tooltip": null,
            "_model_module": "@jupyter-widgets/controls",
            "layout": "IPY_MODEL_a5e20d761bbc4a889484db29d136273b"
          }
        },
        "1588ae413ced42abb0bd11b40135a9c2": {
          "model_module": "@jupyter-widgets/controls",
          "model_name": "HTMLModel",
          "model_module_version": "1.5.0",
          "state": {
            "_view_name": "HTMLView",
            "style": "IPY_MODEL_25be72cdc2034f89bb6d5fef53e5f45e",
            "_dom_classes": [],
            "description": "",
            "_model_name": "HTMLModel",
            "placeholder": "​",
            "_view_module": "@jupyter-widgets/controls",
            "_model_module_version": "1.5.0",
            "value": " 1.42G/1.42G [00:39&lt;00:00, 36.4MB/s]",
            "_view_count": null,
            "_view_module_version": "1.5.0",
            "description_tooltip": null,
            "_model_module": "@jupyter-widgets/controls",
            "layout": "IPY_MODEL_03c38664459d4c0d88fcf16112c29fa1"
          }
        },
        "ea7c6da9fa1c452d9352f5de77499100": {
          "model_module": "@jupyter-widgets/controls",
          "model_name": "DescriptionStyleModel",
          "model_module_version": "1.5.0",
          "state": {
            "_view_name": "StyleView",
            "_model_name": "DescriptionStyleModel",
            "description_width": "",
            "_view_module": "@jupyter-widgets/base",
            "_model_module_version": "1.5.0",
            "_view_count": null,
            "_view_module_version": "1.2.0",
            "_model_module": "@jupyter-widgets/controls"
          }
        },
        "15886d78f9b841a6a1f4efeab8c80dde": {
          "model_module": "@jupyter-widgets/base",
          "model_name": "LayoutModel",
          "model_module_version": "1.2.0",
          "state": {
            "_view_name": "LayoutView",
            "grid_template_rows": null,
            "right": null,
            "justify_content": null,
            "_view_module": "@jupyter-widgets/base",
            "overflow": null,
            "_model_module_version": "1.2.0",
            "_view_count": null,
            "flex_flow": null,
            "width": null,
            "min_width": null,
            "border": null,
            "align_items": null,
            "bottom": null,
            "_model_module": "@jupyter-widgets/base",
            "top": null,
            "grid_column": null,
            "overflow_y": null,
            "overflow_x": null,
            "grid_auto_flow": null,
            "grid_area": null,
            "grid_template_columns": null,
            "flex": null,
            "_model_name": "LayoutModel",
            "justify_items": null,
            "grid_row": null,
            "max_height": null,
            "align_content": null,
            "visibility": null,
            "align_self": null,
            "height": null,
            "min_height": null,
            "padding": null,
            "grid_auto_rows": null,
            "grid_gap": null,
            "max_width": null,
            "order": null,
            "_view_module_version": "1.2.0",
            "grid_template_areas": null,
            "object_position": null,
            "object_fit": null,
            "grid_auto_columns": null,
            "margin": null,
            "display": null,
            "left": null
          }
        },
        "80eaa6e0794744d2a7cd015c1e32c713": {
          "model_module": "@jupyter-widgets/controls",
          "model_name": "ProgressStyleModel",
          "model_module_version": "1.5.0",
          "state": {
            "_view_name": "StyleView",
            "_model_name": "ProgressStyleModel",
            "description_width": "",
            "_view_module": "@jupyter-widgets/base",
            "_model_module_version": "1.5.0",
            "_view_count": null,
            "_view_module_version": "1.2.0",
            "bar_color": null,
            "_model_module": "@jupyter-widgets/controls"
          }
        },
        "a5e20d761bbc4a889484db29d136273b": {
          "model_module": "@jupyter-widgets/base",
          "model_name": "LayoutModel",
          "model_module_version": "1.2.0",
          "state": {
            "_view_name": "LayoutView",
            "grid_template_rows": null,
            "right": null,
            "justify_content": null,
            "_view_module": "@jupyter-widgets/base",
            "overflow": null,
            "_model_module_version": "1.2.0",
            "_view_count": null,
            "flex_flow": null,
            "width": null,
            "min_width": null,
            "border": null,
            "align_items": null,
            "bottom": null,
            "_model_module": "@jupyter-widgets/base",
            "top": null,
            "grid_column": null,
            "overflow_y": null,
            "overflow_x": null,
            "grid_auto_flow": null,
            "grid_area": null,
            "grid_template_columns": null,
            "flex": null,
            "_model_name": "LayoutModel",
            "justify_items": null,
            "grid_row": null,
            "max_height": null,
            "align_content": null,
            "visibility": null,
            "align_self": null,
            "height": null,
            "min_height": null,
            "padding": null,
            "grid_auto_rows": null,
            "grid_gap": null,
            "max_width": null,
            "order": null,
            "_view_module_version": "1.2.0",
            "grid_template_areas": null,
            "object_position": null,
            "object_fit": null,
            "grid_auto_columns": null,
            "margin": null,
            "display": null,
            "left": null
          }
        },
        "25be72cdc2034f89bb6d5fef53e5f45e": {
          "model_module": "@jupyter-widgets/controls",
          "model_name": "DescriptionStyleModel",
          "model_module_version": "1.5.0",
          "state": {
            "_view_name": "StyleView",
            "_model_name": "DescriptionStyleModel",
            "description_width": "",
            "_view_module": "@jupyter-widgets/base",
            "_model_module_version": "1.5.0",
            "_view_count": null,
            "_view_module_version": "1.2.0",
            "_model_module": "@jupyter-widgets/controls"
          }
        },
        "03c38664459d4c0d88fcf16112c29fa1": {
          "model_module": "@jupyter-widgets/base",
          "model_name": "LayoutModel",
          "model_module_version": "1.2.0",
          "state": {
            "_view_name": "LayoutView",
            "grid_template_rows": null,
            "right": null,
            "justify_content": null,
            "_view_module": "@jupyter-widgets/base",
            "overflow": null,
            "_model_module_version": "1.2.0",
            "_view_count": null,
            "flex_flow": null,
            "width": null,
            "min_width": null,
            "border": null,
            "align_items": null,
            "bottom": null,
            "_model_module": "@jupyter-widgets/base",
            "top": null,
            "grid_column": null,
            "overflow_y": null,
            "overflow_x": null,
            "grid_auto_flow": null,
            "grid_area": null,
            "grid_template_columns": null,
            "flex": null,
            "_model_name": "LayoutModel",
            "justify_items": null,
            "grid_row": null,
            "max_height": null,
            "align_content": null,
            "visibility": null,
            "align_self": null,
            "height": null,
            "min_height": null,
            "padding": null,
            "grid_auto_rows": null,
            "grid_gap": null,
            "max_width": null,
            "order": null,
            "_view_module_version": "1.2.0",
            "grid_template_areas": null,
            "object_position": null,
            "object_fit": null,
            "grid_auto_columns": null,
            "margin": null,
            "display": null,
            "left": null
          }
        },
        "d3c48cd8633c4f69940299599792bb25": {
          "model_module": "@jupyter-widgets/controls",
          "model_name": "HBoxModel",
          "model_module_version": "1.5.0",
          "state": {
            "_view_name": "HBoxView",
            "_dom_classes": [],
            "_model_name": "HBoxModel",
            "_view_module": "@jupyter-widgets/controls",
            "_model_module_version": "1.5.0",
            "_view_count": null,
            "_view_module_version": "1.5.0",
            "box_style": "",
            "layout": "IPY_MODEL_1707b87bd5d04d87956d60b33f65128e",
            "_model_module": "@jupyter-widgets/controls",
            "children": [
              "IPY_MODEL_75fa3930ff3a47ae86393296e61f201d",
              "IPY_MODEL_290d9b08c2754f6dbfdebee322eff59a",
              "IPY_MODEL_6d2dd67f5aaf4237b9b35133b15d1833"
            ]
          }
        },
        "1707b87bd5d04d87956d60b33f65128e": {
          "model_module": "@jupyter-widgets/base",
          "model_name": "LayoutModel",
          "model_module_version": "1.2.0",
          "state": {
            "_view_name": "LayoutView",
            "grid_template_rows": null,
            "right": null,
            "justify_content": null,
            "_view_module": "@jupyter-widgets/base",
            "overflow": null,
            "_model_module_version": "1.2.0",
            "_view_count": null,
            "flex_flow": null,
            "width": null,
            "min_width": null,
            "border": null,
            "align_items": null,
            "bottom": null,
            "_model_module": "@jupyter-widgets/base",
            "top": null,
            "grid_column": null,
            "overflow_y": null,
            "overflow_x": null,
            "grid_auto_flow": null,
            "grid_area": null,
            "grid_template_columns": null,
            "flex": null,
            "_model_name": "LayoutModel",
            "justify_items": null,
            "grid_row": null,
            "max_height": null,
            "align_content": null,
            "visibility": null,
            "align_self": null,
            "height": null,
            "min_height": null,
            "padding": null,
            "grid_auto_rows": null,
            "grid_gap": null,
            "max_width": null,
            "order": null,
            "_view_module_version": "1.2.0",
            "grid_template_areas": null,
            "object_position": null,
            "object_fit": null,
            "grid_auto_columns": null,
            "margin": null,
            "display": null,
            "left": null
          }
        },
        "75fa3930ff3a47ae86393296e61f201d": {
          "model_module": "@jupyter-widgets/controls",
          "model_name": "HTMLModel",
          "model_module_version": "1.5.0",
          "state": {
            "_view_name": "HTMLView",
            "style": "IPY_MODEL_2a04eea9ab244ebeb779eb9094669222",
            "_dom_classes": [],
            "description": "",
            "_model_name": "HTMLModel",
            "placeholder": "​",
            "_view_module": "@jupyter-widgets/controls",
            "_model_module_version": "1.5.0",
            "value": "Downloading: 100%",
            "_view_count": null,
            "_view_module_version": "1.5.0",
            "description_tooltip": null,
            "_model_module": "@jupyter-widgets/controls",
            "layout": "IPY_MODEL_2b481387d9644a5f940b44c81e2be3a9"
          }
        },
        "290d9b08c2754f6dbfdebee322eff59a": {
          "model_module": "@jupyter-widgets/controls",
          "model_name": "FloatProgressModel",
          "model_module_version": "1.5.0",
          "state": {
            "_view_name": "ProgressView",
            "style": "IPY_MODEL_9495cb4318dd4eabb70516939b7770cc",
            "_dom_classes": [],
            "description": "",
            "_model_name": "FloatProgressModel",
            "bar_style": "success",
            "max": 53,
            "_view_module": "@jupyter-widgets/controls",
            "_model_module_version": "1.5.0",
            "value": 53,
            "_view_count": null,
            "_view_module_version": "1.5.0",
            "orientation": "horizontal",
            "min": 0,
            "description_tooltip": null,
            "_model_module": "@jupyter-widgets/controls",
            "layout": "IPY_MODEL_c6218620d9e34b84b8869442b3a53a11"
          }
        },
        "6d2dd67f5aaf4237b9b35133b15d1833": {
          "model_module": "@jupyter-widgets/controls",
          "model_name": "HTMLModel",
          "model_module_version": "1.5.0",
          "state": {
            "_view_name": "HTMLView",
            "style": "IPY_MODEL_5872e48de44e42fbbbdbc211ffea103a",
            "_dom_classes": [],
            "description": "",
            "_model_name": "HTMLModel",
            "placeholder": "​",
            "_view_module": "@jupyter-widgets/controls",
            "_model_module_version": "1.5.0",
            "value": " 53.0/53.0 [00:00&lt;00:00, 1.50kB/s]",
            "_view_count": null,
            "_view_module_version": "1.5.0",
            "description_tooltip": null,
            "_model_module": "@jupyter-widgets/controls",
            "layout": "IPY_MODEL_edc2c8f924b3479da541803569848136"
          }
        },
        "2a04eea9ab244ebeb779eb9094669222": {
          "model_module": "@jupyter-widgets/controls",
          "model_name": "DescriptionStyleModel",
          "model_module_version": "1.5.0",
          "state": {
            "_view_name": "StyleView",
            "_model_name": "DescriptionStyleModel",
            "description_width": "",
            "_view_module": "@jupyter-widgets/base",
            "_model_module_version": "1.5.0",
            "_view_count": null,
            "_view_module_version": "1.2.0",
            "_model_module": "@jupyter-widgets/controls"
          }
        },
        "2b481387d9644a5f940b44c81e2be3a9": {
          "model_module": "@jupyter-widgets/base",
          "model_name": "LayoutModel",
          "model_module_version": "1.2.0",
          "state": {
            "_view_name": "LayoutView",
            "grid_template_rows": null,
            "right": null,
            "justify_content": null,
            "_view_module": "@jupyter-widgets/base",
            "overflow": null,
            "_model_module_version": "1.2.0",
            "_view_count": null,
            "flex_flow": null,
            "width": null,
            "min_width": null,
            "border": null,
            "align_items": null,
            "bottom": null,
            "_model_module": "@jupyter-widgets/base",
            "top": null,
            "grid_column": null,
            "overflow_y": null,
            "overflow_x": null,
            "grid_auto_flow": null,
            "grid_area": null,
            "grid_template_columns": null,
            "flex": null,
            "_model_name": "LayoutModel",
            "justify_items": null,
            "grid_row": null,
            "max_height": null,
            "align_content": null,
            "visibility": null,
            "align_self": null,
            "height": null,
            "min_height": null,
            "padding": null,
            "grid_auto_rows": null,
            "grid_gap": null,
            "max_width": null,
            "order": null,
            "_view_module_version": "1.2.0",
            "grid_template_areas": null,
            "object_position": null,
            "object_fit": null,
            "grid_auto_columns": null,
            "margin": null,
            "display": null,
            "left": null
          }
        },
        "9495cb4318dd4eabb70516939b7770cc": {
          "model_module": "@jupyter-widgets/controls",
          "model_name": "ProgressStyleModel",
          "model_module_version": "1.5.0",
          "state": {
            "_view_name": "StyleView",
            "_model_name": "ProgressStyleModel",
            "description_width": "",
            "_view_module": "@jupyter-widgets/base",
            "_model_module_version": "1.5.0",
            "_view_count": null,
            "_view_module_version": "1.2.0",
            "bar_color": null,
            "_model_module": "@jupyter-widgets/controls"
          }
        },
        "c6218620d9e34b84b8869442b3a53a11": {
          "model_module": "@jupyter-widgets/base",
          "model_name": "LayoutModel",
          "model_module_version": "1.2.0",
          "state": {
            "_view_name": "LayoutView",
            "grid_template_rows": null,
            "right": null,
            "justify_content": null,
            "_view_module": "@jupyter-widgets/base",
            "overflow": null,
            "_model_module_version": "1.2.0",
            "_view_count": null,
            "flex_flow": null,
            "width": null,
            "min_width": null,
            "border": null,
            "align_items": null,
            "bottom": null,
            "_model_module": "@jupyter-widgets/base",
            "top": null,
            "grid_column": null,
            "overflow_y": null,
            "overflow_x": null,
            "grid_auto_flow": null,
            "grid_area": null,
            "grid_template_columns": null,
            "flex": null,
            "_model_name": "LayoutModel",
            "justify_items": null,
            "grid_row": null,
            "max_height": null,
            "align_content": null,
            "visibility": null,
            "align_self": null,
            "height": null,
            "min_height": null,
            "padding": null,
            "grid_auto_rows": null,
            "grid_gap": null,
            "max_width": null,
            "order": null,
            "_view_module_version": "1.2.0",
            "grid_template_areas": null,
            "object_position": null,
            "object_fit": null,
            "grid_auto_columns": null,
            "margin": null,
            "display": null,
            "left": null
          }
        },
        "5872e48de44e42fbbbdbc211ffea103a": {
          "model_module": "@jupyter-widgets/controls",
          "model_name": "DescriptionStyleModel",
          "model_module_version": "1.5.0",
          "state": {
            "_view_name": "StyleView",
            "_model_name": "DescriptionStyleModel",
            "description_width": "",
            "_view_module": "@jupyter-widgets/base",
            "_model_module_version": "1.5.0",
            "_view_count": null,
            "_view_module_version": "1.2.0",
            "_model_module": "@jupyter-widgets/controls"
          }
        },
        "edc2c8f924b3479da541803569848136": {
          "model_module": "@jupyter-widgets/base",
          "model_name": "LayoutModel",
          "model_module_version": "1.2.0",
          "state": {
            "_view_name": "LayoutView",
            "grid_template_rows": null,
            "right": null,
            "justify_content": null,
            "_view_module": "@jupyter-widgets/base",
            "overflow": null,
            "_model_module_version": "1.2.0",
            "_view_count": null,
            "flex_flow": null,
            "width": null,
            "min_width": null,
            "border": null,
            "align_items": null,
            "bottom": null,
            "_model_module": "@jupyter-widgets/base",
            "top": null,
            "grid_column": null,
            "overflow_y": null,
            "overflow_x": null,
            "grid_auto_flow": null,
            "grid_area": null,
            "grid_template_columns": null,
            "flex": null,
            "_model_name": "LayoutModel",
            "justify_items": null,
            "grid_row": null,
            "max_height": null,
            "align_content": null,
            "visibility": null,
            "align_self": null,
            "height": null,
            "min_height": null,
            "padding": null,
            "grid_auto_rows": null,
            "grid_gap": null,
            "max_width": null,
            "order": null,
            "_view_module_version": "1.2.0",
            "grid_template_areas": null,
            "object_position": null,
            "object_fit": null,
            "grid_auto_columns": null,
            "margin": null,
            "display": null,
            "left": null
          }
        },
        "f2fb628cd9404095b5a57aede39cb577": {
          "model_module": "@jupyter-widgets/controls",
          "model_name": "HBoxModel",
          "model_module_version": "1.5.0",
          "state": {
            "_view_name": "HBoxView",
            "_dom_classes": [],
            "_model_name": "HBoxModel",
            "_view_module": "@jupyter-widgets/controls",
            "_model_module_version": "1.5.0",
            "_view_count": null,
            "_view_module_version": "1.5.0",
            "box_style": "",
            "layout": "IPY_MODEL_bd14494e28184fe19917d49b9603f4db",
            "_model_module": "@jupyter-widgets/controls",
            "children": [
              "IPY_MODEL_d9d65845019e4b27a1c9735832db510e",
              "IPY_MODEL_5a789ab618e74754b7a44cef09ed0132",
              "IPY_MODEL_3ec4010926ad45579738b1e987897a6c"
            ]
          }
        },
        "bd14494e28184fe19917d49b9603f4db": {
          "model_module": "@jupyter-widgets/base",
          "model_name": "LayoutModel",
          "model_module_version": "1.2.0",
          "state": {
            "_view_name": "LayoutView",
            "grid_template_rows": null,
            "right": null,
            "justify_content": null,
            "_view_module": "@jupyter-widgets/base",
            "overflow": null,
            "_model_module_version": "1.2.0",
            "_view_count": null,
            "flex_flow": null,
            "width": null,
            "min_width": null,
            "border": null,
            "align_items": null,
            "bottom": null,
            "_model_module": "@jupyter-widgets/base",
            "top": null,
            "grid_column": null,
            "overflow_y": null,
            "overflow_x": null,
            "grid_auto_flow": null,
            "grid_area": null,
            "grid_template_columns": null,
            "flex": null,
            "_model_name": "LayoutModel",
            "justify_items": null,
            "grid_row": null,
            "max_height": null,
            "align_content": null,
            "visibility": null,
            "align_self": null,
            "height": null,
            "min_height": null,
            "padding": null,
            "grid_auto_rows": null,
            "grid_gap": null,
            "max_width": null,
            "order": null,
            "_view_module_version": "1.2.0",
            "grid_template_areas": null,
            "object_position": null,
            "object_fit": null,
            "grid_auto_columns": null,
            "margin": null,
            "display": null,
            "left": null
          }
        },
        "d9d65845019e4b27a1c9735832db510e": {
          "model_module": "@jupyter-widgets/controls",
          "model_name": "HTMLModel",
          "model_module_version": "1.5.0",
          "state": {
            "_view_name": "HTMLView",
            "style": "IPY_MODEL_589765677a7e46eb9110d9182f2a3900",
            "_dom_classes": [],
            "description": "",
            "_model_name": "HTMLModel",
            "placeholder": "​",
            "_view_module": "@jupyter-widgets/controls",
            "_model_module_version": "1.5.0",
            "value": "Downloading: 100%",
            "_view_count": null,
            "_view_module_version": "1.5.0",
            "description_tooltip": null,
            "_model_module": "@jupyter-widgets/controls",
            "layout": "IPY_MODEL_b883fa7f18314ebe85f81ed30e825aa4"
          }
        },
        "5a789ab618e74754b7a44cef09ed0132": {
          "model_module": "@jupyter-widgets/controls",
          "model_name": "FloatProgressModel",
          "model_module_version": "1.5.0",
          "state": {
            "_view_name": "ProgressView",
            "style": "IPY_MODEL_fd9a9a371ec242d7856ab1aba00c05d2",
            "_dom_classes": [],
            "description": "",
            "_model_name": "FloatProgressModel",
            "bar_style": "success",
            "max": 239,
            "_view_module": "@jupyter-widgets/controls",
            "_model_module_version": "1.5.0",
            "value": 239,
            "_view_count": null,
            "_view_module_version": "1.5.0",
            "orientation": "horizontal",
            "min": 0,
            "description_tooltip": null,
            "_model_module": "@jupyter-widgets/controls",
            "layout": "IPY_MODEL_212104b9d2014bf3a957b5ff6fa2ded3"
          }
        },
        "3ec4010926ad45579738b1e987897a6c": {
          "model_module": "@jupyter-widgets/controls",
          "model_name": "HTMLModel",
          "model_module_version": "1.5.0",
          "state": {
            "_view_name": "HTMLView",
            "style": "IPY_MODEL_fea1dab0a17f4c618af4c92ebf4c6059",
            "_dom_classes": [],
            "description": "",
            "_model_name": "HTMLModel",
            "placeholder": "​",
            "_view_module": "@jupyter-widgets/controls",
            "_model_module_version": "1.5.0",
            "value": " 239/239 [00:00&lt;00:00, 8.42kB/s]",
            "_view_count": null,
            "_view_module_version": "1.5.0",
            "description_tooltip": null,
            "_model_module": "@jupyter-widgets/controls",
            "layout": "IPY_MODEL_11b86a76375b45fe8af7e04fd64a1005"
          }
        },
        "589765677a7e46eb9110d9182f2a3900": {
          "model_module": "@jupyter-widgets/controls",
          "model_name": "DescriptionStyleModel",
          "model_module_version": "1.5.0",
          "state": {
            "_view_name": "StyleView",
            "_model_name": "DescriptionStyleModel",
            "description_width": "",
            "_view_module": "@jupyter-widgets/base",
            "_model_module_version": "1.5.0",
            "_view_count": null,
            "_view_module_version": "1.2.0",
            "_model_module": "@jupyter-widgets/controls"
          }
        },
        "b883fa7f18314ebe85f81ed30e825aa4": {
          "model_module": "@jupyter-widgets/base",
          "model_name": "LayoutModel",
          "model_module_version": "1.2.0",
          "state": {
            "_view_name": "LayoutView",
            "grid_template_rows": null,
            "right": null,
            "justify_content": null,
            "_view_module": "@jupyter-widgets/base",
            "overflow": null,
            "_model_module_version": "1.2.0",
            "_view_count": null,
            "flex_flow": null,
            "width": null,
            "min_width": null,
            "border": null,
            "align_items": null,
            "bottom": null,
            "_model_module": "@jupyter-widgets/base",
            "top": null,
            "grid_column": null,
            "overflow_y": null,
            "overflow_x": null,
            "grid_auto_flow": null,
            "grid_area": null,
            "grid_template_columns": null,
            "flex": null,
            "_model_name": "LayoutModel",
            "justify_items": null,
            "grid_row": null,
            "max_height": null,
            "align_content": null,
            "visibility": null,
            "align_self": null,
            "height": null,
            "min_height": null,
            "padding": null,
            "grid_auto_rows": null,
            "grid_gap": null,
            "max_width": null,
            "order": null,
            "_view_module_version": "1.2.0",
            "grid_template_areas": null,
            "object_position": null,
            "object_fit": null,
            "grid_auto_columns": null,
            "margin": null,
            "display": null,
            "left": null
          }
        },
        "fd9a9a371ec242d7856ab1aba00c05d2": {
          "model_module": "@jupyter-widgets/controls",
          "model_name": "ProgressStyleModel",
          "model_module_version": "1.5.0",
          "state": {
            "_view_name": "StyleView",
            "_model_name": "ProgressStyleModel",
            "description_width": "",
            "_view_module": "@jupyter-widgets/base",
            "_model_module_version": "1.5.0",
            "_view_count": null,
            "_view_module_version": "1.2.0",
            "bar_color": null,
            "_model_module": "@jupyter-widgets/controls"
          }
        },
        "212104b9d2014bf3a957b5ff6fa2ded3": {
          "model_module": "@jupyter-widgets/base",
          "model_name": "LayoutModel",
          "model_module_version": "1.2.0",
          "state": {
            "_view_name": "LayoutView",
            "grid_template_rows": null,
            "right": null,
            "justify_content": null,
            "_view_module": "@jupyter-widgets/base",
            "overflow": null,
            "_model_module_version": "1.2.0",
            "_view_count": null,
            "flex_flow": null,
            "width": null,
            "min_width": null,
            "border": null,
            "align_items": null,
            "bottom": null,
            "_model_module": "@jupyter-widgets/base",
            "top": null,
            "grid_column": null,
            "overflow_y": null,
            "overflow_x": null,
            "grid_auto_flow": null,
            "grid_area": null,
            "grid_template_columns": null,
            "flex": null,
            "_model_name": "LayoutModel",
            "justify_items": null,
            "grid_row": null,
            "max_height": null,
            "align_content": null,
            "visibility": null,
            "align_self": null,
            "height": null,
            "min_height": null,
            "padding": null,
            "grid_auto_rows": null,
            "grid_gap": null,
            "max_width": null,
            "order": null,
            "_view_module_version": "1.2.0",
            "grid_template_areas": null,
            "object_position": null,
            "object_fit": null,
            "grid_auto_columns": null,
            "margin": null,
            "display": null,
            "left": null
          }
        },
        "fea1dab0a17f4c618af4c92ebf4c6059": {
          "model_module": "@jupyter-widgets/controls",
          "model_name": "DescriptionStyleModel",
          "model_module_version": "1.5.0",
          "state": {
            "_view_name": "StyleView",
            "_model_name": "DescriptionStyleModel",
            "description_width": "",
            "_view_module": "@jupyter-widgets/base",
            "_model_module_version": "1.5.0",
            "_view_count": null,
            "_view_module_version": "1.2.0",
            "_model_module": "@jupyter-widgets/controls"
          }
        },
        "11b86a76375b45fe8af7e04fd64a1005": {
          "model_module": "@jupyter-widgets/base",
          "model_name": "LayoutModel",
          "model_module_version": "1.2.0",
          "state": {
            "_view_name": "LayoutView",
            "grid_template_rows": null,
            "right": null,
            "justify_content": null,
            "_view_module": "@jupyter-widgets/base",
            "overflow": null,
            "_model_module_version": "1.2.0",
            "_view_count": null,
            "flex_flow": null,
            "width": null,
            "min_width": null,
            "border": null,
            "align_items": null,
            "bottom": null,
            "_model_module": "@jupyter-widgets/base",
            "top": null,
            "grid_column": null,
            "overflow_y": null,
            "overflow_x": null,
            "grid_auto_flow": null,
            "grid_area": null,
            "grid_template_columns": null,
            "flex": null,
            "_model_name": "LayoutModel",
            "justify_items": null,
            "grid_row": null,
            "max_height": null,
            "align_content": null,
            "visibility": null,
            "align_self": null,
            "height": null,
            "min_height": null,
            "padding": null,
            "grid_auto_rows": null,
            "grid_gap": null,
            "max_width": null,
            "order": null,
            "_view_module_version": "1.2.0",
            "grid_template_areas": null,
            "object_position": null,
            "object_fit": null,
            "grid_auto_columns": null,
            "margin": null,
            "display": null,
            "left": null
          }
        },
        "16ec0f556ba54d0a82701d4c5a2d4dd1": {
          "model_module": "@jupyter-widgets/controls",
          "model_name": "HBoxModel",
          "model_module_version": "1.5.0",
          "state": {
            "_view_name": "HBoxView",
            "_dom_classes": [],
            "_model_name": "HBoxModel",
            "_view_module": "@jupyter-widgets/controls",
            "_model_module_version": "1.5.0",
            "_view_count": null,
            "_view_module_version": "1.5.0",
            "box_style": "",
            "layout": "IPY_MODEL_098e08f1c1e343559f253a785f80c10c",
            "_model_module": "@jupyter-widgets/controls",
            "children": [
              "IPY_MODEL_a35120f4d38d455d88bd1726d71db6a2",
              "IPY_MODEL_31e66b569bc3406faca9dd82a8f8f1cd",
              "IPY_MODEL_636a0c2fb1bb42f7bfcc5d1dc384e7c2"
            ]
          }
        },
        "098e08f1c1e343559f253a785f80c10c": {
          "model_module": "@jupyter-widgets/base",
          "model_name": "LayoutModel",
          "model_module_version": "1.2.0",
          "state": {
            "_view_name": "LayoutView",
            "grid_template_rows": null,
            "right": null,
            "justify_content": null,
            "_view_module": "@jupyter-widgets/base",
            "overflow": null,
            "_model_module_version": "1.2.0",
            "_view_count": null,
            "flex_flow": null,
            "width": null,
            "min_width": null,
            "border": null,
            "align_items": null,
            "bottom": null,
            "_model_module": "@jupyter-widgets/base",
            "top": null,
            "grid_column": null,
            "overflow_y": null,
            "overflow_x": null,
            "grid_auto_flow": null,
            "grid_area": null,
            "grid_template_columns": null,
            "flex": null,
            "_model_name": "LayoutModel",
            "justify_items": null,
            "grid_row": null,
            "max_height": null,
            "align_content": null,
            "visibility": null,
            "align_self": null,
            "height": null,
            "min_height": null,
            "padding": null,
            "grid_auto_rows": null,
            "grid_gap": null,
            "max_width": null,
            "order": null,
            "_view_module_version": "1.2.0",
            "grid_template_areas": null,
            "object_position": null,
            "object_fit": null,
            "grid_auto_columns": null,
            "margin": null,
            "display": null,
            "left": null
          }
        },
        "a35120f4d38d455d88bd1726d71db6a2": {
          "model_module": "@jupyter-widgets/controls",
          "model_name": "HTMLModel",
          "model_module_version": "1.5.0",
          "state": {
            "_view_name": "HTMLView",
            "style": "IPY_MODEL_ef4ab471443e4dd1b27a9f68971a71fa",
            "_dom_classes": [],
            "description": "",
            "_model_name": "HTMLModel",
            "placeholder": "​",
            "_view_module": "@jupyter-widgets/controls",
            "_model_module_version": "1.5.0",
            "value": "Downloading: 100%",
            "_view_count": null,
            "_view_module_version": "1.5.0",
            "description_tooltip": null,
            "_model_module": "@jupyter-widgets/controls",
            "layout": "IPY_MODEL_78bb20b43afe40dd9a3183430811a9ab"
          }
        },
        "31e66b569bc3406faca9dd82a8f8f1cd": {
          "model_module": "@jupyter-widgets/controls",
          "model_name": "FloatProgressModel",
          "model_module_version": "1.5.0",
          "state": {
            "_view_name": "ProgressView",
            "style": "IPY_MODEL_ff4815c480974e2b90f5115aca93d3eb",
            "_dom_classes": [],
            "description": "",
            "_model_name": "FloatProgressModel",
            "bar_style": "success",
            "max": 1356047,
            "_view_module": "@jupyter-widgets/controls",
            "_model_module_version": "1.5.0",
            "value": 1356047,
            "_view_count": null,
            "_view_module_version": "1.5.0",
            "orientation": "horizontal",
            "min": 0,
            "description_tooltip": null,
            "_model_module": "@jupyter-widgets/controls",
            "layout": "IPY_MODEL_24f9ad74e0aa45f7a62a2dd61d50febe"
          }
        },
        "636a0c2fb1bb42f7bfcc5d1dc384e7c2": {
          "model_module": "@jupyter-widgets/controls",
          "model_name": "HTMLModel",
          "model_module_version": "1.5.0",
          "state": {
            "_view_name": "HTMLView",
            "style": "IPY_MODEL_8fad8bcdfd6c4257935c3085aeef7c7e",
            "_dom_classes": [],
            "description": "",
            "_model_name": "HTMLModel",
            "placeholder": "​",
            "_view_module": "@jupyter-widgets/controls",
            "_model_module_version": "1.5.0",
            "value": " 1.36M/1.36M [00:00&lt;00:00, 1.90MB/s]",
            "_view_count": null,
            "_view_module_version": "1.5.0",
            "description_tooltip": null,
            "_model_module": "@jupyter-widgets/controls",
            "layout": "IPY_MODEL_a68fa15ce5a2437e8984010ab36d0d93"
          }
        },
        "ef4ab471443e4dd1b27a9f68971a71fa": {
          "model_module": "@jupyter-widgets/controls",
          "model_name": "DescriptionStyleModel",
          "model_module_version": "1.5.0",
          "state": {
            "_view_name": "StyleView",
            "_model_name": "DescriptionStyleModel",
            "description_width": "",
            "_view_module": "@jupyter-widgets/base",
            "_model_module_version": "1.5.0",
            "_view_count": null,
            "_view_module_version": "1.2.0",
            "_model_module": "@jupyter-widgets/controls"
          }
        },
        "78bb20b43afe40dd9a3183430811a9ab": {
          "model_module": "@jupyter-widgets/base",
          "model_name": "LayoutModel",
          "model_module_version": "1.2.0",
          "state": {
            "_view_name": "LayoutView",
            "grid_template_rows": null,
            "right": null,
            "justify_content": null,
            "_view_module": "@jupyter-widgets/base",
            "overflow": null,
            "_model_module_version": "1.2.0",
            "_view_count": null,
            "flex_flow": null,
            "width": null,
            "min_width": null,
            "border": null,
            "align_items": null,
            "bottom": null,
            "_model_module": "@jupyter-widgets/base",
            "top": null,
            "grid_column": null,
            "overflow_y": null,
            "overflow_x": null,
            "grid_auto_flow": null,
            "grid_area": null,
            "grid_template_columns": null,
            "flex": null,
            "_model_name": "LayoutModel",
            "justify_items": null,
            "grid_row": null,
            "max_height": null,
            "align_content": null,
            "visibility": null,
            "align_self": null,
            "height": null,
            "min_height": null,
            "padding": null,
            "grid_auto_rows": null,
            "grid_gap": null,
            "max_width": null,
            "order": null,
            "_view_module_version": "1.2.0",
            "grid_template_areas": null,
            "object_position": null,
            "object_fit": null,
            "grid_auto_columns": null,
            "margin": null,
            "display": null,
            "left": null
          }
        },
        "ff4815c480974e2b90f5115aca93d3eb": {
          "model_module": "@jupyter-widgets/controls",
          "model_name": "ProgressStyleModel",
          "model_module_version": "1.5.0",
          "state": {
            "_view_name": "StyleView",
            "_model_name": "ProgressStyleModel",
            "description_width": "",
            "_view_module": "@jupyter-widgets/base",
            "_model_module_version": "1.5.0",
            "_view_count": null,
            "_view_module_version": "1.2.0",
            "bar_color": null,
            "_model_module": "@jupyter-widgets/controls"
          }
        },
        "24f9ad74e0aa45f7a62a2dd61d50febe": {
          "model_module": "@jupyter-widgets/base",
          "model_name": "LayoutModel",
          "model_module_version": "1.2.0",
          "state": {
            "_view_name": "LayoutView",
            "grid_template_rows": null,
            "right": null,
            "justify_content": null,
            "_view_module": "@jupyter-widgets/base",
            "overflow": null,
            "_model_module_version": "1.2.0",
            "_view_count": null,
            "flex_flow": null,
            "width": null,
            "min_width": null,
            "border": null,
            "align_items": null,
            "bottom": null,
            "_model_module": "@jupyter-widgets/base",
            "top": null,
            "grid_column": null,
            "overflow_y": null,
            "overflow_x": null,
            "grid_auto_flow": null,
            "grid_area": null,
            "grid_template_columns": null,
            "flex": null,
            "_model_name": "LayoutModel",
            "justify_items": null,
            "grid_row": null,
            "max_height": null,
            "align_content": null,
            "visibility": null,
            "align_self": null,
            "height": null,
            "min_height": null,
            "padding": null,
            "grid_auto_rows": null,
            "grid_gap": null,
            "max_width": null,
            "order": null,
            "_view_module_version": "1.2.0",
            "grid_template_areas": null,
            "object_position": null,
            "object_fit": null,
            "grid_auto_columns": null,
            "margin": null,
            "display": null,
            "left": null
          }
        },
        "8fad8bcdfd6c4257935c3085aeef7c7e": {
          "model_module": "@jupyter-widgets/controls",
          "model_name": "DescriptionStyleModel",
          "model_module_version": "1.5.0",
          "state": {
            "_view_name": "StyleView",
            "_model_name": "DescriptionStyleModel",
            "description_width": "",
            "_view_module": "@jupyter-widgets/base",
            "_model_module_version": "1.5.0",
            "_view_count": null,
            "_view_module_version": "1.2.0",
            "_model_module": "@jupyter-widgets/controls"
          }
        },
        "a68fa15ce5a2437e8984010ab36d0d93": {
          "model_module": "@jupyter-widgets/base",
          "model_name": "LayoutModel",
          "model_module_version": "1.2.0",
          "state": {
            "_view_name": "LayoutView",
            "grid_template_rows": null,
            "right": null,
            "justify_content": null,
            "_view_module": "@jupyter-widgets/base",
            "overflow": null,
            "_model_module_version": "1.2.0",
            "_view_count": null,
            "flex_flow": null,
            "width": null,
            "min_width": null,
            "border": null,
            "align_items": null,
            "bottom": null,
            "_model_module": "@jupyter-widgets/base",
            "top": null,
            "grid_column": null,
            "overflow_y": null,
            "overflow_x": null,
            "grid_auto_flow": null,
            "grid_area": null,
            "grid_template_columns": null,
            "flex": null,
            "_model_name": "LayoutModel",
            "justify_items": null,
            "grid_row": null,
            "max_height": null,
            "align_content": null,
            "visibility": null,
            "align_self": null,
            "height": null,
            "min_height": null,
            "padding": null,
            "grid_auto_rows": null,
            "grid_gap": null,
            "max_width": null,
            "order": null,
            "_view_module_version": "1.2.0",
            "grid_template_areas": null,
            "object_position": null,
            "object_fit": null,
            "grid_auto_columns": null,
            "margin": null,
            "display": null,
            "left": null
          }
        },
        "3a8ef01704524e128e7b8acaaaaa0614": {
          "model_module": "@jupyter-widgets/controls",
          "model_name": "HBoxModel",
          "model_module_version": "1.5.0",
          "state": {
            "_view_name": "HBoxView",
            "_dom_classes": [],
            "_model_name": "HBoxModel",
            "_view_module": "@jupyter-widgets/controls",
            "_model_module_version": "1.5.0",
            "_view_count": null,
            "_view_module_version": "1.5.0",
            "box_style": "",
            "layout": "IPY_MODEL_6e66eb1fecc246e5943adef6f384aab7",
            "_model_module": "@jupyter-widgets/controls",
            "children": [
              "IPY_MODEL_eb651d4aa4b04066928f36a9528a47dd",
              "IPY_MODEL_05d6004e9d67468c9ddafe6f711d86be",
              "IPY_MODEL_e715bd41581141bdb086633137d22c1c"
            ]
          }
        },
        "6e66eb1fecc246e5943adef6f384aab7": {
          "model_module": "@jupyter-widgets/base",
          "model_name": "LayoutModel",
          "model_module_version": "1.2.0",
          "state": {
            "_view_name": "LayoutView",
            "grid_template_rows": null,
            "right": null,
            "justify_content": null,
            "_view_module": "@jupyter-widgets/base",
            "overflow": null,
            "_model_module_version": "1.2.0",
            "_view_count": null,
            "flex_flow": null,
            "width": null,
            "min_width": null,
            "border": null,
            "align_items": null,
            "bottom": null,
            "_model_module": "@jupyter-widgets/base",
            "top": null,
            "grid_column": null,
            "overflow_y": null,
            "overflow_x": null,
            "grid_auto_flow": null,
            "grid_area": null,
            "grid_template_columns": null,
            "flex": null,
            "_model_name": "LayoutModel",
            "justify_items": null,
            "grid_row": null,
            "max_height": null,
            "align_content": null,
            "visibility": null,
            "align_self": null,
            "height": null,
            "min_height": null,
            "padding": null,
            "grid_auto_rows": null,
            "grid_gap": null,
            "max_width": null,
            "order": null,
            "_view_module_version": "1.2.0",
            "grid_template_areas": null,
            "object_position": null,
            "object_fit": null,
            "grid_auto_columns": null,
            "margin": null,
            "display": null,
            "left": null
          }
        },
        "eb651d4aa4b04066928f36a9528a47dd": {
          "model_module": "@jupyter-widgets/controls",
          "model_name": "HTMLModel",
          "model_module_version": "1.5.0",
          "state": {
            "_view_name": "HTMLView",
            "style": "IPY_MODEL_67afd01205fa4bf0b229ceccae583d2e",
            "_dom_classes": [],
            "description": "",
            "_model_name": "HTMLModel",
            "placeholder": "​",
            "_view_module": "@jupyter-widgets/controls",
            "_model_module_version": "1.5.0",
            "value": "Downloading: 100%",
            "_view_count": null,
            "_view_module_version": "1.5.0",
            "description_tooltip": null,
            "_model_module": "@jupyter-widgets/controls",
            "layout": "IPY_MODEL_2e5699da8d3843c58850385002eb2748"
          }
        },
        "05d6004e9d67468c9ddafe6f711d86be": {
          "model_module": "@jupyter-widgets/controls",
          "model_name": "FloatProgressModel",
          "model_module_version": "1.5.0",
          "state": {
            "_view_name": "ProgressView",
            "style": "IPY_MODEL_99316583c6324d9eb7dd617a5a7b4b44",
            "_dom_classes": [],
            "description": "",
            "_model_name": "FloatProgressModel",
            "bar_style": "success",
            "max": 328,
            "_view_module": "@jupyter-widgets/controls",
            "_model_module_version": "1.5.0",
            "value": 328,
            "_view_count": null,
            "_view_module_version": "1.5.0",
            "orientation": "horizontal",
            "min": 0,
            "description_tooltip": null,
            "_model_module": "@jupyter-widgets/controls",
            "layout": "IPY_MODEL_9de6d2a6d2f84cb0bed86698f67660c3"
          }
        },
        "e715bd41581141bdb086633137d22c1c": {
          "model_module": "@jupyter-widgets/controls",
          "model_name": "HTMLModel",
          "model_module_version": "1.5.0",
          "state": {
            "_view_name": "HTMLView",
            "style": "IPY_MODEL_599381aa5c1144e3aba884d85a9af311",
            "_dom_classes": [],
            "description": "",
            "_model_name": "HTMLModel",
            "placeholder": "​",
            "_view_module": "@jupyter-widgets/controls",
            "_model_module_version": "1.5.0",
            "value": " 328/328 [00:00&lt;00:00, 10.0kB/s]",
            "_view_count": null,
            "_view_module_version": "1.5.0",
            "description_tooltip": null,
            "_model_module": "@jupyter-widgets/controls",
            "layout": "IPY_MODEL_8bdf9f0a57af463ca43803ad226fbc0c"
          }
        },
        "67afd01205fa4bf0b229ceccae583d2e": {
          "model_module": "@jupyter-widgets/controls",
          "model_name": "DescriptionStyleModel",
          "model_module_version": "1.5.0",
          "state": {
            "_view_name": "StyleView",
            "_model_name": "DescriptionStyleModel",
            "description_width": "",
            "_view_module": "@jupyter-widgets/base",
            "_model_module_version": "1.5.0",
            "_view_count": null,
            "_view_module_version": "1.2.0",
            "_model_module": "@jupyter-widgets/controls"
          }
        },
        "2e5699da8d3843c58850385002eb2748": {
          "model_module": "@jupyter-widgets/base",
          "model_name": "LayoutModel",
          "model_module_version": "1.2.0",
          "state": {
            "_view_name": "LayoutView",
            "grid_template_rows": null,
            "right": null,
            "justify_content": null,
            "_view_module": "@jupyter-widgets/base",
            "overflow": null,
            "_model_module_version": "1.2.0",
            "_view_count": null,
            "flex_flow": null,
            "width": null,
            "min_width": null,
            "border": null,
            "align_items": null,
            "bottom": null,
            "_model_module": "@jupyter-widgets/base",
            "top": null,
            "grid_column": null,
            "overflow_y": null,
            "overflow_x": null,
            "grid_auto_flow": null,
            "grid_area": null,
            "grid_template_columns": null,
            "flex": null,
            "_model_name": "LayoutModel",
            "justify_items": null,
            "grid_row": null,
            "max_height": null,
            "align_content": null,
            "visibility": null,
            "align_self": null,
            "height": null,
            "min_height": null,
            "padding": null,
            "grid_auto_rows": null,
            "grid_gap": null,
            "max_width": null,
            "order": null,
            "_view_module_version": "1.2.0",
            "grid_template_areas": null,
            "object_position": null,
            "object_fit": null,
            "grid_auto_columns": null,
            "margin": null,
            "display": null,
            "left": null
          }
        },
        "99316583c6324d9eb7dd617a5a7b4b44": {
          "model_module": "@jupyter-widgets/controls",
          "model_name": "ProgressStyleModel",
          "model_module_version": "1.5.0",
          "state": {
            "_view_name": "StyleView",
            "_model_name": "ProgressStyleModel",
            "description_width": "",
            "_view_module": "@jupyter-widgets/base",
            "_model_module_version": "1.5.0",
            "_view_count": null,
            "_view_module_version": "1.2.0",
            "bar_color": null,
            "_model_module": "@jupyter-widgets/controls"
          }
        },
        "9de6d2a6d2f84cb0bed86698f67660c3": {
          "model_module": "@jupyter-widgets/base",
          "model_name": "LayoutModel",
          "model_module_version": "1.2.0",
          "state": {
            "_view_name": "LayoutView",
            "grid_template_rows": null,
            "right": null,
            "justify_content": null,
            "_view_module": "@jupyter-widgets/base",
            "overflow": null,
            "_model_module_version": "1.2.0",
            "_view_count": null,
            "flex_flow": null,
            "width": null,
            "min_width": null,
            "border": null,
            "align_items": null,
            "bottom": null,
            "_model_module": "@jupyter-widgets/base",
            "top": null,
            "grid_column": null,
            "overflow_y": null,
            "overflow_x": null,
            "grid_auto_flow": null,
            "grid_area": null,
            "grid_template_columns": null,
            "flex": null,
            "_model_name": "LayoutModel",
            "justify_items": null,
            "grid_row": null,
            "max_height": null,
            "align_content": null,
            "visibility": null,
            "align_self": null,
            "height": null,
            "min_height": null,
            "padding": null,
            "grid_auto_rows": null,
            "grid_gap": null,
            "max_width": null,
            "order": null,
            "_view_module_version": "1.2.0",
            "grid_template_areas": null,
            "object_position": null,
            "object_fit": null,
            "grid_auto_columns": null,
            "margin": null,
            "display": null,
            "left": null
          }
        },
        "599381aa5c1144e3aba884d85a9af311": {
          "model_module": "@jupyter-widgets/controls",
          "model_name": "DescriptionStyleModel",
          "model_module_version": "1.5.0",
          "state": {
            "_view_name": "StyleView",
            "_model_name": "DescriptionStyleModel",
            "description_width": "",
            "_view_module": "@jupyter-widgets/base",
            "_model_module_version": "1.5.0",
            "_view_count": null,
            "_view_module_version": "1.2.0",
            "_model_module": "@jupyter-widgets/controls"
          }
        },
        "8bdf9f0a57af463ca43803ad226fbc0c": {
          "model_module": "@jupyter-widgets/base",
          "model_name": "LayoutModel",
          "model_module_version": "1.2.0",
          "state": {
            "_view_name": "LayoutView",
            "grid_template_rows": null,
            "right": null,
            "justify_content": null,
            "_view_module": "@jupyter-widgets/base",
            "overflow": null,
            "_model_module_version": "1.2.0",
            "_view_count": null,
            "flex_flow": null,
            "width": null,
            "min_width": null,
            "border": null,
            "align_items": null,
            "bottom": null,
            "_model_module": "@jupyter-widgets/base",
            "top": null,
            "grid_column": null,
            "overflow_y": null,
            "overflow_x": null,
            "grid_auto_flow": null,
            "grid_area": null,
            "grid_template_columns": null,
            "flex": null,
            "_model_name": "LayoutModel",
            "justify_items": null,
            "grid_row": null,
            "max_height": null,
            "align_content": null,
            "visibility": null,
            "align_self": null,
            "height": null,
            "min_height": null,
            "padding": null,
            "grid_auto_rows": null,
            "grid_gap": null,
            "max_width": null,
            "order": null,
            "_view_module_version": "1.2.0",
            "grid_template_areas": null,
            "object_position": null,
            "object_fit": null,
            "grid_auto_columns": null,
            "margin": null,
            "display": null,
            "left": null
          }
        },
        "67136fb2b5b240a9b3103fb2722df720": {
          "model_module": "@jupyter-widgets/controls",
          "model_name": "HBoxModel",
          "model_module_version": "1.5.0",
          "state": {
            "_view_name": "HBoxView",
            "_dom_classes": [],
            "_model_name": "HBoxModel",
            "_view_module": "@jupyter-widgets/controls",
            "_model_module_version": "1.5.0",
            "_view_count": null,
            "_view_module_version": "1.5.0",
            "box_style": "",
            "layout": "IPY_MODEL_2c0f9b3a4a6b460391950b6aae667ee9",
            "_model_module": "@jupyter-widgets/controls",
            "children": [
              "IPY_MODEL_35e6f1b050cd4598b037e9da6e0d918e",
              "IPY_MODEL_ef645cf6b03248e78f91dcab79465d28",
              "IPY_MODEL_5ccd040275ab4d25a085607f61ca1985"
            ]
          }
        },
        "2c0f9b3a4a6b460391950b6aae667ee9": {
          "model_module": "@jupyter-widgets/base",
          "model_name": "LayoutModel",
          "model_module_version": "1.2.0",
          "state": {
            "_view_name": "LayoutView",
            "grid_template_rows": null,
            "right": null,
            "justify_content": null,
            "_view_module": "@jupyter-widgets/base",
            "overflow": null,
            "_model_module_version": "1.2.0",
            "_view_count": null,
            "flex_flow": null,
            "width": null,
            "min_width": null,
            "border": null,
            "align_items": null,
            "bottom": null,
            "_model_module": "@jupyter-widgets/base",
            "top": null,
            "grid_column": null,
            "overflow_y": null,
            "overflow_x": null,
            "grid_auto_flow": null,
            "grid_area": null,
            "grid_template_columns": null,
            "flex": null,
            "_model_name": "LayoutModel",
            "justify_items": null,
            "grid_row": null,
            "max_height": null,
            "align_content": null,
            "visibility": null,
            "align_self": null,
            "height": null,
            "min_height": null,
            "padding": null,
            "grid_auto_rows": null,
            "grid_gap": null,
            "max_width": null,
            "order": null,
            "_view_module_version": "1.2.0",
            "grid_template_areas": null,
            "object_position": null,
            "object_fit": null,
            "grid_auto_columns": null,
            "margin": null,
            "display": null,
            "left": null
          }
        },
        "35e6f1b050cd4598b037e9da6e0d918e": {
          "model_module": "@jupyter-widgets/controls",
          "model_name": "HTMLModel",
          "model_module_version": "1.5.0",
          "state": {
            "_view_name": "HTMLView",
            "style": "IPY_MODEL_b3c5390975374847882f1f4b7c2b2e8a",
            "_dom_classes": [],
            "description": "",
            "_model_name": "HTMLModel",
            "placeholder": "​",
            "_view_module": "@jupyter-widgets/controls",
            "_model_module_version": "1.5.0",
            "value": "Downloading: 100%",
            "_view_count": null,
            "_view_module_version": "1.5.0",
            "description_tooltip": null,
            "_model_module": "@jupyter-widgets/controls",
            "layout": "IPY_MODEL_f973fd1c885b4a04a43d968b6be6a58c"
          }
        },
        "ef645cf6b03248e78f91dcab79465d28": {
          "model_module": "@jupyter-widgets/controls",
          "model_name": "FloatProgressModel",
          "model_module_version": "1.5.0",
          "state": {
            "_view_name": "ProgressView",
            "style": "IPY_MODEL_f484843e282946b5a2c24c0266b70421",
            "_dom_classes": [],
            "description": "",
            "_model_name": "FloatProgressModel",
            "bar_style": "success",
            "max": 13119,
            "_view_module": "@jupyter-widgets/controls",
            "_model_module_version": "1.5.0",
            "value": 13119,
            "_view_count": null,
            "_view_module_version": "1.5.0",
            "orientation": "horizontal",
            "min": 0,
            "description_tooltip": null,
            "_model_module": "@jupyter-widgets/controls",
            "layout": "IPY_MODEL_3db62487b3514363b593fd6d8b404eb9"
          }
        },
        "5ccd040275ab4d25a085607f61ca1985": {
          "model_module": "@jupyter-widgets/controls",
          "model_name": "HTMLModel",
          "model_module_version": "1.5.0",
          "state": {
            "_view_name": "HTMLView",
            "style": "IPY_MODEL_f6e321cac6d74f429d35fd72181a0ed9",
            "_dom_classes": [],
            "description": "",
            "_model_name": "HTMLModel",
            "placeholder": "​",
            "_view_module": "@jupyter-widgets/controls",
            "_model_module_version": "1.5.0",
            "value": " 13.1k/13.1k [00:00&lt;00:00, 430kB/s]",
            "_view_count": null,
            "_view_module_version": "1.5.0",
            "description_tooltip": null,
            "_model_module": "@jupyter-widgets/controls",
            "layout": "IPY_MODEL_99f0757ea4a44c3dbad8c3952979a73e"
          }
        },
        "b3c5390975374847882f1f4b7c2b2e8a": {
          "model_module": "@jupyter-widgets/controls",
          "model_name": "DescriptionStyleModel",
          "model_module_version": "1.5.0",
          "state": {
            "_view_name": "StyleView",
            "_model_name": "DescriptionStyleModel",
            "description_width": "",
            "_view_module": "@jupyter-widgets/base",
            "_model_module_version": "1.5.0",
            "_view_count": null,
            "_view_module_version": "1.2.0",
            "_model_module": "@jupyter-widgets/controls"
          }
        },
        "f973fd1c885b4a04a43d968b6be6a58c": {
          "model_module": "@jupyter-widgets/base",
          "model_name": "LayoutModel",
          "model_module_version": "1.2.0",
          "state": {
            "_view_name": "LayoutView",
            "grid_template_rows": null,
            "right": null,
            "justify_content": null,
            "_view_module": "@jupyter-widgets/base",
            "overflow": null,
            "_model_module_version": "1.2.0",
            "_view_count": null,
            "flex_flow": null,
            "width": null,
            "min_width": null,
            "border": null,
            "align_items": null,
            "bottom": null,
            "_model_module": "@jupyter-widgets/base",
            "top": null,
            "grid_column": null,
            "overflow_y": null,
            "overflow_x": null,
            "grid_auto_flow": null,
            "grid_area": null,
            "grid_template_columns": null,
            "flex": null,
            "_model_name": "LayoutModel",
            "justify_items": null,
            "grid_row": null,
            "max_height": null,
            "align_content": null,
            "visibility": null,
            "align_self": null,
            "height": null,
            "min_height": null,
            "padding": null,
            "grid_auto_rows": null,
            "grid_gap": null,
            "max_width": null,
            "order": null,
            "_view_module_version": "1.2.0",
            "grid_template_areas": null,
            "object_position": null,
            "object_fit": null,
            "grid_auto_columns": null,
            "margin": null,
            "display": null,
            "left": null
          }
        },
        "f484843e282946b5a2c24c0266b70421": {
          "model_module": "@jupyter-widgets/controls",
          "model_name": "ProgressStyleModel",
          "model_module_version": "1.5.0",
          "state": {
            "_view_name": "StyleView",
            "_model_name": "ProgressStyleModel",
            "description_width": "",
            "_view_module": "@jupyter-widgets/base",
            "_model_module_version": "1.5.0",
            "_view_count": null,
            "_view_module_version": "1.2.0",
            "bar_color": null,
            "_model_module": "@jupyter-widgets/controls"
          }
        },
        "3db62487b3514363b593fd6d8b404eb9": {
          "model_module": "@jupyter-widgets/base",
          "model_name": "LayoutModel",
          "model_module_version": "1.2.0",
          "state": {
            "_view_name": "LayoutView",
            "grid_template_rows": null,
            "right": null,
            "justify_content": null,
            "_view_module": "@jupyter-widgets/base",
            "overflow": null,
            "_model_module_version": "1.2.0",
            "_view_count": null,
            "flex_flow": null,
            "width": null,
            "min_width": null,
            "border": null,
            "align_items": null,
            "bottom": null,
            "_model_module": "@jupyter-widgets/base",
            "top": null,
            "grid_column": null,
            "overflow_y": null,
            "overflow_x": null,
            "grid_auto_flow": null,
            "grid_area": null,
            "grid_template_columns": null,
            "flex": null,
            "_model_name": "LayoutModel",
            "justify_items": null,
            "grid_row": null,
            "max_height": null,
            "align_content": null,
            "visibility": null,
            "align_self": null,
            "height": null,
            "min_height": null,
            "padding": null,
            "grid_auto_rows": null,
            "grid_gap": null,
            "max_width": null,
            "order": null,
            "_view_module_version": "1.2.0",
            "grid_template_areas": null,
            "object_position": null,
            "object_fit": null,
            "grid_auto_columns": null,
            "margin": null,
            "display": null,
            "left": null
          }
        },
        "f6e321cac6d74f429d35fd72181a0ed9": {
          "model_module": "@jupyter-widgets/controls",
          "model_name": "DescriptionStyleModel",
          "model_module_version": "1.5.0",
          "state": {
            "_view_name": "StyleView",
            "_model_name": "DescriptionStyleModel",
            "description_width": "",
            "_view_module": "@jupyter-widgets/base",
            "_model_module_version": "1.5.0",
            "_view_count": null,
            "_view_module_version": "1.2.0",
            "_model_module": "@jupyter-widgets/controls"
          }
        },
        "99f0757ea4a44c3dbad8c3952979a73e": {
          "model_module": "@jupyter-widgets/base",
          "model_name": "LayoutModel",
          "model_module_version": "1.2.0",
          "state": {
            "_view_name": "LayoutView",
            "grid_template_rows": null,
            "right": null,
            "justify_content": null,
            "_view_module": "@jupyter-widgets/base",
            "overflow": null,
            "_model_module_version": "1.2.0",
            "_view_count": null,
            "flex_flow": null,
            "width": null,
            "min_width": null,
            "border": null,
            "align_items": null,
            "bottom": null,
            "_model_module": "@jupyter-widgets/base",
            "top": null,
            "grid_column": null,
            "overflow_y": null,
            "overflow_x": null,
            "grid_auto_flow": null,
            "grid_area": null,
            "grid_template_columns": null,
            "flex": null,
            "_model_name": "LayoutModel",
            "justify_items": null,
            "grid_row": null,
            "max_height": null,
            "align_content": null,
            "visibility": null,
            "align_self": null,
            "height": null,
            "min_height": null,
            "padding": null,
            "grid_auto_rows": null,
            "grid_gap": null,
            "max_width": null,
            "order": null,
            "_view_module_version": "1.2.0",
            "grid_template_areas": null,
            "object_position": null,
            "object_fit": null,
            "grid_auto_columns": null,
            "margin": null,
            "display": null,
            "left": null
          }
        },
        "5dc99660c5a94413bd901fce3c4eab72": {
          "model_module": "@jupyter-widgets/controls",
          "model_name": "HBoxModel",
          "model_module_version": "1.5.0",
          "state": {
            "_view_name": "HBoxView",
            "_dom_classes": [],
            "_model_name": "HBoxModel",
            "_view_module": "@jupyter-widgets/controls",
            "_model_module_version": "1.5.0",
            "_view_count": null,
            "_view_module_version": "1.5.0",
            "box_style": "",
            "layout": "IPY_MODEL_958d1ce57808430bb3b398ec095f0107",
            "_model_module": "@jupyter-widgets/controls",
            "children": [
              "IPY_MODEL_3c856d5bacf94a9e8b731be05a2b7bc5",
              "IPY_MODEL_03e92cfc26a44e489b95a6e1252b3344",
              "IPY_MODEL_cd5eca3cb0ee449ab3958caf02251d6a"
            ]
          }
        },
        "958d1ce57808430bb3b398ec095f0107": {
          "model_module": "@jupyter-widgets/base",
          "model_name": "LayoutModel",
          "model_module_version": "1.2.0",
          "state": {
            "_view_name": "LayoutView",
            "grid_template_rows": null,
            "right": null,
            "justify_content": null,
            "_view_module": "@jupyter-widgets/base",
            "overflow": null,
            "_model_module_version": "1.2.0",
            "_view_count": null,
            "flex_flow": null,
            "width": null,
            "min_width": null,
            "border": null,
            "align_items": null,
            "bottom": null,
            "_model_module": "@jupyter-widgets/base",
            "top": null,
            "grid_column": null,
            "overflow_y": null,
            "overflow_x": null,
            "grid_auto_flow": null,
            "grid_area": null,
            "grid_template_columns": null,
            "flex": null,
            "_model_name": "LayoutModel",
            "justify_items": null,
            "grid_row": null,
            "max_height": null,
            "align_content": null,
            "visibility": null,
            "align_self": null,
            "height": null,
            "min_height": null,
            "padding": null,
            "grid_auto_rows": null,
            "grid_gap": null,
            "max_width": null,
            "order": null,
            "_view_module_version": "1.2.0",
            "grid_template_areas": null,
            "object_position": null,
            "object_fit": null,
            "grid_auto_columns": null,
            "margin": null,
            "display": null,
            "left": null
          }
        },
        "3c856d5bacf94a9e8b731be05a2b7bc5": {
          "model_module": "@jupyter-widgets/controls",
          "model_name": "HTMLModel",
          "model_module_version": "1.5.0",
          "state": {
            "_view_name": "HTMLView",
            "style": "IPY_MODEL_2c86cf035b214d00af8e27743465d725",
            "_dom_classes": [],
            "description": "",
            "_model_name": "HTMLModel",
            "placeholder": "​",
            "_view_module": "@jupyter-widgets/controls",
            "_model_module_version": "1.5.0",
            "value": "Downloading: 100%",
            "_view_count": null,
            "_view_module_version": "1.5.0",
            "description_tooltip": null,
            "_model_module": "@jupyter-widgets/controls",
            "layout": "IPY_MODEL_bdd1042d8f854608a512988de7c033e0"
          }
        },
        "03e92cfc26a44e489b95a6e1252b3344": {
          "model_module": "@jupyter-widgets/controls",
          "model_name": "FloatProgressModel",
          "model_module_version": "1.5.0",
          "state": {
            "_view_name": "ProgressView",
            "style": "IPY_MODEL_c765079c1dd84e6cbd626539c7d3ee64",
            "_dom_classes": [],
            "description": "",
            "_model_name": "FloatProgressModel",
            "bar_style": "success",
            "max": 798293,
            "_view_module": "@jupyter-widgets/controls",
            "_model_module_version": "1.5.0",
            "value": 798293,
            "_view_count": null,
            "_view_module_version": "1.5.0",
            "orientation": "horizontal",
            "min": 0,
            "description_tooltip": null,
            "_model_module": "@jupyter-widgets/controls",
            "layout": "IPY_MODEL_feed450ef2b34290a5fd834552f1782c"
          }
        },
        "cd5eca3cb0ee449ab3958caf02251d6a": {
          "model_module": "@jupyter-widgets/controls",
          "model_name": "HTMLModel",
          "model_module_version": "1.5.0",
          "state": {
            "_view_name": "HTMLView",
            "style": "IPY_MODEL_a3e9d787f4bf414c85b83c5a16a33022",
            "_dom_classes": [],
            "description": "",
            "_model_name": "HTMLModel",
            "placeholder": "​",
            "_view_module": "@jupyter-widgets/controls",
            "_model_module_version": "1.5.0",
            "value": " 798k/798k [00:00&lt;00:00, 961kB/s]",
            "_view_count": null,
            "_view_module_version": "1.5.0",
            "description_tooltip": null,
            "_model_module": "@jupyter-widgets/controls",
            "layout": "IPY_MODEL_e44eb11853bc4afc971efa8297a00634"
          }
        },
        "2c86cf035b214d00af8e27743465d725": {
          "model_module": "@jupyter-widgets/controls",
          "model_name": "DescriptionStyleModel",
          "model_module_version": "1.5.0",
          "state": {
            "_view_name": "StyleView",
            "_model_name": "DescriptionStyleModel",
            "description_width": "",
            "_view_module": "@jupyter-widgets/base",
            "_model_module_version": "1.5.0",
            "_view_count": null,
            "_view_module_version": "1.2.0",
            "_model_module": "@jupyter-widgets/controls"
          }
        },
        "bdd1042d8f854608a512988de7c033e0": {
          "model_module": "@jupyter-widgets/base",
          "model_name": "LayoutModel",
          "model_module_version": "1.2.0",
          "state": {
            "_view_name": "LayoutView",
            "grid_template_rows": null,
            "right": null,
            "justify_content": null,
            "_view_module": "@jupyter-widgets/base",
            "overflow": null,
            "_model_module_version": "1.2.0",
            "_view_count": null,
            "flex_flow": null,
            "width": null,
            "min_width": null,
            "border": null,
            "align_items": null,
            "bottom": null,
            "_model_module": "@jupyter-widgets/base",
            "top": null,
            "grid_column": null,
            "overflow_y": null,
            "overflow_x": null,
            "grid_auto_flow": null,
            "grid_area": null,
            "grid_template_columns": null,
            "flex": null,
            "_model_name": "LayoutModel",
            "justify_items": null,
            "grid_row": null,
            "max_height": null,
            "align_content": null,
            "visibility": null,
            "align_self": null,
            "height": null,
            "min_height": null,
            "padding": null,
            "grid_auto_rows": null,
            "grid_gap": null,
            "max_width": null,
            "order": null,
            "_view_module_version": "1.2.0",
            "grid_template_areas": null,
            "object_position": null,
            "object_fit": null,
            "grid_auto_columns": null,
            "margin": null,
            "display": null,
            "left": null
          }
        },
        "c765079c1dd84e6cbd626539c7d3ee64": {
          "model_module": "@jupyter-widgets/controls",
          "model_name": "ProgressStyleModel",
          "model_module_version": "1.5.0",
          "state": {
            "_view_name": "StyleView",
            "_model_name": "ProgressStyleModel",
            "description_width": "",
            "_view_module": "@jupyter-widgets/base",
            "_model_module_version": "1.5.0",
            "_view_count": null,
            "_view_module_version": "1.2.0",
            "bar_color": null,
            "_model_module": "@jupyter-widgets/controls"
          }
        },
        "feed450ef2b34290a5fd834552f1782c": {
          "model_module": "@jupyter-widgets/base",
          "model_name": "LayoutModel",
          "model_module_version": "1.2.0",
          "state": {
            "_view_name": "LayoutView",
            "grid_template_rows": null,
            "right": null,
            "justify_content": null,
            "_view_module": "@jupyter-widgets/base",
            "overflow": null,
            "_model_module_version": "1.2.0",
            "_view_count": null,
            "flex_flow": null,
            "width": null,
            "min_width": null,
            "border": null,
            "align_items": null,
            "bottom": null,
            "_model_module": "@jupyter-widgets/base",
            "top": null,
            "grid_column": null,
            "overflow_y": null,
            "overflow_x": null,
            "grid_auto_flow": null,
            "grid_area": null,
            "grid_template_columns": null,
            "flex": null,
            "_model_name": "LayoutModel",
            "justify_items": null,
            "grid_row": null,
            "max_height": null,
            "align_content": null,
            "visibility": null,
            "align_self": null,
            "height": null,
            "min_height": null,
            "padding": null,
            "grid_auto_rows": null,
            "grid_gap": null,
            "max_width": null,
            "order": null,
            "_view_module_version": "1.2.0",
            "grid_template_areas": null,
            "object_position": null,
            "object_fit": null,
            "grid_auto_columns": null,
            "margin": null,
            "display": null,
            "left": null
          }
        },
        "a3e9d787f4bf414c85b83c5a16a33022": {
          "model_module": "@jupyter-widgets/controls",
          "model_name": "DescriptionStyleModel",
          "model_module_version": "1.5.0",
          "state": {
            "_view_name": "StyleView",
            "_model_name": "DescriptionStyleModel",
            "description_width": "",
            "_view_module": "@jupyter-widgets/base",
            "_model_module_version": "1.5.0",
            "_view_count": null,
            "_view_module_version": "1.2.0",
            "_model_module": "@jupyter-widgets/controls"
          }
        },
        "e44eb11853bc4afc971efa8297a00634": {
          "model_module": "@jupyter-widgets/base",
          "model_name": "LayoutModel",
          "model_module_version": "1.2.0",
          "state": {
            "_view_name": "LayoutView",
            "grid_template_rows": null,
            "right": null,
            "justify_content": null,
            "_view_module": "@jupyter-widgets/base",
            "overflow": null,
            "_model_module_version": "1.2.0",
            "_view_count": null,
            "flex_flow": null,
            "width": null,
            "min_width": null,
            "border": null,
            "align_items": null,
            "bottom": null,
            "_model_module": "@jupyter-widgets/base",
            "top": null,
            "grid_column": null,
            "overflow_y": null,
            "overflow_x": null,
            "grid_auto_flow": null,
            "grid_area": null,
            "grid_template_columns": null,
            "flex": null,
            "_model_name": "LayoutModel",
            "justify_items": null,
            "grid_row": null,
            "max_height": null,
            "align_content": null,
            "visibility": null,
            "align_self": null,
            "height": null,
            "min_height": null,
            "padding": null,
            "grid_auto_rows": null,
            "grid_gap": null,
            "max_width": null,
            "order": null,
            "_view_module_version": "1.2.0",
            "grid_template_areas": null,
            "object_position": null,
            "object_fit": null,
            "grid_auto_columns": null,
            "margin": null,
            "display": null,
            "left": null
          }
        },
        "3f333f4043db4710ab599018f71ee979": {
          "model_module": "@jupyter-widgets/controls",
          "model_name": "HBoxModel",
          "model_module_version": "1.5.0",
          "state": {
            "_view_name": "HBoxView",
            "_dom_classes": [],
            "_model_name": "HBoxModel",
            "_view_module": "@jupyter-widgets/controls",
            "_model_module_version": "1.5.0",
            "_view_count": null,
            "_view_module_version": "1.5.0",
            "box_style": "",
            "layout": "IPY_MODEL_45c03e94b19c438ba044a6c2a2d10884",
            "_model_module": "@jupyter-widgets/controls",
            "children": [
              "IPY_MODEL_8f67916b08544d03abd65301ac252dfa",
              "IPY_MODEL_98d29df1335d4082bf32f61a76089b1b",
              "IPY_MODEL_348fe0c491284e149b8b7ed016018fee"
            ]
          }
        },
        "45c03e94b19c438ba044a6c2a2d10884": {
          "model_module": "@jupyter-widgets/base",
          "model_name": "LayoutModel",
          "model_module_version": "1.2.0",
          "state": {
            "_view_name": "LayoutView",
            "grid_template_rows": null,
            "right": null,
            "justify_content": null,
            "_view_module": "@jupyter-widgets/base",
            "overflow": null,
            "_model_module_version": "1.2.0",
            "_view_count": null,
            "flex_flow": null,
            "width": null,
            "min_width": null,
            "border": null,
            "align_items": null,
            "bottom": null,
            "_model_module": "@jupyter-widgets/base",
            "top": null,
            "grid_column": null,
            "overflow_y": null,
            "overflow_x": null,
            "grid_auto_flow": null,
            "grid_area": null,
            "grid_template_columns": null,
            "flex": null,
            "_model_name": "LayoutModel",
            "justify_items": null,
            "grid_row": null,
            "max_height": null,
            "align_content": null,
            "visibility": null,
            "align_self": null,
            "height": null,
            "min_height": null,
            "padding": null,
            "grid_auto_rows": null,
            "grid_gap": null,
            "max_width": null,
            "order": null,
            "_view_module_version": "1.2.0",
            "grid_template_areas": null,
            "object_position": null,
            "object_fit": null,
            "grid_auto_columns": null,
            "margin": null,
            "display": null,
            "left": null
          }
        },
        "8f67916b08544d03abd65301ac252dfa": {
          "model_module": "@jupyter-widgets/controls",
          "model_name": "HTMLModel",
          "model_module_version": "1.5.0",
          "state": {
            "_view_name": "HTMLView",
            "style": "IPY_MODEL_bd8afe512eb94960ad2a455ea2692158",
            "_dom_classes": [],
            "description": "",
            "_model_name": "HTMLModel",
            "placeholder": "​",
            "_view_module": "@jupyter-widgets/controls",
            "_model_module_version": "1.5.0",
            "value": "Downloading: 100%",
            "_view_count": null,
            "_view_module_version": "1.5.0",
            "description_tooltip": null,
            "_model_module": "@jupyter-widgets/controls",
            "layout": "IPY_MODEL_2e1acb8b6df54ed5b4cd2cee494f372f"
          }
        },
        "98d29df1335d4082bf32f61a76089b1b": {
          "model_module": "@jupyter-widgets/controls",
          "model_name": "FloatProgressModel",
          "model_module_version": "1.5.0",
          "state": {
            "_view_name": "ProgressView",
            "style": "IPY_MODEL_1d22729bbde040ab98a28a17844031d4",
            "_dom_classes": [],
            "description": "",
            "_model_name": "FloatProgressModel",
            "bar_style": "success",
            "max": 191,
            "_view_module": "@jupyter-widgets/controls",
            "_model_module_version": "1.5.0",
            "value": 191,
            "_view_count": null,
            "_view_module_version": "1.5.0",
            "orientation": "horizontal",
            "min": 0,
            "description_tooltip": null,
            "_model_module": "@jupyter-widgets/controls",
            "layout": "IPY_MODEL_7aa4b2562e994533b6f623c7a6c92c68"
          }
        },
        "348fe0c491284e149b8b7ed016018fee": {
          "model_module": "@jupyter-widgets/controls",
          "model_name": "HTMLModel",
          "model_module_version": "1.5.0",
          "state": {
            "_view_name": "HTMLView",
            "style": "IPY_MODEL_9bb5cdd392064d34bd449d95e2168c7f",
            "_dom_classes": [],
            "description": "",
            "_model_name": "HTMLModel",
            "placeholder": "​",
            "_view_module": "@jupyter-widgets/controls",
            "_model_module_version": "1.5.0",
            "value": " 191/191 [00:00&lt;00:00, 5.67kB/s]",
            "_view_count": null,
            "_view_module_version": "1.5.0",
            "description_tooltip": null,
            "_model_module": "@jupyter-widgets/controls",
            "layout": "IPY_MODEL_8e980f6df4c74c0f8fdc8d2599806c8e"
          }
        },
        "bd8afe512eb94960ad2a455ea2692158": {
          "model_module": "@jupyter-widgets/controls",
          "model_name": "DescriptionStyleModel",
          "model_module_version": "1.5.0",
          "state": {
            "_view_name": "StyleView",
            "_model_name": "DescriptionStyleModel",
            "description_width": "",
            "_view_module": "@jupyter-widgets/base",
            "_model_module_version": "1.5.0",
            "_view_count": null,
            "_view_module_version": "1.2.0",
            "_model_module": "@jupyter-widgets/controls"
          }
        },
        "2e1acb8b6df54ed5b4cd2cee494f372f": {
          "model_module": "@jupyter-widgets/base",
          "model_name": "LayoutModel",
          "model_module_version": "1.2.0",
          "state": {
            "_view_name": "LayoutView",
            "grid_template_rows": null,
            "right": null,
            "justify_content": null,
            "_view_module": "@jupyter-widgets/base",
            "overflow": null,
            "_model_module_version": "1.2.0",
            "_view_count": null,
            "flex_flow": null,
            "width": null,
            "min_width": null,
            "border": null,
            "align_items": null,
            "bottom": null,
            "_model_module": "@jupyter-widgets/base",
            "top": null,
            "grid_column": null,
            "overflow_y": null,
            "overflow_x": null,
            "grid_auto_flow": null,
            "grid_area": null,
            "grid_template_columns": null,
            "flex": null,
            "_model_name": "LayoutModel",
            "justify_items": null,
            "grid_row": null,
            "max_height": null,
            "align_content": null,
            "visibility": null,
            "align_self": null,
            "height": null,
            "min_height": null,
            "padding": null,
            "grid_auto_rows": null,
            "grid_gap": null,
            "max_width": null,
            "order": null,
            "_view_module_version": "1.2.0",
            "grid_template_areas": null,
            "object_position": null,
            "object_fit": null,
            "grid_auto_columns": null,
            "margin": null,
            "display": null,
            "left": null
          }
        },
        "1d22729bbde040ab98a28a17844031d4": {
          "model_module": "@jupyter-widgets/controls",
          "model_name": "ProgressStyleModel",
          "model_module_version": "1.5.0",
          "state": {
            "_view_name": "StyleView",
            "_model_name": "ProgressStyleModel",
            "description_width": "",
            "_view_module": "@jupyter-widgets/base",
            "_model_module_version": "1.5.0",
            "_view_count": null,
            "_view_module_version": "1.2.0",
            "bar_color": null,
            "_model_module": "@jupyter-widgets/controls"
          }
        },
        "7aa4b2562e994533b6f623c7a6c92c68": {
          "model_module": "@jupyter-widgets/base",
          "model_name": "LayoutModel",
          "model_module_version": "1.2.0",
          "state": {
            "_view_name": "LayoutView",
            "grid_template_rows": null,
            "right": null,
            "justify_content": null,
            "_view_module": "@jupyter-widgets/base",
            "overflow": null,
            "_model_module_version": "1.2.0",
            "_view_count": null,
            "flex_flow": null,
            "width": null,
            "min_width": null,
            "border": null,
            "align_items": null,
            "bottom": null,
            "_model_module": "@jupyter-widgets/base",
            "top": null,
            "grid_column": null,
            "overflow_y": null,
            "overflow_x": null,
            "grid_auto_flow": null,
            "grid_area": null,
            "grid_template_columns": null,
            "flex": null,
            "_model_name": "LayoutModel",
            "justify_items": null,
            "grid_row": null,
            "max_height": null,
            "align_content": null,
            "visibility": null,
            "align_self": null,
            "height": null,
            "min_height": null,
            "padding": null,
            "grid_auto_rows": null,
            "grid_gap": null,
            "max_width": null,
            "order": null,
            "_view_module_version": "1.2.0",
            "grid_template_areas": null,
            "object_position": null,
            "object_fit": null,
            "grid_auto_columns": null,
            "margin": null,
            "display": null,
            "left": null
          }
        },
        "9bb5cdd392064d34bd449d95e2168c7f": {
          "model_module": "@jupyter-widgets/controls",
          "model_name": "DescriptionStyleModel",
          "model_module_version": "1.5.0",
          "state": {
            "_view_name": "StyleView",
            "_model_name": "DescriptionStyleModel",
            "description_width": "",
            "_view_module": "@jupyter-widgets/base",
            "_model_module_version": "1.5.0",
            "_view_count": null,
            "_view_module_version": "1.2.0",
            "_model_module": "@jupyter-widgets/controls"
          }
        },
        "8e980f6df4c74c0f8fdc8d2599806c8e": {
          "model_module": "@jupyter-widgets/base",
          "model_name": "LayoutModel",
          "model_module_version": "1.2.0",
          "state": {
            "_view_name": "LayoutView",
            "grid_template_rows": null,
            "right": null,
            "justify_content": null,
            "_view_module": "@jupyter-widgets/base",
            "overflow": null,
            "_model_module_version": "1.2.0",
            "_view_count": null,
            "flex_flow": null,
            "width": null,
            "min_width": null,
            "border": null,
            "align_items": null,
            "bottom": null,
            "_model_module": "@jupyter-widgets/base",
            "top": null,
            "grid_column": null,
            "overflow_y": null,
            "overflow_x": null,
            "grid_auto_flow": null,
            "grid_area": null,
            "grid_template_columns": null,
            "flex": null,
            "_model_name": "LayoutModel",
            "justify_items": null,
            "grid_row": null,
            "max_height": null,
            "align_content": null,
            "visibility": null,
            "align_self": null,
            "height": null,
            "min_height": null,
            "padding": null,
            "grid_auto_rows": null,
            "grid_gap": null,
            "max_width": null,
            "order": null,
            "_view_module_version": "1.2.0",
            "grid_template_areas": null,
            "object_position": null,
            "object_fit": null,
            "grid_auto_columns": null,
            "margin": null,
            "display": null,
            "left": null
          }
        }
      }
    }
  },
  "cells": [
    {
      "cell_type": "code",
      "metadata": {
        "id": "oGjlnMz_s1Mk"
      },
      "source": [
        "import numpy as np\n",
        "import pandas as pd\n",
        "from nltk.corpus import stopwords\n",
        "from nltk.tokenize import word_tokenize\n",
        "import re\n",
        "import math\n",
        "# import metrics\n",
        "# from metrics import *\n",
        "import ast\n",
        "import sklearn\n",
        "from sklearn.metrics import precision_score, recall_score, accuracy_score, f1_score\n",
        "from sklearn.preprocessing import MultiLabelBinarizer\n",
        "from sklearn.metrics import hamming_loss\n",
        "#from annoy import AnnoyIndex\n",
        "import tensorflow_hub as hub\n",
        "import tensorflow as tf\n",
        "import json\n",
        "import torch\n",
        "\n",
        "import warnings\n",
        "warnings.filterwarnings(\"ignore\")"
      ],
      "execution_count": null,
      "outputs": []
    },
    {
      "cell_type": "code",
      "metadata": {
        "colab": {
          "base_uri": "https://localhost:8080/"
        },
        "id": "j9tpKSPitHgc",
        "outputId": "ed40f1f7-9edf-46ca-d4d4-4124e3d82a3c"
      },
      "source": [
        "from google.colab import drive\n",
        "drive.mount('/content/drive')"
      ],
      "execution_count": null,
      "outputs": [
        {
          "output_type": "stream",
          "name": "stdout",
          "text": [
            "Mounted at /content/drive\n"
          ]
        }
      ]
    },
    {
      "cell_type": "code",
      "metadata": {
        "id": "tv6-x-5YtJrJ"
      },
      "source": [
        "with open('/content/drive/MyDrive/Project-data/Wiki-text/104_117_removed_duplicates_without_other_party_annotated.json') as fin:\n",
        "  data = json.load(fin)"
      ],
      "execution_count": null,
      "outputs": []
    },
    {
      "cell_type": "code",
      "metadata": {
        "colab": {
          "base_uri": "https://localhost:8080/"
        },
        "id": "Y3juseJCV41j",
        "outputId": "751faa4d-c6fd-4176-8e60-d6dae3b37102"
      },
      "source": [
        "print(len(data))"
      ],
      "execution_count": null,
      "outputs": [
        {
          "output_type": "stream",
          "name": "stdout",
          "text": [
            "1376\n"
          ]
        }
      ]
    },
    {
      "cell_type": "code",
      "metadata": {
        "colab": {
          "base_uri": "https://localhost:8080/"
        },
        "id": "8jFDyafq5Lgn",
        "outputId": "5d39df3d-ac91-4171-deab-157d5e5e461f"
      },
      "source": [
        "data[0]"
      ],
      "execution_count": null,
      "outputs": [
        {
          "output_type": "execute_result",
          "data": {
            "text/plain": [
              "{'Background': '\\nHeflin was born on June 19, 1921, in Poulan, Georgia.  He attended public school in Alabama, graduating from Colbert County High School in Leighton.[1]  He earned his Bachelor of Arts degree in 1942 from Birmingham-Southern College in Birmingham.[2]  There was a tradition of politics in his family: he was a nephew of James Thomas Heflin, a prominent white supremacist politician and U.S. Senator, and great-nephew of Robert Stell Heflin, a U.S. Representative.\\n\\nDuring World War II, from 1942 to 1946, Heflin served as an officer in the United States Marine Corps.[3] He was awarded the Silver Star for valor in combat and received two Purple Heart medals,[4] having seen action on Bougainville and Guam.\\n\\nAfter World War II, Heflin attended the University of Alabama School of Law, from which he graduated in 1948. For nearly two decades, he served as a law professor, while concurrently practicing law in Tuscumbia, Alabama.[4]\\n\\nThe University of Alabama School of Law has honored Heflin with the \"Howell Heflin Conference Room\" in the Bounds Law Library. Tuscumbia named a street \"Howell Heflin Lane\" in his honor. The Howell Heflin Lock and Dam in Alabama is named in his honor. The Howell T. Heflin Seminar room in the Birmingham-Southern College Library is also named in his honor.\\n\\nThe New York Times characterized him as the \"conscience of the Senate.\"[3]\\n\\nHeflin was born on June 19, 1921, in Poulan, Georgia.  He attended public school in Alabama, graduating from Colbert County High School in Leighton.[1]  He earned his Bachelor of Arts degree in 1942 from Birmingham-Southern College in Birmingham.[2]  There was a tradition of politics in his family: he was a nephew of James Thomas Heflin, a prominent white supremacist politician and U.S. Senator, and great-nephew of Robert Stell Heflin, a U.S. Representative.\\n\\nDuring World War II, from 1942 to 1946, Heflin served as an officer in the United States Marine Corps.[3] He was awarded the Silver Star for valor in combat and received two Purple Heart medals,[4] having seen action on Bougainville and Guam.\\n\\nAfter World War II, Heflin attended the University of Alabama School of Law, from which he graduated in 1948. For nearly two decades, he served as a law professor, while concurrently practicing law in Tuscumbia, Alabama.[4]\\n\\nThe University of Alabama School of Law has honored Heflin with the \"Howell Heflin Conference Room\" in the Bounds Law Library. Tuscumbia named a street \"Howell Heflin Lane\" in his honor. The Howell Heflin Lock and Dam in Alabama is named in his honor. The Howell T. Heflin Seminar room in the Birmingham-Southern College Library is also named in his honor.\\n\\nThe New York Times characterized him as the \"conscience of the Senate.\"[3]\\n',\n",
              " 'Early life': '\\nHeflin was born on June 19, 1921, in Poulan, Georgia.  He attended public school in Alabama, graduating from Colbert County High School in Leighton.[1]  He earned his Bachelor of Arts degree in 1942 from Birmingham-Southern College in Birmingham.[2]  There was a tradition of politics in his family: he was a nephew of James Thomas Heflin, a prominent white supremacist politician and U.S. Senator, and great-nephew of Robert Stell Heflin, a U.S. Representative.\\n\\nDuring World War II, from 1942 to 1946, Heflin served as an officer in the United States Marine Corps.[3] He was awarded the Silver Star for valor in combat and received two Purple Heart medals,[4] having seen action on Bougainville and Guam.\\n\\nAfter World War II, Heflin attended the University of Alabama School of Law, from which he graduated in 1948. For nearly two decades, he served as a law professor, while concurrently practicing law in Tuscumbia, Alabama.[4]\\n',\n",
              " 'Honors': '\\nThe University of Alabama School of Law has honored Heflin with the \"Howell Heflin Conference Room\" in the Bounds Law Library. Tuscumbia named a street \"Howell Heflin Lane\" in his honor. The Howell Heflin Lock and Dam in Alabama is named in his honor. The Howell T. Heflin Seminar room in the Birmingham-Southern College Library is also named in his honor.\\n\\nThe New York Times characterized him as the \"conscience of the Senate.\"[3]\\n',\n",
              " 'Main': '\\nHowell Thomas Heflin (June 19, 1921 – March 29, 2005) was an American lawyer and politician who served in the United States Senate representing Alabama from 1979 to 1997.\\n',\n",
              " 'Name': 'Howell Heflin',\n",
              " 'Others': '',\n",
              " 'PersonalDetails': {'Alma mater': 'Birmingham-Southern College (B.A.)University of Alabama School of Law (LL.B.)',\n",
              "  'Born': 'Howell Thomas Heflin(1921-06-19)June 19, 1921Poulan, Georgia, U.S.',\n",
              "  'Died': 'March 29, 2005(2005-03-29) (aged\\xa083)Sheffield, Alabama, U.S.',\n",
              "  'Nationality': 'American',\n",
              "  'Political party': 'Democratic',\n",
              "  'Relatives': '\\nRobert Stell Heflin (great-uncle)\\nJames Thomas Heflin (uncle)\\n',\n",
              "  'Resting place': None,\n",
              "  'Spouse(s)': 'Elizabeth Ann Carmichael'},\n",
              " 'Political': '\\nIn 1970, Heflin was elected Chief Justice of the Alabama Supreme Court, serving from 1971 to 1977.[5]\\n\\nIn 1978, Heflin was elected to the United States Senate to succeed fellow Democrat John Sparkman, who had been Adlai E. Stevenson\\'s running mate in the 1952 presidential election. Heflin won his party\\'s nomination by defeating U.S. Representative Walter Flowers of Tuscaloosa, a longtime George C. Wallace ally. The 1966 Republican gubernatorial nominee, former U.S. Representative James D. Martin of Gadsden, announced that he would challenge Heflin. But Martin switched to a second Senate race for a two-year term created by the sudden death of Senator James B. Allen, leaving Heflin without a Republican opponent.\\n\\nIn March 1981, President Reagan was shot during an assassination attempt by John Hinckley Jr. outside the Hilton Hotel in Washington, D.C., Hinckley being brought to trial fourteen months afterward. Heflin espoused the view that the time between the incident and the trial was part of the need for an overhauling of the criminal justice system \"so it can more efficiently and effectively deal with the rising epidemic of violent crime in this nation\" and noted the shootings of Pope John Paul II and President of Egypt Anwar Sadat as incidents that had happened after the Reagan shooting yet had already seen the assailants be convicted and either jailed or executed. Heflin stated that the delays in bringing defendants to trial formed \"contempt for the system\" in addition to denouncing the delays as part of the problem, calling for the Senate to form a \"Crime Caucus\" as part of an attempt to \"put aside petty partisan politics and unite in an effort to wage a successful war on crime.\"[6]\\n\\nIn July 1981, Heflin announced he would introduce legislation calling for creation of a national court of appeals, and that such legislation would relieve the Supreme Court of some of its present burdens while increasing the national appellate capacity. The legislation was intended to also initiate a long-range study of the federal court system and call for major reforms in the American judiciary. Heflin noted that only 289 of the 4,242 petitions for hearings submitted to the Supreme Court in the previous year were granted and that a national appeals court would resolve feuds in the federal circuit courts.[7]\\n\\nIn 1984, Heflin won a second Senate term, handily defeating Republican former U.S. Representative Albert L. Smith Jr. of Birmingham, who had hoped to win by running on the reelection coattails of U.S. President Ronald W. Reagan. Heflin was reelected to a third term in 1990, defeating State Senator William J. Cabaniss, who later served as United States Ambassador to the Czech Republic under George W. Bush. Heflin did not run for reelection in 1996, and was succeeded by Republican Jeff Sessions.\\n\\nIn 1987, Heflin, a member of the Senate Judiciary Committee, voted against confirmation of Judge Robert Bork to the Supreme Court of the United States.[8]\\n\\nHeflin became chairman of the Select Committee on Ethics. While on the Ethics Committee, he led the prosecution against fellow Democratic senator Howard Cannon of Nevada for violations of Senate rules.\\n\\nAs a conservative Democrat, he strongly opposed abortion and gun control. Heflin supported school prayer in public schools and opposed laws banning discrimination on the basis of sexual orientation.[citation needed] He supported the Gulf War of 1991 and opposed cuts in defense spending. With Fritz Hollings of South Carolina, Heflin was one of only two Democrats in the Senate to vote against the Family and Medical Leave Act. He occasionally voted with Republicans on taxes.[citation needed]\\n\\nOn other economic issues he was more allied with his party\\'s populist wing. He voted against the North American Free Trade Agreement (NAFTA), General Agreement on Tariffs and Trade (GATT), and attempts to weaken enforcement of consumer protection measures.[citation needed] He strongly supported affirmative action laws.[citation needed] He voted against confirmation of Clarence Thomas to the United States Supreme Court, citing Thomas\\'s lack of experience.\\n\\nIn 1993 Heflin gave a memorable speech on the Senate floor in support of Senator Carol Moseley Braun\\'s successful effort to deny renewal of a Confederate Flag design patent for the United Daughters of the Confederacy. Heflin spoke of his pride and love for his Confederate ancestors, his respect for the United Daughters of the Confederacy, and his conflict in breaking with them over this issue. But, he said,\\n\\nHeflin lived at his longtime residence in Tuscumbia until his death on March 29, 2005, of a heart attack.[2] He was survived by his wife, Elizabeth Ann, his son H. Thomas Jr., known as Tom, and two grandchildren.[10]\\n\\nHeflin was the last Democrat to serve as a senator from Alabama until the swearing in of Doug Jones (winner of the December 2017 special election) on January 3, 2018, 21 years to the day after Heflin left the seat.[a] Heflin had been a mentor to Jones, who worked for him as a senatorial aide.[11][12]\\n',\n",
              " 'Political career': '\\nIn 1970, Heflin was elected Chief Justice of the Alabama Supreme Court, serving from 1971 to 1977.[5]\\n\\nIn 1978, Heflin was elected to the United States Senate to succeed fellow Democrat John Sparkman, who had been Adlai E. Stevenson\\'s running mate in the 1952 presidential election. Heflin won his party\\'s nomination by defeating U.S. Representative Walter Flowers of Tuscaloosa, a longtime George C. Wallace ally. The 1966 Republican gubernatorial nominee, former U.S. Representative James D. Martin of Gadsden, announced that he would challenge Heflin. But Martin switched to a second Senate race for a two-year term created by the sudden death of Senator James B. Allen, leaving Heflin without a Republican opponent.\\n\\nIn March 1981, President Reagan was shot during an assassination attempt by John Hinckley Jr. outside the Hilton Hotel in Washington, D.C., Hinckley being brought to trial fourteen months afterward. Heflin espoused the view that the time between the incident and the trial was part of the need for an overhauling of the criminal justice system \"so it can more efficiently and effectively deal with the rising epidemic of violent crime in this nation\" and noted the shootings of Pope John Paul II and President of Egypt Anwar Sadat as incidents that had happened after the Reagan shooting yet had already seen the assailants be convicted and either jailed or executed. Heflin stated that the delays in bringing defendants to trial formed \"contempt for the system\" in addition to denouncing the delays as part of the problem, calling for the Senate to form a \"Crime Caucus\" as part of an attempt to \"put aside petty partisan politics and unite in an effort to wage a successful war on crime.\"[6]\\n\\nIn July 1981, Heflin announced he would introduce legislation calling for creation of a national court of appeals, and that such legislation would relieve the Supreme Court of some of its present burdens while increasing the national appellate capacity. The legislation was intended to also initiate a long-range study of the federal court system and call for major reforms in the American judiciary. Heflin noted that only 289 of the 4,242 petitions for hearings submitted to the Supreme Court in the previous year were granted and that a national appeals court would resolve feuds in the federal circuit courts.[7]\\n\\nIn 1984, Heflin won a second Senate term, handily defeating Republican former U.S. Representative Albert L. Smith Jr. of Birmingham, who had hoped to win by running on the reelection coattails of U.S. President Ronald W. Reagan. Heflin was reelected to a third term in 1990, defeating State Senator William J. Cabaniss, who later served as United States Ambassador to the Czech Republic under George W. Bush. Heflin did not run for reelection in 1996, and was succeeded by Republican Jeff Sessions.\\n\\nIn 1987, Heflin, a member of the Senate Judiciary Committee, voted against confirmation of Judge Robert Bork to the Supreme Court of the United States.[8]\\n\\nHeflin became chairman of the Select Committee on Ethics. While on the Ethics Committee, he led the prosecution against fellow Democratic senator Howard Cannon of Nevada for violations of Senate rules.\\n\\nAs a conservative Democrat, he strongly opposed abortion and gun control. Heflin supported school prayer in public schools and opposed laws banning discrimination on the basis of sexual orientation.[citation needed] He supported the Gulf War of 1991 and opposed cuts in defense spending. With Fritz Hollings of South Carolina, Heflin was one of only two Democrats in the Senate to vote against the Family and Medical Leave Act. He occasionally voted with Republicans on taxes.[citation needed]\\n\\nOn other economic issues he was more allied with his party\\'s populist wing. He voted against the North American Free Trade Agreement (NAFTA), General Agreement on Tariffs and Trade (GATT), and attempts to weaken enforcement of consumer protection measures.[citation needed] He strongly supported affirmative action laws.[citation needed] He voted against confirmation of Clarence Thomas to the United States Supreme Court, citing Thomas\\'s lack of experience.\\n\\nIn 1993 Heflin gave a memorable speech on the Senate floor in support of Senator Carol Moseley Braun\\'s successful effort to deny renewal of a Confederate Flag design patent for the United Daughters of the Confederacy. Heflin spoke of his pride and love for his Confederate ancestors, his respect for the United Daughters of the Confederacy, and his conflict in breaking with them over this issue. But, he said,\\n\\nHeflin lived at his longtime residence in Tuscumbia until his death on March 29, 2005, of a heart attack.[2] He was survived by his wife, Elizabeth Ann, his son H. Thomas Jr., known as Tom, and two grandchildren.[10]\\n\\nHeflin was the last Democrat to serve as a senator from Alabama until the swearing in of Doug Jones (winner of the December 2017 special election) on January 3, 2018, 21 years to the day after Heflin left the seat.[a] Heflin had been a mentor to Jones, who worked for him as a senatorial aide.[11][12]\\n'}"
            ]
          },
          "metadata": {},
          "execution_count": 5
        }
      ]
    },
    {
      "cell_type": "code",
      "metadata": {
        "colab": {
          "base_uri": "https://localhost:8080/"
        },
        "id": "V5gBUp_s9tF-",
        "outputId": "3ec41075-9bd1-4ab7-edd6-dd04b46b0aa1"
      },
      "source": [
        "# names = []\n",
        "# duplicate = []\n",
        "# index = []\n",
        "# for i,member in enumerate(data):\n",
        "#   if member['Name'] not in names:\n",
        "#     names.append(member['Name'])\n",
        "#     index.append(i)\n",
        "#   else:\n",
        "#     duplicate.append(member['Name'])\n",
        "# print(duplicate)"
      ],
      "execution_count": null,
      "outputs": [
        {
          "output_type": "stream",
          "name": "stdout",
          "text": [
            "['Carol Moseley Braun', 'Jim Inhofe', 'Bob Matsui', 'Luis Gutiérrez', 'Phil Crane', 'Sidney R. Yates', 'Harris W. Fawell', 'Sheila Jackson Lee', 'Richard Lugar', 'Bill Lipinski', 'Pete Hoekstra', 'Dave Camp', 'Nick Smith (American politician)', 'Jim Saxton', 'Fritz Hollings', 'Buck McKeon', 'Norm Dicks', 'Jim Talent', 'J. D. Hayworth', 'Ed Royce', 'Duke Cunningham', 'Susan Davis (politician)', 'John B. Larson', 'Clay Shaw (politician)', 'Jan Schakowsky', 'Tim Johnson (Illinois politician)', 'Don Manzullo', 'Dan Burton', 'Chris John', 'Jim McGovern (American politician)', 'Stephen F. Lynch', 'Tom Osborne', 'Mike Ferguson (New Jersey politician)', 'Bill Pascrell', 'Rush Holt Jr.', 'Joe Hoeffel', 'Mike Doyle (American politician)', 'Pat Toomey', 'Joe Pitts (Pennsylvania politician)', 'Joe Wilson (American politician)', 'Jim Turner (politician)', 'Eni Faleomavaega', 'Chris Dodd', 'Bob Bennett (politician)', 'Herb Kohl', 'Mike Rogers (Alabama politician)', 'Robert E. Cramer', 'Butch Otter', 'Mike Simpson', 'Jan Schakowsky', 'Mark Kirk', 'Jim Gibbons (American politician)', 'Charles Bass', 'Joe Crowley', 'Louise Slaughter', 'David Price (American politician)', 'Sue Myrick', 'Brad Miller (politician)', 'Marcy Kaptur', 'Bob Ney', 'Jimmy Duncan (politician)', 'Lamar Smith', 'Bobby Scott (politician)', 'Tom Davis (Virginia politician)', 'Madeleine Bordallo', 'Jim Marshall (Georgia politician)', 'John Barrow (American politician)', 'John Boehner', 'Paul Kanjorski', 'Todd Russell Platts', 'Cathy McMorris Rodgers', 'Mary Bono', 'Jim Marshall (Georgia politician)', 'John Barrow (American politician)', 'Don Manzullo', 'Phil Hare', 'Charlie Melançon', 'Dale Kildee', 'John Conyers', 'Carolyn Maloney', 'Charles Rangel', 'José E. Serrano', 'John Hall (New York politician)', 'Mike Arcuri', 'Al Green (politician)', 'John Carter (Texas politician)', 'Bobby Scott (politician)', 'Chuck Schumer', 'Tim Johnson (South Dakota politician)', 'John Fleming (American politician)', 'Sander Levin', 'Jerry Nadler', 'John A. Sullivan (Oklahoma politician)', 'Glenn Thompson (politician)', 'Tim Murphy (American politician)', 'Tim Scott', 'Joe Wilson (American politician)', 'Mike Lee (American politician)', 'Linda Sánchez', 'Raúl Labrador', 'Adrian Smith (politician)', 'Ben Ray Luján', 'Nydia Velázquez', 'José E. Serrano', 'Dan Maffei', 'Frank Lucas (Oklahoma politician)', 'Tim Murphy (American politician)', 'Rubén Hinojosa', 'Andy Harris (politician)', 'John Delaney (Maryland politician)', 'Chris Collins (New York politician)', 'Chris Stewart (politician)', 'Tony Cárdenas', 'Bill Foster (politician)', 'Rodney Davis (politician)', 'Dave Loebsack', 'Andy Barr (American politician)', 'Jim McGovern (American politician)', 'Bill Keating (politician)', 'Richard Hudson (American politician)', 'Jim Jordan (American politician)', 'Mike Kelly (Pennsylvania politician)', 'Joaquin Castro', 'Joe Kennedy III', 'Jason Smith (politician)', 'Joseph Morelle', 'Richard Hudson (American politician)', 'Jim Jordan (American politician)', 'Roger Williams (American politician)', 'Denny Heck', 'Mike Gallagher (American politician)', 'Jim Baird (politician)', 'Amata Coleman Radewagen']\n"
          ]
        }
      ]
    },
    {
      "cell_type": "code",
      "metadata": {
        "colab": {
          "base_uri": "https://localhost:8080/"
        },
        "id": "W5wQTAL0-jN2",
        "outputId": "6c780f13-b7e2-45bf-a200-ffcbd37d5f79"
      },
      "source": [
        "# len(index)"
      ],
      "execution_count": null,
      "outputs": [
        {
          "output_type": "execute_result",
          "data": {
            "text/plain": [
              "1376"
            ]
          },
          "metadata": {},
          "execution_count": 16
        }
      ]
    },
    {
      "cell_type": "code",
      "metadata": {
        "id": "Dmpl_tOq4rhC"
      },
      "source": [
        "# temp_data = []\n",
        "# for i in index:\n",
        "#   temp_data.append(data[i])"
      ],
      "execution_count": null,
      "outputs": []
    },
    {
      "cell_type": "code",
      "metadata": {
        "id": "rJP7Yv4c5ECZ"
      },
      "source": [
        "# with open(\"/content/drive/MyDrive/Project-data/Wiki-text/104_117_removed_duplicates_without_other_party_annotated.json\", 'w') as outfile:\n",
        "#     json.dump(temp_data, outfile)"
      ],
      "execution_count": null,
      "outputs": []
    },
    {
      "cell_type": "code",
      "metadata": {
        "id": "0agAZfLbtMOH"
      },
      "source": [
        "text = []\n",
        "for i,representative in enumerate(data):\n",
        "  #inner_text = []\n",
        "  inner_text = \"\"\n",
        "  for keys in representative.keys():\n",
        "    if(keys not in ['Name','PersonalDetails']):\n",
        "      #inner_text.append(representative[keys])\n",
        "      #print(representative[keys])\n",
        "      inner_text += str(representative[keys]) + \" \"  \n",
        "  text.append(inner_text)"
      ],
      "execution_count": null,
      "outputs": []
    },
    {
      "cell_type": "code",
      "metadata": {
        "colab": {
          "base_uri": "https://localhost:8080/"
        },
        "id": "Rlop0x3ptKe_",
        "outputId": "fe050084-4632-4522-8029-984abc70960e"
      },
      "source": [
        "other_length=[]\n",
        "political_length=[]\n",
        "background_length=[]\n",
        "\n",
        "other_greater_than_4096 = 0\n",
        "background_greater_than_4096 = 0\n",
        "political_greater_than_4096 = 0\n",
        "\n",
        "political=[]\n",
        "background = []\n",
        "max_length=0\n",
        "for i in range(len(data)):\n",
        "  political.append(len(data[i]['Political']))\n",
        "  background.append(len(data[i]['Background']))\n",
        "  if(len(data[i]['Others'])>4096):\n",
        "    other_greater_than_4096+=1\n",
        "    other_length.append(i)\n",
        "\n",
        "  if(len(data[i]['Background'])>4096):\n",
        "    background_greater_than_4096+=1\n",
        "    background_length.append(i)\n",
        "\n",
        "  if(len(data[i]['Political'])>4096):\n",
        "    if len(data[i]['Political'])>max_length:\n",
        "      max_length=len(data[i]['Political'])\n",
        "    political_greater_than_4096+=1\n",
        "    political_length.append(i)\n",
        "\n",
        "print(other_greater_than_4096)\n",
        "print(background_greater_than_4096)\n",
        "print(political_greater_than_4096)"
      ],
      "execution_count": null,
      "outputs": [
        {
          "output_type": "stream",
          "name": "stdout",
          "text": [
            "85\n",
            "296\n",
            "862\n"
          ]
        }
      ]
    },
    {
      "cell_type": "code",
      "metadata": {
        "colab": {
          "base_uri": "https://localhost:8080/"
        },
        "id": "lh8gsOHSpVa3",
        "outputId": "1453d5a1-be3c-4d3e-c19c-76e4c736e11b"
      },
      "source": [
        "print(max_length)"
      ],
      "execution_count": null,
      "outputs": [
        {
          "output_type": "stream",
          "name": "stdout",
          "text": [
            "70482\n"
          ]
        }
      ]
    },
    {
      "cell_type": "code",
      "metadata": {
        "colab": {
          "base_uri": "https://localhost:8080/"
        },
        "id": "O7-QAJgIggSv",
        "outputId": "aaf27920-d4c9-4ee4-dd85-be1b7c3e943b"
      },
      "source": [
        "common=list(set(political_length) & set(background_length))\n",
        "print(common)"
      ],
      "execution_count": null,
      "outputs": [
        {
          "output_type": "stream",
          "name": "stdout",
          "text": [
            "[1, 4, 517, 7, 8, 1031, 10, 523, 524, 1035, 14, 1037, 1039, 17, 20, 21, 1046, 535, 24, 537, 1049, 27, 29, 30, 543, 1055, 1057, 35, 1059, 1061, 38, 39, 552, 1063, 554, 43, 44, 1066, 46, 559, 49, 1073, 51, 52, 1075, 55, 1080, 1081, 58, 572, 61, 1086, 64, 578, 579, 1091, 69, 70, 71, 72, 73, 74, 583, 1093, 589, 1094, 594, 598, 610, 1123, 612, 102, 616, 106, 620, 110, 622, 1136, 625, 116, 628, 629, 631, 1141, 1148, 1149, 638, 639, 642, 1157, 646, 1159, 1162, 140, 142, 143, 145, 1169, 149, 150, 1174, 1175, 1176, 1180, 671, 1187, 1188, 677, 678, 1191, 1192, 682, 172, 685, 1198, 690, 694, 188, 189, 1213, 1215, 193, 706, 1218, 196, 198, 1222, 200, 1223, 1227, 717, 209, 213, 214, 215, 727, 1238, 221, 1252, 742, 1254, 744, 236, 239, 240, 752, 1267, 245, 1270, 247, 250, 252, 764, 255, 767, 769, 259, 772, 773, 774, 1291, 1297, 786, 275, 1300, 277, 790, 1311, 1314, 804, 806, 296, 1323, 813, 814, 816, 817, 1328, 1332, 309, 822, 824, 825, 314, 827, 318, 831, 832, 322, 836, 838, 839, 328, 841, 330, 845, 1360, 338, 850, 340, 851, 855, 857, 868, 357, 871, 873, 367, 368, 879, 1092, 377, 905, 906, 907, 908, 910, 911, 914, 405, 408, 924, 417, 933, 941, 942, 948, 949, 440, 959, 457, 969, 972, 987, 991, 481, 490, 491, 1004, 497, 1009, 499, 1012, 1013, 1014, 1015, 511]\n"
          ]
        }
      ]
    },
    {
      "cell_type": "code",
      "metadata": {
        "colab": {
          "base_uri": "https://localhost:8080/",
          "height": 279
        },
        "id": "yUFxGcK0QmD6",
        "outputId": "d396fdff-1c2a-476a-b7f0-035bafda8871"
      },
      "source": [
        "import matplotlib.pyplot as plt\n",
        "import numpy as np\n",
        "%matplotlib inline\n",
        "\n",
        "plt.hist(background, bins=100,density=False)  # density=False would make counts\n",
        "plt.ylabel('Frequency')\n",
        "plt.xlabel('Lenghth of Text');"
      ],
      "execution_count": null,
      "outputs": [
        {
          "output_type": "display_data",
          "data": {
            "image/png": "[encoded data removed]",
            "text/plain": [
              "<Figure size 432x288 with 1 Axes>"
            ]
          },
          "metadata": {
            "needs_background": "light"
          }
        }
      ]
    },
    {
      "cell_type": "code",
      "metadata": {
        "colab": {
          "base_uri": "https://localhost:8080/"
        },
        "id": "9ISePvZHw-Nl",
        "outputId": "067c0f52-da66-4f7d-ddf1-d00ab5756836"
      },
      "source": [
        "print(max(political_length))"
      ],
      "execution_count": null,
      "outputs": [
        {
          "output_type": "stream",
          "name": "stdout",
          "text": [
            "1375\n"
          ]
        }
      ]
    },
    {
      "cell_type": "code",
      "metadata": {
        "id": "bfMLPMyLt4jT"
      },
      "source": [
        "# Y = []\n",
        "# for i,t in enumerate(data):\n",
        "#   try:\n",
        "#     Y.append(t['PersonalDetails']['Political party'])\n",
        "#   except:\n",
        "#     Y.append(\"Party-NA\")\n",
        "# print(Y)"
      ],
      "execution_count": null,
      "outputs": []
    },
    {
      "cell_type": "code",
      "metadata": {
        "colab": {
          "base_uri": "https://localhost:8080/"
        },
        "id": "mC1oTr3LmPOH",
        "outputId": "e269d2e8-9a29-4328-f0a7-f6f51fb9385a"
      },
      "source": [
        "# '''\n",
        "# Solved people who did not shift parties\n",
        "# '''\n",
        "# rcount=0\n",
        "# dcount = 0\n",
        "# other_count = 0\n",
        "# other=[]\n",
        "# for i in range(len(Y)):\n",
        "#   if (Y[i] == 'Republican' or Y[i] == 'Republican[1]'):\n",
        "#       # print(Y[i])\n",
        "#       rcount +=1\n",
        "#   elif (Y[i] == 'Democratic' or Y[i] == 'Democratic[1]'):\n",
        "#       # print(Y[i])\n",
        "#       dcount+=1\n",
        "#   else:\n",
        "#     # print(Y[i])\n",
        "#     # print(data[i]['Name'])\n",
        "#     other.append(i)\n",
        "#     other_count += 1\n",
        "# print(rcount,\" republicans\")\n",
        "# print(dcount,\" democrats\")\n",
        "# print(other_count,\"others\")\n",
        "# print(other)"
      ],
      "execution_count": null,
      "outputs": [
        {
          "output_type": "stream",
          "name": "stdout",
          "text": [
            "805  republicans\n",
            "704  democrats\n",
            "0 others\n",
            "[]\n"
          ]
        }
      ]
    },
    {
      "cell_type": "code",
      "metadata": {
        "id": "1fMI-ucrUhdL"
      },
      "source": [
        "# \"DELETE those who shifted party\"\n",
        "# new_data=[]\n",
        "# for idx in range(len(data)):\n",
        "#   if idx not in other:\n",
        "#       new_data.append(data[idx])"
      ],
      "execution_count": null,
      "outputs": []
    },
    {
      "cell_type": "code",
      "metadata": {
        "colab": {
          "base_uri": "https://localhost:8080/"
        },
        "id": "tDYwEiT8YLtW",
        "outputId": "a5b6e967-e1f8-46fc-e78f-dcef74fcdea0"
      },
      "source": [
        "# print(len(new_data))"
      ],
      "execution_count": null,
      "outputs": [
        {
          "output_type": "stream",
          "name": "stdout",
          "text": [
            "1509\n"
          ]
        }
      ]
    },
    {
      "cell_type": "code",
      "metadata": {
        "id": "ztO512INecd9"
      },
      "source": [
        "# with open(\"/content/drive/MyDrive/Project-data/Wiki-text/104_117_without_other_party_annotated.json\", 'w') as outfile:\n",
        "    # json.dump(new_data, outfile)"
      ],
      "execution_count": null,
      "outputs": []
    },
    {
      "cell_type": "code",
      "metadata": {
        "id": "IZfer_3WG4Uf"
      },
      "source": [
        ""
      ],
      "execution_count": null,
      "outputs": []
    },
    {
      "cell_type": "code",
      "metadata": {
        "colab": {
          "base_uri": "https://localhost:8080/"
        },
        "id": "xEPUi5sLYaFw",
        "outputId": "4643a747-7cfd-4e50-8ed6-5e2bd595de18"
      },
      "source": [
        "Y = []\n",
        "for i,t in enumerate(data):\n",
        "  try:\n",
        "    Y.append(t['PersonalDetails']['Political party'])\n",
        "  except:\n",
        "    Y.append(\"Party-NA\")\n",
        "print(Y)"
      ],
      "execution_count": null,
      "outputs": [
        {
          "output_type": "stream",
          "name": "stdout",
          "text": [
            "['Democratic', 'Republican', 'Republican', 'Republican', 'Republican', 'Democratic', 'Democratic', 'Democratic', 'Democratic', 'Republican', 'Democratic', 'Republican', 'Republican', 'Democratic', 'Democratic', 'Republican', 'Democratic', 'Democratic', 'Republican', 'Republican', 'Democratic', 'Democratic', 'Republican', 'Republican', 'Democratic', 'Republican', 'Republican', 'Republican', 'Republican', 'Republican', 'Republican', 'Democratic', 'Democratic', 'Democratic', 'Republican', 'Republican', 'Democratic', 'Democratic', 'Democratic', 'Democratic', 'Republican', 'Democratic', 'Republican', 'Republican', 'Republican', 'Republican', 'Democratic', 'Democratic', 'Democratic', 'Democratic', 'Republican', 'Democratic', 'Democratic', 'Democratic', 'Republican', 'Democratic', 'Republican', 'Republican', 'Democratic', 'Republican', 'Republican', 'Republican', 'Republican', 'Democratic', 'Republican', 'Republican', 'Democratic', 'Democratic', 'Democratic', 'Republican', 'Republican', 'Republican', 'Republican', 'Republican', 'Democratic', 'Democratic', 'Republican', 'Republican', 'Democratic', 'Democratic', 'Democratic', 'Democratic', 'Republican', 'Republican', 'Republican', 'Democratic', 'Democratic', 'Democratic', 'Republican', 'Democratic', 'Republican', 'Republican', 'Democratic', 'Republican', 'Republican', 'Democratic', 'Democratic', 'Republican', 'Republican', 'Republican', 'Republican', 'Democratic', 'Republican', 'Democratic', 'Democratic', 'Democratic', 'Democratic', 'Democratic', 'Republican', 'Republican', 'Democratic', 'Democratic', 'Democratic', 'Democratic', 'Democratic', 'Democratic', 'Democratic', 'Republican', 'Democratic', 'Republican', 'Republican', 'Republican', 'Democratic', 'Republican', 'Democratic', 'Republican', 'Republican', 'Democratic', 'Democratic', 'Democratic', 'Democratic', 'Democratic', 'Democratic', 'Democratic', 'Democratic', 'Democratic', 'Republican', 'Republican', 'Republican', 'Republican', 'Democratic', 'Republican', 'Republican', 'Republican', 'Republican', 'Republican', 'Republican', 'Republican', 'Democratic', 'Republican', 'Republican', 'Democratic', 'Democratic', 'Republican', 'Republican', 'Republican', 'Republican', 'Democratic', 'Democratic', 'Democratic', 'Republican', 'Republican', 'Republican', 'Republican', 'Democratic', 'Democratic', 'Republican', 'Democratic', 'Republican', 'Republican', 'Republican', 'Republican', 'Republican', 'Democratic', 'Republican', 'Republican', 'Republican', 'Republican', 'Democratic', 'Republican', 'Democratic', 'Democratic', 'Republican', 'Republican', 'Democratic', 'Republican', 'Democratic', 'Republican', 'Democratic', 'Republican', 'Republican', 'Republican', 'Democratic', 'Democratic', 'Republican', 'Republican', 'Democratic', 'Democratic', 'Democratic', 'Democratic', 'Democratic', 'Republican', 'Democratic', 'Republican', 'Democratic', 'Republican', 'Republican', 'Democratic', 'Republican', 'Republican', 'Republican', 'Republican', 'Democratic', 'Republican', 'Democratic', 'Democratic', 'Democratic', 'Republican', 'Democratic', 'Republican', 'Republican', 'Republican', 'Republican', 'Republican', 'Democratic', 'Democratic', 'Republican', 'Republican', 'Republican', 'Republican', 'Republican', 'Republican', 'Republican', 'Republican', 'Republican', 'Democratic', 'Republican', 'Republican', 'Democratic', 'Republican', 'Democratic', 'Democratic', 'Republican', 'Democratic', 'Republican', 'Democratic', 'Democratic', 'Democratic', 'Republican', 'Democratic', 'Democratic', 'Republican', 'Democratic', 'Democratic', 'Republican', 'Democratic', 'Democratic', 'Republican', 'Democratic', 'Democratic', 'Democratic', 'Democratic', 'Democratic', 'Republican', 'Republican', 'Republican', 'Democratic', 'Republican', 'Republican', 'Republican', 'Democratic', 'Democratic', 'Republican', 'Democratic', 'Democratic', 'Democratic', 'Democratic', 'Democratic', 'Republican', 'Republican', 'Republican', 'Democratic', 'Democratic', 'Democratic', 'Republican', 'Democratic', 'Democratic', 'Democratic', 'Democratic', 'Republican', 'Republican', 'Democratic', 'Democratic', 'Republican', 'Republican', 'Republican', 'Republican', 'Republican', 'Republican', 'Republican', 'Democratic', 'Republican', 'Republican', 'Republican', 'Democratic', 'Republican', 'Republican', 'Democratic', 'Democratic', 'Republican', 'Republican', 'Democratic', 'Republican', 'Republican', 'Democratic', 'Republican', 'Republican', 'Republican', 'Democratic', 'Democratic', 'Democratic', 'Democratic', 'Democratic', 'Democratic', 'Democratic', 'Democratic', 'Republican', 'Democratic', 'Democratic', 'Democratic', 'Democratic', 'Democratic', 'Republican', 'Republican', 'Democratic', 'Republican', 'Republican', 'Republican', 'Democratic', 'Republican', 'Democratic', 'Democratic', 'Republican[1]', 'Republican', 'Democratic', 'Republican', 'Republican', 'Republican', 'Republican', 'Democratic', 'Democratic', 'Republican', 'Republican', 'Republican', 'Democratic', 'Democratic', 'Republican', 'Republican', 'Democratic', 'Republican', 'Republican', 'Republican', 'Republican', 'Republican', 'Democratic', 'Republican', 'Democratic', 'Republican', 'Democratic', 'Democratic', 'Republican', 'Republican', 'Republican', 'Republican', 'Republican', 'Republican', 'Democratic', 'Republican', 'Republican', 'Republican', 'Democratic', 'Republican', 'Democratic', 'Democratic', 'Democratic', 'Democratic', 'Democratic', 'Democratic', 'Republican', 'Democratic', 'Republican', 'Republican', 'Republican', 'Republican', 'Democratic', 'Democratic', 'Republican', 'Democratic', 'Democratic', 'Republican', 'Republican', 'Democratic', 'Republican', 'Democratic', 'Republican', 'Democratic', 'Democratic', 'Republican', 'Republican', 'Republican', 'Democratic', 'Democratic', 'Democratic', 'Republican', 'Republican', 'Republican', 'Republican', 'Democratic', 'Democratic', 'Republican', 'Democratic', 'Democratic', 'Democratic', 'Democratic', 'Republican', 'Democratic', 'Republican', 'Republican', 'Republican', 'Democratic', 'Democratic', 'Democratic', 'Republican', 'Democratic', 'Democratic', 'Democratic', 'Democratic', 'Republican', 'Democratic', 'Republican', 'Republican', 'Republican', 'Democratic', 'Democratic', 'Republican', 'Democratic', 'Democratic', 'Democratic', 'Democratic', 'Republican', 'Republican', 'Democratic', 'Democratic', 'Democratic', 'Democratic', 'Democratic', 'Republican', 'Democratic', 'Democratic', 'Republican', 'Republican', 'Republican', 'Republican', 'Republican', 'Republican', 'Republican', 'Democratic', 'Democratic', 'Republican', 'Republican', 'Democratic', 'Democratic', 'Democratic', 'Republican', 'Republican', 'Republican', 'Democratic', 'Democratic', 'Republican', 'Democratic', 'Republican', 'Republican', 'Republican', 'Democratic', 'Democratic', 'Democratic', 'Republican', 'Democratic', 'Democratic', 'Republican', 'Republican', 'Republican', 'Republican', 'Republican', 'Republican', 'Democratic', 'Democratic', 'Republican', 'Democratic', 'Democratic', 'Democratic', 'Democratic', 'Democratic', 'Republican', 'Republican', 'Democratic', 'Republican', 'Democratic', 'Democratic', 'Democratic', 'Democratic', 'Democratic[1]', 'Democratic', 'Republican', 'Republican', 'Democratic', 'Democratic', 'Republican', 'Republican', 'Republican', 'Republican', 'Democratic', 'Democratic', 'Democratic', 'Democratic', 'Democratic', 'Democratic', 'Democratic', 'Republican', 'Republican', 'Republican', 'Republican', 'Republican', 'Republican', 'Democratic', 'Democratic', 'Republican', 'Republican', 'Republican', 'Democratic', 'Republican', 'Democratic', 'Democratic', 'Democratic', 'Democratic', 'Democratic', 'Republican', 'Democratic', 'Democratic', 'Republican', 'Republican', 'Democratic', 'Republican', 'Republican', 'Democratic', 'Democratic', 'Democratic', 'Republican', 'Republican', 'Democratic', 'Republican', 'Democratic', 'Democratic', 'Democratic', 'Republican', 'Democratic', 'Democratic', 'Democratic', 'Democratic', 'Democratic', 'Republican', 'Democratic', 'Democratic', 'Republican', 'Democratic', 'Republican', 'Democratic', 'Republican', 'Republican', 'Democratic', 'Democratic', 'Republican', 'Republican', 'Democratic', 'Republican', 'Democratic', 'Democratic', 'Democratic', 'Democratic', 'Republican', 'Republican', 'Democratic', 'Democratic', 'Republican', 'Democratic', 'Democratic', 'Democratic', 'Democratic', 'Democratic', 'Republican', 'Republican', 'Republican', 'Democratic', 'Democratic', 'Republican', 'Republican', 'Democratic', 'Republican', 'Republican', 'Democratic', 'Democratic', 'Democratic', 'Republican', 'Democratic', 'Republican', 'Republican', 'Democratic', 'Democratic', 'Democratic', 'Democratic', 'Democratic', 'Republican', 'Republican', 'Democratic', 'Republican', 'Republican', 'Democratic', 'Democratic', 'Democratic', 'Democratic', 'Democratic', 'Republican', 'Democratic', 'Republican', 'Republican', 'Republican', 'Republican', 'Democratic', 'Republican', 'Republican', 'Republican', 'Republican', 'Democratic', 'Republican', 'Republican', 'Democratic', 'Republican', 'Republican', 'Republican', 'Republican', 'Republican', 'Republican', 'Democratic', 'Republican', 'Republican', 'Democratic', 'Republican', 'Republican', 'Republican', 'Democratic', 'Republican', 'Republican', 'Republican', 'Democratic', 'Republican', 'Republican', 'Republican', 'Republican', 'Democratic', 'Republican', 'Democratic', 'Republican', 'Republican', 'Republican', 'Republican', 'Republican', 'Democratic', 'Republican', 'Democratic', 'Republican', 'Republican', 'Republican', 'Republican', 'Democratic', 'Republican', 'Democratic', 'Democratic', 'Republican', 'Republican', 'Democratic', 'Democratic', 'Republican', 'Republican', 'Democratic', 'Democratic', 'Democratic', 'Democratic', 'Republican', 'Republican', 'Republican', 'Republican', 'Republican', 'Republican', 'Republican', 'Democratic', 'Democratic', 'Democratic', 'Democratic', 'Republican', 'Democratic', 'Republican', 'Republican', 'Republican', 'Republican', 'Republican', 'Democratic', 'Democratic', 'Democratic', 'Republican', 'Republican', 'Republican', 'Democratic', 'Republican', 'Republican', 'Republican', 'Democratic', 'Democratic', 'Democratic', 'Republican', 'Democratic', 'Democratic', 'Republican', 'Democratic', 'Republican', 'Democratic', 'Republican', 'Republican', 'Democratic', 'Democratic', 'Democratic', 'Republican', 'Republican', 'Republican', 'Democratic', 'Republican', 'Democratic', 'Democratic', 'Republican', 'Democratic', 'Republican', 'Republican', 'Republican', 'Republican', 'Democratic', 'Republican', 'Democratic', 'Republican', 'Republican', 'Republican', 'Democratic', 'Republican', 'Republican', 'Republican', 'Republican', 'Democratic', 'Republican', 'Republican', 'Republican', 'Democratic', 'Democratic', 'Democratic', 'Democratic', 'Democratic', 'Republican', 'Republican', 'Democratic', 'Democratic', 'Democratic', 'Republican', 'Democratic', 'Republican', 'Democratic', 'Democratic', 'Democratic', 'Republican', 'Democratic', 'Republican', 'Democratic', 'Democratic', 'Republican', 'Democratic', 'Republican', 'Republican', 'Democratic', 'Democratic', 'Democratic', 'Democratic', 'Democratic', 'Democratic', 'Democratic', 'Republican', 'Democratic', 'Democratic', 'Democratic', 'Democratic', 'Republican', 'Republican', 'Democratic', 'Republican', 'Republican', 'Democratic', 'Democratic', 'Democratic', 'Democratic', 'Democratic', 'Democratic', 'Democratic', 'Republican', 'Republican', 'Democratic', 'Democratic', 'Democratic', 'Democratic', 'Democratic', 'Democratic', 'Democratic', 'Republican', 'Democratic', 'Democratic', 'Republican', 'Democratic', 'Democratic', 'Democratic', 'Democratic', 'Republican', 'Republican', 'Democratic', 'Democratic', 'Republican', 'Democratic', 'Democratic', 'Democratic', 'Democratic', 'Democratic', 'Democratic', 'Democratic', 'Democratic', 'Republican', 'Democratic', 'Democratic', 'Republican', 'Democratic', 'Democratic', 'Republican', 'Democratic', 'Democratic', 'Republican', 'Republican', 'Democratic', 'Democratic', 'Republican', 'Democratic', 'Democratic', 'Democratic', 'Republican', 'Republican', 'Republican', 'Republican', 'Republican', 'Republican', 'Democratic', 'Democratic', 'Democratic', 'Democratic', 'Republican', 'Republican', 'Republican', 'Democratic', 'Democratic', 'Republican', 'Democratic', 'Democratic', 'Democratic', 'Democratic', 'Democratic', 'Democratic', 'Democratic', 'Republican', 'Democratic', 'Republican', 'Democratic', 'Democratic', 'Republican', 'Democratic', 'Democratic', 'Democratic', 'Democratic', 'Republican', 'Democratic', 'Republican', 'Republican', 'Democratic', 'Democratic', 'Democratic', 'Republican', 'Democratic', 'Republican', 'Democratic', 'Republican', 'Republican', 'Republican', 'Republican', 'Republican', 'Republican', 'Democratic', 'Republican', 'Republican', 'Republican', 'Democratic', 'Republican', 'Republican', 'Republican', 'Republican', 'Democratic', 'Democratic', 'Republican', 'Republican', 'Democratic', 'Republican', 'Republican', 'Republican', 'Republican', 'Democratic', 'Republican', 'Republican', 'Republican', 'Republican', 'Republican', 'Democratic', 'Republican', 'Republican', 'Republican', 'Republican', 'Republican', 'Republican', 'Republican', 'Republican', 'Republican', 'Republican', 'Republican', 'Republican', 'Democratic', 'Republican', 'Republican', 'Democratic', 'Republican', 'Republican', 'Democratic', 'Democratic', 'Republican', 'Republican', 'Republican', 'Republican', 'Republican', 'Republican', 'Republican', 'Republican', 'Republican', 'Democratic', 'Republican', 'Republican', 'Republican', 'Republican', 'Republican', 'Republican', 'Democratic', 'Republican', 'Republican', 'Republican', 'Republican', 'Republican', 'Republican', 'Republican', 'Democratic', 'Republican', 'Republican', 'Republican', 'Republican', 'Democratic', 'Republican', 'Republican', 'Republican', 'Republican', 'Republican', 'Republican', 'Republican', 'Republican', 'Republican', 'Republican', 'Republican', 'Republican', 'Republican', 'Republican', 'Democratic', 'Republican', 'Republican', 'Republican', 'Republican', 'Democratic', 'Democratic', 'Republican', 'Republican', 'Democratic', 'Republican', 'Democratic', 'Republican', 'Republican', 'Democratic', 'Democratic', 'Republican', 'Democratic', 'Republican', 'Democratic', 'Democratic', 'Democratic', 'Democratic', 'Democratic', 'Democratic', 'Democratic', 'Democratic', 'Republican', 'Republican', 'Republican', 'Republican', 'Democratic', 'Democratic', 'Republican', 'Democratic', 'Democratic', 'Democratic', 'Democratic', 'Democratic', 'Republican', 'Democratic', 'Republican', 'Republican', 'Republican', 'Republican', 'Republican', 'Democratic', 'Democratic', 'Democratic', 'Democratic', 'Republican', 'Republican', 'Republican', 'Democratic', 'Democratic', 'Democratic', 'Democratic', 'Democratic', 'Democratic', 'Democratic', 'Republican', 'Republican', 'Republican', 'Republican', 'Democratic', 'Republican', 'Republican', 'Republican', 'Democratic', 'Republican', 'Republican', 'Republican', 'Republican', 'Republican', 'Democratic', 'Republican', 'Republican', 'Democratic', 'Democratic', 'Democratic', 'Republican', 'Democratic', 'Democratic', 'Republican', 'Republican', 'Democratic', 'Democratic', 'Democratic', 'Republican', 'Republican', 'Republican', 'Republican', 'Republican', 'Republican', 'Republican', 'Republican', 'Democratic', 'Republican', 'Republican', 'Republican', 'Democratic', 'Democratic', 'Democratic', 'Republican', 'Republican', 'Democratic', 'Republican', 'Republican', 'Republican', 'Republican', 'Republican', 'Democratic', 'Republican', 'Republican', 'Republican', 'Republican', 'Republican', 'Republican', 'Republican', 'Republican', 'Democratic', 'Republican', 'Republican', 'Republican', 'Democratic', 'Republican', 'Republican', 'Republican', 'Republican', 'Republican', 'Democratic', 'Republican', 'Republican', 'Republican', 'Republican', 'Republican', 'Republican', 'Republican', 'Republican', 'Democratic', 'Republican', 'Democratic', 'Republican', 'Republican', 'Republican', 'Republican', 'Democratic', 'Republican', 'Republican', 'Republican', 'Republican', 'Republican', 'Republican', 'Democratic', 'Democratic', 'Democratic', 'Democratic', 'Republican', 'Republican', 'Democratic', 'Democratic', 'Democratic', 'Democratic', 'Democratic', 'Democratic', 'Democratic', 'Republican', 'Republican', 'Republican', 'Democratic', 'Democratic', 'Democratic', 'Democratic', 'Republican', 'Republican', 'Republican', 'Republican', 'Democratic', 'Republican', 'Republican', 'Republican', 'Republican', 'Republican', 'Republican', 'Democratic', 'Democratic', 'Republican', 'Democratic', 'Republican', 'Republican', 'Republican', 'Democratic', 'Democratic', 'Democratic', 'Democratic', 'Democratic', 'Republican', 'Republican', 'Democratic', 'Republican', 'Republican', 'Republican', 'Democratic', 'Republican', 'Democratic', 'Republican', 'Democratic', 'Republican', 'Republican', 'Democratic', 'Republican', 'Republican', 'Republican', 'Democratic', 'Republican', 'Democratic', 'Republican', 'Republican', 'Republican', 'Republican', 'Republican', 'Democratic', 'Democratic', 'Democratic', 'Democratic', 'Republican', 'Democratic', 'Democratic', 'Democratic', 'Democratic', 'Democratic', 'Republican', 'Republican', 'Republican', 'Democratic', 'Democratic', 'Democratic', 'Democratic', 'Republican', 'Democratic', 'Democratic', 'Democratic', 'Republican', 'Republican', 'Democratic', 'Democratic', 'Republican', 'Democratic', 'Democratic', 'Democratic', 'Democratic', 'Democratic', 'Democratic', 'Democratic', 'Democratic', 'Democratic', 'Republican', 'Republican', 'Republican', 'Democratic', 'Democratic', 'Democratic', 'Democratic', 'Democratic', 'Democratic', 'Democratic', 'Democratic', 'Democratic', 'Democratic', 'Democratic', 'Republican', 'Republican', 'Republican', 'Republican', 'Republican', 'Democratic', 'Democratic', 'Democratic', 'Republican', 'Republican', 'Republican', 'Republican', 'Democratic', 'Republican', 'Republican', 'Republican', 'Republican', 'Republican', 'Republican', 'Republican', 'Republican', 'Republican', 'Democratic', 'Democratic', 'Republican', 'Democratic', 'Democratic', 'Democratic', 'Democratic', 'Republican', 'Republican', 'Democratic', 'Democratic', 'Democratic', 'Republican', 'Republican', 'Republican', 'Democratic', 'Republican', 'Democratic', 'Democratic', 'Democratic', 'Democratic', 'Republican', 'Republican', 'Republican', 'Republican', 'Republican', 'Republican', 'Democratic', 'Republican', 'Republican', 'Republican', 'Republican', 'Republican', 'Republican', 'Democratic', 'Democratic', 'Republican', 'Republican', 'Democratic', 'Democratic', 'Republican', 'Democratic', 'Republican', 'Republican', 'Republican', 'Republican', 'Republican', 'Republican', 'Democratic', 'Republican', 'Republican', 'Republican', 'Republican', 'Democratic', 'Republican', 'Democratic', 'Republican', 'Democratic', 'Republican', 'Republican', 'Democratic', 'Democratic', 'Democratic', 'Democratic', 'Democratic', 'Republican', 'Republican', 'Republican', 'Republican', 'Republican', 'Republican', 'Republican', 'Republican', 'Republican[1]', 'Republican', 'Republican', 'Republican', 'Republican', 'Republican', 'Democratic', 'Republican']\n"
          ]
        }
      ]
    },
    {
      "cell_type": "code",
      "metadata": {
        "colab": {
          "base_uri": "https://localhost:8080/"
        },
        "id": "ZXBMVGqxuNMR",
        "outputId": "d5191f6c-f140-4555-d3a7-886f416fa762"
      },
      "source": [
        "new_y = Y\n",
        "for i in range(len(Y)):\n",
        "  if(Y[i][0]=='D'):\n",
        "    new_y[i] = 0\n",
        "  else:\n",
        "    new_y[i] = 1\n",
        "print(new_y)"
      ],
      "execution_count": null,
      "outputs": [
        {
          "output_type": "stream",
          "name": "stdout",
          "text": [
            "[0, 1, 1, 1, 1, 0, 0, 0, 0, 1, 0, 1, 1, 0, 0, 1, 0, 0, 1, 1, 0, 0, 1, 1, 0, 1, 1, 1, 1, 1, 1, 0, 0, 0, 1, 1, 0, 0, 0, 0, 1, 0, 1, 1, 1, 1, 0, 0, 0, 0, 1, 0, 0, 0, 1, 0, 1, 1, 0, 1, 1, 1, 1, 0, 1, 1, 0, 0, 0, 1, 1, 1, 1, 1, 0, 0, 1, 1, 0, 0, 0, 0, 1, 1, 1, 0, 0, 0, 1, 0, 1, 1, 0, 1, 1, 0, 0, 1, 1, 1, 1, 0, 1, 0, 0, 0, 0, 0, 1, 1, 0, 0, 0, 0, 0, 0, 0, 1, 0, 1, 1, 1, 0, 1, 0, 1, 1, 0, 0, 0, 0, 0, 0, 0, 0, 0, 1, 1, 1, 1, 0, 1, 1, 1, 1, 1, 1, 1, 0, 1, 1, 0, 0, 1, 1, 1, 1, 0, 0, 0, 1, 1, 1, 1, 0, 0, 1, 0, 1, 1, 1, 1, 1, 0, 1, 1, 1, 1, 0, 1, 0, 0, 1, 1, 0, 1, 0, 1, 0, 1, 1, 1, 0, 0, 1, 1, 0, 0, 0, 0, 0, 1, 0, 1, 0, 1, 1, 0, 1, 1, 1, 1, 0, 1, 0, 0, 0, 1, 0, 1, 1, 1, 1, 1, 0, 0, 1, 1, 1, 1, 1, 1, 1, 1, 1, 0, 1, 1, 0, 1, 0, 0, 1, 0, 1, 0, 0, 0, 1, 0, 0, 1, 0, 0, 1, 0, 0, 1, 0, 0, 0, 0, 0, 1, 1, 1, 0, 1, 1, 1, 0, 0, 1, 0, 0, 0, 0, 0, 1, 1, 1, 0, 0, 0, 1, 0, 0, 0, 0, 1, 1, 0, 0, 1, 1, 1, 1, 1, 1, 1, 0, 1, 1, 1, 0, 1, 1, 0, 0, 1, 1, 0, 1, 1, 0, 1, 1, 1, 0, 0, 0, 0, 0, 0, 0, 0, 1, 0, 0, 0, 0, 0, 1, 1, 0, 1, 1, 1, 0, 1, 0, 0, 1, 1, 0, 1, 1, 1, 1, 0, 0, 1, 1, 1, 0, 0, 1, 1, 0, 1, 1, 1, 1, 1, 0, 1, 0, 1, 0, 0, 1, 1, 1, 1, 1, 1, 0, 1, 1, 1, 0, 1, 0, 0, 0, 0, 0, 0, 1, 0, 1, 1, 1, 1, 0, 0, 1, 0, 0, 1, 1, 0, 1, 0, 1, 0, 0, 1, 1, 1, 0, 0, 0, 1, 1, 1, 1, 0, 0, 1, 0, 0, 0, 0, 1, 0, 1, 1, 1, 0, 0, 0, 1, 0, 0, 0, 0, 1, 0, 1, 1, 1, 0, 0, 1, 0, 0, 0, 0, 1, 1, 0, 0, 0, 0, 0, 1, 0, 0, 1, 1, 1, 1, 1, 1, 1, 0, 0, 1, 1, 0, 0, 0, 1, 1, 1, 0, 0, 1, 0, 1, 1, 1, 0, 0, 0, 1, 0, 0, 1, 1, 1, 1, 1, 1, 0, 0, 1, 0, 0, 0, 0, 0, 1, 1, 0, 1, 0, 0, 0, 0, 0, 0, 1, 1, 0, 0, 1, 1, 1, 1, 0, 0, 0, 0, 0, 0, 0, 1, 1, 1, 1, 1, 1, 0, 0, 1, 1, 1, 0, 1, 0, 0, 0, 0, 0, 1, 0, 0, 1, 1, 0, 1, 1, 0, 0, 0, 1, 1, 0, 1, 0, 0, 0, 1, 0, 0, 0, 0, 0, 1, 0, 0, 1, 0, 1, 0, 1, 1, 0, 0, 1, 1, 0, 1, 0, 0, 0, 0, 1, 1, 0, 0, 1, 0, 0, 0, 0, 0, 1, 1, 1, 0, 0, 1, 1, 0, 1, 1, 0, 0, 0, 1, 0, 1, 1, 0, 0, 0, 0, 0, 1, 1, 0, 1, 1, 0, 0, 0, 0, 0, 1, 0, 1, 1, 1, 1, 0, 1, 1, 1, 1, 0, 1, 1, 0, 1, 1, 1, 1, 1, 1, 0, 1, 1, 0, 1, 1, 1, 0, 1, 1, 1, 0, 1, 1, 1, 1, 0, 1, 0, 1, 1, 1, 1, 1, 0, 1, 0, 1, 1, 1, 1, 0, 1, 0, 0, 1, 1, 0, 0, 1, 1, 0, 0, 0, 0, 1, 1, 1, 1, 1, 1, 1, 0, 0, 0, 0, 1, 0, 1, 1, 1, 1, 1, 0, 0, 0, 1, 1, 1, 0, 1, 1, 1, 0, 0, 0, 1, 0, 0, 1, 0, 1, 0, 1, 1, 0, 0, 0, 1, 1, 1, 0, 1, 0, 0, 1, 0, 1, 1, 1, 1, 0, 1, 0, 1, 1, 1, 0, 1, 1, 1, 1, 0, 1, 1, 1, 0, 0, 0, 0, 0, 1, 1, 0, 0, 0, 1, 0, 1, 0, 0, 0, 1, 0, 1, 0, 0, 1, 0, 1, 1, 0, 0, 0, 0, 0, 0, 0, 1, 0, 0, 0, 0, 1, 1, 0, 1, 1, 0, 0, 0, 0, 0, 0, 0, 1, 1, 0, 0, 0, 0, 0, 0, 0, 1, 0, 0, 1, 0, 0, 0, 0, 1, 1, 0, 0, 1, 0, 0, 0, 0, 0, 0, 0, 0, 1, 0, 0, 1, 0, 0, 1, 0, 0, 1, 1, 0, 0, 1, 0, 0, 0, 1, 1, 1, 1, 1, 1, 0, 0, 0, 0, 1, 1, 1, 0, 0, 1, 0, 0, 0, 0, 0, 0, 0, 1, 0, 1, 0, 0, 1, 0, 0, 0, 0, 1, 0, 1, 1, 0, 0, 0, 1, 0, 1, 0, 1, 1, 1, 1, 1, 1, 0, 1, 1, 1, 0, 1, 1, 1, 1, 0, 0, 1, 1, 0, 1, 1, 1, 1, 0, 1, 1, 1, 1, 1, 0, 1, 1, 1, 1, 1, 1, 1, 1, 1, 1, 1, 1, 0, 1, 1, 0, 1, 1, 0, 0, 1, 1, 1, 1, 1, 1, 1, 1, 1, 0, 1, 1, 1, 1, 1, 1, 0, 1, 1, 1, 1, 1, 1, 1, 0, 1, 1, 1, 1, 0, 1, 1, 1, 1, 1, 1, 1, 1, 1, 1, 1, 1, 1, 1, 0, 1, 1, 1, 1, 0, 0, 1, 1, 0, 1, 0, 1, 1, 0, 0, 1, 0, 1, 0, 0, 0, 0, 0, 0, 0, 0, 1, 1, 1, 1, 0, 0, 1, 0, 0, 0, 0, 0, 1, 0, 1, 1, 1, 1, 1, 0, 0, 0, 0, 1, 1, 1, 0, 0, 0, 0, 0, 0, 0, 1, 1, 1, 1, 0, 1, 1, 1, 0, 1, 1, 1, 1, 1, 0, 1, 1, 0, 0, 0, 1, 0, 0, 1, 1, 0, 0, 0, 1, 1, 1, 1, 1, 1, 1, 1, 0, 1, 1, 1, 0, 0, 0, 1, 1, 0, 1, 1, 1, 1, 1, 0, 1, 1, 1, 1, 1, 1, 1, 1, 0, 1, 1, 1, 0, 1, 1, 1, 1, 1, 0, 1, 1, 1, 1, 1, 1, 1, 1, 0, 1, 0, 1, 1, 1, 1, 0, 1, 1, 1, 1, 1, 1, 0, 0, 0, 0, 1, 1, 0, 0, 0, 0, 0, 0, 0, 1, 1, 1, 0, 0, 0, 0, 1, 1, 1, 1, 0, 1, 1, 1, 1, 1, 1, 0, 0, 1, 0, 1, 1, 1, 0, 0, 0, 0, 0, 1, 1, 0, 1, 1, 1, 0, 1, 0, 1, 0, 1, 1, 0, 1, 1, 1, 0, 1, 0, 1, 1, 1, 1, 1, 0, 0, 0, 0, 1, 0, 0, 0, 0, 0, 1, 1, 1, 0, 0, 0, 0, 1, 0, 0, 0, 1, 1, 0, 0, 1, 0, 0, 0, 0, 0, 0, 0, 0, 0, 1, 1, 1, 0, 0, 0, 0, 0, 0, 0, 0, 0, 0, 0, 1, 1, 1, 1, 1, 0, 0, 0, 1, 1, 1, 1, 0, 1, 1, 1, 1, 1, 1, 1, 1, 1, 0, 0, 1, 0, 0, 0, 0, 1, 1, 0, 0, 0, 1, 1, 1, 0, 1, 0, 0, 0, 0, 1, 1, 1, 1, 1, 1, 0, 1, 1, 1, 1, 1, 1, 0, 0, 1, 1, 0, 0, 1, 0, 1, 1, 1, 1, 1, 1, 0, 1, 1, 1, 1, 0, 1, 0, 1, 0, 1, 1, 0, 0, 0, 0, 0, 1, 1, 1, 1, 1, 1, 1, 1, 1, 1, 1, 1, 1, 1, 0, 1]\n"
          ]
        }
      ]
    },
    {
      "cell_type": "code",
      "metadata": {
        "colab": {
          "base_uri": "https://localhost:8080/"
        },
        "id": "YIVYsJvbYqHc",
        "outputId": "47b35ceb-da56-42cd-c885-38a48fc82406"
      },
      "source": [
        "print(len(new_y))"
      ],
      "execution_count": null,
      "outputs": [
        {
          "output_type": "stream",
          "name": "stdout",
          "text": [
            "1376\n"
          ]
        }
      ]
    },
    {
      "cell_type": "code",
      "metadata": {
        "id": "la52rKJ7uh2_",
        "colab": {
          "base_uri": "https://localhost:8080/"
        },
        "outputId": "71c3b142-6fa9-40f0-c7bd-607c7870bf4f"
      },
      "source": [
        "# !pip install -U sentence-transformers"
      ],
      "execution_count": null,
      "outputs": [
        {
          "output_type": "stream",
          "name": "stdout",
          "text": [
            "Collecting sentence-transformers\n",
            "  Downloading sentence-transformers-2.1.0.tar.gz (78 kB)\n",
            "\u001b[?25l\r\u001b[K     |████▏                           | 10 kB 19.9 MB/s eta 0:00:01\r\u001b[K     |████████▍                       | 20 kB 26.0 MB/s eta 0:00:01\r\u001b[K     |████████████▌                   | 30 kB 13.7 MB/s eta 0:00:01\r\u001b[K     |████████████████▊               | 40 kB 10.6 MB/s eta 0:00:01\r\u001b[K     |████████████████████▉           | 51 kB 5.5 MB/s eta 0:00:01\r\u001b[K     |█████████████████████████       | 61 kB 5.7 MB/s eta 0:00:01\r\u001b[K     |█████████████████████████████▏  | 71 kB 5.4 MB/s eta 0:00:01\r\u001b[K     |████████████████████████████████| 78 kB 3.1 MB/s \n",
            "\u001b[?25hRequirement already satisfied: transformers<5.0.0,>=4.6.0 in /usr/local/lib/python3.7/dist-packages (from sentence-transformers) (4.12.5)\n",
            "Requirement already satisfied: tokenizers>=0.10.3 in /usr/local/lib/python3.7/dist-packages (from sentence-transformers) (0.10.3)\n",
            "Requirement already satisfied: tqdm in /usr/local/lib/python3.7/dist-packages (from sentence-transformers) (4.62.3)\n",
            "Requirement already satisfied: torch>=1.6.0 in /usr/local/lib/python3.7/dist-packages (from sentence-transformers) (1.10.0+cu111)\n",
            "Requirement already satisfied: torchvision in /usr/local/lib/python3.7/dist-packages (from sentence-transformers) (0.11.1+cu111)\n",
            "Requirement already satisfied: numpy in /usr/local/lib/python3.7/dist-packages (from sentence-transformers) (1.19.5)\n",
            "Requirement already satisfied: scikit-learn in /usr/local/lib/python3.7/dist-packages (from sentence-transformers) (1.0.1)\n",
            "Requirement already satisfied: scipy in /usr/local/lib/python3.7/dist-packages (from sentence-transformers) (1.4.1)\n",
            "Requirement already satisfied: nltk in /usr/local/lib/python3.7/dist-packages (from sentence-transformers) (3.2.5)\n",
            "Collecting sentencepiece\n",
            "  Downloading sentencepiece-0.1.96-cp37-cp37m-manylinux_2_17_x86_64.manylinux2014_x86_64.whl (1.2 MB)\n",
            "\u001b[K     |████████████████████████████████| 1.2 MB 16.8 MB/s \n",
            "\u001b[?25hRequirement already satisfied: huggingface-hub in /usr/local/lib/python3.7/dist-packages (from sentence-transformers) (0.2.1)\n",
            "Requirement already satisfied: typing-extensions in /usr/local/lib/python3.7/dist-packages (from torch>=1.6.0->sentence-transformers) (3.10.0.2)\n",
            "Requirement already satisfied: pyyaml>=5.1 in /usr/local/lib/python3.7/dist-packages (from transformers<5.0.0,>=4.6.0->sentence-transformers) (6.0)\n",
            "Requirement already satisfied: sacremoses in /usr/local/lib/python3.7/dist-packages (from transformers<5.0.0,>=4.6.0->sentence-transformers) (0.0.46)\n",
            "Requirement already satisfied: importlib-metadata in /usr/local/lib/python3.7/dist-packages (from transformers<5.0.0,>=4.6.0->sentence-transformers) (4.8.2)\n",
            "Requirement already satisfied: requests in /usr/local/lib/python3.7/dist-packages (from transformers<5.0.0,>=4.6.0->sentence-transformers) (2.23.0)\n",
            "Requirement already satisfied: filelock in /usr/local/lib/python3.7/dist-packages (from transformers<5.0.0,>=4.6.0->sentence-transformers) (3.4.0)\n",
            "Requirement already satisfied: regex!=2019.12.17 in /usr/local/lib/python3.7/dist-packages (from transformers<5.0.0,>=4.6.0->sentence-transformers) (2019.12.20)\n",
            "Requirement already satisfied: packaging>=20.0 in /usr/local/lib/python3.7/dist-packages (from transformers<5.0.0,>=4.6.0->sentence-transformers) (21.3)\n",
            "Requirement already satisfied: pyparsing!=3.0.5,>=2.0.2 in /usr/local/lib/python3.7/dist-packages (from packaging>=20.0->transformers<5.0.0,>=4.6.0->sentence-transformers) (3.0.6)\n",
            "Requirement already satisfied: zipp>=0.5 in /usr/local/lib/python3.7/dist-packages (from importlib-metadata->transformers<5.0.0,>=4.6.0->sentence-transformers) (3.6.0)\n",
            "Requirement already satisfied: six in /usr/local/lib/python3.7/dist-packages (from nltk->sentence-transformers) (1.15.0)\n",
            "Requirement already satisfied: urllib3!=1.25.0,!=1.25.1,<1.26,>=1.21.1 in /usr/local/lib/python3.7/dist-packages (from requests->transformers<5.0.0,>=4.6.0->sentence-transformers) (1.24.3)\n",
            "Requirement already satisfied: chardet<4,>=3.0.2 in /usr/local/lib/python3.7/dist-packages (from requests->transformers<5.0.0,>=4.6.0->sentence-transformers) (3.0.4)\n",
            "Requirement already satisfied: idna<3,>=2.5 in /usr/local/lib/python3.7/dist-packages (from requests->transformers<5.0.0,>=4.6.0->sentence-transformers) (2.10)\n",
            "Requirement already satisfied: certifi>=2017.4.17 in /usr/local/lib/python3.7/dist-packages (from requests->transformers<5.0.0,>=4.6.0->sentence-transformers) (2021.10.8)\n",
            "Requirement already satisfied: joblib in /usr/local/lib/python3.7/dist-packages (from sacremoses->transformers<5.0.0,>=4.6.0->sentence-transformers) (1.1.0)\n",
            "Requirement already satisfied: click in /usr/local/lib/python3.7/dist-packages (from sacremoses->transformers<5.0.0,>=4.6.0->sentence-transformers) (7.1.2)\n",
            "Requirement already satisfied: threadpoolctl>=2.0.0 in /usr/local/lib/python3.7/dist-packages (from scikit-learn->sentence-transformers) (3.0.0)\n",
            "Requirement already satisfied: pillow!=8.3.0,>=5.3.0 in /usr/local/lib/python3.7/dist-packages (from torchvision->sentence-transformers) (7.1.2)\n",
            "Building wheels for collected packages: sentence-transformers\n",
            "  Building wheel for sentence-transformers (setup.py) ... \u001b[?25l\u001b[?25hdone\n",
            "  Created wheel for sentence-transformers: filename=sentence_transformers-2.1.0-py3-none-any.whl size=121000 sha256=37b661fe4ca93ccd60e8aec5b1bc04acd0b19a0210e7ee8e9e73b91293e9eee7\n",
            "  Stored in directory: /root/.cache/pip/wheels/90/f0/bb/ed1add84da70092ea526466eadc2bfb197c4bcb8d4fa5f7bad\n",
            "Successfully built sentence-transformers\n",
            "Installing collected packages: sentencepiece, sentence-transformers\n",
            "Successfully installed sentence-transformers-2.1.0 sentencepiece-0.1.96\n"
          ]
        }
      ]
    },
    {
      "cell_type": "code",
      "metadata": {
        "id": "zCaWcAojluQq"
      },
      "source": [
        "background_text = []\n",
        "political_text = []\n",
        "others_text = []\n",
        "\n",
        "for i,representative in enumerate(data):\n",
        "  #inner_text = []\n",
        "  b_text = \"\"\n",
        "  p_text = \"\"\n",
        "  o_text = \"\"\n",
        "  for keys in representative.keys():\n",
        "    if keys=='Background':\n",
        "      b_text += str(representative[keys]) + \" \"\n",
        "    if keys=='Political':\n",
        "      p_text += str(representative[keys]) + \" \"\n",
        "    if keys=='Others':\n",
        "      o_text += str(representative[keys]) + \" \"\n",
        "  background_text.append(b_text)\n",
        "  political_text.append(p_text)\n",
        "  others_text.append(o_text)\n",
        "      \n",
        "    # if(keys not in ['Name','PersonalDetails']):\n",
        "    #   #inner_text.append(representative[keys])\n",
        "    #   #print(representative[keys])\n",
        "    #   inner_text += str(representative[keys]) + \" \"  \n",
        "  # text.append(inner_text)"
      ],
      "execution_count": null,
      "outputs": []
    },
    {
      "cell_type": "code",
      "metadata": {
        "colab": {
          "base_uri": "https://localhost:8080/",
          "height": 139
        },
        "id": "KIafOknxmbCq",
        "outputId": "300933b7-e073-4973-96da-a1b6c93d8426"
      },
      "source": [
        "political_text[1]"
      ],
      "execution_count": null,
      "outputs": [
        {
          "output_type": "execute_result",
          "data": {
            "application/vnd.google.colaboratory.intrinsic+json": {
              "type": "string"
            },
            "text/plain": [
              "'\\nStevens had been with Charles Clasby\\'s law firm for six months when Robert J. McNealy, a Democrat appointed as U.S. Attorney for Fairbanks during the Truman administration,[14] informed U.S. District Judge Harry Pratt he would be resigning effective August 15, 1953,[26] having already delayed his resignation by several months at the request of Justice Department officials newly appointed by Eisenhower. The latter had asked McNealy to delay his resignation until Eisenhower could appoint a replacement.[25] Despite Stevens\\'s short tenure as an Alaska resident and his relative lack of trial or criminal law experience, Pratt asked Stevens to serve in the position until Eisenhower acted.[26] Stevens agreed. \"I said, \\'Sure, I\\'d like to do that,\\'\" Stevens recalled years later. \"Clasby said, \\'It\\'s not going to pay you as much money, but, if you want to do it, that\\'s your business.\\' He was very pissed that I decided to go.\"[14] Most members of the Fairbanks Bar Association were outraged at the appointment of a newcomer, and members in attendance at the association\\'s meeting that December voted to support Carl Messenger for the permanent appointment, an endorsement seconded by the Alaska Republican Party Committee for the Fairbanks-area judicial division.[26] However, Stevens was favored by Attorney General Herbert Brownell, by Senator William F. Knowland of California, and by the Republican National Committee,[26] (Alaska itself had no Senators at this time, as it was still a territory). Eisenhower sent Stevens\\'s nomination to the U.S. Senate,[27] which confirmed him on March 30, 1954.[14]\\n\\nStevens soon gained a reputation as an active prosecutor who vigorously prosecuted violations of federal and territorial liquor, drug, and prostitution laws,[14] characterized by Fairbanks area homesteader Niilo Koponen (who later served in the Alaska State House of Representatives from 1982 to 1991) as \"this rough tough shorty of a district attorney who was going to crush crime\".[27] Stevens sometimes accompanied U.S. Marshals on raids. As recounted years later by Justice Jay Rabinowitz, \"U.S. marshals went in with Tommy guns and Ted led the charge, smoking a stogie and with six guns on his hips.\"[14] However, Stevens himself said the colorful stories spread about him as a pistol-packing D.A. were greatly exaggerated, and recalled only one incident when he carried a gun: on a vice raid to the town of Big Delta about 75 miles (121\\xa0km) southeast of Fairbanks, he carried a holstered gun on a marshal\\'s suggestion.[14]\\n\\nStevens also became known for his explosive temper, which was focused particularly on a criminal defense lawyer named Warren A. Taylor[14] who would later go on to become the Alaska Legislature\\'s first Speaker of the House in the First Alaska State Legislature.[28] \"Ted would get red in the face, blow up and stalk out of the courtroom,\" a former court clerk later recalled of Stevens\\'s relationship with Taylor.[14]\\n\\nIn 1956, in a trial which received national headlines, Stevens prosecuted Jack Marler; a former Internal Revenue Service agent accused of failing to file tax returns. Marler\\'s first trial, which was handled by a different prosecutor, had ended in a deadlocked jury and a mistrial. For the second trial, Stevens was up against Edgar Paul Boyko, a flamboyant Anchorage attorney who built his defense of Marler on the theory of no taxation without representation, citing the Territory of Alaska\\'s lack of representation in the U.S. Congress. As recalled by Boyko, his closing argument to the jury was a rabble-rousing appeal for the jury to \"strike a blow for Alaskan freedom\", claiming that \"this case was the jury\\'s chance to move Alaska toward statehood.\" Boyko remembered that \"Ted had done a hell of a job in the case,\" but Boyko\\'s tactics paid off, and Marler was acquitted on April 3, 1956. Following the acquittal, Stevens issued a statement saying, \"I don\\'t believe the jury\\'s verdict is an expression of resistance to taxes or law enforcement or the start of a Boston Tea Party. I do believe, however, that the decision will be a blow to the hopes for Alaska statehood.\"[14]\\n\\nIn March 1956, Stevens\\'s friend Elmer Bennett, legislative counsel in the Department of the Interior, was promoted by Secretary of the Interior Douglas McKay to the Secretary\\'s office. Bennett successfully lobbied McKay to replace him in his old job with Stevens, and Stevens returned to Washington, D.C., to take up the position.[29] By the time he arrived in June 1956, McKay had resigned in order to run for the U.S. Senate from his home state of Oregon,[29] and Fred Andrew Seaton had been appointed to replace him.[29][30] Seaton, a newspaper publisher from Nebraska,[29] was a close friend of Fairbanks Daily News-Miner publisher C.W. Snedden, and in common with Snedden was an advocate of Alaska statehood,[30] unlike McKay, who had been lukewarm in his support.[29] Seaton asked Snedden if he knew any Alaskan who could come to Washington, D.C. to work for Alaska statehood; Snedden replied that the man he needed (Stevens) was already there working in the Department of the Interior.[30] The fight for Alaska statehood became Stevens\\'s principal work at Interior. \"He did all the work on statehood,\" Roger Ernst, Seaton\\'s assistant secretary for public land management, later said of Stevens. \"He wrote 90 percent of all the speeches. Statehood was his main project.\"[30] A sign on Stevens\\'s door proclaimed his office as \"Alaskan Headquarters\", and Stevens became known at the Department of the Interior as \"Mr. Alaska\".[29]\\n\\nEfforts to make Alaska a state had been going on since 1943, and had nearly come to fruition during the Truman administration in 1950 when a statehood bill passed in the U.S. House of Representatives, only to die in the Senate.[30] The national Republican Party opposed statehood for Alaska, in part out of fear that Alaska would elect Democrats to Congress.[30] At the time Stevens arrived in Washington, D.C., to take up his new job, a constitutional convention to write an Alaska constitution had just been concluded on the campus of the University of Alaska in Fairbanks.[31] The 55 delegates also elected three unofficial representatives (all Democrats) as unofficial delegates to Congress: Ernest Gruening and William Egan as U.S. Senators and Ralph Rivers as U.S. representative.[30]\\n\\nPresident Eisenhower, a Republican, regarded Alaska as too large and sparsely populated to be economically self-sufficient as a state, and furthermore saw statehood as an obstacle to effective defense of Alaska should the Soviet Union seek to invade it.[30] Eisenhower was especially worried about the sparsely populated areas of northern and western Alaska. In March 1954, he had drawn a line on a map indicating his opinion of the portions of Alaska which he felt ought to remain in federal hands even if Alaska were granted statehood.[30]\\n\\nSeaton and Stevens worked with Gen. Nathan Twining, Chairman of the Joint Chiefs of Staff, who had served in Alaska; and Jack L. Stempler, a top Defense Department attorney, to create a compromise that would address Eisenhower\\'s concerns. Much of their work was conducted in a hospital room at Walter Reed Army Hospital, where Seaton was being treated for back problems.[30] Their work concentrated on refining the line on the map that Eisenhower had drawn in 1954, one which became known as the PYK Line after three rivers (the Porcupine, Yukon, and Kuskokwim) whose courses defined much of the line.[30] The PYK Line was the basis for Section\\xa010 of the Alaska Statehood Act, which Stevens wrote.[30] Under Section 10, the land north and west of the PYK Line\\xa0– which included the entirety of Alaska\\'s North Slope, the Seward Peninsula, most of the Yukon-Kuskokwim Delta, the western portions of the Alaska Peninsula, and the Aleutian and Pribilof Islands\\xa0– would be part of the new state, but the President would be granted emergency powers to establish special national defense withdrawals in those areas if deemed necessary.[32] \"It\\'s still in the law but it\\'s never been exercised,\" Stevens later recollected. \"Now that the problem with Russia is gone, it\\'s surplusage. But it is a special law that only applies to Alaska.\"[30]\\n\\nStevens also took part (illegally) in lobbying for the statehood bill,[30] working closely with the Alaska Statehood Committee from his office at Interior.[30] Stevens hired Marilyn Atwood,[30] daughter of Anchorage Times publisher Robert Atwood,[30] who was chairman of the Alaska Statehood Committee,[33] to work with him in the Interior Department. \"We were violating the law,\" Stevens told a researcher in an October 1977 oral history interview for the Eisenhower Library. \"[W]e were lobbying from the executive branch, and there\\'s been a statute against that for a long time.\\xa0... We more or less, I would say, masterminded the House and Senate attack from the executive branch.\"[30] Stevens and the younger Atwood created file cards on members of Congress based on \"whether they were Rotarians or Kiwanians or Catholics or Baptists and veterans or loggers, the whole thing\", Stevens said in the 1977 interview. \"And we\\'d assigned these Alaskans to go talk to individual members of the Senate and split them down on the basis of people that had something in common with them.\"[30] The lobbying campaign extended to presidential press conferences. \"We set Ike up quite often at press conferences by planting questions about Alaska statehood,\" Stevens said in the 1977 interview. \"We never let a press conference go by without getting someone to try to ask him about statehood.\"[30] Newspapers were also targeted, according to Stevens. \"We planted editorials in weeklies and dailies and newspapers in the district of people we thought were opposed to us or states where they were opposed to us so that suddenly they were thinking twice about opposing us.\"[30]\\n\\nThe Alaska Statehood Act became law with Eisenhower\\'s signature on July 7, 1958,[32] and Alaska formally was admitted to statehood on January 3, 1959, when Eisenhower signed the Alaska Statehood Proclamation.[34]\\n\\nAfter returning to Alaska, Stevens practiced law in Anchorage and became a member of Operation Rampart, a group in favor of building the Rampart Dam, a hydroelectric project on the Yukon River.[35] Elected to the Alaska House of Representatives in 1964, he became House Majority Leader in his second term.\\n\\nStevens first ran for the U.S. Senate in 1962 and won the Republican nomination, but lost in the general election to incumbent Democratic U.S. Senator Ernest Gruening.[36] In 1968, Stevens once again ran for the U.S. Senate, but lost in the Republican primary to Anchorage Mayor Elmer E. Rasmuson. Rasmuson lost the general election to Democrat Mike Gravel. In December 1968, after the death of Alaska\\'s other senator, Democrat Bob Bartlett, Governor Wally Hickel appointed Stevens to the seat.[37] Since Gravel took office ten days after Stevens did, Stevens was Alaska\\'s senior senator for all but ten days of his forty-year tenure in the Senate.\\n\\nIn a special election in 1970, Stevens won the right to finish the remainder of Bartlett\\'s term. He won the seat in his own right in 1972, and was reelected in 1978, 1984, 1990, 1996 and 2002 elections. His final term expired in January 2009. Since his first election to a full term in 1972, Stevens never received less than 66% of the vote before his 2008 defeat for re-election.[38]\\n\\nStevens lost his Senate re-election bid in 2008.[39] He won the Republican primary in August[40] and was defeated by Anchorage Mayor Mark Begich in the general election.[41]\\n\\nStevens, who would have been 90 years old on election day, had filed to run for a rematch against Begich in the 2014 election,[42] but he was killed in a plane crash on August 9, 2010.[43]\\n\\nStevens served as the Assistant Republican Leader (Whip) from 1977 to 1985. Stevens served as Acting Minority Leader during Howard Baker\\'s run for president during the 1980 Republican primaries.[44] In 1994, after the Republicans took control of the Senate, Stevens was appointed Chairman of the Senate Rules Committee. Stevens became the Senate\\'s President Pro Tempore when Republicans regained control of the chamber as a result of the 2002 mid-term elections, during which the previous most senior Republican senator and former President Pro Tempore Strom Thurmond retired.\\n\\nAfter Howard Baker retired in 1984, Stevens sought the position of Republican (and then-Majority) leader, running against Bob Dole, Dick Lugar, Jim McClure and Pete Domenici. As Republican whip, Stevens was theoretically the favorite to succeed Baker, but lost to Dole in a fourth ballot.[45]\\n\\nStevens chaired the Senate Appropriations Committee from 1997 to 2005, except for the 18 months when Democrats controlled the chamber. The chairmanship gave Stevens considerable influence among fellow Senators, who relied on him for home-state project funds. Even before becoming chairman of the Appropriations Committee, Stevens secured large sums of federal money for the State of Alaska.[citation needed] Due to Republican Party rules that limited committee chairmanships to six years, Stevens gave up the Appropriations gavel at the start of the 109th Congress, in January 2005.\\n\\nHe chaired the United States Senate Committee on Commerce, Science and Transportation during the 109th Congress, becoming the committee\\'s ranking member after the Democrats regained control of the Senate for the 110th Congress. He resigned his ranking-member position on the committee due to his indictment.[46]\\n\\nAt various times, Stevens also served as Chairman of the Senate Governmental Affairs Committee, the Senate Ethics Committee, the Arms Control Observer Group, and the Joint Committee on the Library of Congress.\\n\\nDue to Stevens\\'s long tenure and that of the state\\'s sole congressman, Don Young, Alaska was considered to have clout in national politics well beyond its small population (the state was long the smallest in population and is currently 47th, ahead of only Wyoming, North Dakota, and Vermont).\\n\\nOn June 28, 2006, the Senate commerce committee was in the final day of three days of hearings,[47] during which the Committee members considered more than two hundred amendments to an omnibus telecommunications bill. Stevens authored the bill, S. 2686,[48] the Communications, Consumer\\'s Choice, and Broadband Deployment Act of 2006.\\n\\nSenators Olympia Snowe (R-ME) and Byron Dorgan (D-ND) cosponsored and spoke on behalf of an amendment that would have inserted strong network neutrality mandates into the bill. In between speeches by Snowe and Dorgan, Stevens gave a vehement 11-minute speech using colorful language to explain his opposition to the amendment. Stevens referred to the Internet as \"not a big truck\", but a \"series of tubes\" that could be clogged with information. Stevens also confused the terms Internet and e-mail. Soon after, Stevens\\'s interpretation of how the Internet works became a topic of amusement and ridicule by some in the blogosphere.[49] The phrases \"the Internet is not a big truck\" and \"series of tubes\" became internet memes and were prominently featured on U.S. television shows including Comedy Central\\'s The Daily Show.\\n\\nCNET journalist Declan McCullagh called \"series of tubes\" an \"entirely reasonable\" metaphor for the Internet, noting that some computer operating systems use the term \\'pipes\\' to describe interprocess communication. McCullagh also suggested that ridicule of Stevens was almost entirely political, espousing his belief that if Stevens has spoken in a similar manner, yet in support of Net Neutrality, \"the online chortling would have been muted or nonexistent.\"[50]\\n\\nStevens was a long-standing proponent of logging and championed a plan that would allow 2,400,000 acres (9,700\\xa0km2) of roadless old growth forest to be clear-cut. Stevens said this would revive Alaska\\'s timber industry and bring jobs to unemployed loggers; however, the proposal would mean that thousands of miles of roads would be constructed at the expense of the United States Forest Service, judged to cost taxpayers $200,000 per job created.[citation needed]\\n\\nStevens considered himself pro-abortion. According to On the Issues[51] and NARAL,[52] Stevens had a mildly anti-abortion voting record, despite some notable pro-abortion votes.[53]\\n\\nHowever, as a former member of the moderate Republican Main Street Partnership, Stevens supported human embryonic stem cell research.[54]\\n\\nStevens, once an avowed critic of anthropogenic climate change, began actively supporting legislation to combat climate change in early 2007. \"Global climate change is a very serious problem for us, becoming more so every day,\" he said at a Senate hearing, adding that he was \"concerned about the human impacts on our climate\".[55] However, in September 2007, Stevens said:\\n\\nStevens voted in favor of the bill establishing Martin Luther King Jr. Day as a federal holiday and the Civil Rights Restoration Act of 1987 (as well as to override President Reagan\\'s veto).[57][58][59] Stevens voted in favor of the nominations of Robert Bork and Clarence Thomas to the U.S. Supreme Court.\\n\\nAs a Senator, Stevens was subject to criticism several times:\\n '"
            ]
          },
          "metadata": {},
          "execution_count": 16
        }
      ]
    },
    {
      "cell_type": "code",
      "metadata": {
        "colab": {
          "base_uri": "https://localhost:8080/"
        },
        "id": "PTmiDkGguiO5",
        "outputId": "45a1a651-a6a1-4bf6-fe90-2f30686929bd"
      },
      "source": [
        "from tqdm import tqdm\n",
        "#stop_words = set(stopwords.words('english'))\n",
        "preprocessed_text = []\n",
        "# tqdm is for printing the status bar\n",
        "r_count=0\n",
        "d_count=0\n",
        "trump_count=0\n",
        "obama_count=0\n",
        "bill_count=0\n",
        "\n",
        "####### \n",
        "\n",
        "text=background_text   ###background_text,political_text,others_text\n",
        "\n",
        "\n",
        "######\n",
        "\n",
        "for sent in tqdm(text):\n",
        "    sent = sent.replace('\\\\r', ' ')\n",
        "    sent = sent.replace('\\\\\"', ' ')\n",
        "    sent = sent.replace('\\\\n', ' ')\n",
        "    sent = sent.replace('\\n\\n', ' ')\n",
        "    sent = re.sub('[^A-Za-z0-9]+', ' ', sent)\n",
        "    sent = re.sub(r'\\d+', '', sent)\n",
        "    sent = sent.replace('  ', ' ')\n",
        "    if 'republic' in sent.lower():\n",
        "      # print(sent)\n",
        "      sent=sent.replace('republican',' ')\n",
        "      sent=sent.replace('republic',' ')\n",
        "      sent=sent.replace('Republic',' ')\n",
        "      sent=sent.replace('Republican',' ')\n",
        "      r_count+=1\n",
        "      # print(sent)\n",
        "      \n",
        "    if 'democrat' in sent.lower():\n",
        "      d_count+=1\n",
        "      sent=sent.replace('democrat',' ')\n",
        "      sent=sent.replace('Democrat',' ')\n",
        "      sent=sent.replace('Democratic',' ')\n",
        "      sent=sent.replace('democratic',' ')\n",
        "\n",
        "    if 'trump' or 'donald' in sent.lower():\n",
        "      trump_count+=1\n",
        "      sent=sent.replace('Trump',' ')\n",
        "      sent=sent.replace('trump',' ')\n",
        "      sent=sent.replace('Donald Trump',' ')\n",
        "      sent=sent.replace('donald trump',' ')\n",
        "      sent=sent.replace('Donald',' ')\n",
        "      sent=sent.replace('donald',' ')\n",
        "\n",
        "    if 'obama' in sent.lower():\n",
        "      obama_count+=1\n",
        "      sent=sent.replace('Obama',' ')\n",
        "      sent=sent.replace('obama',' ')\n",
        "      sent=sent.replace('Barack Obama',' ')\n",
        "      sent=sent.replace('barack obama',' ')\n",
        "      sent=sent.replace('Barack',' ')\n",
        "      sent=sent.replace('barack',' ')\n",
        "\n",
        "    if 'clinton' in sent.lower():\n",
        "      bill_count+=1\n",
        "      sent=sent.replace('Clinton',' ')\n",
        "      sent=sent.replace('clinton',' ')\n",
        "      sent=sent.replace('bill clinton',' ')\n",
        "      sent=sent.replace('Bill Clinton',' ')\n",
        "      sent=sent.replace('William Clinton',' ')\n",
        "      sent=sent.replace('william clinton',' ')\n",
        "      sent=sent.replace('William',' ')\n",
        "      sent=sent.replace('william',' ')\n",
        "\n",
        "\n",
        "    preprocessed_text.append(sent.lower().strip())\n",
        "\n",
        "#print(preprocessed_answers)\n",
        "print(r_count)\n",
        "print(d_count)   \n",
        "print(trump_count)\n",
        "print(obama_count) \n",
        "print(bill_count)"
      ],
      "execution_count": null,
      "outputs": [
        {
          "output_type": "stream",
          "name": "stderr",
          "text": [
            "100%|██████████| 1376/1376 [00:00<00:00, 2981.38it/s]"
          ]
        },
        {
          "output_type": "stream",
          "name": "stdout",
          "text": [
            "254\n",
            "242\n",
            "1376\n",
            "39\n",
            "57\n"
          ]
        },
        {
          "output_type": "stream",
          "name": "stderr",
          "text": [
            "\n"
          ]
        }
      ]
    },
    {
      "cell_type": "code",
      "metadata": {
        "colab": {
          "base_uri": "https://localhost:8080/"
        },
        "id": "Dl6MbKaFOLgs",
        "outputId": "574d8012-b64e-4edf-9d14-2a1b727af3fc"
      },
      "source": [
        "# r_count=0\n",
        "# d_count=0\n",
        "# trump_count=0\n",
        "# obama_count=0\n",
        "# bill_count=0\n",
        "# for sent in tqdm(preprocessed_text):\n",
        "#     if 'republic' in sent.lower():\n",
        "#       r_count+=1\n",
        "#       # sent=sent.replace('republic',' ')\n",
        "      \n",
        "#     if 'democrat' in sent.lower():\n",
        "#       d_count+=1\n",
        "#       # sent=sent.replace('democrat','')\n",
        "      \n",
        "#     if 'donald' in sent.lower():\n",
        "#       trump_count+=1\n",
        "#       # sent=sent.replace('trump','')\n",
        "\n",
        "#     if 'barack'  in sent.lower():\n",
        "#       obama_count+=1\n",
        "#       # sent=sent.replace('obama','')\n",
        "\n",
        "#     if 'clinton' in sent.lower():\n",
        "#       bill_count+=1\n",
        "\n",
        "\n",
        "# print(r_count)\n",
        "# print(d_count)   \n",
        "# print(trump_count)\n",
        "# print(obama_count) \n",
        "# print(bill_count)"
      ],
      "execution_count": null,
      "outputs": [
        {
          "output_type": "stream",
          "name": "stderr",
          "text": [
            "100%|██████████| 1509/1509 [00:00<00:00, 47250.85it/s]"
          ]
        },
        {
          "output_type": "stream",
          "name": "stdout",
          "text": [
            "0\n",
            "0\n",
            "0\n",
            "0\n",
            "0\n"
          ]
        },
        {
          "output_type": "stream",
          "name": "stderr",
          "text": [
            "\n"
          ]
        }
      ]
    },
    {
      "cell_type": "code",
      "metadata": {
        "colab": {
          "base_uri": "https://localhost:8080/",
          "height": 139
        },
        "id": "U2W8pG7yulHM",
        "outputId": "96e3a31c-72ed-4fff-d3c6-02fb6071ea61"
      },
      "source": [
        "preprocessed_text[5]"
      ],
      "execution_count": null,
      "outputs": [
        {
          "output_type": "execute_result",
          "data": {
            "application/vnd.google.colaboratory.intrinsic+json": {
              "type": "string"
            },
            "text/plain": [
              "'pryor was born in camden the seat of ouachita county in southern arkansas to william edgar pryor and the former susan pryor n e newton both had deep roots in arkansas the marriage united two of the pioneer families of arkansas william pryor moved to camden from holly springs in and started selling cars by he had bought the partners out of the business and become sole owner of edgar pryor inc a well known chevrolet dealership in the area the family was also involved in the civic religious and political life of camden with w e serving as ouachita county sheriff from to  david was a third generation ouachita county resident he attended public schools in camden attended henderson state teacher s college in arkadelphia and graduated from the university of arkansas in fayetteville in pryor was founder and publisher of the ouachita citizen from to he graduated from law school at the university of arkansas in and was admitted to the bar that same year in pryor married barbara jean lunsford who at the time was a year old freshman at the university of arkansas unable to tolerate the stresses of public life she briefly lived away from her family from to while her husband was governor during that time she took various university courses and had trouble finding a job and she eventually moved back into the governor s mansion after completing her rest on july  arkansas governor asa hutchinson announced at a press briefing about the covid pandemic in the state that pryor and his wife barbara tested positive for the disease with pryor hospitalized at uams in little rock and his wife under home quarantine pryor was born in camden the seat of ouachita county in southern arkansas to william edgar pryor and the former susan pryor n e newton both had deep roots in arkansas the marriage united two of the pioneer families of arkansas william pryor moved to camden from holly springs in and started selling cars by he had bought the partners out of the business and become sole owner of edgar pryor inc a well known chevrolet dealership in the area the family was also involved in the civic religious and political life of camden with w e serving as ouachita county sheriff from to  david was a third generation ouachita county resident he attended public schools in camden attended henderson state teacher s college in arkadelphia and graduated from the university of arkansas in fayetteville in pryor was founder and publisher of the ouachita citizen from to he graduated from law school at the university of arkansas in and was admitted to the bar that same year in pryor married barbara jean lunsford who at the time was a year old freshman at the university of arkansas unable to tolerate the stresses of public life she briefly lived away from her family from to while her husband was governor during that time she took various university courses and had trouble finding a job and she eventually moved back into the governor s mansion after completing her rest on july  arkansas governor asa hutchinson announced at a press briefing about the covid pandemic in the state that pryor and his wife barbara tested positive for the disease with pryor hospitalized at uams in little rock and his wife under home quarantine'"
            ]
          },
          "metadata": {},
          "execution_count": 18
        }
      ]
    },
    {
      "cell_type": "code",
      "metadata": {
        "colab": {
          "base_uri": "https://localhost:8080/"
        },
        "id": "XHb8zS8-oOeC",
        "outputId": "47b9ec47-c609-40f7-d1cc-b7664faec2bd"
      },
      "source": [
        "other_length=[]\n",
        "political_length=[]\n",
        "background_length=[]\n",
        "\n",
        "other_greater_than_4096 = 0\n",
        "background_greater_than_4096 = 0\n",
        "political_greater_than_4096 = 0\n",
        "max_length=0\n",
        "for i in range(len(preprocessed_text)):\n",
        "  # # if(len(preprocessed_text[i]['Others'])>4096):\n",
        "  # #   other_greater_than_4096+=1\n",
        "  # #   other_length.append(i)\n",
        "\n",
        "  # if(len(preprocessed_text[i]['Background'])>4096):\n",
        "  #   background_greater_than_4096+=1\n",
        "  #   background_length.append(i)\n",
        "\n",
        "  if(len(preprocessed_text[i])>4096):\n",
        "    if len(preprocessed_text[i])>max_length:\n",
        "      max_length=len(preprocessed_text[i])\n",
        "    political_greater_than_4096+=1\n",
        "    political_length.append(i)\n",
        "\n",
        "print(other_greater_than_4096)\n",
        "print(background_greater_than_4096)\n",
        "print(political_greater_than_4096)"
      ],
      "execution_count": null,
      "outputs": [
        {
          "output_type": "stream",
          "name": "stdout",
          "text": [
            "0\n",
            "0\n",
            "254\n"
          ]
        }
      ]
    },
    {
      "cell_type": "code",
      "metadata": {
        "colab": {
          "base_uri": "https://localhost:8080/",
          "height": 139
        },
        "id": "f_Q7J73mpqmJ",
        "outputId": "438d70f3-fa2a-4f30-a20f-18021cd355ee"
      },
      "source": [
        "preprocessed_text[0]"
      ],
      "execution_count": null,
      "outputs": [
        {
          "output_type": "execute_result",
          "data": {
            "application/vnd.google.colaboratory.intrinsic+json": {
              "type": "string"
            },
            "text/plain": [
              "'heflin was born on june  in poulan georgia he attended public school in alabama graduating from colbert county high school in leighton he earned his bachelor of arts degree in from birmingham southern college in birmingham there was a tradition of politics in his family he was a nephew of james thomas heflin a prominent white supremacist politician and u s senator and great nephew of robert stell heflin a u s representative during world war ii from to heflin served as an officer in the united states marine corps he was awarded the silver star for valor in combat and received two purple heart medals having seen action on bougainville and guam after world war ii heflin attended the university of alabama school of law from which he graduated in for nearly two decades he served as a law professor while concurrently practicing law in tuscumbia alabama the university of alabama school of law has honored heflin with the howell heflin conference room in the bounds law library tuscumbia named a street howell heflin lane in his honor the howell heflin lock and dam in alabama is named in his honor the howell t heflin seminar room in the birmingham southern college library is also named in his honor the new york times characterized him as the conscience of the senate heflin was born on june  in poulan georgia he attended public school in alabama graduating from colbert county high school in leighton he earned his bachelor of arts degree in from birmingham southern college in birmingham there was a tradition of politics in his family he was a nephew of james thomas heflin a prominent white supremacist politician and u s senator and great nephew of robert stell heflin a u s representative during world war ii from to heflin served as an officer in the united states marine corps he was awarded the silver star for valor in combat and received two purple heart medals having seen action on bougainville and guam after world war ii heflin attended the university of alabama school of law from which he graduated in for nearly two decades he served as a law professor while concurrently practicing law in tuscumbia alabama the university of alabama school of law has honored heflin with the howell heflin conference room in the bounds law library tuscumbia named a street howell heflin lane in his honor the howell heflin lock and dam in alabama is named in his honor the howell t heflin seminar room in the birmingham southern college library is also named in his honor the new york times characterized him as the conscience of the senate'"
            ]
          },
          "metadata": {},
          "execution_count": 33
        }
      ]
    },
    {
      "cell_type": "code",
      "metadata": {
        "colab": {
          "base_uri": "https://localhost:8080/"
        },
        "id": "jNCjIIBUpeoA",
        "outputId": "3ccca30a-6edc-44f5-bc5e-8dba3ed18564"
      },
      "source": [
        "print(max_length)"
      ],
      "execution_count": null,
      "outputs": [
        {
          "output_type": "stream",
          "name": "stdout",
          "text": [
            "50549\n"
          ]
        }
      ]
    },
    {
      "cell_type": "code",
      "metadata": {
        "id": "miSRpH2eun0m",
        "colab": {
          "base_uri": "https://localhost:8080/",
          "height": 497,
          "referenced_widgets": [
            "6fd75da8f1cc4e2e94bcbfae020cc52a",
            "a634c3858c4c45b3b405ac876333ab77",
            "dffbd2cf75bf41558d694d776de7aa98",
            "d930405dd9aa45199143f753b300d676",
            "7112e41051b4458b9df3488d427ff3e2",
            "712ac66d950541b99ddceb4f81cc51cb",
            "22b42a0495a34735bac1640ed6746623",
            "a27fe124bc484e92a7d22aa4d70f0272",
            "c2db5e6591d74356ab4a1709bf7cac5d",
            "7681cb14c35f4c1da5cce038196b94f3",
            "c8f685ceb19947849d683e36ac037bfe",
            "39ed2f3a817247509c6ccb5db1ebbbd3",
            "ab04ae262b464f91af0d33b423ce18c6",
            "17ae000d36224ec4a3f043c83c1808cf",
            "7bf3ea3f732041b8af6ad889c31a804f",
            "3edb50d737d2414a9a6b5d1b151ef016",
            "6b0778be9b76492a9d9adc366964c210",
            "0b4984be184142b8b006c7b86ec80d0a",
            "a455b968c2cf46ff995f7aa1c19da4af",
            "0913b107da844237951350a725fa37ed",
            "9f68e50c6b454b8c92b1da8e45ec273b",
            "3760b9d866c34976ad5afbf0ec85dc69",
            "6a0893d974cb40699537420f87e1f2cb",
            "937b5afc6fa342349e161314e2ff0286",
            "2b9e2ff99ef745c2a0b5f5af2baa2745",
            "f1fe1124170a4c6e94e7218a0b53183c",
            "0b64adc1b22d416fbf6ef0309ad5a53a",
            "20217e040dd0454b88ea9c121e9ca45d",
            "3f5d0601600e436dab563eb4bfd41e30",
            "7552e8f4247f4bcc8d9ab5a17a01d536",
            "bbbc73abf8e947608b0369c69a04c2ce",
            "94e268e037fd439c945bc5caedac5a17",
            "0ab6559e5026460d90578520faab5c5a",
            "35ddf66873814a528e132afd2ed290aa",
            "e8a3021a6b8543dcb925bb274aadbc9e",
            "206b56fe15f64fc18ec6a94f7fdce6d6",
            "103a8f0098f04012ae8f656d6e9de73e",
            "0b03f41372e34d17bedac742af581b2f",
            "4554c539785147a3bf82ea4c08760286",
            "bf0947810aa64c39bfcb0f54387caca4",
            "ee01a4e65645420f9506a478a98e0134",
            "ccb2e2023d6d4e02bfc03d3ba7c0e489",
            "a60694965fa8462d9f63f35205dc8429",
            "d8a1f9211b3d4b989b066e9487a5eeba",
            "d3eb6bcff1114d908ebc0be0a5cfd74d",
            "81f4fcaf5a6b4c94949eb2483b6c7809",
            "af806a5107464a29abe275361e242927",
            "eea6b874e29a4d0c9867241826ce3a78",
            "ebb804fc73c64cd28d3b338a73114185",
            "3b3e3897639441adb57ec92d179b86ea",
            "552e346f7982431c842c1c5915a9521a",
            "637a1bbb48174ce4a9f8e7b3b6ad5bf6",
            "8adc394cbc0e47cb9785afcbb7a60714",
            "b597d5a71c2b4f409af84aa8d50c91e5",
            "d924691e78404f6fb53b2204a6b0854a",
            "c6a06393392f4a6c989d0620a54365c2",
            "ef93dc611e0c4b8599c71b143f72c25d",
            "4c2a13f171a14d938e28ed061af9b53a",
            "08802761ecb34289b29901d532145845",
            "26ddef94a8624e9f8f329b3ccd3e5a78",
            "de13a61a370143c48621d0a7d0996274",
            "0996faf7d9b74bdaa380ce24fe153455",
            "6d26a69973ac4f10b6f2500106a46790",
            "7e5f34ae5dd743c3acbdc27fb148dd8a",
            "1d6d972d16074d86a3962a4a52e5dd40",
            "48b03478b33d4db58cd71daac3bae7af",
            "c3d8ba4403fb471fa11a9ddbfb97ac26",
            "75eed12bf0d844b78504334b626d6773",
            "4a1fbb55631d44c282ad7d47676fc8fa",
            "9b36555af76246739d1f2c28c7d0d208",
            "701314f69e004f019e6cd23c96b2671b",
            "c8d5c4369f5f42269d2b6b2b426b8cb7",
            "c51da31c248a45378c79484080f16d90",
            "2a9f484fb79f460baf1970fa24437976",
            "ed966c4521b84f109fbe2ca5132826d3",
            "db5dcf1f657543369e221f489523cc8d",
            "fe6472e3c7d1440caa7e52fa5149f504",
            "546c91809f924c4286c6630257f983a3",
            "60cde5ad542d4bf78b1f8cc63a1bad28",
            "70c890d5d06b46068aea4a66097f869a",
            "f329ccc9b5c84af29a74c1a71bc63617",
            "1588ae413ced42abb0bd11b40135a9c2",
            "ea7c6da9fa1c452d9352f5de77499100",
            "15886d78f9b841a6a1f4efeab8c80dde",
            "80eaa6e0794744d2a7cd015c1e32c713",
            "a5e20d761bbc4a889484db29d136273b",
            "25be72cdc2034f89bb6d5fef53e5f45e",
            "03c38664459d4c0d88fcf16112c29fa1",
            "d3c48cd8633c4f69940299599792bb25",
            "1707b87bd5d04d87956d60b33f65128e",
            "75fa3930ff3a47ae86393296e61f201d",
            "290d9b08c2754f6dbfdebee322eff59a",
            "6d2dd67f5aaf4237b9b35133b15d1833",
            "2a04eea9ab244ebeb779eb9094669222",
            "2b481387d9644a5f940b44c81e2be3a9",
            "9495cb4318dd4eabb70516939b7770cc",
            "c6218620d9e34b84b8869442b3a53a11",
            "5872e48de44e42fbbbdbc211ffea103a",
            "edc2c8f924b3479da541803569848136",
            "f2fb628cd9404095b5a57aede39cb577",
            "bd14494e28184fe19917d49b9603f4db",
            "d9d65845019e4b27a1c9735832db510e",
            "5a789ab618e74754b7a44cef09ed0132",
            "3ec4010926ad45579738b1e987897a6c",
            "589765677a7e46eb9110d9182f2a3900",
            "b883fa7f18314ebe85f81ed30e825aa4",
            "fd9a9a371ec242d7856ab1aba00c05d2",
            "212104b9d2014bf3a957b5ff6fa2ded3",
            "fea1dab0a17f4c618af4c92ebf4c6059",
            "11b86a76375b45fe8af7e04fd64a1005",
            "16ec0f556ba54d0a82701d4c5a2d4dd1",
            "098e08f1c1e343559f253a785f80c10c",
            "a35120f4d38d455d88bd1726d71db6a2",
            "31e66b569bc3406faca9dd82a8f8f1cd",
            "636a0c2fb1bb42f7bfcc5d1dc384e7c2",
            "ef4ab471443e4dd1b27a9f68971a71fa",
            "78bb20b43afe40dd9a3183430811a9ab",
            "ff4815c480974e2b90f5115aca93d3eb",
            "24f9ad74e0aa45f7a62a2dd61d50febe",
            "8fad8bcdfd6c4257935c3085aeef7c7e",
            "a68fa15ce5a2437e8984010ab36d0d93",
            "3a8ef01704524e128e7b8acaaaaa0614",
            "6e66eb1fecc246e5943adef6f384aab7",
            "eb651d4aa4b04066928f36a9528a47dd",
            "05d6004e9d67468c9ddafe6f711d86be",
            "e715bd41581141bdb086633137d22c1c",
            "67afd01205fa4bf0b229ceccae583d2e",
            "2e5699da8d3843c58850385002eb2748",
            "99316583c6324d9eb7dd617a5a7b4b44",
            "9de6d2a6d2f84cb0bed86698f67660c3",
            "599381aa5c1144e3aba884d85a9af311",
            "8bdf9f0a57af463ca43803ad226fbc0c",
            "67136fb2b5b240a9b3103fb2722df720",
            "2c0f9b3a4a6b460391950b6aae667ee9",
            "35e6f1b050cd4598b037e9da6e0d918e",
            "ef645cf6b03248e78f91dcab79465d28",
            "5ccd040275ab4d25a085607f61ca1985",
            "b3c5390975374847882f1f4b7c2b2e8a",
            "f973fd1c885b4a04a43d968b6be6a58c",
            "f484843e282946b5a2c24c0266b70421",
            "3db62487b3514363b593fd6d8b404eb9",
            "f6e321cac6d74f429d35fd72181a0ed9",
            "99f0757ea4a44c3dbad8c3952979a73e",
            "5dc99660c5a94413bd901fce3c4eab72",
            "958d1ce57808430bb3b398ec095f0107",
            "3c856d5bacf94a9e8b731be05a2b7bc5",
            "03e92cfc26a44e489b95a6e1252b3344",
            "cd5eca3cb0ee449ab3958caf02251d6a",
            "2c86cf035b214d00af8e27743465d725",
            "bdd1042d8f854608a512988de7c033e0",
            "c765079c1dd84e6cbd626539c7d3ee64",
            "feed450ef2b34290a5fd834552f1782c",
            "a3e9d787f4bf414c85b83c5a16a33022",
            "e44eb11853bc4afc971efa8297a00634",
            "3f333f4043db4710ab599018f71ee979",
            "45c03e94b19c438ba044a6c2a2d10884",
            "8f67916b08544d03abd65301ac252dfa",
            "98d29df1335d4082bf32f61a76089b1b",
            "348fe0c491284e149b8b7ed016018fee",
            "bd8afe512eb94960ad2a455ea2692158",
            "2e1acb8b6df54ed5b4cd2cee494f372f",
            "1d22729bbde040ab98a28a17844031d4",
            "7aa4b2562e994533b6f623c7a6c92c68",
            "9bb5cdd392064d34bd449d95e2168c7f",
            "8e980f6df4c74c0f8fdc8d2599806c8e"
          ]
        },
        "outputId": "71996bb9-f73c-487d-992e-fba1ad53c854"
      },
      "source": [
        "from sentence_transformers import SentenceTransformer\n",
        "model = SentenceTransformer('sentence-transformers/all-roberta-large-v1')"
      ],
      "execution_count": null,
      "outputs": [
        {
          "output_type": "display_data",
          "data": {
            "application/vnd.jupyter.widget-view+json": {
              "model_id": "6fd75da8f1cc4e2e94bcbfae020cc52a",
              "version_minor": 0,
              "version_major": 2
            },
            "text/plain": [
              "Downloading:   0%|          | 0.00/737 [00:00<?, ?B/s]"
            ]
          },
          "metadata": {}
        },
        {
          "output_type": "display_data",
          "data": {
            "application/vnd.jupyter.widget-view+json": {
              "model_id": "39ed2f3a817247509c6ccb5db1ebbbd3",
              "version_minor": 0,
              "version_major": 2
            },
            "text/plain": [
              "Downloading:   0%|          | 0.00/9.84k [00:00<?, ?B/s]"
            ]
          },
          "metadata": {}
        },
        {
          "output_type": "display_data",
          "data": {
            "application/vnd.jupyter.widget-view+json": {
              "model_id": "6a0893d974cb40699537420f87e1f2cb",
              "version_minor": 0,
              "version_major": 2
            },
            "text/plain": [
              "Downloading:   0%|          | 0.00/650 [00:00<?, ?B/s]"
            ]
          },
          "metadata": {}
        },
        {
          "output_type": "display_data",
          "data": {
            "application/vnd.jupyter.widget-view+json": {
              "model_id": "35ddf66873814a528e132afd2ed290aa",
              "version_minor": 0,
              "version_major": 2
            },
            "text/plain": [
              "Downloading:   0%|          | 0.00/116 [00:00<?, ?B/s]"
            ]
          },
          "metadata": {}
        },
        {
          "output_type": "display_data",
          "data": {
            "application/vnd.jupyter.widget-view+json": {
              "model_id": "d3eb6bcff1114d908ebc0be0a5cfd74d",
              "version_minor": 0,
              "version_major": 2
            },
            "text/plain": [
              "Downloading:   0%|          | 0.00/15.7k [00:00<?, ?B/s]"
            ]
          },
          "metadata": {}
        },
        {
          "output_type": "display_data",
          "data": {
            "application/vnd.jupyter.widget-view+json": {
              "model_id": "c6a06393392f4a6c989d0620a54365c2",
              "version_minor": 0,
              "version_major": 2
            },
            "text/plain": [
              "Downloading:   0%|          | 0.00/456k [00:00<?, ?B/s]"
            ]
          },
          "metadata": {}
        },
        {
          "output_type": "display_data",
          "data": {
            "application/vnd.jupyter.widget-view+json": {
              "model_id": "c3d8ba4403fb471fa11a9ddbfb97ac26",
              "version_minor": 0,
              "version_major": 2
            },
            "text/plain": [
              "Downloading:   0%|          | 0.00/349 [00:00<?, ?B/s]"
            ]
          },
          "metadata": {}
        },
        {
          "output_type": "display_data",
          "data": {
            "application/vnd.jupyter.widget-view+json": {
              "model_id": "546c91809f924c4286c6630257f983a3",
              "version_minor": 0,
              "version_major": 2
            },
            "text/plain": [
              "Downloading:   0%|          | 0.00/1.42G [00:00<?, ?B/s]"
            ]
          },
          "metadata": {}
        },
        {
          "output_type": "display_data",
          "data": {
            "application/vnd.jupyter.widget-view+json": {
              "model_id": "d3c48cd8633c4f69940299599792bb25",
              "version_minor": 0,
              "version_major": 2
            },
            "text/plain": [
              "Downloading:   0%|          | 0.00/53.0 [00:00<?, ?B/s]"
            ]
          },
          "metadata": {}
        },
        {
          "output_type": "display_data",
          "data": {
            "application/vnd.jupyter.widget-view+json": {
              "model_id": "f2fb628cd9404095b5a57aede39cb577",
              "version_minor": 0,
              "version_major": 2
            },
            "text/plain": [
              "Downloading:   0%|          | 0.00/239 [00:00<?, ?B/s]"
            ]
          },
          "metadata": {}
        },
        {
          "output_type": "display_data",
          "data": {
            "application/vnd.jupyter.widget-view+json": {
              "model_id": "16ec0f556ba54d0a82701d4c5a2d4dd1",
              "version_minor": 0,
              "version_major": 2
            },
            "text/plain": [
              "Downloading:   0%|          | 0.00/1.36M [00:00<?, ?B/s]"
            ]
          },
          "metadata": {}
        },
        {
          "output_type": "display_data",
          "data": {
            "application/vnd.jupyter.widget-view+json": {
              "model_id": "3a8ef01704524e128e7b8acaaaaa0614",
              "version_minor": 0,
              "version_major": 2
            },
            "text/plain": [
              "Downloading:   0%|          | 0.00/328 [00:00<?, ?B/s]"
            ]
          },
          "metadata": {}
        },
        {
          "output_type": "display_data",
          "data": {
            "application/vnd.jupyter.widget-view+json": {
              "model_id": "67136fb2b5b240a9b3103fb2722df720",
              "version_minor": 0,
              "version_major": 2
            },
            "text/plain": [
              "Downloading:   0%|          | 0.00/13.1k [00:00<?, ?B/s]"
            ]
          },
          "metadata": {}
        },
        {
          "output_type": "display_data",
          "data": {
            "application/vnd.jupyter.widget-view+json": {
              "model_id": "5dc99660c5a94413bd901fce3c4eab72",
              "version_minor": 0,
              "version_major": 2
            },
            "text/plain": [
              "Downloading:   0%|          | 0.00/798k [00:00<?, ?B/s]"
            ]
          },
          "metadata": {}
        },
        {
          "output_type": "display_data",
          "data": {
            "application/vnd.jupyter.widget-view+json": {
              "model_id": "3f333f4043db4710ab599018f71ee979",
              "version_minor": 0,
              "version_major": 2
            },
            "text/plain": [
              "Downloading:   0%|          | 0.00/191 [00:00<?, ?B/s]"
            ]
          },
          "metadata": {}
        }
      ]
    },
    {
      "cell_type": "code",
      "metadata": {
        "id": "krxvDIQSuqc2"
      },
      "source": [
        "model.max_seq_length = 512"
      ],
      "execution_count": null,
      "outputs": []
    },
    {
      "cell_type": "code",
      "metadata": {
        "id": "IxmZxJtJ94G0"
      },
      "source": [
        "roberta_encodings = []\n",
        "for i,t in enumerate(preprocessed_text):\n",
        "  roberta_encodings.append(model.encode(t))"
      ],
      "execution_count": null,
      "outputs": []
    },
    {
      "cell_type": "code",
      "metadata": {
        "colab": {
          "base_uri": "https://localhost:8080/"
        },
        "id": "gqL-ZmnAutCG",
        "outputId": "7d2bc9e3-2ce8-4140-c184-ad0727404fe2"
      },
      "source": [
        "!pip install transformers"
      ],
      "execution_count": null,
      "outputs": [
        {
          "output_type": "stream",
          "name": "stdout",
          "text": [
            "Collecting transformers\n",
            "  Downloading transformers-4.12.5-py3-none-any.whl (3.1 MB)\n",
            "\u001b[K     |████████████████████████████████| 3.1 MB 5.1 MB/s \n",
            "\u001b[?25hRequirement already satisfied: tqdm>=4.27 in /usr/local/lib/python3.7/dist-packages (from transformers) (4.62.3)\n",
            "Requirement already satisfied: filelock in /usr/local/lib/python3.7/dist-packages (from transformers) (3.4.0)\n",
            "Requirement already satisfied: importlib-metadata in /usr/local/lib/python3.7/dist-packages (from transformers) (4.8.2)\n",
            "Collecting tokenizers<0.11,>=0.10.1\n",
            "  Downloading tokenizers-0.10.3-cp37-cp37m-manylinux_2_5_x86_64.manylinux1_x86_64.manylinux_2_12_x86_64.manylinux2010_x86_64.whl (3.3 MB)\n",
            "\u001b[K     |████████████████████████████████| 3.3 MB 56.7 MB/s \n",
            "\u001b[?25hCollecting huggingface-hub<1.0,>=0.1.0\n",
            "  Downloading huggingface_hub-0.2.1-py3-none-any.whl (61 kB)\n",
            "\u001b[K     |████████████████████████████████| 61 kB 488 kB/s \n",
            "\u001b[?25hCollecting pyyaml>=5.1\n",
            "  Downloading PyYAML-6.0-cp37-cp37m-manylinux_2_5_x86_64.manylinux1_x86_64.manylinux_2_12_x86_64.manylinux2010_x86_64.whl (596 kB)\n",
            "\u001b[K     |████████████████████████████████| 596 kB 40.5 MB/s \n",
            "\u001b[?25hRequirement already satisfied: packaging>=20.0 in /usr/local/lib/python3.7/dist-packages (from transformers) (21.3)\n",
            "Requirement already satisfied: numpy>=1.17 in /usr/local/lib/python3.7/dist-packages (from transformers) (1.19.5)\n",
            "Requirement already satisfied: requests in /usr/local/lib/python3.7/dist-packages (from transformers) (2.23.0)\n",
            "Collecting sacremoses\n",
            "  Downloading sacremoses-0.0.46-py3-none-any.whl (895 kB)\n",
            "\u001b[K     |████████████████████████████████| 895 kB 50.3 MB/s \n",
            "\u001b[?25hRequirement already satisfied: regex!=2019.12.17 in /usr/local/lib/python3.7/dist-packages (from transformers) (2019.12.20)\n",
            "Requirement already satisfied: typing-extensions>=3.7.4.3 in /usr/local/lib/python3.7/dist-packages (from huggingface-hub<1.0,>=0.1.0->transformers) (3.10.0.2)\n",
            "Requirement already satisfied: pyparsing!=3.0.5,>=2.0.2 in /usr/local/lib/python3.7/dist-packages (from packaging>=20.0->transformers) (3.0.6)\n",
            "Requirement already satisfied: zipp>=0.5 in /usr/local/lib/python3.7/dist-packages (from importlib-metadata->transformers) (3.6.0)\n",
            "Requirement already satisfied: urllib3!=1.25.0,!=1.25.1,<1.26,>=1.21.1 in /usr/local/lib/python3.7/dist-packages (from requests->transformers) (1.24.3)\n",
            "Requirement already satisfied: certifi>=2017.4.17 in /usr/local/lib/python3.7/dist-packages (from requests->transformers) (2021.10.8)\n",
            "Requirement already satisfied: chardet<4,>=3.0.2 in /usr/local/lib/python3.7/dist-packages (from requests->transformers) (3.0.4)\n",
            "Requirement already satisfied: idna<3,>=2.5 in /usr/local/lib/python3.7/dist-packages (from requests->transformers) (2.10)\n",
            "Requirement already satisfied: click in /usr/local/lib/python3.7/dist-packages (from sacremoses->transformers) (7.1.2)\n",
            "Requirement already satisfied: joblib in /usr/local/lib/python3.7/dist-packages (from sacremoses->transformers) (1.1.0)\n",
            "Requirement already satisfied: six in /usr/local/lib/python3.7/dist-packages (from sacremoses->transformers) (1.15.0)\n",
            "Installing collected packages: pyyaml, tokenizers, sacremoses, huggingface-hub, transformers\n",
            "  Attempting uninstall: pyyaml\n",
            "    Found existing installation: PyYAML 3.13\n",
            "    Uninstalling PyYAML-3.13:\n",
            "      Successfully uninstalled PyYAML-3.13\n",
            "Successfully installed huggingface-hub-0.2.1 pyyaml-6.0 sacremoses-0.0.46 tokenizers-0.10.3 transformers-4.12.5\n"
          ]
        }
      ]
    },
    {
      "cell_type": "code",
      "metadata": {
        "id": "3y_Syh_IuvCo"
      },
      "source": [
        "# from transformers import AutoTokenizer, AutoModel\n",
        "  \n",
        "# tokenizer = AutoTokenizer.from_pretrained(\"allenai/longformer-base-4096\")\n",
        "\n",
        "# model = AutoModel.from_pretrained(\"allenai/longformer-base-4096\")\n",
        "from transformers import AutoTokenizer, AutoModelForMaskedLM\n",
        "  \n",
        "tokenizer = AutoTokenizer.from_pretrained(\"distilroberta-base\")\n",
        "\n",
        "model = AutoModelForMaskedLM.from_pretrained(\"distilroberta-base\")"
      ],
      "execution_count": null,
      "outputs": []
    },
    {
      "cell_type": "code",
      "metadata": {
        "id": "q28vv25auxZF"
      },
      "source": [
        "def mean_pooling(model_output, attention_mask):\n",
        "    token_embeddings = model_output[0]\n",
        "    input_mask_expanded = attention_mask.unsqueeze(-1).expand(token_embeddings.size()).float()\n",
        "    sum_embeddings = torch.sum(token_embeddings * input_mask_expanded, 1)\n",
        "    sum_mask = torch.clamp(input_mask_expanded.sum(1), min=1e-9)\n",
        "    return sum_embeddings / sum_mask"
      ],
      "execution_count": null,
      "outputs": []
    },
    {
      "cell_type": "code",
      "metadata": {
        "id": "_SEvEoR9xWBI"
      },
      "source": [
        "cuda = torch.cuda.is_available()\n",
        "device = torch.device(\"cuda\" if cuda else \"cpu\")\n",
        "model = model.to(device)"
      ],
      "execution_count": null,
      "outputs": []
    },
    {
      "cell_type": "code",
      "metadata": {
        "id": "L_ISOh7u9tDp",
        "colab": {
          "base_uri": "https://localhost:8080/",
          "height": 433
        },
        "outputId": "e0286416-181a-4602-e694-bfb33dfa4638"
      },
      "source": [
        "longformer_embeddings = []\n",
        "for i,t in enumerate(preprocessed_text):  \n",
        "  encoded_input = tokenizer(t, padding=True, truncation=True, max_length=4096, return_tensors='pt')\n",
        "\n",
        "  with torch.no_grad():\n",
        "      encoded_input=encoded_input.to(device)\n",
        "      model_output = model(**encoded_input)\n",
        "\n",
        "  # mean pooling\n",
        "  sentence_embeddings = mean_pooling(model_output, encoded_input['attention_mask'])\n",
        "  longformer_embeddings.append(sentence_embeddings)"
      ],
      "execution_count": null,
      "outputs": [
        {
          "output_type": "error",
          "ename": "RuntimeError",
          "evalue": "ignored",
          "traceback": [
            "\u001b[0;31m---------------------------------------------------------------------------\u001b[0m",
            "\u001b[0;31mRuntimeError\u001b[0m                              Traceback (most recent call last)",
            "\u001b[0;32m<ipython-input-44-f09bd8078258>\u001b[0m in \u001b[0;36m<module>\u001b[0;34m()\u001b[0m\n\u001b[1;32m      5\u001b[0m   \u001b[0;32mwith\u001b[0m \u001b[0mtorch\u001b[0m\u001b[0;34m.\u001b[0m\u001b[0mno_grad\u001b[0m\u001b[0;34m(\u001b[0m\u001b[0;34m)\u001b[0m\u001b[0;34m:\u001b[0m\u001b[0;34m\u001b[0m\u001b[0;34m\u001b[0m\u001b[0m\n\u001b[1;32m      6\u001b[0m       \u001b[0mencoded_input\u001b[0m\u001b[0;34m=\u001b[0m\u001b[0mencoded_input\u001b[0m\u001b[0;34m.\u001b[0m\u001b[0mto\u001b[0m\u001b[0;34m(\u001b[0m\u001b[0mdevice\u001b[0m\u001b[0;34m)\u001b[0m\u001b[0;34m\u001b[0m\u001b[0;34m\u001b[0m\u001b[0m\n\u001b[0;32m----> 7\u001b[0;31m       \u001b[0mmodel_output\u001b[0m \u001b[0;34m=\u001b[0m \u001b[0mmodel\u001b[0m\u001b[0;34m(\u001b[0m\u001b[0;34m**\u001b[0m\u001b[0mencoded_input\u001b[0m\u001b[0;34m)\u001b[0m\u001b[0;34m\u001b[0m\u001b[0;34m\u001b[0m\u001b[0m\n\u001b[0m\u001b[1;32m      8\u001b[0m \u001b[0;34m\u001b[0m\u001b[0m\n\u001b[1;32m      9\u001b[0m   \u001b[0;31m# mean pooling\u001b[0m\u001b[0;34m\u001b[0m\u001b[0;34m\u001b[0m\u001b[0;34m\u001b[0m\u001b[0m\n",
            "\u001b[0;32m/usr/local/lib/python3.7/dist-packages/torch/nn/modules/module.py\u001b[0m in \u001b[0;36m_call_impl\u001b[0;34m(self, *input, **kwargs)\u001b[0m\n\u001b[1;32m   1118\u001b[0m             \u001b[0minput\u001b[0m \u001b[0;34m=\u001b[0m \u001b[0mbw_hook\u001b[0m\u001b[0;34m.\u001b[0m\u001b[0msetup_input_hook\u001b[0m\u001b[0;34m(\u001b[0m\u001b[0minput\u001b[0m\u001b[0;34m)\u001b[0m\u001b[0;34m\u001b[0m\u001b[0;34m\u001b[0m\u001b[0m\n\u001b[1;32m   1119\u001b[0m \u001b[0;34m\u001b[0m\u001b[0m\n\u001b[0;32m-> 1120\u001b[0;31m         \u001b[0mresult\u001b[0m \u001b[0;34m=\u001b[0m \u001b[0mforward_call\u001b[0m\u001b[0;34m(\u001b[0m\u001b[0;34m*\u001b[0m\u001b[0minput\u001b[0m\u001b[0;34m,\u001b[0m \u001b[0;34m**\u001b[0m\u001b[0mkwargs\u001b[0m\u001b[0;34m)\u001b[0m\u001b[0;34m\u001b[0m\u001b[0;34m\u001b[0m\u001b[0m\n\u001b[0m\u001b[1;32m   1121\u001b[0m         \u001b[0;32mif\u001b[0m \u001b[0m_global_forward_hooks\u001b[0m \u001b[0;32mor\u001b[0m \u001b[0mself\u001b[0m\u001b[0;34m.\u001b[0m\u001b[0m_forward_hooks\u001b[0m\u001b[0;34m:\u001b[0m\u001b[0;34m\u001b[0m\u001b[0;34m\u001b[0m\u001b[0m\n\u001b[1;32m   1122\u001b[0m             \u001b[0;32mfor\u001b[0m \u001b[0mhook\u001b[0m \u001b[0;32min\u001b[0m \u001b[0;34m(\u001b[0m\u001b[0;34m*\u001b[0m\u001b[0m_global_forward_hooks\u001b[0m\u001b[0;34m.\u001b[0m\u001b[0mvalues\u001b[0m\u001b[0;34m(\u001b[0m\u001b[0;34m)\u001b[0m\u001b[0;34m,\u001b[0m \u001b[0;34m*\u001b[0m\u001b[0mself\u001b[0m\u001b[0;34m.\u001b[0m\u001b[0m_forward_hooks\u001b[0m\u001b[0;34m.\u001b[0m\u001b[0mvalues\u001b[0m\u001b[0;34m(\u001b[0m\u001b[0;34m)\u001b[0m\u001b[0;34m)\u001b[0m\u001b[0;34m:\u001b[0m\u001b[0;34m\u001b[0m\u001b[0;34m\u001b[0m\u001b[0m\n",
            "\u001b[0;32m/usr/local/lib/python3.7/dist-packages/transformers/models/roberta/modeling_roberta.py\u001b[0m in \u001b[0;36mforward\u001b[0;34m(self, input_ids, attention_mask, token_type_ids, position_ids, head_mask, inputs_embeds, encoder_hidden_states, encoder_attention_mask, labels, output_attentions, output_hidden_states, return_dict)\u001b[0m\n\u001b[1;32m   1101\u001b[0m             \u001b[0moutput_attentions\u001b[0m\u001b[0;34m=\u001b[0m\u001b[0moutput_attentions\u001b[0m\u001b[0;34m,\u001b[0m\u001b[0;34m\u001b[0m\u001b[0;34m\u001b[0m\u001b[0m\n\u001b[1;32m   1102\u001b[0m             \u001b[0moutput_hidden_states\u001b[0m\u001b[0;34m=\u001b[0m\u001b[0moutput_hidden_states\u001b[0m\u001b[0;34m,\u001b[0m\u001b[0;34m\u001b[0m\u001b[0;34m\u001b[0m\u001b[0m\n\u001b[0;32m-> 1103\u001b[0;31m             \u001b[0mreturn_dict\u001b[0m\u001b[0;34m=\u001b[0m\u001b[0mreturn_dict\u001b[0m\u001b[0;34m,\u001b[0m\u001b[0;34m\u001b[0m\u001b[0;34m\u001b[0m\u001b[0m\n\u001b[0m\u001b[1;32m   1104\u001b[0m         )\n\u001b[1;32m   1105\u001b[0m         \u001b[0msequence_output\u001b[0m \u001b[0;34m=\u001b[0m \u001b[0moutputs\u001b[0m\u001b[0;34m[\u001b[0m\u001b[0;36m0\u001b[0m\u001b[0;34m]\u001b[0m\u001b[0;34m\u001b[0m\u001b[0;34m\u001b[0m\u001b[0m\n",
            "\u001b[0;32m/usr/local/lib/python3.7/dist-packages/torch/nn/modules/module.py\u001b[0m in \u001b[0;36m_call_impl\u001b[0;34m(self, *input, **kwargs)\u001b[0m\n\u001b[1;32m   1118\u001b[0m             \u001b[0minput\u001b[0m \u001b[0;34m=\u001b[0m \u001b[0mbw_hook\u001b[0m\u001b[0;34m.\u001b[0m\u001b[0msetup_input_hook\u001b[0m\u001b[0;34m(\u001b[0m\u001b[0minput\u001b[0m\u001b[0;34m)\u001b[0m\u001b[0;34m\u001b[0m\u001b[0;34m\u001b[0m\u001b[0m\n\u001b[1;32m   1119\u001b[0m \u001b[0;34m\u001b[0m\u001b[0m\n\u001b[0;32m-> 1120\u001b[0;31m         \u001b[0mresult\u001b[0m \u001b[0;34m=\u001b[0m \u001b[0mforward_call\u001b[0m\u001b[0;34m(\u001b[0m\u001b[0;34m*\u001b[0m\u001b[0minput\u001b[0m\u001b[0;34m,\u001b[0m \u001b[0;34m**\u001b[0m\u001b[0mkwargs\u001b[0m\u001b[0;34m)\u001b[0m\u001b[0;34m\u001b[0m\u001b[0;34m\u001b[0m\u001b[0m\n\u001b[0m\u001b[1;32m   1121\u001b[0m         \u001b[0;32mif\u001b[0m \u001b[0m_global_forward_hooks\u001b[0m \u001b[0;32mor\u001b[0m \u001b[0mself\u001b[0m\u001b[0;34m.\u001b[0m\u001b[0m_forward_hooks\u001b[0m\u001b[0;34m:\u001b[0m\u001b[0;34m\u001b[0m\u001b[0;34m\u001b[0m\u001b[0m\n\u001b[1;32m   1122\u001b[0m             \u001b[0;32mfor\u001b[0m \u001b[0mhook\u001b[0m \u001b[0;32min\u001b[0m \u001b[0;34m(\u001b[0m\u001b[0;34m*\u001b[0m\u001b[0m_global_forward_hooks\u001b[0m\u001b[0;34m.\u001b[0m\u001b[0mvalues\u001b[0m\u001b[0;34m(\u001b[0m\u001b[0;34m)\u001b[0m\u001b[0;34m,\u001b[0m \u001b[0;34m*\u001b[0m\u001b[0mself\u001b[0m\u001b[0;34m.\u001b[0m\u001b[0m_forward_hooks\u001b[0m\u001b[0;34m.\u001b[0m\u001b[0mvalues\u001b[0m\u001b[0;34m(\u001b[0m\u001b[0;34m)\u001b[0m\u001b[0;34m)\u001b[0m\u001b[0;34m:\u001b[0m\u001b[0;34m\u001b[0m\u001b[0;34m\u001b[0m\u001b[0m\n",
            "\u001b[0;32m/usr/local/lib/python3.7/dist-packages/transformers/models/roberta/modeling_roberta.py\u001b[0m in \u001b[0;36mforward\u001b[0;34m(self, input_ids, attention_mask, token_type_ids, position_ids, head_mask, inputs_embeds, encoder_hidden_states, encoder_attention_mask, past_key_values, use_cache, output_attentions, output_hidden_states, return_dict)\u001b[0m\n\u001b[1;32m    814\u001b[0m             \u001b[0;32mif\u001b[0m \u001b[0mhasattr\u001b[0m\u001b[0;34m(\u001b[0m\u001b[0mself\u001b[0m\u001b[0;34m.\u001b[0m\u001b[0membeddings\u001b[0m\u001b[0;34m,\u001b[0m \u001b[0;34m\"token_type_ids\"\u001b[0m\u001b[0;34m)\u001b[0m\u001b[0;34m:\u001b[0m\u001b[0;34m\u001b[0m\u001b[0;34m\u001b[0m\u001b[0m\n\u001b[1;32m    815\u001b[0m                 \u001b[0mbuffered_token_type_ids\u001b[0m \u001b[0;34m=\u001b[0m \u001b[0mself\u001b[0m\u001b[0;34m.\u001b[0m\u001b[0membeddings\u001b[0m\u001b[0;34m.\u001b[0m\u001b[0mtoken_type_ids\u001b[0m\u001b[0;34m[\u001b[0m\u001b[0;34m:\u001b[0m\u001b[0;34m,\u001b[0m \u001b[0;34m:\u001b[0m\u001b[0mseq_length\u001b[0m\u001b[0;34m]\u001b[0m\u001b[0;34m\u001b[0m\u001b[0;34m\u001b[0m\u001b[0m\n\u001b[0;32m--> 816\u001b[0;31m                 \u001b[0mbuffered_token_type_ids_expanded\u001b[0m \u001b[0;34m=\u001b[0m \u001b[0mbuffered_token_type_ids\u001b[0m\u001b[0;34m.\u001b[0m\u001b[0mexpand\u001b[0m\u001b[0;34m(\u001b[0m\u001b[0mbatch_size\u001b[0m\u001b[0;34m,\u001b[0m \u001b[0mseq_length\u001b[0m\u001b[0;34m)\u001b[0m\u001b[0;34m\u001b[0m\u001b[0;34m\u001b[0m\u001b[0m\n\u001b[0m\u001b[1;32m    817\u001b[0m                 \u001b[0mtoken_type_ids\u001b[0m \u001b[0;34m=\u001b[0m \u001b[0mbuffered_token_type_ids_expanded\u001b[0m\u001b[0;34m\u001b[0m\u001b[0;34m\u001b[0m\u001b[0m\n\u001b[1;32m    818\u001b[0m             \u001b[0;32melse\u001b[0m\u001b[0;34m:\u001b[0m\u001b[0;34m\u001b[0m\u001b[0;34m\u001b[0m\u001b[0m\n",
            "\u001b[0;31mRuntimeError\u001b[0m: The expanded size of the tensor (558) must match the existing size (514) at non-singleton dimension 1.  Target sizes: [1, 558].  Tensor sizes: [1, 514]"
          ]
        }
      ]
    },
    {
      "cell_type": "code",
      "metadata": {
        "id": "QEIA0jtrvDUM",
        "colab": {
          "base_uri": "https://localhost:8080/",
          "height": 357
        },
        "outputId": "ddbd37a1-bd0d-479e-cce7-95b2191a6729"
      },
      "source": [
        "longformer_embeddings = []\n",
        "for i,t in enumerate(preprocessed_text):  \n",
        "  encoded_input = tokenizer(t, padding=True, truncation=True, max_length=4096, return_tensors='pt')\n",
        "\n",
        "  with torch.no_grad():\n",
        "      encoded_input=encoded_input.to(device)\n",
        "      model_output = model(**encoded_input)\n",
        "\n",
        "  # mean pooling\n",
        "  sentence_embeddings = mean_pooling(model_output, encoded_input['attention_mask'])\n",
        "  longformer_embeddings.append(sentence_embeddings)  "
      ],
      "execution_count": null,
      "outputs": [
        {
          "output_type": "error",
          "ename": "TypeError",
          "evalue": "ignored",
          "traceback": [
            "\u001b[0;31m---------------------------------------------------------------------------\u001b[0m",
            "\u001b[0;31mTypeError\u001b[0m                                 Traceback (most recent call last)",
            "\u001b[0;32m<ipython-input-38-73e920e3228f>\u001b[0m in \u001b[0;36m<module>\u001b[0;34m()\u001b[0m\n\u001b[1;32m      5\u001b[0m   \u001b[0;32mwith\u001b[0m \u001b[0mtorch\u001b[0m\u001b[0;34m.\u001b[0m\u001b[0mno_grad\u001b[0m\u001b[0;34m(\u001b[0m\u001b[0;34m)\u001b[0m\u001b[0;34m:\u001b[0m\u001b[0;34m\u001b[0m\u001b[0;34m\u001b[0m\u001b[0m\n\u001b[1;32m      6\u001b[0m       \u001b[0mencoded_input\u001b[0m\u001b[0;34m=\u001b[0m\u001b[0mencoded_input\u001b[0m\u001b[0;34m.\u001b[0m\u001b[0mto\u001b[0m\u001b[0;34m(\u001b[0m\u001b[0mdevice\u001b[0m\u001b[0;34m)\u001b[0m\u001b[0;34m\u001b[0m\u001b[0;34m\u001b[0m\u001b[0m\n\u001b[0;32m----> 7\u001b[0;31m       \u001b[0mmodel_output\u001b[0m \u001b[0;34m=\u001b[0m \u001b[0mmodel\u001b[0m\u001b[0;34m(\u001b[0m\u001b[0;34m**\u001b[0m\u001b[0mencoded_input\u001b[0m\u001b[0;34m)\u001b[0m\u001b[0;34m\u001b[0m\u001b[0;34m\u001b[0m\u001b[0m\n\u001b[0m\u001b[1;32m      8\u001b[0m \u001b[0;34m\u001b[0m\u001b[0m\n\u001b[1;32m      9\u001b[0m   \u001b[0;31m# mean pooling\u001b[0m\u001b[0;34m\u001b[0m\u001b[0;34m\u001b[0m\u001b[0;34m\u001b[0m\u001b[0m\n",
            "\u001b[0;32m/usr/local/lib/python3.7/dist-packages/torch/nn/modules/module.py\u001b[0m in \u001b[0;36m_call_impl\u001b[0;34m(self, *input, **kwargs)\u001b[0m\n\u001b[1;32m   1100\u001b[0m         if not (self._backward_hooks or self._forward_hooks or self._forward_pre_hooks or _global_backward_hooks\n\u001b[1;32m   1101\u001b[0m                 or _global_forward_hooks or _global_forward_pre_hooks):\n\u001b[0;32m-> 1102\u001b[0;31m             \u001b[0;32mreturn\u001b[0m \u001b[0mforward_call\u001b[0m\u001b[0;34m(\u001b[0m\u001b[0;34m*\u001b[0m\u001b[0minput\u001b[0m\u001b[0;34m,\u001b[0m \u001b[0;34m**\u001b[0m\u001b[0mkwargs\u001b[0m\u001b[0;34m)\u001b[0m\u001b[0;34m\u001b[0m\u001b[0;34m\u001b[0m\u001b[0m\n\u001b[0m\u001b[1;32m   1103\u001b[0m         \u001b[0;31m# Do not call functions when jit is used\u001b[0m\u001b[0;34m\u001b[0m\u001b[0;34m\u001b[0m\u001b[0;34m\u001b[0m\u001b[0m\n\u001b[1;32m   1104\u001b[0m         \u001b[0mfull_backward_hooks\u001b[0m\u001b[0;34m,\u001b[0m \u001b[0mnon_full_backward_hooks\u001b[0m \u001b[0;34m=\u001b[0m \u001b[0;34m[\u001b[0m\u001b[0;34m]\u001b[0m\u001b[0;34m,\u001b[0m \u001b[0;34m[\u001b[0m\u001b[0;34m]\u001b[0m\u001b[0;34m\u001b[0m\u001b[0;34m\u001b[0m\u001b[0m\n",
            "\u001b[0;31mTypeError\u001b[0m: forward() got an unexpected keyword argument 'input_ids'"
          ]
        }
      ]
    },
    {
      "cell_type": "code",
      "metadata": {
        "id": "QFj3V6Pq3DJD"
      },
      "source": [
        "# ######### New for increased token lengths\n",
        "# longformer_embeddings = []\n",
        "# for i,t in enumerate(preprocessed_text):  \n",
        "#   if(len(t)<=4096):\n",
        "#     encoded_input = tokenizer(t, padding=True, truncation=True, max_length=4096, return_tensors='pt')\n",
        "\n",
        "#     with torch.no_grad():\n",
        "#         encoded_input=encoded_input.to(device)\n",
        "#         model_output = model(**encoded_input)\n",
        "\n",
        "#     # mean pooling\n",
        "#     sentence_embeddings = mean_pooling(model_output, encoded_input['attention_mask'])\n",
        "#     x = sentence_embeddings\n",
        "#     new_sentence_embeddings = torch.cat((x,x,x,x,x),axis=1)\n",
        "#     longformer_embeddings.append(new_sentence_embeddings)\n",
        "#   else:\n",
        "#     nums = len(t)/4096\n",
        "#     for k in nums:\n",
        "#         encoded_input = tokenizer(t, padding=True, truncation=True, max_length=128, return_tensors='pt')\n",
        "\n",
        "#         with torch.no_grad():\n",
        "#             encoded_input=encoded_input.to(device)\n",
        "#             model_output = model(**encoded_input)\n",
        "\n",
        "#         # mean pooling\n",
        "#         sentence_embeddings = mean_pooling(model_output, encoded_input['attention_mask'])\n",
        "#         x = sentence_embeddings\n",
        "#         new_sentence_embeddings = torch.cat((x,x,x,x,x),axis=1)\n",
        "#         longformer_embeddings.append(new_sentence_embeddings)"
      ],
      "execution_count": null,
      "outputs": []
    },
    {
      "cell_type": "code",
      "metadata": {
        "id": "GRiRJ0KEvUR9"
      },
      "source": [
        "longformer_embeddings_numpy = []\n",
        "for embedding in longformer_embeddings:\n",
        "  longformer_embeddings_numpy.append(embedding.cpu().detach().numpy())"
      ],
      "execution_count": null,
      "outputs": []
    },
    {
      "cell_type": "code",
      "metadata": {
        "id": "qeWOKcKpvyC0"
      },
      "source": [
        "longformer_embeddings_numpy = np.array(longformer_embeddings_numpy)\n",
        "# np.save(\"/content/drive/MyDrive/longformer_embeddings_18_nov.npy\", longformer_embeddings_numpy)"
      ],
      "execution_count": null,
      "outputs": []
    },
    {
      "cell_type": "code",
      "metadata": {
        "id": "980B04RFv2B1"
      },
      "source": [
        "for i in range(len(longformer_embeddings_numpy)):\n",
        "  longformer_embeddings_numpy[i] = longformer_embeddings_numpy[i].reshape((768,))"
      ],
      "execution_count": null,
      "outputs": []
    },
    {
      "cell_type": "code",
      "metadata": {
        "id": "mXWeIy_Yv4Fa",
        "colab": {
          "base_uri": "https://localhost:8080/"
        },
        "outputId": "9a0e0715-c9b5-4b8b-fa7d-d7882ef46b47"
      },
      "source": [
        "longformer_embeddings_numpy = longformer_embeddings_numpy.reshape((1509,768))"
      ],
      "execution_count": null,
      "outputs": [
        {
          "output_type": "error",
          "ename": "ValueError",
          "evalue": "ignored",
          "traceback": [
            "\u001b[0;31m---------------------------------------------------------------------------\u001b[0m",
            "\u001b[0;31mValueError\u001b[0m                                Traceback (most recent call last)",
            "\u001b[0;32m<ipython-input-52-230d86071615>\u001b[0m in \u001b[0;36m<module>\u001b[0;34m()\u001b[0m\n\u001b[0;32m----> 1\u001b[0;31m \u001b[0mlongformer_embeddings_numpy\u001b[0m \u001b[0;34m=\u001b[0m \u001b[0mlongformer_embeddings_numpy\u001b[0m\u001b[0;34m.\u001b[0m\u001b[0mreshape\u001b[0m\u001b[0;34m(\u001b[0m\u001b[0;34m(\u001b[0m\u001b[0;36m1509\u001b[0m\u001b[0;34m,\u001b[0m\u001b[0;36m768\u001b[0m\u001b[0;34m)\u001b[0m\u001b[0;34m)\u001b[0m\u001b[0;34m\u001b[0m\u001b[0;34m\u001b[0m\u001b[0m\n\u001b[0m",
            "\u001b[0;31mValueError\u001b[0m: cannot reshape array of size 1056768 into shape (1509,768)"
          ]
        }
      ]
    },
    {
      "cell_type": "code",
      "metadata": {
        "id": "RLugg-sWv58A"
      },
      "source": [
        "from sklearn.pipeline import make_pipeline\n",
        "from sklearn.preprocessing import StandardScaler\n",
        "from sklearn.svm import SVC\n",
        "clf = make_pipeline(StandardScaler(), SVC(gamma='auto'))\n",
        "# clf.fit(longformer_embeddings_numpy[:1300], new_y[:1300])"
      ],
      "execution_count": null,
      "outputs": []
    },
    {
      "cell_type": "code",
      "metadata": {
        "id": "Psw3cgcHv78G"
      },
      "source": [
        "# clf.score(longformer_embeddings_numpy[1300:],new_y[1300:])"
      ],
      "execution_count": null,
      "outputs": []
    },
    {
      "cell_type": "code",
      "metadata": {
        "id": "yY6rfsD3tYtk"
      },
      "source": [
        "# clf.score(longformer_embeddings_numpy[:1300],new_y[:1300])"
      ],
      "execution_count": null,
      "outputs": []
    },
    {
      "cell_type": "code",
      "metadata": {
        "id": "13YKTNyUw066"
      },
      "source": [
        "from sklearn.utils import shuffle\n",
        "X_new, Y_new = shuffle(roberta_encodings, new_y)"
      ],
      "execution_count": null,
      "outputs": []
    },
    {
      "cell_type": "code",
      "metadata": {
        "id": "D0i0QlAfyDUD"
      },
      "source": [
        "X_train = X_new[:1000]\n",
        "X_test = X_new[1000:]\n",
        "Y_train = Y_new[:1000]\n",
        "Y_test = Y_new[1000:]"
      ],
      "execution_count": null,
      "outputs": []
    },
    {
      "cell_type": "code",
      "metadata": {
        "id": "IFWBOeDHZCdw"
      },
      "source": [
        "X_train = X_new[:1300]\n",
        "X_test = X_new[1300:]\n",
        "Y_train = Y_new[:1300]\n",
        "Y_test = Y_new[1300:]"
      ],
      "execution_count": null,
      "outputs": []
    },
    {
      "cell_type": "code",
      "metadata": {
        "id": "Zs_3C7LUyl4A",
        "colab": {
          "base_uri": "https://localhost:8080/"
        },
        "outputId": "04725833-a785-40b0-f78f-c49d88e91c6e"
      },
      "source": [
        "clf.fit(X_train, Y_train)"
      ],
      "execution_count": null,
      "outputs": [
        {
          "output_type": "execute_result",
          "data": {
            "text/plain": [
              "Pipeline(steps=[('standardscaler', StandardScaler()),\n",
              "                ('svc', SVC(gamma='auto'))])"
            ]
          },
          "metadata": {},
          "execution_count": 55
        }
      ]
    },
    {
      "cell_type": "code",
      "metadata": {
        "id": "SCnOrbiXyqlu",
        "colab": {
          "base_uri": "https://localhost:8080/"
        },
        "outputId": "294e0aa4-4e6f-487f-c9db-6e378e437ce3"
      },
      "source": [
        "clf.score(X_test,Y_test)"
      ],
      "execution_count": null,
      "outputs": [
        {
          "output_type": "execute_result",
          "data": {
            "text/plain": [
              "0.7368421052631579"
            ]
          },
          "metadata": {},
          "execution_count": 56
        }
      ]
    },
    {
      "cell_type": "code",
      "metadata": {
        "id": "BAWyowrVyvV4"
      },
      "source": [
        ""
      ],
      "execution_count": null,
      "outputs": []
    }
  ]
}