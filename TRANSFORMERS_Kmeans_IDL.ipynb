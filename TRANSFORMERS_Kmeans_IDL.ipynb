{
  "nbformat": 4,
  "nbformat_minor": 0,
  "metadata": {
    "colab": {
      "name": "TRANSFORMERS_Kmeans_IDL.ipynb",
      "provenance": [],
      "collapsed_sections": [],
      "machine_shape": "hm"
    },
    "kernelspec": {
      "name": "python3",
      "display_name": "Python 3"
    },
    "language_info": {
      "name": "python"
    },
    "accelerator": "GPU",
    "widgets": {
      "application/vnd.jupyter.widget-state+json": {
        "62035d0f05ef450a80b9a62a2d4e5892": {
          "model_module": "@jupyter-widgets/controls",
          "model_name": "HBoxModel",
          "model_module_version": "1.5.0",
          "state": {
            "_view_name": "HBoxView",
            "_dom_classes": [],
            "_model_name": "HBoxModel",
            "_view_module": "@jupyter-widgets/controls",
            "_model_module_version": "1.5.0",
            "_view_count": null,
            "_view_module_version": "1.5.0",
            "box_style": "",
            "layout": "IPY_MODEL_ccd8f7cf4d4d49bb91b6796aa5cd786f",
            "_model_module": "@jupyter-widgets/controls",
            "children": [
              "IPY_MODEL_bdaefe55231f49889f6997e066b77ed4",
              "IPY_MODEL_13867d3553a74f3f8056f639789b656e",
              "IPY_MODEL_9b08c4efa70c424e8bd2c0871bb8ec2a"
            ]
          }
        },
        "ccd8f7cf4d4d49bb91b6796aa5cd786f": {
          "model_module": "@jupyter-widgets/base",
          "model_name": "LayoutModel",
          "model_module_version": "1.2.0",
          "state": {
            "_view_name": "LayoutView",
            "grid_template_rows": null,
            "right": null,
            "justify_content": null,
            "_view_module": "@jupyter-widgets/base",
            "overflow": null,
            "_model_module_version": "1.2.0",
            "_view_count": null,
            "flex_flow": null,
            "width": null,
            "min_width": null,
            "border": null,
            "align_items": null,
            "bottom": null,
            "_model_module": "@jupyter-widgets/base",
            "top": null,
            "grid_column": null,
            "overflow_y": null,
            "overflow_x": null,
            "grid_auto_flow": null,
            "grid_area": null,
            "grid_template_columns": null,
            "flex": null,
            "_model_name": "LayoutModel",
            "justify_items": null,
            "grid_row": null,
            "max_height": null,
            "align_content": null,
            "visibility": null,
            "align_self": null,
            "height": null,
            "min_height": null,
            "padding": null,
            "grid_auto_rows": null,
            "grid_gap": null,
            "max_width": null,
            "order": null,
            "_view_module_version": "1.2.0",
            "grid_template_areas": null,
            "object_position": null,
            "object_fit": null,
            "grid_auto_columns": null,
            "margin": null,
            "display": null,
            "left": null
          }
        },
        "bdaefe55231f49889f6997e066b77ed4": {
          "model_module": "@jupyter-widgets/controls",
          "model_name": "HTMLModel",
          "model_module_version": "1.5.0",
          "state": {
            "_view_name": "HTMLView",
            "style": "IPY_MODEL_cadfb2c5364146a9a7adb212e17f571e",
            "_dom_classes": [],
            "description": "",
            "_model_name": "HTMLModel",
            "placeholder": "​",
            "_view_module": "@jupyter-widgets/controls",
            "_model_module_version": "1.5.0",
            "value": "Downloading: 100%",
            "_view_count": null,
            "_view_module_version": "1.5.0",
            "description_tooltip": null,
            "_model_module": "@jupyter-widgets/controls",
            "layout": "IPY_MODEL_3309770d3b7942939d94d1930a286555"
          }
        },
        "13867d3553a74f3f8056f639789b656e": {
          "model_module": "@jupyter-widgets/controls",
          "model_name": "FloatProgressModel",
          "model_module_version": "1.5.0",
          "state": {
            "_view_name": "ProgressView",
            "style": "IPY_MODEL_ab17600627fd4eb2946ef7ff3ab5a67b",
            "_dom_classes": [],
            "description": "",
            "_model_name": "FloatProgressModel",
            "bar_style": "success",
            "max": 1053,
            "_view_module": "@jupyter-widgets/controls",
            "_model_module_version": "1.5.0",
            "value": 1053,
            "_view_count": null,
            "_view_module_version": "1.5.0",
            "orientation": "horizontal",
            "min": 0,
            "description_tooltip": null,
            "_model_module": "@jupyter-widgets/controls",
            "layout": "IPY_MODEL_d188d56960294e5c83e62108d14b4289"
          }
        },
        "9b08c4efa70c424e8bd2c0871bb8ec2a": {
          "model_module": "@jupyter-widgets/controls",
          "model_name": "HTMLModel",
          "model_module_version": "1.5.0",
          "state": {
            "_view_name": "HTMLView",
            "style": "IPY_MODEL_fdb1ba4f8c334b878f8971028ee5ef6d",
            "_dom_classes": [],
            "description": "",
            "_model_name": "HTMLModel",
            "placeholder": "​",
            "_view_module": "@jupyter-widgets/controls",
            "_model_module_version": "1.5.0",
            "value": " 1.03k/1.03k [00:00&lt;00:00, 40.2kB/s]",
            "_view_count": null,
            "_view_module_version": "1.5.0",
            "description_tooltip": null,
            "_model_module": "@jupyter-widgets/controls",
            "layout": "IPY_MODEL_1ab3284152f74e718b617cbd577852e4"
          }
        },
        "cadfb2c5364146a9a7adb212e17f571e": {
          "model_module": "@jupyter-widgets/controls",
          "model_name": "DescriptionStyleModel",
          "model_module_version": "1.5.0",
          "state": {
            "_view_name": "StyleView",
            "_model_name": "DescriptionStyleModel",
            "description_width": "",
            "_view_module": "@jupyter-widgets/base",
            "_model_module_version": "1.5.0",
            "_view_count": null,
            "_view_module_version": "1.2.0",
            "_model_module": "@jupyter-widgets/controls"
          }
        },
        "3309770d3b7942939d94d1930a286555": {
          "model_module": "@jupyter-widgets/base",
          "model_name": "LayoutModel",
          "model_module_version": "1.2.0",
          "state": {
            "_view_name": "LayoutView",
            "grid_template_rows": null,
            "right": null,
            "justify_content": null,
            "_view_module": "@jupyter-widgets/base",
            "overflow": null,
            "_model_module_version": "1.2.0",
            "_view_count": null,
            "flex_flow": null,
            "width": null,
            "min_width": null,
            "border": null,
            "align_items": null,
            "bottom": null,
            "_model_module": "@jupyter-widgets/base",
            "top": null,
            "grid_column": null,
            "overflow_y": null,
            "overflow_x": null,
            "grid_auto_flow": null,
            "grid_area": null,
            "grid_template_columns": null,
            "flex": null,
            "_model_name": "LayoutModel",
            "justify_items": null,
            "grid_row": null,
            "max_height": null,
            "align_content": null,
            "visibility": null,
            "align_self": null,
            "height": null,
            "min_height": null,
            "padding": null,
            "grid_auto_rows": null,
            "grid_gap": null,
            "max_width": null,
            "order": null,
            "_view_module_version": "1.2.0",
            "grid_template_areas": null,
            "object_position": null,
            "object_fit": null,
            "grid_auto_columns": null,
            "margin": null,
            "display": null,
            "left": null
          }
        },
        "ab17600627fd4eb2946ef7ff3ab5a67b": {
          "model_module": "@jupyter-widgets/controls",
          "model_name": "ProgressStyleModel",
          "model_module_version": "1.5.0",
          "state": {
            "_view_name": "StyleView",
            "_model_name": "ProgressStyleModel",
            "description_width": "",
            "_view_module": "@jupyter-widgets/base",
            "_model_module_version": "1.5.0",
            "_view_count": null,
            "_view_module_version": "1.2.0",
            "bar_color": null,
            "_model_module": "@jupyter-widgets/controls"
          }
        },
        "d188d56960294e5c83e62108d14b4289": {
          "model_module": "@jupyter-widgets/base",
          "model_name": "LayoutModel",
          "model_module_version": "1.2.0",
          "state": {
            "_view_name": "LayoutView",
            "grid_template_rows": null,
            "right": null,
            "justify_content": null,
            "_view_module": "@jupyter-widgets/base",
            "overflow": null,
            "_model_module_version": "1.2.0",
            "_view_count": null,
            "flex_flow": null,
            "width": null,
            "min_width": null,
            "border": null,
            "align_items": null,
            "bottom": null,
            "_model_module": "@jupyter-widgets/base",
            "top": null,
            "grid_column": null,
            "overflow_y": null,
            "overflow_x": null,
            "grid_auto_flow": null,
            "grid_area": null,
            "grid_template_columns": null,
            "flex": null,
            "_model_name": "LayoutModel",
            "justify_items": null,
            "grid_row": null,
            "max_height": null,
            "align_content": null,
            "visibility": null,
            "align_self": null,
            "height": null,
            "min_height": null,
            "padding": null,
            "grid_auto_rows": null,
            "grid_gap": null,
            "max_width": null,
            "order": null,
            "_view_module_version": "1.2.0",
            "grid_template_areas": null,
            "object_position": null,
            "object_fit": null,
            "grid_auto_columns": null,
            "margin": null,
            "display": null,
            "left": null
          }
        },
        "fdb1ba4f8c334b878f8971028ee5ef6d": {
          "model_module": "@jupyter-widgets/controls",
          "model_name": "DescriptionStyleModel",
          "model_module_version": "1.5.0",
          "state": {
            "_view_name": "StyleView",
            "_model_name": "DescriptionStyleModel",
            "description_width": "",
            "_view_module": "@jupyter-widgets/base",
            "_model_module_version": "1.5.0",
            "_view_count": null,
            "_view_module_version": "1.2.0",
            "_model_module": "@jupyter-widgets/controls"
          }
        },
        "1ab3284152f74e718b617cbd577852e4": {
          "model_module": "@jupyter-widgets/base",
          "model_name": "LayoutModel",
          "model_module_version": "1.2.0",
          "state": {
            "_view_name": "LayoutView",
            "grid_template_rows": null,
            "right": null,
            "justify_content": null,
            "_view_module": "@jupyter-widgets/base",
            "overflow": null,
            "_model_module_version": "1.2.0",
            "_view_count": null,
            "flex_flow": null,
            "width": null,
            "min_width": null,
            "border": null,
            "align_items": null,
            "bottom": null,
            "_model_module": "@jupyter-widgets/base",
            "top": null,
            "grid_column": null,
            "overflow_y": null,
            "overflow_x": null,
            "grid_auto_flow": null,
            "grid_area": null,
            "grid_template_columns": null,
            "flex": null,
            "_model_name": "LayoutModel",
            "justify_items": null,
            "grid_row": null,
            "max_height": null,
            "align_content": null,
            "visibility": null,
            "align_self": null,
            "height": null,
            "min_height": null,
            "padding": null,
            "grid_auto_rows": null,
            "grid_gap": null,
            "max_width": null,
            "order": null,
            "_view_module_version": "1.2.0",
            "grid_template_areas": null,
            "object_position": null,
            "object_fit": null,
            "grid_auto_columns": null,
            "margin": null,
            "display": null,
            "left": null
          }
        },
        "e48947945bbd42d5937fb9401c88810e": {
          "model_module": "@jupyter-widgets/controls",
          "model_name": "HBoxModel",
          "model_module_version": "1.5.0",
          "state": {
            "_view_name": "HBoxView",
            "_dom_classes": [],
            "_model_name": "HBoxModel",
            "_view_module": "@jupyter-widgets/controls",
            "_model_module_version": "1.5.0",
            "_view_count": null,
            "_view_module_version": "1.5.0",
            "box_style": "",
            "layout": "IPY_MODEL_8699fd01bb8842128a37b3faaf600de5",
            "_model_module": "@jupyter-widgets/controls",
            "children": [
              "IPY_MODEL_d65d63c88fa443d58cab6c81f44d03e4",
              "IPY_MODEL_cfabe7a86e894aa48b580451074a99a2",
              "IPY_MODEL_0cac850c25e9411cb711347fd077870b"
            ]
          }
        },
        "8699fd01bb8842128a37b3faaf600de5": {
          "model_module": "@jupyter-widgets/base",
          "model_name": "LayoutModel",
          "model_module_version": "1.2.0",
          "state": {
            "_view_name": "LayoutView",
            "grid_template_rows": null,
            "right": null,
            "justify_content": null,
            "_view_module": "@jupyter-widgets/base",
            "overflow": null,
            "_model_module_version": "1.2.0",
            "_view_count": null,
            "flex_flow": null,
            "width": null,
            "min_width": null,
            "border": null,
            "align_items": null,
            "bottom": null,
            "_model_module": "@jupyter-widgets/base",
            "top": null,
            "grid_column": null,
            "overflow_y": null,
            "overflow_x": null,
            "grid_auto_flow": null,
            "grid_area": null,
            "grid_template_columns": null,
            "flex": null,
            "_model_name": "LayoutModel",
            "justify_items": null,
            "grid_row": null,
            "max_height": null,
            "align_content": null,
            "visibility": null,
            "align_self": null,
            "height": null,
            "min_height": null,
            "padding": null,
            "grid_auto_rows": null,
            "grid_gap": null,
            "max_width": null,
            "order": null,
            "_view_module_version": "1.2.0",
            "grid_template_areas": null,
            "object_position": null,
            "object_fit": null,
            "grid_auto_columns": null,
            "margin": null,
            "display": null,
            "left": null
          }
        },
        "d65d63c88fa443d58cab6c81f44d03e4": {
          "model_module": "@jupyter-widgets/controls",
          "model_name": "HTMLModel",
          "model_module_version": "1.5.0",
          "state": {
            "_view_name": "HTMLView",
            "style": "IPY_MODEL_dbbf4fac0a8143af805b46f4ad0eb139",
            "_dom_classes": [],
            "description": "",
            "_model_name": "HTMLModel",
            "placeholder": "​",
            "_view_module": "@jupyter-widgets/controls",
            "_model_module_version": "1.5.0",
            "value": "Downloading: 100%",
            "_view_count": null,
            "_view_module_version": "1.5.0",
            "description_tooltip": null,
            "_model_module": "@jupyter-widgets/controls",
            "layout": "IPY_MODEL_7e33cff47d334e30b01b04ac3364dc7b"
          }
        },
        "cfabe7a86e894aa48b580451074a99a2": {
          "model_module": "@jupyter-widgets/controls",
          "model_name": "FloatProgressModel",
          "model_module_version": "1.5.0",
          "state": {
            "_view_name": "ProgressView",
            "style": "IPY_MODEL_d94f970f67ff447e868066b3f4a977ca",
            "_dom_classes": [],
            "description": "",
            "_model_name": "FloatProgressModel",
            "bar_style": "success",
            "max": 2308148159,
            "_view_module": "@jupyter-widgets/controls",
            "_model_module_version": "1.5.0",
            "value": 2308148159,
            "_view_count": null,
            "_view_module_version": "1.5.0",
            "orientation": "horizontal",
            "min": 0,
            "description_tooltip": null,
            "_model_module": "@jupyter-widgets/controls",
            "layout": "IPY_MODEL_fa0c4ad6c3ba41f1b86c39f230a172a4"
          }
        },
        "0cac850c25e9411cb711347fd077870b": {
          "model_module": "@jupyter-widgets/controls",
          "model_name": "HTMLModel",
          "model_module_version": "1.5.0",
          "state": {
            "_view_name": "HTMLView",
            "style": "IPY_MODEL_9aa151ed894143efb86f74acb7b3269c",
            "_dom_classes": [],
            "description": "",
            "_model_name": "HTMLModel",
            "placeholder": "​",
            "_view_module": "@jupyter-widgets/controls",
            "_model_module_version": "1.5.0",
            "value": " 2.15G/2.15G [01:35&lt;00:00, 25.1MB/s]",
            "_view_count": null,
            "_view_module_version": "1.5.0",
            "description_tooltip": null,
            "_model_module": "@jupyter-widgets/controls",
            "layout": "IPY_MODEL_8cac24ecc3f144e096f30705a0a3e076"
          }
        },
        "dbbf4fac0a8143af805b46f4ad0eb139": {
          "model_module": "@jupyter-widgets/controls",
          "model_name": "DescriptionStyleModel",
          "model_module_version": "1.5.0",
          "state": {
            "_view_name": "StyleView",
            "_model_name": "DescriptionStyleModel",
            "description_width": "",
            "_view_module": "@jupyter-widgets/base",
            "_model_module_version": "1.5.0",
            "_view_count": null,
            "_view_module_version": "1.2.0",
            "_model_module": "@jupyter-widgets/controls"
          }
        },
        "7e33cff47d334e30b01b04ac3364dc7b": {
          "model_module": "@jupyter-widgets/base",
          "model_name": "LayoutModel",
          "model_module_version": "1.2.0",
          "state": {
            "_view_name": "LayoutView",
            "grid_template_rows": null,
            "right": null,
            "justify_content": null,
            "_view_module": "@jupyter-widgets/base",
            "overflow": null,
            "_model_module_version": "1.2.0",
            "_view_count": null,
            "flex_flow": null,
            "width": null,
            "min_width": null,
            "border": null,
            "align_items": null,
            "bottom": null,
            "_model_module": "@jupyter-widgets/base",
            "top": null,
            "grid_column": null,
            "overflow_y": null,
            "overflow_x": null,
            "grid_auto_flow": null,
            "grid_area": null,
            "grid_template_columns": null,
            "flex": null,
            "_model_name": "LayoutModel",
            "justify_items": null,
            "grid_row": null,
            "max_height": null,
            "align_content": null,
            "visibility": null,
            "align_self": null,
            "height": null,
            "min_height": null,
            "padding": null,
            "grid_auto_rows": null,
            "grid_gap": null,
            "max_width": null,
            "order": null,
            "_view_module_version": "1.2.0",
            "grid_template_areas": null,
            "object_position": null,
            "object_fit": null,
            "grid_auto_columns": null,
            "margin": null,
            "display": null,
            "left": null
          }
        },
        "d94f970f67ff447e868066b3f4a977ca": {
          "model_module": "@jupyter-widgets/controls",
          "model_name": "ProgressStyleModel",
          "model_module_version": "1.5.0",
          "state": {
            "_view_name": "StyleView",
            "_model_name": "ProgressStyleModel",
            "description_width": "",
            "_view_module": "@jupyter-widgets/base",
            "_model_module_version": "1.5.0",
            "_view_count": null,
            "_view_module_version": "1.2.0",
            "bar_color": null,
            "_model_module": "@jupyter-widgets/controls"
          }
        },
        "fa0c4ad6c3ba41f1b86c39f230a172a4": {
          "model_module": "@jupyter-widgets/base",
          "model_name": "LayoutModel",
          "model_module_version": "1.2.0",
          "state": {
            "_view_name": "LayoutView",
            "grid_template_rows": null,
            "right": null,
            "justify_content": null,
            "_view_module": "@jupyter-widgets/base",
            "overflow": null,
            "_model_module_version": "1.2.0",
            "_view_count": null,
            "flex_flow": null,
            "width": null,
            "min_width": null,
            "border": null,
            "align_items": null,
            "bottom": null,
            "_model_module": "@jupyter-widgets/base",
            "top": null,
            "grid_column": null,
            "overflow_y": null,
            "overflow_x": null,
            "grid_auto_flow": null,
            "grid_area": null,
            "grid_template_columns": null,
            "flex": null,
            "_model_name": "LayoutModel",
            "justify_items": null,
            "grid_row": null,
            "max_height": null,
            "align_content": null,
            "visibility": null,
            "align_self": null,
            "height": null,
            "min_height": null,
            "padding": null,
            "grid_auto_rows": null,
            "grid_gap": null,
            "max_width": null,
            "order": null,
            "_view_module_version": "1.2.0",
            "grid_template_areas": null,
            "object_position": null,
            "object_fit": null,
            "grid_auto_columns": null,
            "margin": null,
            "display": null,
            "left": null
          }
        },
        "9aa151ed894143efb86f74acb7b3269c": {
          "model_module": "@jupyter-widgets/controls",
          "model_name": "DescriptionStyleModel",
          "model_module_version": "1.5.0",
          "state": {
            "_view_name": "StyleView",
            "_model_name": "DescriptionStyleModel",
            "description_width": "",
            "_view_module": "@jupyter-widgets/base",
            "_model_module_version": "1.5.0",
            "_view_count": null,
            "_view_module_version": "1.2.0",
            "_model_module": "@jupyter-widgets/controls"
          }
        },
        "8cac24ecc3f144e096f30705a0a3e076": {
          "model_module": "@jupyter-widgets/base",
          "model_name": "LayoutModel",
          "model_module_version": "1.2.0",
          "state": {
            "_view_name": "LayoutView",
            "grid_template_rows": null,
            "right": null,
            "justify_content": null,
            "_view_module": "@jupyter-widgets/base",
            "overflow": null,
            "_model_module_version": "1.2.0",
            "_view_count": null,
            "flex_flow": null,
            "width": null,
            "min_width": null,
            "border": null,
            "align_items": null,
            "bottom": null,
            "_model_module": "@jupyter-widgets/base",
            "top": null,
            "grid_column": null,
            "overflow_y": null,
            "overflow_x": null,
            "grid_auto_flow": null,
            "grid_area": null,
            "grid_template_columns": null,
            "flex": null,
            "_model_name": "LayoutModel",
            "justify_items": null,
            "grid_row": null,
            "max_height": null,
            "align_content": null,
            "visibility": null,
            "align_self": null,
            "height": null,
            "min_height": null,
            "padding": null,
            "grid_auto_rows": null,
            "grid_gap": null,
            "max_width": null,
            "order": null,
            "_view_module_version": "1.2.0",
            "grid_template_areas": null,
            "object_position": null,
            "object_fit": null,
            "grid_auto_columns": null,
            "margin": null,
            "display": null,
            "left": null
          }
        },
        "cd7f092aa29240ffad93355b84b6e10b": {
          "model_module": "@jupyter-widgets/controls",
          "model_name": "HBoxModel",
          "model_module_version": "1.5.0",
          "state": {
            "_view_name": "HBoxView",
            "_dom_classes": [],
            "_model_name": "HBoxModel",
            "_view_module": "@jupyter-widgets/controls",
            "_model_module_version": "1.5.0",
            "_view_count": null,
            "_view_module_version": "1.5.0",
            "box_style": "",
            "layout": "IPY_MODEL_4ed7998390d74624ae033dedfcc3bfd9",
            "_model_module": "@jupyter-widgets/controls",
            "children": [
              "IPY_MODEL_09fa48bc1b4a4aaeb3c8cc7b12caa079",
              "IPY_MODEL_54e621aec19340bd98cdd8972c9a62ec",
              "IPY_MODEL_df2ae69f73e4438bb11b4f449e48906d"
            ]
          }
        },
        "4ed7998390d74624ae033dedfcc3bfd9": {
          "model_module": "@jupyter-widgets/base",
          "model_name": "LayoutModel",
          "model_module_version": "1.2.0",
          "state": {
            "_view_name": "LayoutView",
            "grid_template_rows": null,
            "right": null,
            "justify_content": null,
            "_view_module": "@jupyter-widgets/base",
            "overflow": null,
            "_model_module_version": "1.2.0",
            "_view_count": null,
            "flex_flow": null,
            "width": null,
            "min_width": null,
            "border": null,
            "align_items": null,
            "bottom": null,
            "_model_module": "@jupyter-widgets/base",
            "top": null,
            "grid_column": null,
            "overflow_y": null,
            "overflow_x": null,
            "grid_auto_flow": null,
            "grid_area": null,
            "grid_template_columns": null,
            "flex": null,
            "_model_name": "LayoutModel",
            "justify_items": null,
            "grid_row": null,
            "max_height": null,
            "align_content": null,
            "visibility": null,
            "align_self": null,
            "height": null,
            "min_height": null,
            "padding": null,
            "grid_auto_rows": null,
            "grid_gap": null,
            "max_width": null,
            "order": null,
            "_view_module_version": "1.2.0",
            "grid_template_areas": null,
            "object_position": null,
            "object_fit": null,
            "grid_auto_columns": null,
            "margin": null,
            "display": null,
            "left": null
          }
        },
        "09fa48bc1b4a4aaeb3c8cc7b12caa079": {
          "model_module": "@jupyter-widgets/controls",
          "model_name": "HTMLModel",
          "model_module_version": "1.5.0",
          "state": {
            "_view_name": "HTMLView",
            "style": "IPY_MODEL_e6b79c353db54e76990c1b32af4710b2",
            "_dom_classes": [],
            "description": "",
            "_model_name": "HTMLModel",
            "placeholder": "​",
            "_view_module": "@jupyter-widgets/controls",
            "_model_module_version": "1.5.0",
            "value": "Downloading: 100%",
            "_view_count": null,
            "_view_module_version": "1.5.0",
            "description_tooltip": null,
            "_model_module": "@jupyter-widgets/controls",
            "layout": "IPY_MODEL_1ff3cb5855fb4a3ba6605a0ac4f17bf3"
          }
        },
        "54e621aec19340bd98cdd8972c9a62ec": {
          "model_module": "@jupyter-widgets/controls",
          "model_name": "FloatProgressModel",
          "model_module_version": "1.5.0",
          "state": {
            "_view_name": "ProgressView",
            "style": "IPY_MODEL_18cc9ef962a643e9bf4b410d5010fec8",
            "_dom_classes": [],
            "description": "",
            "_model_name": "FloatProgressModel",
            "bar_style": "success",
            "max": 1194,
            "_view_module": "@jupyter-widgets/controls",
            "_model_module_version": "1.5.0",
            "value": 1194,
            "_view_count": null,
            "_view_module_version": "1.5.0",
            "orientation": "horizontal",
            "min": 0,
            "description_tooltip": null,
            "_model_module": "@jupyter-widgets/controls",
            "layout": "IPY_MODEL_46d70478341741e5b8fc8df336bb6f6e"
          }
        },
        "df2ae69f73e4438bb11b4f449e48906d": {
          "model_module": "@jupyter-widgets/controls",
          "model_name": "HTMLModel",
          "model_module_version": "1.5.0",
          "state": {
            "_view_name": "HTMLView",
            "style": "IPY_MODEL_59c0ee7569724daf8d4cf5e6c5a7fb52",
            "_dom_classes": [],
            "description": "",
            "_model_name": "HTMLModel",
            "placeholder": "​",
            "_view_module": "@jupyter-widgets/controls",
            "_model_module_version": "1.5.0",
            "value": " 1.17k/1.17k [00:00&lt;00:00, 48.3kB/s]",
            "_view_count": null,
            "_view_module_version": "1.5.0",
            "description_tooltip": null,
            "_model_module": "@jupyter-widgets/controls",
            "layout": "IPY_MODEL_94206bae244c46cab2f25299befe3897"
          }
        },
        "e6b79c353db54e76990c1b32af4710b2": {
          "model_module": "@jupyter-widgets/controls",
          "model_name": "DescriptionStyleModel",
          "model_module_version": "1.5.0",
          "state": {
            "_view_name": "StyleView",
            "_model_name": "DescriptionStyleModel",
            "description_width": "",
            "_view_module": "@jupyter-widgets/base",
            "_model_module_version": "1.5.0",
            "_view_count": null,
            "_view_module_version": "1.2.0",
            "_model_module": "@jupyter-widgets/controls"
          }
        },
        "1ff3cb5855fb4a3ba6605a0ac4f17bf3": {
          "model_module": "@jupyter-widgets/base",
          "model_name": "LayoutModel",
          "model_module_version": "1.2.0",
          "state": {
            "_view_name": "LayoutView",
            "grid_template_rows": null,
            "right": null,
            "justify_content": null,
            "_view_module": "@jupyter-widgets/base",
            "overflow": null,
            "_model_module_version": "1.2.0",
            "_view_count": null,
            "flex_flow": null,
            "width": null,
            "min_width": null,
            "border": null,
            "align_items": null,
            "bottom": null,
            "_model_module": "@jupyter-widgets/base",
            "top": null,
            "grid_column": null,
            "overflow_y": null,
            "overflow_x": null,
            "grid_auto_flow": null,
            "grid_area": null,
            "grid_template_columns": null,
            "flex": null,
            "_model_name": "LayoutModel",
            "justify_items": null,
            "grid_row": null,
            "max_height": null,
            "align_content": null,
            "visibility": null,
            "align_self": null,
            "height": null,
            "min_height": null,
            "padding": null,
            "grid_auto_rows": null,
            "grid_gap": null,
            "max_width": null,
            "order": null,
            "_view_module_version": "1.2.0",
            "grid_template_areas": null,
            "object_position": null,
            "object_fit": null,
            "grid_auto_columns": null,
            "margin": null,
            "display": null,
            "left": null
          }
        },
        "18cc9ef962a643e9bf4b410d5010fec8": {
          "model_module": "@jupyter-widgets/controls",
          "model_name": "ProgressStyleModel",
          "model_module_version": "1.5.0",
          "state": {
            "_view_name": "StyleView",
            "_model_name": "ProgressStyleModel",
            "description_width": "",
            "_view_module": "@jupyter-widgets/base",
            "_model_module_version": "1.5.0",
            "_view_count": null,
            "_view_module_version": "1.2.0",
            "bar_color": null,
            "_model_module": "@jupyter-widgets/controls"
          }
        },
        "46d70478341741e5b8fc8df336bb6f6e": {
          "model_module": "@jupyter-widgets/base",
          "model_name": "LayoutModel",
          "model_module_version": "1.2.0",
          "state": {
            "_view_name": "LayoutView",
            "grid_template_rows": null,
            "right": null,
            "justify_content": null,
            "_view_module": "@jupyter-widgets/base",
            "overflow": null,
            "_model_module_version": "1.2.0",
            "_view_count": null,
            "flex_flow": null,
            "width": null,
            "min_width": null,
            "border": null,
            "align_items": null,
            "bottom": null,
            "_model_module": "@jupyter-widgets/base",
            "top": null,
            "grid_column": null,
            "overflow_y": null,
            "overflow_x": null,
            "grid_auto_flow": null,
            "grid_area": null,
            "grid_template_columns": null,
            "flex": null,
            "_model_name": "LayoutModel",
            "justify_items": null,
            "grid_row": null,
            "max_height": null,
            "align_content": null,
            "visibility": null,
            "align_self": null,
            "height": null,
            "min_height": null,
            "padding": null,
            "grid_auto_rows": null,
            "grid_gap": null,
            "max_width": null,
            "order": null,
            "_view_module_version": "1.2.0",
            "grid_template_areas": null,
            "object_position": null,
            "object_fit": null,
            "grid_auto_columns": null,
            "margin": null,
            "display": null,
            "left": null
          }
        },
        "59c0ee7569724daf8d4cf5e6c5a7fb52": {
          "model_module": "@jupyter-widgets/controls",
          "model_name": "DescriptionStyleModel",
          "model_module_version": "1.5.0",
          "state": {
            "_view_name": "StyleView",
            "_model_name": "DescriptionStyleModel",
            "description_width": "",
            "_view_module": "@jupyter-widgets/base",
            "_model_module_version": "1.5.0",
            "_view_count": null,
            "_view_module_version": "1.2.0",
            "_model_module": "@jupyter-widgets/controls"
          }
        },
        "94206bae244c46cab2f25299befe3897": {
          "model_module": "@jupyter-widgets/base",
          "model_name": "LayoutModel",
          "model_module_version": "1.2.0",
          "state": {
            "_view_name": "LayoutView",
            "grid_template_rows": null,
            "right": null,
            "justify_content": null,
            "_view_module": "@jupyter-widgets/base",
            "overflow": null,
            "_model_module_version": "1.2.0",
            "_view_count": null,
            "flex_flow": null,
            "width": null,
            "min_width": null,
            "border": null,
            "align_items": null,
            "bottom": null,
            "_model_module": "@jupyter-widgets/base",
            "top": null,
            "grid_column": null,
            "overflow_y": null,
            "overflow_x": null,
            "grid_auto_flow": null,
            "grid_area": null,
            "grid_template_columns": null,
            "flex": null,
            "_model_name": "LayoutModel",
            "justify_items": null,
            "grid_row": null,
            "max_height": null,
            "align_content": null,
            "visibility": null,
            "align_self": null,
            "height": null,
            "min_height": null,
            "padding": null,
            "grid_auto_rows": null,
            "grid_gap": null,
            "max_width": null,
            "order": null,
            "_view_module_version": "1.2.0",
            "grid_template_areas": null,
            "object_position": null,
            "object_fit": null,
            "grid_auto_columns": null,
            "margin": null,
            "display": null,
            "left": null
          }
        },
        "2d6190c9b2b546e4ba36218e77e28050": {
          "model_module": "@jupyter-widgets/controls",
          "model_name": "HBoxModel",
          "model_module_version": "1.5.0",
          "state": {
            "_view_name": "HBoxView",
            "_dom_classes": [],
            "_model_name": "HBoxModel",
            "_view_module": "@jupyter-widgets/controls",
            "_model_module_version": "1.5.0",
            "_view_count": null,
            "_view_module_version": "1.5.0",
            "box_style": "",
            "layout": "IPY_MODEL_54f567e70fd44fa8aee8f3ab0bd65d69",
            "_model_module": "@jupyter-widgets/controls",
            "children": [
              "IPY_MODEL_ab5a00f46645462ea39d1e48b34898bd",
              "IPY_MODEL_b9b719590c7341a2b2911b5a37bff473",
              "IPY_MODEL_4a38d5e5da0e4ac1a568cb34321b9fcc"
            ]
          }
        },
        "54f567e70fd44fa8aee8f3ab0bd65d69": {
          "model_module": "@jupyter-widgets/base",
          "model_name": "LayoutModel",
          "model_module_version": "1.2.0",
          "state": {
            "_view_name": "LayoutView",
            "grid_template_rows": null,
            "right": null,
            "justify_content": null,
            "_view_module": "@jupyter-widgets/base",
            "overflow": null,
            "_model_module_version": "1.2.0",
            "_view_count": null,
            "flex_flow": null,
            "width": null,
            "min_width": null,
            "border": null,
            "align_items": null,
            "bottom": null,
            "_model_module": "@jupyter-widgets/base",
            "top": null,
            "grid_column": null,
            "overflow_y": null,
            "overflow_x": null,
            "grid_auto_flow": null,
            "grid_area": null,
            "grid_template_columns": null,
            "flex": null,
            "_model_name": "LayoutModel",
            "justify_items": null,
            "grid_row": null,
            "max_height": null,
            "align_content": null,
            "visibility": null,
            "align_self": null,
            "height": null,
            "min_height": null,
            "padding": null,
            "grid_auto_rows": null,
            "grid_gap": null,
            "max_width": null,
            "order": null,
            "_view_module_version": "1.2.0",
            "grid_template_areas": null,
            "object_position": null,
            "object_fit": null,
            "grid_auto_columns": null,
            "margin": null,
            "display": null,
            "left": null
          }
        },
        "ab5a00f46645462ea39d1e48b34898bd": {
          "model_module": "@jupyter-widgets/controls",
          "model_name": "HTMLModel",
          "model_module_version": "1.5.0",
          "state": {
            "_view_name": "HTMLView",
            "style": "IPY_MODEL_328c5965ec3f4487bab505f2e7babc76",
            "_dom_classes": [],
            "description": "",
            "_model_name": "HTMLModel",
            "placeholder": "​",
            "_view_module": "@jupyter-widgets/controls",
            "_model_module_version": "1.5.0",
            "value": "Downloading: 100%",
            "_view_count": null,
            "_view_module_version": "1.5.0",
            "description_tooltip": null,
            "_model_module": "@jupyter-widgets/controls",
            "layout": "IPY_MODEL_db705a8320a94d64ae3896a27ee78b1b"
          }
        },
        "b9b719590c7341a2b2911b5a37bff473": {
          "model_module": "@jupyter-widgets/controls",
          "model_name": "FloatProgressModel",
          "model_module_version": "1.5.0",
          "state": {
            "_view_name": "ProgressView",
            "style": "IPY_MODEL_6af1e7e5df9a4fccac45ad8b9cd7fa11",
            "_dom_classes": [],
            "description": "",
            "_model_name": "FloatProgressModel",
            "bar_style": "success",
            "max": 1915455,
            "_view_module": "@jupyter-widgets/controls",
            "_model_module_version": "1.5.0",
            "value": 1915455,
            "_view_count": null,
            "_view_module_version": "1.5.0",
            "orientation": "horizontal",
            "min": 0,
            "description_tooltip": null,
            "_model_module": "@jupyter-widgets/controls",
            "layout": "IPY_MODEL_b651937ed6ba4f90a97163377259bdb9"
          }
        },
        "4a38d5e5da0e4ac1a568cb34321b9fcc": {
          "model_module": "@jupyter-widgets/controls",
          "model_name": "HTMLModel",
          "model_module_version": "1.5.0",
          "state": {
            "_view_name": "HTMLView",
            "style": "IPY_MODEL_dce58fef71fc4afba2f16fdde3384b33",
            "_dom_classes": [],
            "description": "",
            "_model_name": "HTMLModel",
            "placeholder": "​",
            "_view_module": "@jupyter-widgets/controls",
            "_model_module_version": "1.5.0",
            "value": " 1.83M/1.83M [00:00&lt;00:00, 2.12MB/s]",
            "_view_count": null,
            "_view_module_version": "1.5.0",
            "description_tooltip": null,
            "_model_module": "@jupyter-widgets/controls",
            "layout": "IPY_MODEL_4e2295e64c2c4ded8787795d9beaecbf"
          }
        },
        "328c5965ec3f4487bab505f2e7babc76": {
          "model_module": "@jupyter-widgets/controls",
          "model_name": "DescriptionStyleModel",
          "model_module_version": "1.5.0",
          "state": {
            "_view_name": "StyleView",
            "_model_name": "DescriptionStyleModel",
            "description_width": "",
            "_view_module": "@jupyter-widgets/base",
            "_model_module_version": "1.5.0",
            "_view_count": null,
            "_view_module_version": "1.2.0",
            "_model_module": "@jupyter-widgets/controls"
          }
        },
        "db705a8320a94d64ae3896a27ee78b1b": {
          "model_module": "@jupyter-widgets/base",
          "model_name": "LayoutModel",
          "model_module_version": "1.2.0",
          "state": {
            "_view_name": "LayoutView",
            "grid_template_rows": null,
            "right": null,
            "justify_content": null,
            "_view_module": "@jupyter-widgets/base",
            "overflow": null,
            "_model_module_version": "1.2.0",
            "_view_count": null,
            "flex_flow": null,
            "width": null,
            "min_width": null,
            "border": null,
            "align_items": null,
            "bottom": null,
            "_model_module": "@jupyter-widgets/base",
            "top": null,
            "grid_column": null,
            "overflow_y": null,
            "overflow_x": null,
            "grid_auto_flow": null,
            "grid_area": null,
            "grid_template_columns": null,
            "flex": null,
            "_model_name": "LayoutModel",
            "justify_items": null,
            "grid_row": null,
            "max_height": null,
            "align_content": null,
            "visibility": null,
            "align_self": null,
            "height": null,
            "min_height": null,
            "padding": null,
            "grid_auto_rows": null,
            "grid_gap": null,
            "max_width": null,
            "order": null,
            "_view_module_version": "1.2.0",
            "grid_template_areas": null,
            "object_position": null,
            "object_fit": null,
            "grid_auto_columns": null,
            "margin": null,
            "display": null,
            "left": null
          }
        },
        "6af1e7e5df9a4fccac45ad8b9cd7fa11": {
          "model_module": "@jupyter-widgets/controls",
          "model_name": "ProgressStyleModel",
          "model_module_version": "1.5.0",
          "state": {
            "_view_name": "StyleView",
            "_model_name": "ProgressStyleModel",
            "description_width": "",
            "_view_module": "@jupyter-widgets/base",
            "_model_module_version": "1.5.0",
            "_view_count": null,
            "_view_module_version": "1.2.0",
            "bar_color": null,
            "_model_module": "@jupyter-widgets/controls"
          }
        },
        "b651937ed6ba4f90a97163377259bdb9": {
          "model_module": "@jupyter-widgets/base",
          "model_name": "LayoutModel",
          "model_module_version": "1.2.0",
          "state": {
            "_view_name": "LayoutView",
            "grid_template_rows": null,
            "right": null,
            "justify_content": null,
            "_view_module": "@jupyter-widgets/base",
            "overflow": null,
            "_model_module_version": "1.2.0",
            "_view_count": null,
            "flex_flow": null,
            "width": null,
            "min_width": null,
            "border": null,
            "align_items": null,
            "bottom": null,
            "_model_module": "@jupyter-widgets/base",
            "top": null,
            "grid_column": null,
            "overflow_y": null,
            "overflow_x": null,
            "grid_auto_flow": null,
            "grid_area": null,
            "grid_template_columns": null,
            "flex": null,
            "_model_name": "LayoutModel",
            "justify_items": null,
            "grid_row": null,
            "max_height": null,
            "align_content": null,
            "visibility": null,
            "align_self": null,
            "height": null,
            "min_height": null,
            "padding": null,
            "grid_auto_rows": null,
            "grid_gap": null,
            "max_width": null,
            "order": null,
            "_view_module_version": "1.2.0",
            "grid_template_areas": null,
            "object_position": null,
            "object_fit": null,
            "grid_auto_columns": null,
            "margin": null,
            "display": null,
            "left": null
          }
        },
        "dce58fef71fc4afba2f16fdde3384b33": {
          "model_module": "@jupyter-widgets/controls",
          "model_name": "DescriptionStyleModel",
          "model_module_version": "1.5.0",
          "state": {
            "_view_name": "StyleView",
            "_model_name": "DescriptionStyleModel",
            "description_width": "",
            "_view_module": "@jupyter-widgets/base",
            "_model_module_version": "1.5.0",
            "_view_count": null,
            "_view_module_version": "1.2.0",
            "_model_module": "@jupyter-widgets/controls"
          }
        },
        "4e2295e64c2c4ded8787795d9beaecbf": {
          "model_module": "@jupyter-widgets/base",
          "model_name": "LayoutModel",
          "model_module_version": "1.2.0",
          "state": {
            "_view_name": "LayoutView",
            "grid_template_rows": null,
            "right": null,
            "justify_content": null,
            "_view_module": "@jupyter-widgets/base",
            "overflow": null,
            "_model_module_version": "1.2.0",
            "_view_count": null,
            "flex_flow": null,
            "width": null,
            "min_width": null,
            "border": null,
            "align_items": null,
            "bottom": null,
            "_model_module": "@jupyter-widgets/base",
            "top": null,
            "grid_column": null,
            "overflow_y": null,
            "overflow_x": null,
            "grid_auto_flow": null,
            "grid_area": null,
            "grid_template_columns": null,
            "flex": null,
            "_model_name": "LayoutModel",
            "justify_items": null,
            "grid_row": null,
            "max_height": null,
            "align_content": null,
            "visibility": null,
            "align_self": null,
            "height": null,
            "min_height": null,
            "padding": null,
            "grid_auto_rows": null,
            "grid_gap": null,
            "max_width": null,
            "order": null,
            "_view_module_version": "1.2.0",
            "grid_template_areas": null,
            "object_position": null,
            "object_fit": null,
            "grid_auto_columns": null,
            "margin": null,
            "display": null,
            "left": null
          }
        },
        "9ac64e9c50de4ddcbb207146ff19f57e": {
          "model_module": "@jupyter-widgets/controls",
          "model_name": "HBoxModel",
          "model_module_version": "1.5.0",
          "state": {
            "_view_name": "HBoxView",
            "_dom_classes": [],
            "_model_name": "HBoxModel",
            "_view_module": "@jupyter-widgets/controls",
            "_model_module_version": "1.5.0",
            "_view_count": null,
            "_view_module_version": "1.5.0",
            "box_style": "",
            "layout": "IPY_MODEL_e2a3d2e75f5249f086f8766c765a344e",
            "_model_module": "@jupyter-widgets/controls",
            "children": [
              "IPY_MODEL_ba03df9ed60c4578aaa9da146f723efd",
              "IPY_MODEL_b40aa7c052344f758f0b3f4700daf7c2",
              "IPY_MODEL_36bc284228994380b9f61814fbae77a8"
            ]
          }
        },
        "e2a3d2e75f5249f086f8766c765a344e": {
          "model_module": "@jupyter-widgets/base",
          "model_name": "LayoutModel",
          "model_module_version": "1.2.0",
          "state": {
            "_view_name": "LayoutView",
            "grid_template_rows": null,
            "right": null,
            "justify_content": null,
            "_view_module": "@jupyter-widgets/base",
            "overflow": null,
            "_model_module_version": "1.2.0",
            "_view_count": null,
            "flex_flow": null,
            "width": null,
            "min_width": null,
            "border": null,
            "align_items": null,
            "bottom": null,
            "_model_module": "@jupyter-widgets/base",
            "top": null,
            "grid_column": null,
            "overflow_y": null,
            "overflow_x": null,
            "grid_auto_flow": null,
            "grid_area": null,
            "grid_template_columns": null,
            "flex": null,
            "_model_name": "LayoutModel",
            "justify_items": null,
            "grid_row": null,
            "max_height": null,
            "align_content": null,
            "visibility": null,
            "align_self": null,
            "height": null,
            "min_height": null,
            "padding": null,
            "grid_auto_rows": null,
            "grid_gap": null,
            "max_width": null,
            "order": null,
            "_view_module_version": "1.2.0",
            "grid_template_areas": null,
            "object_position": null,
            "object_fit": null,
            "grid_auto_columns": null,
            "margin": null,
            "display": null,
            "left": null
          }
        },
        "ba03df9ed60c4578aaa9da146f723efd": {
          "model_module": "@jupyter-widgets/controls",
          "model_name": "HTMLModel",
          "model_module_version": "1.5.0",
          "state": {
            "_view_name": "HTMLView",
            "style": "IPY_MODEL_e99252abb38945beac078178bc17d4be",
            "_dom_classes": [],
            "description": "",
            "_model_name": "HTMLModel",
            "placeholder": "​",
            "_view_module": "@jupyter-widgets/controls",
            "_model_module_version": "1.5.0",
            "value": "Downloading: 100%",
            "_view_count": null,
            "_view_module_version": "1.5.0",
            "description_tooltip": null,
            "_model_module": "@jupyter-widgets/controls",
            "layout": "IPY_MODEL_6b073912fdfb4fb0ab2a8066f27210db"
          }
        },
        "b40aa7c052344f758f0b3f4700daf7c2": {
          "model_module": "@jupyter-widgets/controls",
          "model_name": "FloatProgressModel",
          "model_module_version": "1.5.0",
          "state": {
            "_view_name": "ProgressView",
            "style": "IPY_MODEL_d56f6d0c9e8244959445afe272168c21",
            "_dom_classes": [],
            "description": "",
            "_model_name": "FloatProgressModel",
            "bar_style": "success",
            "max": 3508743,
            "_view_module": "@jupyter-widgets/controls",
            "_model_module_version": "1.5.0",
            "value": 3508743,
            "_view_count": null,
            "_view_module_version": "1.5.0",
            "orientation": "horizontal",
            "min": 0,
            "description_tooltip": null,
            "_model_module": "@jupyter-widgets/controls",
            "layout": "IPY_MODEL_4d24002a8d66439fbac3e3b76f974ee6"
          }
        },
        "36bc284228994380b9f61814fbae77a8": {
          "model_module": "@jupyter-widgets/controls",
          "model_name": "HTMLModel",
          "model_module_version": "1.5.0",
          "state": {
            "_view_name": "HTMLView",
            "style": "IPY_MODEL_5e39fa0ac8224d76ba54aaddd62b10de",
            "_dom_classes": [],
            "description": "",
            "_model_name": "HTMLModel",
            "placeholder": "​",
            "_view_module": "@jupyter-widgets/controls",
            "_model_module_version": "1.5.0",
            "value": " 3.35M/3.35M [00:01&lt;00:00, 2.59MB/s]",
            "_view_count": null,
            "_view_module_version": "1.5.0",
            "description_tooltip": null,
            "_model_module": "@jupyter-widgets/controls",
            "layout": "IPY_MODEL_794d8544df094e29afff33ade05a7e9e"
          }
        },
        "e99252abb38945beac078178bc17d4be": {
          "model_module": "@jupyter-widgets/controls",
          "model_name": "DescriptionStyleModel",
          "model_module_version": "1.5.0",
          "state": {
            "_view_name": "StyleView",
            "_model_name": "DescriptionStyleModel",
            "description_width": "",
            "_view_module": "@jupyter-widgets/base",
            "_model_module_version": "1.5.0",
            "_view_count": null,
            "_view_module_version": "1.2.0",
            "_model_module": "@jupyter-widgets/controls"
          }
        },
        "6b073912fdfb4fb0ab2a8066f27210db": {
          "model_module": "@jupyter-widgets/base",
          "model_name": "LayoutModel",
          "model_module_version": "1.2.0",
          "state": {
            "_view_name": "LayoutView",
            "grid_template_rows": null,
            "right": null,
            "justify_content": null,
            "_view_module": "@jupyter-widgets/base",
            "overflow": null,
            "_model_module_version": "1.2.0",
            "_view_count": null,
            "flex_flow": null,
            "width": null,
            "min_width": null,
            "border": null,
            "align_items": null,
            "bottom": null,
            "_model_module": "@jupyter-widgets/base",
            "top": null,
            "grid_column": null,
            "overflow_y": null,
            "overflow_x": null,
            "grid_auto_flow": null,
            "grid_area": null,
            "grid_template_columns": null,
            "flex": null,
            "_model_name": "LayoutModel",
            "justify_items": null,
            "grid_row": null,
            "max_height": null,
            "align_content": null,
            "visibility": null,
            "align_self": null,
            "height": null,
            "min_height": null,
            "padding": null,
            "grid_auto_rows": null,
            "grid_gap": null,
            "max_width": null,
            "order": null,
            "_view_module_version": "1.2.0",
            "grid_template_areas": null,
            "object_position": null,
            "object_fit": null,
            "grid_auto_columns": null,
            "margin": null,
            "display": null,
            "left": null
          }
        },
        "d56f6d0c9e8244959445afe272168c21": {
          "model_module": "@jupyter-widgets/controls",
          "model_name": "ProgressStyleModel",
          "model_module_version": "1.5.0",
          "state": {
            "_view_name": "StyleView",
            "_model_name": "ProgressStyleModel",
            "description_width": "",
            "_view_module": "@jupyter-widgets/base",
            "_model_module_version": "1.5.0",
            "_view_count": null,
            "_view_module_version": "1.2.0",
            "bar_color": null,
            "_model_module": "@jupyter-widgets/controls"
          }
        },
        "4d24002a8d66439fbac3e3b76f974ee6": {
          "model_module": "@jupyter-widgets/base",
          "model_name": "LayoutModel",
          "model_module_version": "1.2.0",
          "state": {
            "_view_name": "LayoutView",
            "grid_template_rows": null,
            "right": null,
            "justify_content": null,
            "_view_module": "@jupyter-widgets/base",
            "overflow": null,
            "_model_module_version": "1.2.0",
            "_view_count": null,
            "flex_flow": null,
            "width": null,
            "min_width": null,
            "border": null,
            "align_items": null,
            "bottom": null,
            "_model_module": "@jupyter-widgets/base",
            "top": null,
            "grid_column": null,
            "overflow_y": null,
            "overflow_x": null,
            "grid_auto_flow": null,
            "grid_area": null,
            "grid_template_columns": null,
            "flex": null,
            "_model_name": "LayoutModel",
            "justify_items": null,
            "grid_row": null,
            "max_height": null,
            "align_content": null,
            "visibility": null,
            "align_self": null,
            "height": null,
            "min_height": null,
            "padding": null,
            "grid_auto_rows": null,
            "grid_gap": null,
            "max_width": null,
            "order": null,
            "_view_module_version": "1.2.0",
            "grid_template_areas": null,
            "object_position": null,
            "object_fit": null,
            "grid_auto_columns": null,
            "margin": null,
            "display": null,
            "left": null
          }
        },
        "5e39fa0ac8224d76ba54aaddd62b10de": {
          "model_module": "@jupyter-widgets/controls",
          "model_name": "DescriptionStyleModel",
          "model_module_version": "1.5.0",
          "state": {
            "_view_name": "StyleView",
            "_model_name": "DescriptionStyleModel",
            "description_width": "",
            "_view_module": "@jupyter-widgets/base",
            "_model_module_version": "1.5.0",
            "_view_count": null,
            "_view_module_version": "1.2.0",
            "_model_module": "@jupyter-widgets/controls"
          }
        },
        "794d8544df094e29afff33ade05a7e9e": {
          "model_module": "@jupyter-widgets/base",
          "model_name": "LayoutModel",
          "model_module_version": "1.2.0",
          "state": {
            "_view_name": "LayoutView",
            "grid_template_rows": null,
            "right": null,
            "justify_content": null,
            "_view_module": "@jupyter-widgets/base",
            "overflow": null,
            "_model_module_version": "1.2.0",
            "_view_count": null,
            "flex_flow": null,
            "width": null,
            "min_width": null,
            "border": null,
            "align_items": null,
            "bottom": null,
            "_model_module": "@jupyter-widgets/base",
            "top": null,
            "grid_column": null,
            "overflow_y": null,
            "overflow_x": null,
            "grid_auto_flow": null,
            "grid_area": null,
            "grid_template_columns": null,
            "flex": null,
            "_model_name": "LayoutModel",
            "justify_items": null,
            "grid_row": null,
            "max_height": null,
            "align_content": null,
            "visibility": null,
            "align_self": null,
            "height": null,
            "min_height": null,
            "padding": null,
            "grid_auto_rows": null,
            "grid_gap": null,
            "max_width": null,
            "order": null,
            "_view_module_version": "1.2.0",
            "grid_template_areas": null,
            "object_position": null,
            "object_fit": null,
            "grid_auto_columns": null,
            "margin": null,
            "display": null,
            "left": null
          }
        },
        "dde62bcae0bc42a693a50030a08f78d2": {
          "model_module": "@jupyter-widgets/controls",
          "model_name": "HBoxModel",
          "model_module_version": "1.5.0",
          "state": {
            "_view_name": "HBoxView",
            "_dom_classes": [],
            "_model_name": "HBoxModel",
            "_view_module": "@jupyter-widgets/controls",
            "_model_module_version": "1.5.0",
            "_view_count": null,
            "_view_module_version": "1.5.0",
            "box_style": "",
            "layout": "IPY_MODEL_aea396137f654fd69649b12ab2f77676",
            "_model_module": "@jupyter-widgets/controls",
            "children": [
              "IPY_MODEL_5d6d8dc5abdb421380327cbc98e0c4a4",
              "IPY_MODEL_2838e6a1e7fe4a0ea7e7d0196beb94d2",
              "IPY_MODEL_3581ce8bfd2e4265af205aa6289a19c5"
            ]
          }
        },
        "aea396137f654fd69649b12ab2f77676": {
          "model_module": "@jupyter-widgets/base",
          "model_name": "LayoutModel",
          "model_module_version": "1.2.0",
          "state": {
            "_view_name": "LayoutView",
            "grid_template_rows": null,
            "right": null,
            "justify_content": null,
            "_view_module": "@jupyter-widgets/base",
            "overflow": null,
            "_model_module_version": "1.2.0",
            "_view_count": null,
            "flex_flow": null,
            "width": null,
            "min_width": null,
            "border": null,
            "align_items": null,
            "bottom": null,
            "_model_module": "@jupyter-widgets/base",
            "top": null,
            "grid_column": null,
            "overflow_y": null,
            "overflow_x": null,
            "grid_auto_flow": null,
            "grid_area": null,
            "grid_template_columns": null,
            "flex": null,
            "_model_name": "LayoutModel",
            "justify_items": null,
            "grid_row": null,
            "max_height": null,
            "align_content": null,
            "visibility": null,
            "align_self": null,
            "height": null,
            "min_height": null,
            "padding": null,
            "grid_auto_rows": null,
            "grid_gap": null,
            "max_width": null,
            "order": null,
            "_view_module_version": "1.2.0",
            "grid_template_areas": null,
            "object_position": null,
            "object_fit": null,
            "grid_auto_columns": null,
            "margin": null,
            "display": null,
            "left": null
          }
        },
        "5d6d8dc5abdb421380327cbc98e0c4a4": {
          "model_module": "@jupyter-widgets/controls",
          "model_name": "HTMLModel",
          "model_module_version": "1.5.0",
          "state": {
            "_view_name": "HTMLView",
            "style": "IPY_MODEL_582c9bafdbab4fa4aa8a55ade384e649",
            "_dom_classes": [],
            "description": "",
            "_model_name": "HTMLModel",
            "placeholder": "​",
            "_view_module": "@jupyter-widgets/controls",
            "_model_module_version": "1.5.0",
            "value": "Downloading: 100%",
            "_view_count": null,
            "_view_module_version": "1.5.0",
            "description_tooltip": null,
            "_model_module": "@jupyter-widgets/controls",
            "layout": "IPY_MODEL_5a43f156446e4512b406a9b10a5181ea"
          }
        },
        "2838e6a1e7fe4a0ea7e7d0196beb94d2": {
          "model_module": "@jupyter-widgets/controls",
          "model_name": "FloatProgressModel",
          "model_module_version": "1.5.0",
          "state": {
            "_view_name": "ProgressView",
            "style": "IPY_MODEL_0294fc163c414612977b1d1674855197",
            "_dom_classes": [],
            "description": "",
            "_model_name": "FloatProgressModel",
            "bar_style": "success",
            "max": 775,
            "_view_module": "@jupyter-widgets/controls",
            "_model_module_version": "1.5.0",
            "value": 775,
            "_view_count": null,
            "_view_module_version": "1.5.0",
            "orientation": "horizontal",
            "min": 0,
            "description_tooltip": null,
            "_model_module": "@jupyter-widgets/controls",
            "layout": "IPY_MODEL_e51cf8b704784d1dac4322d82fc21943"
          }
        },
        "3581ce8bfd2e4265af205aa6289a19c5": {
          "model_module": "@jupyter-widgets/controls",
          "model_name": "HTMLModel",
          "model_module_version": "1.5.0",
          "state": {
            "_view_name": "HTMLView",
            "style": "IPY_MODEL_d81ba1963b2b450e99cfb92f7f1dccac",
            "_dom_classes": [],
            "description": "",
            "_model_name": "HTMLModel",
            "placeholder": "​",
            "_view_module": "@jupyter-widgets/controls",
            "_model_module_version": "1.5.0",
            "value": " 775/775 [00:00&lt;00:00, 33.2kB/s]",
            "_view_count": null,
            "_view_module_version": "1.5.0",
            "description_tooltip": null,
            "_model_module": "@jupyter-widgets/controls",
            "layout": "IPY_MODEL_e20360d4a2ac419eb9fd8ee4122f74af"
          }
        },
        "582c9bafdbab4fa4aa8a55ade384e649": {
          "model_module": "@jupyter-widgets/controls",
          "model_name": "DescriptionStyleModel",
          "model_module_version": "1.5.0",
          "state": {
            "_view_name": "StyleView",
            "_model_name": "DescriptionStyleModel",
            "description_width": "",
            "_view_module": "@jupyter-widgets/base",
            "_model_module_version": "1.5.0",
            "_view_count": null,
            "_view_module_version": "1.2.0",
            "_model_module": "@jupyter-widgets/controls"
          }
        },
        "5a43f156446e4512b406a9b10a5181ea": {
          "model_module": "@jupyter-widgets/base",
          "model_name": "LayoutModel",
          "model_module_version": "1.2.0",
          "state": {
            "_view_name": "LayoutView",
            "grid_template_rows": null,
            "right": null,
            "justify_content": null,
            "_view_module": "@jupyter-widgets/base",
            "overflow": null,
            "_model_module_version": "1.2.0",
            "_view_count": null,
            "flex_flow": null,
            "width": null,
            "min_width": null,
            "border": null,
            "align_items": null,
            "bottom": null,
            "_model_module": "@jupyter-widgets/base",
            "top": null,
            "grid_column": null,
            "overflow_y": null,
            "overflow_x": null,
            "grid_auto_flow": null,
            "grid_area": null,
            "grid_template_columns": null,
            "flex": null,
            "_model_name": "LayoutModel",
            "justify_items": null,
            "grid_row": null,
            "max_height": null,
            "align_content": null,
            "visibility": null,
            "align_self": null,
            "height": null,
            "min_height": null,
            "padding": null,
            "grid_auto_rows": null,
            "grid_gap": null,
            "max_width": null,
            "order": null,
            "_view_module_version": "1.2.0",
            "grid_template_areas": null,
            "object_position": null,
            "object_fit": null,
            "grid_auto_columns": null,
            "margin": null,
            "display": null,
            "left": null
          }
        },
        "0294fc163c414612977b1d1674855197": {
          "model_module": "@jupyter-widgets/controls",
          "model_name": "ProgressStyleModel",
          "model_module_version": "1.5.0",
          "state": {
            "_view_name": "StyleView",
            "_model_name": "ProgressStyleModel",
            "description_width": "",
            "_view_module": "@jupyter-widgets/base",
            "_model_module_version": "1.5.0",
            "_view_count": null,
            "_view_module_version": "1.2.0",
            "bar_color": null,
            "_model_module": "@jupyter-widgets/controls"
          }
        },
        "e51cf8b704784d1dac4322d82fc21943": {
          "model_module": "@jupyter-widgets/base",
          "model_name": "LayoutModel",
          "model_module_version": "1.2.0",
          "state": {
            "_view_name": "LayoutView",
            "grid_template_rows": null,
            "right": null,
            "justify_content": null,
            "_view_module": "@jupyter-widgets/base",
            "overflow": null,
            "_model_module_version": "1.2.0",
            "_view_count": null,
            "flex_flow": null,
            "width": null,
            "min_width": null,
            "border": null,
            "align_items": null,
            "bottom": null,
            "_model_module": "@jupyter-widgets/base",
            "top": null,
            "grid_column": null,
            "overflow_y": null,
            "overflow_x": null,
            "grid_auto_flow": null,
            "grid_area": null,
            "grid_template_columns": null,
            "flex": null,
            "_model_name": "LayoutModel",
            "justify_items": null,
            "grid_row": null,
            "max_height": null,
            "align_content": null,
            "visibility": null,
            "align_self": null,
            "height": null,
            "min_height": null,
            "padding": null,
            "grid_auto_rows": null,
            "grid_gap": null,
            "max_width": null,
            "order": null,
            "_view_module_version": "1.2.0",
            "grid_template_areas": null,
            "object_position": null,
            "object_fit": null,
            "grid_auto_columns": null,
            "margin": null,
            "display": null,
            "left": null
          }
        },
        "d81ba1963b2b450e99cfb92f7f1dccac": {
          "model_module": "@jupyter-widgets/controls",
          "model_name": "DescriptionStyleModel",
          "model_module_version": "1.5.0",
          "state": {
            "_view_name": "StyleView",
            "_model_name": "DescriptionStyleModel",
            "description_width": "",
            "_view_module": "@jupyter-widgets/base",
            "_model_module_version": "1.5.0",
            "_view_count": null,
            "_view_module_version": "1.2.0",
            "_model_module": "@jupyter-widgets/controls"
          }
        },
        "e20360d4a2ac419eb9fd8ee4122f74af": {
          "model_module": "@jupyter-widgets/base",
          "model_name": "LayoutModel",
          "model_module_version": "1.2.0",
          "state": {
            "_view_name": "LayoutView",
            "grid_template_rows": null,
            "right": null,
            "justify_content": null,
            "_view_module": "@jupyter-widgets/base",
            "overflow": null,
            "_model_module_version": "1.2.0",
            "_view_count": null,
            "flex_flow": null,
            "width": null,
            "min_width": null,
            "border": null,
            "align_items": null,
            "bottom": null,
            "_model_module": "@jupyter-widgets/base",
            "top": null,
            "grid_column": null,
            "overflow_y": null,
            "overflow_x": null,
            "grid_auto_flow": null,
            "grid_area": null,
            "grid_template_columns": null,
            "flex": null,
            "_model_name": "LayoutModel",
            "justify_items": null,
            "grid_row": null,
            "max_height": null,
            "align_content": null,
            "visibility": null,
            "align_self": null,
            "height": null,
            "min_height": null,
            "padding": null,
            "grid_auto_rows": null,
            "grid_gap": null,
            "max_width": null,
            "order": null,
            "_view_module_version": "1.2.0",
            "grid_template_areas": null,
            "object_position": null,
            "object_fit": null,
            "grid_auto_columns": null,
            "margin": null,
            "display": null,
            "left": null
          }
        }
      }
    }
  },
  "cells": [
    {
      "cell_type": "code",
      "metadata": {
        "id": "oGjlnMz_s1Mk"
      },
      "source": [
        "import numpy as np\n",
        "import pandas as pd\n",
        "from nltk.corpus import stopwords\n",
        "from nltk.tokenize import word_tokenize\n",
        "import re\n",
        "import math\n",
        "# import metrics\n",
        "# from metrics import *\n",
        "import ast\n",
        "import sklearn\n",
        "from sklearn.metrics import precision_score, recall_score, accuracy_score, f1_score\n",
        "from sklearn.preprocessing import MultiLabelBinarizer\n",
        "from sklearn.metrics import hamming_loss\n",
        "#from annoy import AnnoyIndex\n",
        "import tensorflow_hub as hub\n",
        "import tensorflow as tf\n",
        "import json\n",
        "import torch\n",
        "\n",
        "import warnings\n",
        "warnings.filterwarnings(\"ignore\")"
      ],
      "execution_count": null,
      "outputs": []
    },
    {
      "cell_type": "code",
      "metadata": {
        "colab": {
          "base_uri": "https://localhost:8080/"
        },
        "id": "j9tpKSPitHgc",
        "outputId": "c1a67d68-10f4-4f67-f0f9-9bfa38232ffd"
      },
      "source": [
        "from google.colab import drive\n",
        "drive.mount('/content/drive')"
      ],
      "execution_count": null,
      "outputs": [
        {
          "output_type": "stream",
          "name": "stdout",
          "text": [
            "Mounted at /content/drive\n"
          ]
        }
      ]
    },
    {
      "cell_type": "code",
      "metadata": {
        "id": "tv6-x-5YtJrJ"
      },
      "source": [
        "with open('/content/drive/MyDrive/Project-data/Wiki-text/104_117_data_new_regrouped_annotated.json') as fin:\n",
        "  data = json.load(fin)"
      ],
      "execution_count": null,
      "outputs": []
    },
    {
      "cell_type": "code",
      "metadata": {
        "colab": {
          "base_uri": "https://localhost:8080/"
        },
        "id": "Y3juseJCV41j",
        "outputId": "dae5b9ab-d5da-4627-e8d3-cfa8a7b6c910"
      },
      "source": [
        "print(len(data))"
      ],
      "execution_count": null,
      "outputs": [
        {
          "output_type": "stream",
          "name": "stdout",
          "text": [
            "1631\n"
          ]
        }
      ]
    },
    {
      "cell_type": "code",
      "metadata": {
        "colab": {
          "base_uri": "https://localhost:8080/"
        },
        "id": "8jFDyafq5Lgn",
        "outputId": "ed699b44-af7d-4fda-ca0a-a5b4d0bd3a99"
      },
      "source": [
        "data[0]"
      ],
      "execution_count": null,
      "outputs": [
        {
          "output_type": "execute_result",
          "data": {
            "text/plain": [
              "{'Background': '\\nHeflin was born on June 19, 1921, in Poulan, Georgia.  He attended public school in Alabama, graduating from Colbert County High School in Leighton.[1]  He earned his Bachelor of Arts degree in 1942 from Birmingham-Southern College in Birmingham.[2]  There was a tradition of politics in his family: he was a nephew of James Thomas Heflin, a prominent white supremacist politician and U.S. Senator, and great-nephew of Robert Stell Heflin, a U.S. Representative.\\n\\nDuring World War II, from 1942 to 1946, Heflin served as an officer in the United States Marine Corps.[3] He was awarded the Silver Star for valor in combat and received two Purple Heart medals,[4] having seen action on Bougainville and Guam.\\n\\nAfter World War II, Heflin attended the University of Alabama School of Law, from which he graduated in 1948. For nearly two decades, he served as a law professor, while concurrently practicing law in Tuscumbia, Alabama.[4]\\n\\nThe University of Alabama School of Law has honored Heflin with the \"Howell Heflin Conference Room\" in the Bounds Law Library. Tuscumbia named a street \"Howell Heflin Lane\" in his honor. The Howell Heflin Lock and Dam in Alabama is named in his honor. The Howell T. Heflin Seminar room in the Birmingham-Southern College Library is also named in his honor.\\n\\nThe New York Times characterized him as the \"conscience of the Senate.\"[3]\\n\\nHeflin was born on June 19, 1921, in Poulan, Georgia.  He attended public school in Alabama, graduating from Colbert County High School in Leighton.[1]  He earned his Bachelor of Arts degree in 1942 from Birmingham-Southern College in Birmingham.[2]  There was a tradition of politics in his family: he was a nephew of James Thomas Heflin, a prominent white supremacist politician and U.S. Senator, and great-nephew of Robert Stell Heflin, a U.S. Representative.\\n\\nDuring World War II, from 1942 to 1946, Heflin served as an officer in the United States Marine Corps.[3] He was awarded the Silver Star for valor in combat and received two Purple Heart medals,[4] having seen action on Bougainville and Guam.\\n\\nAfter World War II, Heflin attended the University of Alabama School of Law, from which he graduated in 1948. For nearly two decades, he served as a law professor, while concurrently practicing law in Tuscumbia, Alabama.[4]\\n\\nThe University of Alabama School of Law has honored Heflin with the \"Howell Heflin Conference Room\" in the Bounds Law Library. Tuscumbia named a street \"Howell Heflin Lane\" in his honor. The Howell Heflin Lock and Dam in Alabama is named in his honor. The Howell T. Heflin Seminar room in the Birmingham-Southern College Library is also named in his honor.\\n\\nThe New York Times characterized him as the \"conscience of the Senate.\"[3]\\n',\n",
              " 'Early life': '\\nHeflin was born on June 19, 1921, in Poulan, Georgia.  He attended public school in Alabama, graduating from Colbert County High School in Leighton.[1]  He earned his Bachelor of Arts degree in 1942 from Birmingham-Southern College in Birmingham.[2]  There was a tradition of politics in his family: he was a nephew of James Thomas Heflin, a prominent white supremacist politician and U.S. Senator, and great-nephew of Robert Stell Heflin, a U.S. Representative.\\n\\nDuring World War II, from 1942 to 1946, Heflin served as an officer in the United States Marine Corps.[3] He was awarded the Silver Star for valor in combat and received two Purple Heart medals,[4] having seen action on Bougainville and Guam.\\n\\nAfter World War II, Heflin attended the University of Alabama School of Law, from which he graduated in 1948. For nearly two decades, he served as a law professor, while concurrently practicing law in Tuscumbia, Alabama.[4]\\n',\n",
              " 'Honors': '\\nThe University of Alabama School of Law has honored Heflin with the \"Howell Heflin Conference Room\" in the Bounds Law Library. Tuscumbia named a street \"Howell Heflin Lane\" in his honor. The Howell Heflin Lock and Dam in Alabama is named in his honor. The Howell T. Heflin Seminar room in the Birmingham-Southern College Library is also named in his honor.\\n\\nThe New York Times characterized him as the \"conscience of the Senate.\"[3]\\n',\n",
              " 'Main': '\\nHowell Thomas Heflin (June 19, 1921 – March 29, 2005) was an American lawyer and politician who served in the United States Senate representing Alabama from 1979 to 1997.\\n',\n",
              " 'Name': 'Howell Heflin',\n",
              " 'Others': '',\n",
              " 'PersonalDetails': {'Alma mater': 'Birmingham-Southern College (B.A.)University of Alabama School of Law (LL.B.)',\n",
              "  'Born': 'Howell Thomas Heflin(1921-06-19)June 19, 1921Poulan, Georgia, U.S.',\n",
              "  'Died': 'March 29, 2005(2005-03-29) (aged\\xa083)Sheffield, Alabama, U.S.',\n",
              "  'Nationality': 'American',\n",
              "  'Political party': 'Democratic',\n",
              "  'Relatives': '\\nRobert Stell Heflin (great-uncle)\\nJames Thomas Heflin (uncle)\\n',\n",
              "  'Resting place': None,\n",
              "  'Spouse(s)': 'Elizabeth Ann Carmichael'},\n",
              " 'Political': '\\nIn 1970, Heflin was elected Chief Justice of the Alabama Supreme Court, serving from 1971 to 1977.[5]\\n\\nIn 1978, Heflin was elected to the United States Senate to succeed fellow Democrat John Sparkman, who had been Adlai E. Stevenson\\'s running mate in the 1952 presidential election. Heflin won his party\\'s nomination by defeating U.S. Representative Walter Flowers of Tuscaloosa, a longtime George C. Wallace ally. The 1966 Republican gubernatorial nominee, former U.S. Representative James D. Martin of Gadsden, announced that he would challenge Heflin. But Martin switched to a second Senate race for a two-year term created by the sudden death of Senator James B. Allen, leaving Heflin without a Republican opponent.\\n\\nIn March 1981, President Reagan was shot during an assassination attempt by John Hinckley Jr. outside the Hilton Hotel in Washington, D.C., Hinckley being brought to trial fourteen months afterward. Heflin espoused the view that the time between the incident and the trial was part of the need for an overhauling of the criminal justice system \"so it can more efficiently and effectively deal with the rising epidemic of violent crime in this nation\" and noted the shootings of Pope John Paul II and President of Egypt Anwar Sadat as incidents that had happened after the Reagan shooting yet had already seen the assailants be convicted and either jailed or executed. Heflin stated that the delays in bringing defendants to trial formed \"contempt for the system\" in addition to denouncing the delays as part of the problem, calling for the Senate to form a \"Crime Caucus\" as part of an attempt to \"put aside petty partisan politics and unite in an effort to wage a successful war on crime.\"[6]\\n\\nIn July 1981, Heflin announced he would introduce legislation calling for creation of a national court of appeals, and that such legislation would relieve the Supreme Court of some of its present burdens while increasing the national appellate capacity. The legislation was intended to also initiate a long-range study of the federal court system and call for major reforms in the American judiciary. Heflin noted that only 289 of the 4,242 petitions for hearings submitted to the Supreme Court in the previous year were granted and that a national appeals court would resolve feuds in the federal circuit courts.[7]\\n\\nIn 1984, Heflin won a second Senate term, handily defeating Republican former U.S. Representative Albert L. Smith Jr. of Birmingham, who had hoped to win by running on the reelection coattails of U.S. President Ronald W. Reagan. Heflin was reelected to a third term in 1990, defeating State Senator William J. Cabaniss, who later served as United States Ambassador to the Czech Republic under George W. Bush. Heflin did not run for reelection in 1996, and was succeeded by Republican Jeff Sessions.\\n\\nIn 1987, Heflin, a member of the Senate Judiciary Committee, voted against confirmation of Judge Robert Bork to the Supreme Court of the United States.[8]\\n\\nHeflin became chairman of the Select Committee on Ethics. While on the Ethics Committee, he led the prosecution against fellow Democratic senator Howard Cannon of Nevada for violations of Senate rules.\\n\\nAs a conservative Democrat, he strongly opposed abortion and gun control. Heflin supported school prayer in public schools and opposed laws banning discrimination on the basis of sexual orientation.[citation needed] He supported the Gulf War of 1991 and opposed cuts in defense spending. With Fritz Hollings of South Carolina, Heflin was one of only two Democrats in the Senate to vote against the Family and Medical Leave Act. He occasionally voted with Republicans on taxes.[citation needed]\\n\\nOn other economic issues he was more allied with his party\\'s populist wing. He voted against the North American Free Trade Agreement (NAFTA), General Agreement on Tariffs and Trade (GATT), and attempts to weaken enforcement of consumer protection measures.[citation needed] He strongly supported affirmative action laws.[citation needed] He voted against confirmation of Clarence Thomas to the United States Supreme Court, citing Thomas\\'s lack of experience.\\n\\nIn 1993 Heflin gave a memorable speech on the Senate floor in support of Senator Carol Moseley Braun\\'s successful effort to deny renewal of a Confederate Flag design patent for the United Daughters of the Confederacy. Heflin spoke of his pride and love for his Confederate ancestors, his respect for the United Daughters of the Confederacy, and his conflict in breaking with them over this issue. But, he said,\\n\\nHeflin lived at his longtime residence in Tuscumbia until his death on March 29, 2005, of a heart attack.[2] He was survived by his wife, Elizabeth Ann, his son H. Thomas Jr., known as Tom, and two grandchildren.[10]\\n\\nHeflin was the last Democrat to serve as a senator from Alabama until the swearing in of Doug Jones (winner of the December 2017 special election) on January 3, 2018, 21 years to the day after Heflin left the seat.[a] Heflin had been a mentor to Jones, who worked for him as a senatorial aide.[11][12]\\n',\n",
              " 'Political career': '\\nIn 1970, Heflin was elected Chief Justice of the Alabama Supreme Court, serving from 1971 to 1977.[5]\\n\\nIn 1978, Heflin was elected to the United States Senate to succeed fellow Democrat John Sparkman, who had been Adlai E. Stevenson\\'s running mate in the 1952 presidential election. Heflin won his party\\'s nomination by defeating U.S. Representative Walter Flowers of Tuscaloosa, a longtime George C. Wallace ally. The 1966 Republican gubernatorial nominee, former U.S. Representative James D. Martin of Gadsden, announced that he would challenge Heflin. But Martin switched to a second Senate race for a two-year term created by the sudden death of Senator James B. Allen, leaving Heflin without a Republican opponent.\\n\\nIn March 1981, President Reagan was shot during an assassination attempt by John Hinckley Jr. outside the Hilton Hotel in Washington, D.C., Hinckley being brought to trial fourteen months afterward. Heflin espoused the view that the time between the incident and the trial was part of the need for an overhauling of the criminal justice system \"so it can more efficiently and effectively deal with the rising epidemic of violent crime in this nation\" and noted the shootings of Pope John Paul II and President of Egypt Anwar Sadat as incidents that had happened after the Reagan shooting yet had already seen the assailants be convicted and either jailed or executed. Heflin stated that the delays in bringing defendants to trial formed \"contempt for the system\" in addition to denouncing the delays as part of the problem, calling for the Senate to form a \"Crime Caucus\" as part of an attempt to \"put aside petty partisan politics and unite in an effort to wage a successful war on crime.\"[6]\\n\\nIn July 1981, Heflin announced he would introduce legislation calling for creation of a national court of appeals, and that such legislation would relieve the Supreme Court of some of its present burdens while increasing the national appellate capacity. The legislation was intended to also initiate a long-range study of the federal court system and call for major reforms in the American judiciary. Heflin noted that only 289 of the 4,242 petitions for hearings submitted to the Supreme Court in the previous year were granted and that a national appeals court would resolve feuds in the federal circuit courts.[7]\\n\\nIn 1984, Heflin won a second Senate term, handily defeating Republican former U.S. Representative Albert L. Smith Jr. of Birmingham, who had hoped to win by running on the reelection coattails of U.S. President Ronald W. Reagan. Heflin was reelected to a third term in 1990, defeating State Senator William J. Cabaniss, who later served as United States Ambassador to the Czech Republic under George W. Bush. Heflin did not run for reelection in 1996, and was succeeded by Republican Jeff Sessions.\\n\\nIn 1987, Heflin, a member of the Senate Judiciary Committee, voted against confirmation of Judge Robert Bork to the Supreme Court of the United States.[8]\\n\\nHeflin became chairman of the Select Committee on Ethics. While on the Ethics Committee, he led the prosecution against fellow Democratic senator Howard Cannon of Nevada for violations of Senate rules.\\n\\nAs a conservative Democrat, he strongly opposed abortion and gun control. Heflin supported school prayer in public schools and opposed laws banning discrimination on the basis of sexual orientation.[citation needed] He supported the Gulf War of 1991 and opposed cuts in defense spending. With Fritz Hollings of South Carolina, Heflin was one of only two Democrats in the Senate to vote against the Family and Medical Leave Act. He occasionally voted with Republicans on taxes.[citation needed]\\n\\nOn other economic issues he was more allied with his party\\'s populist wing. He voted against the North American Free Trade Agreement (NAFTA), General Agreement on Tariffs and Trade (GATT), and attempts to weaken enforcement of consumer protection measures.[citation needed] He strongly supported affirmative action laws.[citation needed] He voted against confirmation of Clarence Thomas to the United States Supreme Court, citing Thomas\\'s lack of experience.\\n\\nIn 1993 Heflin gave a memorable speech on the Senate floor in support of Senator Carol Moseley Braun\\'s successful effort to deny renewal of a Confederate Flag design patent for the United Daughters of the Confederacy. Heflin spoke of his pride and love for his Confederate ancestors, his respect for the United Daughters of the Confederacy, and his conflict in breaking with them over this issue. But, he said,\\n\\nHeflin lived at his longtime residence in Tuscumbia until his death on March 29, 2005, of a heart attack.[2] He was survived by his wife, Elizabeth Ann, his son H. Thomas Jr., known as Tom, and two grandchildren.[10]\\n\\nHeflin was the last Democrat to serve as a senator from Alabama until the swearing in of Doug Jones (winner of the December 2017 special election) on January 3, 2018, 21 years to the day after Heflin left the seat.[a] Heflin had been a mentor to Jones, who worked for him as a senatorial aide.[11][12]\\n'}"
            ]
          },
          "metadata": {},
          "execution_count": 5
        }
      ]
    },
    {
      "cell_type": "code",
      "metadata": {
        "colab": {
          "base_uri": "https://localhost:8080/"
        },
        "id": "V5gBUp_s9tF-",
        "outputId": "77f17e6f-f585-4372-cdbd-6331c36a10a7"
      },
      "source": [
        "names = []\n",
        "duplicate = []\n",
        "index = []\n",
        "for i,member in enumerate(data):\n",
        "  if member['Name'] not in names:\n",
        "    names.append(member['Name'])\n",
        "    index.append(i)\n",
        "  else:\n",
        "    duplicate.append(member['Name'])\n",
        "print(duplicate)"
      ],
      "execution_count": null,
      "outputs": [
        {
          "output_type": "stream",
          "name": "stdout",
          "text": [
            "['Carol Moseley Braun', 'Jim Inhofe', 'Bob Matsui', 'Luis Gutiérrez', 'Phil Crane', 'Sidney R. Yates', 'Harris W. Fawell', 'James Traficant', 'Sheila Jackson Lee', 'Richard Lugar', 'Bill Lipinski', 'Pete Hoekstra', 'Dave Camp', 'Nick Smith (American politician)', 'Gene Taylor (Mississippi politician)', 'Jim Saxton', 'Fritz Hollings', 'Buck McKeon', 'Norm Dicks', 'Jim Talent', 'J. D. Hayworth', 'Ed Royce', 'Duke Cunningham', 'Susan Davis (politician)', 'John B. Larson', 'Clay Shaw (politician)', 'Jan Schakowsky', 'Tim Johnson (Illinois politician)', 'Don Manzullo', 'Dan Burton', 'Billy Tauzin', 'Richard Baker (American politician)', 'Chris John', 'Jim McGovern (American politician)', 'Stephen F. Lynch', 'Tom Osborne', 'Mike Ferguson (New Jersey politician)', 'Bill Pascrell', 'Rush Holt Jr.', 'Joe Hoeffel', 'Mike Doyle (American politician)', 'Pat Toomey', 'Joe Pitts (Pennsylvania politician)', 'Joe Wilson (American politician)', 'Jim Turner (politician)', 'Eni Faleomavaega', 'Joe Lieberman', 'Chris Dodd', 'Bob Bennett (politician)', 'Herb Kohl', 'Mike Rogers (Alabama politician)', 'Robert E. Cramer', 'Butch Otter', 'Mike Simpson', 'Jan Schakowsky', 'Mark Kirk', 'Jim Gibbons (American politician)', 'Charles Bass', 'Joe Crowley', 'Louise Slaughter', 'David Price (American politician)', 'Sue Myrick', 'Brad Miller (politician)', 'Marcy Kaptur', 'Bob Ney', 'Jimmy Duncan (politician)', 'Lamar Smith', 'Bobby Scott (politician)', 'Tom Davis (Virginia politician)', 'Madeleine Bordallo', 'Jim Marshall (Georgia politician)', 'John Barrow (American politician)', 'John Boehner', 'Paul Kanjorski', 'Todd Russell Platts', 'Cathy McMorris Rodgers', 'Mary Bono', 'Jim Marshall (Georgia politician)', 'John Barrow (American politician)', 'Don Manzullo', 'Phil Hare', 'Charlie Melançon', 'Dale Kildee', 'John Conyers', 'Carolyn Maloney', 'Charles Rangel', 'José E. Serrano', 'John Hall (New York politician)', 'Mike Arcuri', 'Al Green (politician)', 'John Carter (Texas politician)', 'Bobby Scott (politician)', 'Chuck Schumer', 'Tim Johnson (South Dakota politician)', 'John Fleming (American politician)', 'Sander Levin', 'Jerry Nadler', 'John A. Sullivan (Oklahoma politician)', 'Glenn Thompson (politician)', 'Tim Murphy (American politician)', 'Tim Scott', 'Joe Wilson (American politician)', 'Mike Lee (American politician)', 'Linda Sánchez', 'Raúl Labrador', 'Adrian Smith (politician)', 'Ben Ray Luján', 'Nydia Velázquez', 'José E. Serrano', 'Dan Maffei', 'Frank Lucas (Oklahoma politician)', 'Tim Murphy (American politician)', 'Rubén Hinojosa', 'Mario Díaz-Balart', 'Andy Harris (politician)', 'John Delaney (Maryland politician)', 'Chris Collins (New York politician)', 'Chris Stewart (politician)', 'Tony Cárdenas', 'Bill Foster (politician)', 'Rodney Davis (politician)', 'Dave Loebsack', 'Andy Barr (American politician)', 'Jim McGovern (American politician)', 'Bill Keating (politician)', 'Richard Hudson (American politician)', 'Jim Jordan (American politician)', 'Mike Kelly (Pennsylvania politician)', 'Joaquin Castro', 'Joe Kennedy III', 'Jason Smith (politician)', 'Joseph Morelle', 'Richard Hudson (American politician)', 'Jim Jordan (American politician)', 'Roger Williams (American politician)', 'Denny Heck', 'Mike Gallagher (American politician)', 'Jim Baird (politician)', 'Amata Coleman Radewagen']\n"
          ]
        }
      ]
    },
    {
      "cell_type": "code",
      "metadata": {
        "colab": {
          "base_uri": "https://localhost:8080/"
        },
        "id": "W5wQTAL0-jN2",
        "outputId": "4086d8c3-d49e-47c2-db7b-1ef028a00920"
      },
      "source": [
        "len(index)"
      ],
      "execution_count": null,
      "outputs": [
        {
          "output_type": "execute_result",
          "data": {
            "text/plain": [
              "1492"
            ]
          },
          "metadata": {},
          "execution_count": 7
        }
      ]
    },
    {
      "cell_type": "code",
      "metadata": {
        "id": "Dmpl_tOq4rhC"
      },
      "source": [
        "temp_data = []\n",
        "for i in index:\n",
        "  temp_data.append(data[i])"
      ],
      "execution_count": null,
      "outputs": []
    },
    {
      "cell_type": "code",
      "metadata": {
        "id": "rJP7Yv4c5ECZ"
      },
      "source": [
        "with open(\"/content/drive/MyDrive/Project-data/Wiki-text/cleaned_removed_duplicates.json\", 'w') as outfile:\n",
        "    json.dump(temp_data, outfile)"
      ],
      "execution_count": null,
      "outputs": []
    },
    {
      "cell_type": "code",
      "metadata": {
        "id": "t_69nNgHd36t"
      },
      "source": [
        "with open('/content/drive/MyDrive/Project-data/Wiki-text/104_117_removed_duplicates_without_other_party_annotated.json') as fin:\n",
        "  data = json.load(fin)"
      ],
      "execution_count": null,
      "outputs": []
    },
    {
      "cell_type": "code",
      "source": [
        "len(data)"
      ],
      "metadata": {
        "colab": {
          "base_uri": "https://localhost:8080/"
        },
        "id": "UTf5x5chHnNT",
        "outputId": "c08d3b1d-6a03-4987-849a-211e0f8c3afe"
      },
      "execution_count": null,
      "outputs": [
        {
          "output_type": "execute_result",
          "data": {
            "text/plain": [
              "1376"
            ]
          },
          "metadata": {},
          "execution_count": 5
        }
      ]
    },
    {
      "cell_type": "code",
      "metadata": {
        "id": "0agAZfLbtMOH"
      },
      "source": [
        "text = []\n",
        "for i,representative in enumerate(data):\n",
        "  #inner_text = []\n",
        "  inner_text = \"\"\n",
        "  for keys in representative.keys():\n",
        "    if(keys not in ['Name','PersonalDetails']):\n",
        "      #inner_text.append(representative[keys])\n",
        "      #print(representative[keys])\n",
        "      inner_text += str(representative[keys]) + \" \"  \n",
        "  text.append(inner_text)"
      ],
      "execution_count": null,
      "outputs": []
    },
    {
      "cell_type": "code",
      "metadata": {
        "colab": {
          "base_uri": "https://localhost:8080/"
        },
        "id": "Rlop0x3ptKe_",
        "outputId": "bb534fb5-5b40-428c-816b-aaed54d9b447"
      },
      "source": [
        "other_length=[]\n",
        "political_length=[]\n",
        "background_length=[]\n",
        "\n",
        "other_greater_than_4096 = 0\n",
        "background_greater_than_4096 = 0\n",
        "political_greater_than_4096 = 0\n",
        "\n",
        "political=[]\n",
        "background = []\n",
        "max_length=0\n",
        "for i in range(len(data)):\n",
        "  political.append(len(data[i]['Political']))\n",
        "  background.append(len(data[i]['Background']))\n",
        "  if(len(data[i]['Others'])>4096):\n",
        "    other_greater_than_4096+=1\n",
        "    other_length.append(i)\n",
        "\n",
        "  if(len(data[i]['Background'])>4096):\n",
        "    background_greater_than_4096+=1\n",
        "    background_length.append(i)\n",
        "\n",
        "  if(len(data[i]['Political'])>4096):\n",
        "    if len(data[i]['Political'])>max_length:\n",
        "      max_length=len(data[i]['Political'])\n",
        "    political_greater_than_4096+=1\n",
        "    political_length.append(i)\n",
        "\n",
        "print(other_greater_than_4096)\n",
        "print(background_greater_than_4096)\n",
        "print(political_greater_than_4096)"
      ],
      "execution_count": null,
      "outputs": [
        {
          "output_type": "stream",
          "name": "stdout",
          "text": [
            "85\n",
            "296\n",
            "862\n"
          ]
        }
      ]
    },
    {
      "cell_type": "code",
      "metadata": {
        "colab": {
          "base_uri": "https://localhost:8080/"
        },
        "id": "lh8gsOHSpVa3",
        "outputId": "33718408-930e-43fb-a35c-eac0d3522b95"
      },
      "source": [
        "print(max_length)"
      ],
      "execution_count": null,
      "outputs": [
        {
          "output_type": "stream",
          "name": "stdout",
          "text": [
            "70482\n"
          ]
        }
      ]
    },
    {
      "cell_type": "code",
      "metadata": {
        "colab": {
          "base_uri": "https://localhost:8080/"
        },
        "id": "O7-QAJgIggSv",
        "outputId": "245d5ab0-f86c-4f2d-b035-a1b41d00e424"
      },
      "source": [
        "common=list(set(political_length) & set(background_length))\n",
        "print(common)"
      ],
      "execution_count": null,
      "outputs": [
        {
          "output_type": "stream",
          "name": "stdout",
          "text": [
            "[1, 4, 517, 7, 8, 1031, 10, 523, 524, 1035, 14, 1037, 1039, 17, 20, 21, 1046, 535, 24, 537, 1049, 27, 29, 30, 543, 1055, 1057, 35, 1059, 1061, 38, 39, 552, 1063, 554, 43, 44, 1066, 46, 559, 49, 1073, 51, 52, 1075, 55, 1080, 1081, 58, 572, 61, 1086, 64, 578, 579, 1091, 69, 70, 71, 72, 73, 74, 583, 1093, 589, 1094, 594, 598, 610, 1123, 612, 102, 616, 106, 620, 110, 622, 1136, 625, 116, 628, 629, 631, 1141, 1148, 1149, 638, 639, 642, 1157, 646, 1159, 1162, 140, 142, 143, 145, 1169, 149, 150, 1174, 1175, 1176, 1180, 671, 1187, 1188, 677, 678, 1191, 1192, 682, 172, 685, 1198, 690, 694, 188, 189, 1213, 1215, 193, 706, 1218, 196, 198, 1222, 200, 1223, 1227, 717, 209, 213, 214, 215, 727, 1238, 221, 1252, 742, 1254, 744, 236, 239, 240, 752, 1267, 245, 1270, 247, 250, 252, 764, 255, 767, 769, 259, 772, 773, 774, 1291, 1297, 786, 275, 1300, 277, 790, 1311, 1314, 804, 806, 296, 1323, 813, 814, 816, 817, 1328, 1332, 309, 822, 824, 825, 314, 827, 318, 831, 832, 322, 836, 838, 839, 328, 841, 330, 845, 1360, 338, 850, 340, 851, 855, 857, 868, 357, 871, 873, 367, 368, 879, 1092, 377, 905, 906, 907, 908, 910, 911, 914, 405, 408, 924, 417, 933, 941, 942, 948, 949, 440, 959, 457, 969, 972, 987, 991, 481, 490, 491, 1004, 497, 1009, 499, 1012, 1013, 1014, 1015, 511]\n"
          ]
        }
      ]
    },
    {
      "cell_type": "code",
      "metadata": {
        "colab": {
          "base_uri": "https://localhost:8080/",
          "height": 280
        },
        "id": "yUFxGcK0QmD6",
        "outputId": "8114c405-2bfb-480b-fb9e-55fcbf21ed70"
      },
      "source": [
        "import matplotlib.pyplot as plt\n",
        "import numpy as np\n",
        "%matplotlib inline\n",
        "\n",
        "plt.hist(political, bins=100,density=False)  # density=False would make counts\n",
        "plt.ylabel('Frequency')\n",
        "plt.xlabel('Lenghth of Text');"
      ],
      "execution_count": null,
      "outputs": [
        {
          "output_type": "display_data",
          "data": {
            "image/png": "[encoded data removed]",
            "text/plain": [
              "<Figure size 432x288 with 1 Axes>"
            ]
          },
          "metadata": {
            "needs_background": "light"
          }
        }
      ]
    },
    {
      "cell_type": "code",
      "metadata": {
        "colab": {
          "base_uri": "https://localhost:8080/"
        },
        "id": "9ISePvZHw-Nl",
        "outputId": "52cd633e-8f5f-4330-bee6-3bffb48a78ab"
      },
      "source": [
        "print(max(political_length))"
      ],
      "execution_count": null,
      "outputs": [
        {
          "output_type": "stream",
          "name": "stdout",
          "text": [
            "1375\n"
          ]
        }
      ]
    },
    {
      "cell_type": "code",
      "metadata": {
        "id": "bfMLPMyLt4jT"
      },
      "source": [
        "# Y = []\n",
        "# for i,t in enumerate(data):\n",
        "#   try:\n",
        "#     Y.append(t['PersonalDetails']['Political party'])\n",
        "#   except:\n",
        "#     Y.append(\"Party-NA\")\n",
        "# print(Y)"
      ],
      "execution_count": null,
      "outputs": []
    },
    {
      "cell_type": "code",
      "metadata": {
        "id": "mC1oTr3LmPOH"
      },
      "source": [
        "# '''\n",
        "# Solved people who did not shift parties\n",
        "# '''\n",
        "# rcount=0\n",
        "# dcount = 0\n",
        "# other_count = 0\n",
        "# other=[]\n",
        "# for i in range(len(Y)):\n",
        "#   if (Y[i] == 'Republican' or Y[i] == 'Republican[1]'):\n",
        "#       # print(Y[i])\n",
        "#       rcount +=1\n",
        "#   elif (Y[i] == 'Democratic' or Y[i] == 'Democratic[1]'):\n",
        "#       # print(Y[i])\n",
        "#       dcount+=1\n",
        "#   else:\n",
        "#     # print(Y[i])\n",
        "#     # print(data[i]['Name'])\n",
        "#     other.append(i)\n",
        "#     other_count += 1\n",
        "# print(rcount,\" republicans\")\n",
        "# print(dcount,\" democrats\")\n",
        "# print(other_count,\"others\")\n",
        "# print(other)"
      ],
      "execution_count": null,
      "outputs": []
    },
    {
      "cell_type": "code",
      "metadata": {
        "id": "1fMI-ucrUhdL"
      },
      "source": [
        "# \"DELETE those who shifted party\"\n",
        "# new_data=[]\n",
        "# for idx in range(len(data)):\n",
        "#   if idx not in other:\n",
        "#       new_data.append(data[idx])"
      ],
      "execution_count": null,
      "outputs": []
    },
    {
      "cell_type": "code",
      "metadata": {
        "id": "tDYwEiT8YLtW"
      },
      "source": [
        "# print(len(new_data))"
      ],
      "execution_count": null,
      "outputs": []
    },
    {
      "cell_type": "code",
      "metadata": {
        "id": "ztO512INecd9"
      },
      "source": [
        "# with open(\"/content/drive/MyDrive/Project-data/Wiki-text/104_117_without_other_party_annotated.json\", 'w') as outfile:\n",
        "    # json.dump(new_data, outfile)"
      ],
      "execution_count": null,
      "outputs": []
    },
    {
      "cell_type": "code",
      "metadata": {
        "colab": {
          "base_uri": "https://localhost:8080/"
        },
        "id": "xEPUi5sLYaFw",
        "outputId": "b39b76fd-ec93-4ff5-c412-b1fa68587fc9"
      },
      "source": [
        "Y = []\n",
        "for i,t in enumerate(data):\n",
        "  try:\n",
        "    Y.append(t['PersonalDetails']['Political party'])\n",
        "  except:\n",
        "    Y.append(\"Party-NA\")\n",
        "print(Y)"
      ],
      "execution_count": null,
      "outputs": [
        {
          "output_type": "stream",
          "name": "stdout",
          "text": [
            "['Democratic', 'Republican', 'Republican', 'Republican', 'Republican', 'Democratic', 'Democratic', 'Democratic', 'Democratic', 'Republican', 'Democratic', 'Republican', 'Republican', 'Democratic', 'Democratic', 'Republican', 'Democratic', 'Democratic', 'Republican', 'Republican', 'Democratic', 'Democratic', 'Republican', 'Republican', 'Democratic', 'Republican', 'Republican', 'Republican', 'Republican', 'Republican', 'Republican', 'Democratic', 'Democratic', 'Democratic', 'Republican', 'Republican', 'Democratic', 'Democratic', 'Democratic', 'Democratic', 'Republican', 'Democratic', 'Republican', 'Republican', 'Republican', 'Republican', 'Democratic', 'Democratic', 'Democratic', 'Democratic', 'Republican', 'Democratic', 'Democratic', 'Democratic', 'Republican', 'Democratic', 'Republican', 'Republican', 'Democratic', 'Republican', 'Republican', 'Republican', 'Republican', 'Democratic', 'Republican', 'Republican', 'Democratic', 'Democratic', 'Democratic', 'Republican', 'Republican', 'Republican', 'Republican', 'Republican', 'Democratic', 'Democratic', 'Republican', 'Republican', 'Democratic', 'Democratic', 'Democratic', 'Democratic', 'Republican', 'Republican', 'Republican', 'Democratic', 'Democratic', 'Democratic', 'Republican', 'Democratic', 'Republican', 'Republican', 'Democratic', 'Republican', 'Republican', 'Democratic', 'Democratic', 'Republican', 'Republican', 'Republican', 'Republican', 'Democratic', 'Republican', 'Democratic', 'Democratic', 'Democratic', 'Democratic', 'Democratic', 'Republican', 'Republican', 'Democratic', 'Democratic', 'Democratic', 'Democratic', 'Democratic', 'Democratic', 'Democratic', 'Republican', 'Democratic', 'Republican', 'Republican', 'Republican', 'Democratic', 'Republican', 'Democratic', 'Republican', 'Republican', 'Democratic', 'Democratic', 'Democratic', 'Democratic', 'Democratic', 'Democratic', 'Democratic', 'Democratic', 'Democratic', 'Republican', 'Republican', 'Republican', 'Republican', 'Democratic', 'Republican', 'Republican', 'Republican', 'Republican', 'Republican', 'Republican', 'Republican', 'Democratic', 'Republican', 'Republican', 'Democratic', 'Democratic', 'Republican', 'Republican', 'Republican', 'Republican', 'Democratic', 'Democratic', 'Democratic', 'Republican', 'Republican', 'Republican', 'Republican', 'Democratic', 'Democratic', 'Republican', 'Democratic', 'Republican', 'Republican', 'Republican', 'Republican', 'Republican', 'Democratic', 'Republican', 'Republican', 'Republican', 'Republican', 'Democratic', 'Republican', 'Democratic', 'Democratic', 'Republican', 'Republican', 'Democratic', 'Republican', 'Democratic', 'Republican', 'Democratic', 'Republican', 'Republican', 'Republican', 'Democratic', 'Democratic', 'Republican', 'Republican', 'Democratic', 'Democratic', 'Democratic', 'Democratic', 'Democratic', 'Republican', 'Democratic', 'Republican', 'Democratic', 'Republican', 'Republican', 'Democratic', 'Republican', 'Republican', 'Republican', 'Republican', 'Democratic', 'Republican', 'Democratic', 'Democratic', 'Democratic', 'Republican', 'Democratic', 'Republican', 'Republican', 'Republican', 'Republican', 'Republican', 'Democratic', 'Democratic', 'Republican', 'Republican', 'Republican', 'Republican', 'Republican', 'Republican', 'Republican', 'Republican', 'Republican', 'Democratic', 'Republican', 'Republican', 'Democratic', 'Republican', 'Democratic', 'Democratic', 'Republican', 'Democratic', 'Republican', 'Democratic', 'Democratic', 'Democratic', 'Republican', 'Democratic', 'Democratic', 'Republican', 'Democratic', 'Democratic', 'Republican', 'Democratic', 'Democratic', 'Republican', 'Democratic', 'Democratic', 'Democratic', 'Democratic', 'Democratic', 'Republican', 'Republican', 'Republican', 'Democratic', 'Republican', 'Republican', 'Republican', 'Democratic', 'Democratic', 'Republican', 'Democratic', 'Democratic', 'Democratic', 'Democratic', 'Democratic', 'Republican', 'Republican', 'Republican', 'Democratic', 'Democratic', 'Democratic', 'Republican', 'Democratic', 'Democratic', 'Democratic', 'Democratic', 'Republican', 'Republican', 'Democratic', 'Democratic', 'Republican', 'Republican', 'Republican', 'Republican', 'Republican', 'Republican', 'Republican', 'Democratic', 'Republican', 'Republican', 'Republican', 'Democratic', 'Republican', 'Republican', 'Democratic', 'Democratic', 'Republican', 'Republican', 'Democratic', 'Republican', 'Republican', 'Democratic', 'Republican', 'Republican', 'Republican', 'Democratic', 'Democratic', 'Democratic', 'Democratic', 'Democratic', 'Democratic', 'Democratic', 'Democratic', 'Republican', 'Democratic', 'Democratic', 'Democratic', 'Democratic', 'Democratic', 'Republican', 'Republican', 'Democratic', 'Republican', 'Republican', 'Republican', 'Democratic', 'Republican', 'Democratic', 'Democratic', 'Republican[1]', 'Republican', 'Democratic', 'Republican', 'Republican', 'Republican', 'Republican', 'Democratic', 'Democratic', 'Republican', 'Republican', 'Republican', 'Democratic', 'Democratic', 'Republican', 'Republican', 'Democratic', 'Republican', 'Republican', 'Republican', 'Republican', 'Republican', 'Democratic', 'Republican', 'Democratic', 'Republican', 'Democratic', 'Democratic', 'Republican', 'Republican', 'Republican', 'Republican', 'Republican', 'Republican', 'Democratic', 'Republican', 'Republican', 'Republican', 'Democratic', 'Republican', 'Democratic', 'Democratic', 'Democratic', 'Democratic', 'Democratic', 'Democratic', 'Republican', 'Democratic', 'Republican', 'Republican', 'Republican', 'Republican', 'Democratic', 'Democratic', 'Republican', 'Democratic', 'Democratic', 'Republican', 'Republican', 'Democratic', 'Republican', 'Democratic', 'Republican', 'Democratic', 'Democratic', 'Republican', 'Republican', 'Republican', 'Democratic', 'Democratic', 'Democratic', 'Republican', 'Republican', 'Republican', 'Republican', 'Democratic', 'Democratic', 'Republican', 'Democratic', 'Democratic', 'Democratic', 'Democratic', 'Republican', 'Democratic', 'Republican', 'Republican', 'Republican', 'Democratic', 'Democratic', 'Democratic', 'Republican', 'Democratic', 'Democratic', 'Democratic', 'Democratic', 'Republican', 'Democratic', 'Republican', 'Republican', 'Republican', 'Democratic', 'Democratic', 'Republican', 'Democratic', 'Democratic', 'Democratic', 'Democratic', 'Republican', 'Republican', 'Democratic', 'Democratic', 'Democratic', 'Democratic', 'Democratic', 'Republican', 'Democratic', 'Democratic', 'Republican', 'Republican', 'Republican', 'Republican', 'Republican', 'Republican', 'Republican', 'Democratic', 'Democratic', 'Republican', 'Republican', 'Democratic', 'Democratic', 'Democratic', 'Republican', 'Republican', 'Republican', 'Democratic', 'Democratic', 'Republican', 'Democratic', 'Republican', 'Republican', 'Republican', 'Democratic', 'Democratic', 'Democratic', 'Republican', 'Democratic', 'Democratic', 'Republican', 'Republican', 'Republican', 'Republican', 'Republican', 'Republican', 'Democratic', 'Democratic', 'Republican', 'Democratic', 'Democratic', 'Democratic', 'Democratic', 'Democratic', 'Republican', 'Republican', 'Democratic', 'Republican', 'Democratic', 'Democratic', 'Democratic', 'Democratic', 'Democratic[1]', 'Democratic', 'Republican', 'Republican', 'Democratic', 'Democratic', 'Republican', 'Republican', 'Republican', 'Republican', 'Democratic', 'Democratic', 'Democratic', 'Democratic', 'Democratic', 'Democratic', 'Democratic', 'Republican', 'Republican', 'Republican', 'Republican', 'Republican', 'Republican', 'Democratic', 'Democratic', 'Republican', 'Republican', 'Republican', 'Democratic', 'Republican', 'Democratic', 'Democratic', 'Democratic', 'Democratic', 'Democratic', 'Republican', 'Democratic', 'Democratic', 'Republican', 'Republican', 'Democratic', 'Republican', 'Republican', 'Democratic', 'Democratic', 'Democratic', 'Republican', 'Republican', 'Democratic', 'Republican', 'Democratic', 'Democratic', 'Democratic', 'Republican', 'Democratic', 'Democratic', 'Democratic', 'Democratic', 'Democratic', 'Republican', 'Democratic', 'Democratic', 'Republican', 'Democratic', 'Republican', 'Democratic', 'Republican', 'Republican', 'Democratic', 'Democratic', 'Republican', 'Republican', 'Democratic', 'Republican', 'Democratic', 'Democratic', 'Democratic', 'Democratic', 'Republican', 'Republican', 'Democratic', 'Democratic', 'Republican', 'Democratic', 'Democratic', 'Democratic', 'Democratic', 'Democratic', 'Republican', 'Republican', 'Republican', 'Democratic', 'Democratic', 'Republican', 'Republican', 'Democratic', 'Republican', 'Republican', 'Democratic', 'Democratic', 'Democratic', 'Republican', 'Democratic', 'Republican', 'Republican', 'Democratic', 'Democratic', 'Democratic', 'Democratic', 'Democratic', 'Republican', 'Republican', 'Democratic', 'Republican', 'Republican', 'Democratic', 'Democratic', 'Democratic', 'Democratic', 'Democratic', 'Republican', 'Democratic', 'Republican', 'Republican', 'Republican', 'Republican', 'Democratic', 'Republican', 'Republican', 'Republican', 'Republican', 'Democratic', 'Republican', 'Republican', 'Democratic', 'Republican', 'Republican', 'Republican', 'Republican', 'Republican', 'Republican', 'Democratic', 'Republican', 'Republican', 'Democratic', 'Republican', 'Republican', 'Republican', 'Democratic', 'Republican', 'Republican', 'Republican', 'Democratic', 'Republican', 'Republican', 'Republican', 'Republican', 'Democratic', 'Republican', 'Democratic', 'Republican', 'Republican', 'Republican', 'Republican', 'Republican', 'Democratic', 'Republican', 'Democratic', 'Republican', 'Republican', 'Republican', 'Republican', 'Democratic', 'Republican', 'Democratic', 'Democratic', 'Republican', 'Republican', 'Democratic', 'Democratic', 'Republican', 'Republican', 'Democratic', 'Democratic', 'Democratic', 'Democratic', 'Republican', 'Republican', 'Republican', 'Republican', 'Republican', 'Republican', 'Republican', 'Democratic', 'Democratic', 'Democratic', 'Democratic', 'Republican', 'Democratic', 'Republican', 'Republican', 'Republican', 'Republican', 'Republican', 'Democratic', 'Democratic', 'Democratic', 'Republican', 'Republican', 'Republican', 'Democratic', 'Republican', 'Republican', 'Republican', 'Democratic', 'Democratic', 'Democratic', 'Republican', 'Democratic', 'Democratic', 'Republican', 'Democratic', 'Republican', 'Democratic', 'Republican', 'Republican', 'Democratic', 'Democratic', 'Democratic', 'Republican', 'Republican', 'Republican', 'Democratic', 'Republican', 'Democratic', 'Democratic', 'Republican', 'Democratic', 'Republican', 'Republican', 'Republican', 'Republican', 'Democratic', 'Republican', 'Democratic', 'Republican', 'Republican', 'Republican', 'Democratic', 'Republican', 'Republican', 'Republican', 'Republican', 'Democratic', 'Republican', 'Republican', 'Republican', 'Democratic', 'Democratic', 'Democratic', 'Democratic', 'Democratic', 'Republican', 'Republican', 'Democratic', 'Democratic', 'Democratic', 'Republican', 'Democratic', 'Republican', 'Democratic', 'Democratic', 'Democratic', 'Republican', 'Democratic', 'Republican', 'Democratic', 'Democratic', 'Republican', 'Democratic', 'Republican', 'Republican', 'Democratic', 'Democratic', 'Democratic', 'Democratic', 'Democratic', 'Democratic', 'Democratic', 'Republican', 'Democratic', 'Democratic', 'Democratic', 'Democratic', 'Republican', 'Republican', 'Democratic', 'Republican', 'Republican', 'Democratic', 'Democratic', 'Democratic', 'Democratic', 'Democratic', 'Democratic', 'Democratic', 'Republican', 'Republican', 'Democratic', 'Democratic', 'Democratic', 'Democratic', 'Democratic', 'Democratic', 'Democratic', 'Republican', 'Democratic', 'Democratic', 'Republican', 'Democratic', 'Democratic', 'Democratic', 'Democratic', 'Republican', 'Republican', 'Democratic', 'Democratic', 'Republican', 'Democratic', 'Democratic', 'Democratic', 'Democratic', 'Democratic', 'Democratic', 'Democratic', 'Democratic', 'Republican', 'Democratic', 'Democratic', 'Republican', 'Democratic', 'Democratic', 'Republican', 'Democratic', 'Democratic', 'Republican', 'Republican', 'Democratic', 'Democratic', 'Republican', 'Democratic', 'Democratic', 'Democratic', 'Republican', 'Republican', 'Republican', 'Republican', 'Republican', 'Republican', 'Democratic', 'Democratic', 'Democratic', 'Democratic', 'Republican', 'Republican', 'Republican', 'Democratic', 'Democratic', 'Republican', 'Democratic', 'Democratic', 'Democratic', 'Democratic', 'Democratic', 'Democratic', 'Democratic', 'Republican', 'Democratic', 'Republican', 'Democratic', 'Democratic', 'Republican', 'Democratic', 'Democratic', 'Democratic', 'Democratic', 'Republican', 'Democratic', 'Republican', 'Republican', 'Democratic', 'Democratic', 'Democratic', 'Republican', 'Democratic', 'Republican', 'Democratic', 'Republican', 'Republican', 'Republican', 'Republican', 'Republican', 'Republican', 'Democratic', 'Republican', 'Republican', 'Republican', 'Democratic', 'Republican', 'Republican', 'Republican', 'Republican', 'Democratic', 'Democratic', 'Republican', 'Republican', 'Democratic', 'Republican', 'Republican', 'Republican', 'Republican', 'Democratic', 'Republican', 'Republican', 'Republican', 'Republican', 'Republican', 'Democratic', 'Republican', 'Republican', 'Republican', 'Republican', 'Republican', 'Republican', 'Republican', 'Republican', 'Republican', 'Republican', 'Republican', 'Republican', 'Democratic', 'Republican', 'Republican', 'Democratic', 'Republican', 'Republican', 'Democratic', 'Democratic', 'Republican', 'Republican', 'Republican', 'Republican', 'Republican', 'Republican', 'Republican', 'Republican', 'Republican', 'Democratic', 'Republican', 'Republican', 'Republican', 'Republican', 'Republican', 'Republican', 'Democratic', 'Republican', 'Republican', 'Republican', 'Republican', 'Republican', 'Republican', 'Republican', 'Democratic', 'Republican', 'Republican', 'Republican', 'Republican', 'Democratic', 'Republican', 'Republican', 'Republican', 'Republican', 'Republican', 'Republican', 'Republican', 'Republican', 'Republican', 'Republican', 'Republican', 'Republican', 'Republican', 'Republican', 'Democratic', 'Republican', 'Republican', 'Republican', 'Republican', 'Democratic', 'Democratic', 'Republican', 'Republican', 'Democratic', 'Republican', 'Democratic', 'Republican', 'Republican', 'Democratic', 'Democratic', 'Republican', 'Democratic', 'Republican', 'Democratic', 'Democratic', 'Democratic', 'Democratic', 'Democratic', 'Democratic', 'Democratic', 'Democratic', 'Republican', 'Republican', 'Republican', 'Republican', 'Democratic', 'Democratic', 'Republican', 'Democratic', 'Democratic', 'Democratic', 'Democratic', 'Democratic', 'Republican', 'Democratic', 'Republican', 'Republican', 'Republican', 'Republican', 'Republican', 'Democratic', 'Democratic', 'Democratic', 'Democratic', 'Republican', 'Republican', 'Republican', 'Democratic', 'Democratic', 'Democratic', 'Democratic', 'Democratic', 'Democratic', 'Democratic', 'Republican', 'Republican', 'Republican', 'Republican', 'Democratic', 'Republican', 'Republican', 'Republican', 'Democratic', 'Republican', 'Republican', 'Republican', 'Republican', 'Republican', 'Democratic', 'Republican', 'Republican', 'Democratic', 'Democratic', 'Democratic', 'Republican', 'Democratic', 'Democratic', 'Republican', 'Republican', 'Democratic', 'Democratic', 'Democratic', 'Republican', 'Republican', 'Republican', 'Republican', 'Republican', 'Republican', 'Republican', 'Republican', 'Democratic', 'Republican', 'Republican', 'Republican', 'Democratic', 'Democratic', 'Democratic', 'Republican', 'Republican', 'Democratic', 'Republican', 'Republican', 'Republican', 'Republican', 'Republican', 'Democratic', 'Republican', 'Republican', 'Republican', 'Republican', 'Republican', 'Republican', 'Republican', 'Republican', 'Democratic', 'Republican', 'Republican', 'Republican', 'Democratic', 'Republican', 'Republican', 'Republican', 'Republican', 'Republican', 'Democratic', 'Republican', 'Republican', 'Republican', 'Republican', 'Republican', 'Republican', 'Republican', 'Republican', 'Democratic', 'Republican', 'Democratic', 'Republican', 'Republican', 'Republican', 'Republican', 'Democratic', 'Republican', 'Republican', 'Republican', 'Republican', 'Republican', 'Republican', 'Democratic', 'Democratic', 'Democratic', 'Democratic', 'Republican', 'Republican', 'Democratic', 'Democratic', 'Democratic', 'Democratic', 'Democratic', 'Democratic', 'Democratic', 'Republican', 'Republican', 'Republican', 'Democratic', 'Democratic', 'Democratic', 'Democratic', 'Republican', 'Republican', 'Republican', 'Republican', 'Democratic', 'Republican', 'Republican', 'Republican', 'Republican', 'Republican', 'Republican', 'Democratic', 'Democratic', 'Republican', 'Democratic', 'Republican', 'Republican', 'Republican', 'Democratic', 'Democratic', 'Democratic', 'Democratic', 'Democratic', 'Republican', 'Republican', 'Democratic', 'Republican', 'Republican', 'Republican', 'Democratic', 'Republican', 'Democratic', 'Republican', 'Democratic', 'Republican', 'Republican', 'Democratic', 'Republican', 'Republican', 'Republican', 'Democratic', 'Republican', 'Democratic', 'Republican', 'Republican', 'Republican', 'Republican', 'Republican', 'Democratic', 'Democratic', 'Democratic', 'Democratic', 'Republican', 'Democratic', 'Democratic', 'Democratic', 'Democratic', 'Democratic', 'Republican', 'Republican', 'Republican', 'Democratic', 'Democratic', 'Democratic', 'Democratic', 'Republican', 'Democratic', 'Democratic', 'Democratic', 'Republican', 'Republican', 'Democratic', 'Democratic', 'Republican', 'Democratic', 'Democratic', 'Democratic', 'Democratic', 'Democratic', 'Democratic', 'Democratic', 'Democratic', 'Democratic', 'Republican', 'Republican', 'Republican', 'Democratic', 'Democratic', 'Democratic', 'Democratic', 'Democratic', 'Democratic', 'Democratic', 'Democratic', 'Democratic', 'Democratic', 'Democratic', 'Republican', 'Republican', 'Republican', 'Republican', 'Republican', 'Democratic', 'Democratic', 'Democratic', 'Republican', 'Republican', 'Republican', 'Republican', 'Democratic', 'Republican', 'Republican', 'Republican', 'Republican', 'Republican', 'Republican', 'Republican', 'Republican', 'Republican', 'Democratic', 'Democratic', 'Republican', 'Democratic', 'Democratic', 'Democratic', 'Democratic', 'Republican', 'Republican', 'Democratic', 'Democratic', 'Democratic', 'Republican', 'Republican', 'Republican', 'Democratic', 'Republican', 'Democratic', 'Democratic', 'Democratic', 'Democratic', 'Republican', 'Republican', 'Republican', 'Republican', 'Republican', 'Republican', 'Democratic', 'Republican', 'Republican', 'Republican', 'Republican', 'Republican', 'Republican', 'Democratic', 'Democratic', 'Republican', 'Republican', 'Democratic', 'Democratic', 'Republican', 'Democratic', 'Republican', 'Republican', 'Republican', 'Republican', 'Republican', 'Republican', 'Democratic', 'Republican', 'Republican', 'Republican', 'Republican', 'Democratic', 'Republican', 'Democratic', 'Republican', 'Democratic', 'Republican', 'Republican', 'Democratic', 'Democratic', 'Democratic', 'Democratic', 'Democratic', 'Republican', 'Republican', 'Republican', 'Republican', 'Republican', 'Republican', 'Republican', 'Republican', 'Republican[1]', 'Republican', 'Republican', 'Republican', 'Republican', 'Republican', 'Democratic', 'Republican']\n"
          ]
        }
      ]
    },
    {
      "cell_type": "code",
      "metadata": {
        "colab": {
          "base_uri": "https://localhost:8080/"
        },
        "id": "ZXBMVGqxuNMR",
        "outputId": "6abbcc8d-7171-4d03-a020-e502a3afb80d"
      },
      "source": [
        "new_y = Y\n",
        "for i in range(len(Y)):\n",
        "  if(Y[i][0]=='D'):\n",
        "    new_y[i] = 0\n",
        "  else:\n",
        "    new_y[i] = 1\n",
        "print(new_y)"
      ],
      "execution_count": null,
      "outputs": [
        {
          "output_type": "stream",
          "name": "stdout",
          "text": [
            "[0, 1, 1, 1, 1, 0, 0, 0, 0, 1, 0, 1, 1, 0, 0, 1, 0, 0, 1, 1, 0, 0, 1, 1, 0, 1, 1, 1, 1, 1, 1, 0, 0, 0, 1, 1, 0, 0, 0, 0, 1, 0, 1, 1, 1, 1, 0, 0, 0, 0, 1, 0, 0, 0, 1, 0, 1, 1, 0, 1, 1, 1, 1, 0, 1, 1, 0, 0, 0, 1, 1, 1, 1, 1, 0, 0, 1, 1, 0, 0, 0, 0, 1, 1, 1, 0, 0, 0, 1, 0, 1, 1, 0, 1, 1, 0, 0, 1, 1, 1, 1, 0, 1, 0, 0, 0, 0, 0, 1, 1, 0, 0, 0, 0, 0, 0, 0, 1, 0, 1, 1, 1, 0, 1, 0, 1, 1, 0, 0, 0, 0, 0, 0, 0, 0, 0, 1, 1, 1, 1, 0, 1, 1, 1, 1, 1, 1, 1, 0, 1, 1, 0, 0, 1, 1, 1, 1, 0, 0, 0, 1, 1, 1, 1, 0, 0, 1, 0, 1, 1, 1, 1, 1, 0, 1, 1, 1, 1, 0, 1, 0, 0, 1, 1, 0, 1, 0, 1, 0, 1, 1, 1, 0, 0, 1, 1, 0, 0, 0, 0, 0, 1, 0, 1, 0, 1, 1, 0, 1, 1, 1, 1, 0, 1, 0, 0, 0, 1, 0, 1, 1, 1, 1, 1, 0, 0, 1, 1, 1, 1, 1, 1, 1, 1, 1, 0, 1, 1, 0, 1, 0, 0, 1, 0, 1, 0, 0, 0, 1, 0, 0, 1, 0, 0, 1, 0, 0, 1, 0, 0, 0, 0, 0, 1, 1, 1, 0, 1, 1, 1, 0, 0, 1, 0, 0, 0, 0, 0, 1, 1, 1, 0, 0, 0, 1, 0, 0, 0, 0, 1, 1, 0, 0, 1, 1, 1, 1, 1, 1, 1, 0, 1, 1, 1, 0, 1, 1, 0, 0, 1, 1, 0, 1, 1, 0, 1, 1, 1, 0, 0, 0, 0, 0, 0, 0, 0, 1, 0, 0, 0, 0, 0, 1, 1, 0, 1, 1, 1, 0, 1, 0, 0, 1, 1, 0, 1, 1, 1, 1, 0, 0, 1, 1, 1, 0, 0, 1, 1, 0, 1, 1, 1, 1, 1, 0, 1, 0, 1, 0, 0, 1, 1, 1, 1, 1, 1, 0, 1, 1, 1, 0, 1, 0, 0, 0, 0, 0, 0, 1, 0, 1, 1, 1, 1, 0, 0, 1, 0, 0, 1, 1, 0, 1, 0, 1, 0, 0, 1, 1, 1, 0, 0, 0, 1, 1, 1, 1, 0, 0, 1, 0, 0, 0, 0, 1, 0, 1, 1, 1, 0, 0, 0, 1, 0, 0, 0, 0, 1, 0, 1, 1, 1, 0, 0, 1, 0, 0, 0, 0, 1, 1, 0, 0, 0, 0, 0, 1, 0, 0, 1, 1, 1, 1, 1, 1, 1, 0, 0, 1, 1, 0, 0, 0, 1, 1, 1, 0, 0, 1, 0, 1, 1, 1, 0, 0, 0, 1, 0, 0, 1, 1, 1, 1, 1, 1, 0, 0, 1, 0, 0, 0, 0, 0, 1, 1, 0, 1, 0, 0, 0, 0, 0, 0, 1, 1, 0, 0, 1, 1, 1, 1, 0, 0, 0, 0, 0, 0, 0, 1, 1, 1, 1, 1, 1, 0, 0, 1, 1, 1, 0, 1, 0, 0, 0, 0, 0, 1, 0, 0, 1, 1, 0, 1, 1, 0, 0, 0, 1, 1, 0, 1, 0, 0, 0, 1, 0, 0, 0, 0, 0, 1, 0, 0, 1, 0, 1, 0, 1, 1, 0, 0, 1, 1, 0, 1, 0, 0, 0, 0, 1, 1, 0, 0, 1, 0, 0, 0, 0, 0, 1, 1, 1, 0, 0, 1, 1, 0, 1, 1, 0, 0, 0, 1, 0, 1, 1, 0, 0, 0, 0, 0, 1, 1, 0, 1, 1, 0, 0, 0, 0, 0, 1, 0, 1, 1, 1, 1, 0, 1, 1, 1, 1, 0, 1, 1, 0, 1, 1, 1, 1, 1, 1, 0, 1, 1, 0, 1, 1, 1, 0, 1, 1, 1, 0, 1, 1, 1, 1, 0, 1, 0, 1, 1, 1, 1, 1, 0, 1, 0, 1, 1, 1, 1, 0, 1, 0, 0, 1, 1, 0, 0, 1, 1, 0, 0, 0, 0, 1, 1, 1, 1, 1, 1, 1, 0, 0, 0, 0, 1, 0, 1, 1, 1, 1, 1, 0, 0, 0, 1, 1, 1, 0, 1, 1, 1, 0, 0, 0, 1, 0, 0, 1, 0, 1, 0, 1, 1, 0, 0, 0, 1, 1, 1, 0, 1, 0, 0, 1, 0, 1, 1, 1, 1, 0, 1, 0, 1, 1, 1, 0, 1, 1, 1, 1, 0, 1, 1, 1, 0, 0, 0, 0, 0, 1, 1, 0, 0, 0, 1, 0, 1, 0, 0, 0, 1, 0, 1, 0, 0, 1, 0, 1, 1, 0, 0, 0, 0, 0, 0, 0, 1, 0, 0, 0, 0, 1, 1, 0, 1, 1, 0, 0, 0, 0, 0, 0, 0, 1, 1, 0, 0, 0, 0, 0, 0, 0, 1, 0, 0, 1, 0, 0, 0, 0, 1, 1, 0, 0, 1, 0, 0, 0, 0, 0, 0, 0, 0, 1, 0, 0, 1, 0, 0, 1, 0, 0, 1, 1, 0, 0, 1, 0, 0, 0, 1, 1, 1, 1, 1, 1, 0, 0, 0, 0, 1, 1, 1, 0, 0, 1, 0, 0, 0, 0, 0, 0, 0, 1, 0, 1, 0, 0, 1, 0, 0, 0, 0, 1, 0, 1, 1, 0, 0, 0, 1, 0, 1, 0, 1, 1, 1, 1, 1, 1, 0, 1, 1, 1, 0, 1, 1, 1, 1, 0, 0, 1, 1, 0, 1, 1, 1, 1, 0, 1, 1, 1, 1, 1, 0, 1, 1, 1, 1, 1, 1, 1, 1, 1, 1, 1, 1, 0, 1, 1, 0, 1, 1, 0, 0, 1, 1, 1, 1, 1, 1, 1, 1, 1, 0, 1, 1, 1, 1, 1, 1, 0, 1, 1, 1, 1, 1, 1, 1, 0, 1, 1, 1, 1, 0, 1, 1, 1, 1, 1, 1, 1, 1, 1, 1, 1, 1, 1, 1, 0, 1, 1, 1, 1, 0, 0, 1, 1, 0, 1, 0, 1, 1, 0, 0, 1, 0, 1, 0, 0, 0, 0, 0, 0, 0, 0, 1, 1, 1, 1, 0, 0, 1, 0, 0, 0, 0, 0, 1, 0, 1, 1, 1, 1, 1, 0, 0, 0, 0, 1, 1, 1, 0, 0, 0, 0, 0, 0, 0, 1, 1, 1, 1, 0, 1, 1, 1, 0, 1, 1, 1, 1, 1, 0, 1, 1, 0, 0, 0, 1, 0, 0, 1, 1, 0, 0, 0, 1, 1, 1, 1, 1, 1, 1, 1, 0, 1, 1, 1, 0, 0, 0, 1, 1, 0, 1, 1, 1, 1, 1, 0, 1, 1, 1, 1, 1, 1, 1, 1, 0, 1, 1, 1, 0, 1, 1, 1, 1, 1, 0, 1, 1, 1, 1, 1, 1, 1, 1, 0, 1, 0, 1, 1, 1, 1, 0, 1, 1, 1, 1, 1, 1, 0, 0, 0, 0, 1, 1, 0, 0, 0, 0, 0, 0, 0, 1, 1, 1, 0, 0, 0, 0, 1, 1, 1, 1, 0, 1, 1, 1, 1, 1, 1, 0, 0, 1, 0, 1, 1, 1, 0, 0, 0, 0, 0, 1, 1, 0, 1, 1, 1, 0, 1, 0, 1, 0, 1, 1, 0, 1, 1, 1, 0, 1, 0, 1, 1, 1, 1, 1, 0, 0, 0, 0, 1, 0, 0, 0, 0, 0, 1, 1, 1, 0, 0, 0, 0, 1, 0, 0, 0, 1, 1, 0, 0, 1, 0, 0, 0, 0, 0, 0, 0, 0, 0, 1, 1, 1, 0, 0, 0, 0, 0, 0, 0, 0, 0, 0, 0, 1, 1, 1, 1, 1, 0, 0, 0, 1, 1, 1, 1, 0, 1, 1, 1, 1, 1, 1, 1, 1, 1, 0, 0, 1, 0, 0, 0, 0, 1, 1, 0, 0, 0, 1, 1, 1, 0, 1, 0, 0, 0, 0, 1, 1, 1, 1, 1, 1, 0, 1, 1, 1, 1, 1, 1, 0, 0, 1, 1, 0, 0, 1, 0, 1, 1, 1, 1, 1, 1, 0, 1, 1, 1, 1, 0, 1, 0, 1, 0, 1, 1, 0, 0, 0, 0, 0, 1, 1, 1, 1, 1, 1, 1, 1, 1, 1, 1, 1, 1, 1, 0, 1]\n"
          ]
        }
      ]
    },
    {
      "cell_type": "code",
      "metadata": {
        "colab": {
          "base_uri": "https://localhost:8080/"
        },
        "id": "YIVYsJvbYqHc",
        "outputId": "c6569e29-51e2-44a2-dbc2-9a001fec8685"
      },
      "source": [
        "print(len(new_y))"
      ],
      "execution_count": null,
      "outputs": [
        {
          "output_type": "stream",
          "name": "stdout",
          "text": [
            "1376\n"
          ]
        }
      ]
    },
    {
      "cell_type": "code",
      "metadata": {
        "id": "la52rKJ7uh2_",
        "colab": {
          "base_uri": "https://localhost:8080/"
        },
        "outputId": "967491bd-292e-4529-ac6f-9b445b432ee8"
      },
      "source": [
        "!pip install -U sentence-transformers"
      ],
      "execution_count": null,
      "outputs": [
        {
          "output_type": "stream",
          "name": "stdout",
          "text": [
            "Collecting sentence-transformers\n",
            "  Downloading sentence-transformers-2.1.0.tar.gz (78 kB)\n",
            "\u001b[K     |████████████████████████████████| 78 kB 4.7 MB/s \n",
            "\u001b[?25hCollecting transformers<5.0.0,>=4.6.0\n",
            "  Downloading transformers-4.13.0-py3-none-any.whl (3.3 MB)\n",
            "\u001b[K     |████████████████████████████████| 3.3 MB 18.1 MB/s \n",
            "\u001b[?25hCollecting tokenizers>=0.10.3\n",
            "  Downloading tokenizers-0.10.3-cp37-cp37m-manylinux_2_5_x86_64.manylinux1_x86_64.manylinux_2_12_x86_64.manylinux2010_x86_64.whl (3.3 MB)\n",
            "\u001b[K     |████████████████████████████████| 3.3 MB 53.5 MB/s \n",
            "\u001b[?25hRequirement already satisfied: tqdm in /usr/local/lib/python3.7/dist-packages (from sentence-transformers) (4.62.3)\n",
            "Requirement already satisfied: torch>=1.6.0 in /usr/local/lib/python3.7/dist-packages (from sentence-transformers) (1.10.0+cu111)\n",
            "Requirement already satisfied: torchvision in /usr/local/lib/python3.7/dist-packages (from sentence-transformers) (0.11.1+cu111)\n",
            "Requirement already satisfied: numpy in /usr/local/lib/python3.7/dist-packages (from sentence-transformers) (1.19.5)\n",
            "Requirement already satisfied: scikit-learn in /usr/local/lib/python3.7/dist-packages (from sentence-transformers) (1.0.1)\n",
            "Requirement already satisfied: scipy in /usr/local/lib/python3.7/dist-packages (from sentence-transformers) (1.4.1)\n",
            "Requirement already satisfied: nltk in /usr/local/lib/python3.7/dist-packages (from sentence-transformers) (3.2.5)\n",
            "Collecting sentencepiece\n",
            "  Downloading sentencepiece-0.1.96-cp37-cp37m-manylinux_2_17_x86_64.manylinux2014_x86_64.whl (1.2 MB)\n",
            "\u001b[K     |████████████████████████████████| 1.2 MB 48.3 MB/s \n",
            "\u001b[?25hCollecting huggingface-hub\n",
            "  Downloading huggingface_hub-0.2.1-py3-none-any.whl (61 kB)\n",
            "\u001b[K     |████████████████████████████████| 61 kB 487 kB/s \n",
            "\u001b[?25hRequirement already satisfied: typing-extensions in /usr/local/lib/python3.7/dist-packages (from torch>=1.6.0->sentence-transformers) (3.10.0.2)\n",
            "Requirement already satisfied: packaging>=20.0 in /usr/local/lib/python3.7/dist-packages (from transformers<5.0.0,>=4.6.0->sentence-transformers) (21.3)\n",
            "Collecting pyyaml>=5.1\n",
            "  Downloading PyYAML-6.0-cp37-cp37m-manylinux_2_5_x86_64.manylinux1_x86_64.manylinux_2_12_x86_64.manylinux2010_x86_64.whl (596 kB)\n",
            "\u001b[K     |████████████████████████████████| 596 kB 41.6 MB/s \n",
            "\u001b[?25hCollecting sacremoses\n",
            "  Downloading sacremoses-0.0.46-py3-none-any.whl (895 kB)\n",
            "\u001b[K     |████████████████████████████████| 895 kB 48.8 MB/s \n",
            "\u001b[?25hRequirement already satisfied: importlib-metadata in /usr/local/lib/python3.7/dist-packages (from transformers<5.0.0,>=4.6.0->sentence-transformers) (4.8.2)\n",
            "Requirement already satisfied: filelock in /usr/local/lib/python3.7/dist-packages (from transformers<5.0.0,>=4.6.0->sentence-transformers) (3.4.0)\n",
            "Requirement already satisfied: regex!=2019.12.17 in /usr/local/lib/python3.7/dist-packages (from transformers<5.0.0,>=4.6.0->sentence-transformers) (2019.12.20)\n",
            "Requirement already satisfied: requests in /usr/local/lib/python3.7/dist-packages (from transformers<5.0.0,>=4.6.0->sentence-transformers) (2.23.0)\n",
            "Requirement already satisfied: pyparsing!=3.0.5,>=2.0.2 in /usr/local/lib/python3.7/dist-packages (from packaging>=20.0->transformers<5.0.0,>=4.6.0->sentence-transformers) (3.0.6)\n",
            "Requirement already satisfied: zipp>=0.5 in /usr/local/lib/python3.7/dist-packages (from importlib-metadata->transformers<5.0.0,>=4.6.0->sentence-transformers) (3.6.0)\n",
            "Requirement already satisfied: six in /usr/local/lib/python3.7/dist-packages (from nltk->sentence-transformers) (1.15.0)\n",
            "Requirement already satisfied: urllib3!=1.25.0,!=1.25.1,<1.26,>=1.21.1 in /usr/local/lib/python3.7/dist-packages (from requests->transformers<5.0.0,>=4.6.0->sentence-transformers) (1.24.3)\n",
            "Requirement already satisfied: certifi>=2017.4.17 in /usr/local/lib/python3.7/dist-packages (from requests->transformers<5.0.0,>=4.6.0->sentence-transformers) (2021.10.8)\n",
            "Requirement already satisfied: idna<3,>=2.5 in /usr/local/lib/python3.7/dist-packages (from requests->transformers<5.0.0,>=4.6.0->sentence-transformers) (2.10)\n",
            "Requirement already satisfied: chardet<4,>=3.0.2 in /usr/local/lib/python3.7/dist-packages (from requests->transformers<5.0.0,>=4.6.0->sentence-transformers) (3.0.4)\n",
            "Requirement already satisfied: joblib in /usr/local/lib/python3.7/dist-packages (from sacremoses->transformers<5.0.0,>=4.6.0->sentence-transformers) (1.1.0)\n",
            "Requirement already satisfied: click in /usr/local/lib/python3.7/dist-packages (from sacremoses->transformers<5.0.0,>=4.6.0->sentence-transformers) (7.1.2)\n",
            "Requirement already satisfied: threadpoolctl>=2.0.0 in /usr/local/lib/python3.7/dist-packages (from scikit-learn->sentence-transformers) (3.0.0)\n",
            "Requirement already satisfied: pillow!=8.3.0,>=5.3.0 in /usr/local/lib/python3.7/dist-packages (from torchvision->sentence-transformers) (7.1.2)\n",
            "Building wheels for collected packages: sentence-transformers\n",
            "  Building wheel for sentence-transformers (setup.py) ... \u001b[?25l\u001b[?25hdone\n",
            "  Created wheel for sentence-transformers: filename=sentence_transformers-2.1.0-py3-none-any.whl size=121000 sha256=3eaa221b0b8acb5b5dfaffaa9488cffcc8ccf8d79340cfd1be43f5f17aaf42a4\n",
            "  Stored in directory: /root/.cache/pip/wheels/90/f0/bb/ed1add84da70092ea526466eadc2bfb197c4bcb8d4fa5f7bad\n",
            "Successfully built sentence-transformers\n",
            "Installing collected packages: pyyaml, tokenizers, sacremoses, huggingface-hub, transformers, sentencepiece, sentence-transformers\n",
            "  Attempting uninstall: pyyaml\n",
            "    Found existing installation: PyYAML 3.13\n",
            "    Uninstalling PyYAML-3.13:\n",
            "      Successfully uninstalled PyYAML-3.13\n",
            "Successfully installed huggingface-hub-0.2.1 pyyaml-6.0 sacremoses-0.0.46 sentence-transformers-2.1.0 sentencepiece-0.1.96 tokenizers-0.10.3 transformers-4.13.0\n"
          ]
        }
      ]
    },
    {
      "cell_type": "code",
      "metadata": {
        "id": "zCaWcAojluQq"
      },
      "source": [
        "background_text = []\n",
        "political_text = []\n",
        "others_text = []\n",
        "\n",
        "for i,representative in enumerate(data):\n",
        "  #inner_text = []\n",
        "  b_text = \"\"\n",
        "  p_text = \"\"\n",
        "  o_text = \"\"\n",
        "  for keys in representative.keys():\n",
        "    if keys=='Background':\n",
        "      b_text += str(representative[keys]) + \" \"\n",
        "    if keys=='Political':\n",
        "      p_text += str(representative[keys]) + \" \"\n",
        "    if keys=='Others':\n",
        "      o_text += str(representative[keys]) + \" \"\n",
        "  background_text.append(b_text)\n",
        "  political_text.append(p_text)\n",
        "  others_text.append(o_text)\n",
        "      \n",
        "    # if(keys not in ['Name','PersonalDetails']):\n",
        "    #   #inner_text.append(representative[keys])\n",
        "    #   #print(representative[keys])\n",
        "    #   inner_text += str(representative[keys]) + \" \"  \n",
        "  # text.append(inner_text)"
      ],
      "execution_count": null,
      "outputs": []
    },
    {
      "cell_type": "code",
      "metadata": {
        "colab": {
          "base_uri": "https://localhost:8080/",
          "height": 140
        },
        "id": "KIafOknxmbCq",
        "outputId": "dc1c2472-3790-47fb-ad7a-a53bd80c78d4"
      },
      "source": [
        "political_text[1]"
      ],
      "execution_count": null,
      "outputs": [
        {
          "output_type": "execute_result",
          "data": {
            "application/vnd.google.colaboratory.intrinsic+json": {
              "type": "string"
            },
            "text/plain": [
              "'\\nStevens had been with Charles Clasby\\'s law firm for six months when Robert J. McNealy, a Democrat appointed as U.S. Attorney for Fairbanks during the Truman administration,[14] informed U.S. District Judge Harry Pratt he would be resigning effective August 15, 1953,[26] having already delayed his resignation by several months at the request of Justice Department officials newly appointed by Eisenhower. The latter had asked McNealy to delay his resignation until Eisenhower could appoint a replacement.[25] Despite Stevens\\'s short tenure as an Alaska resident and his relative lack of trial or criminal law experience, Pratt asked Stevens to serve in the position until Eisenhower acted.[26] Stevens agreed. \"I said, \\'Sure, I\\'d like to do that,\\'\" Stevens recalled years later. \"Clasby said, \\'It\\'s not going to pay you as much money, but, if you want to do it, that\\'s your business.\\' He was very pissed that I decided to go.\"[14] Most members of the Fairbanks Bar Association were outraged at the appointment of a newcomer, and members in attendance at the association\\'s meeting that December voted to support Carl Messenger for the permanent appointment, an endorsement seconded by the Alaska Republican Party Committee for the Fairbanks-area judicial division.[26] However, Stevens was favored by Attorney General Herbert Brownell, by Senator William F. Knowland of California, and by the Republican National Committee,[26] (Alaska itself had no Senators at this time, as it was still a territory). Eisenhower sent Stevens\\'s nomination to the U.S. Senate,[27] which confirmed him on March 30, 1954.[14]\\n\\nStevens soon gained a reputation as an active prosecutor who vigorously prosecuted violations of federal and territorial liquor, drug, and prostitution laws,[14] characterized by Fairbanks area homesteader Niilo Koponen (who later served in the Alaska State House of Representatives from 1982 to 1991) as \"this rough tough shorty of a district attorney who was going to crush crime\".[27] Stevens sometimes accompanied U.S. Marshals on raids. As recounted years later by Justice Jay Rabinowitz, \"U.S. marshals went in with Tommy guns and Ted led the charge, smoking a stogie and with six guns on his hips.\"[14] However, Stevens himself said the colorful stories spread about him as a pistol-packing D.A. were greatly exaggerated, and recalled only one incident when he carried a gun: on a vice raid to the town of Big Delta about 75 miles (121\\xa0km) southeast of Fairbanks, he carried a holstered gun on a marshal\\'s suggestion.[14]\\n\\nStevens also became known for his explosive temper, which was focused particularly on a criminal defense lawyer named Warren A. Taylor[14] who would later go on to become the Alaska Legislature\\'s first Speaker of the House in the First Alaska State Legislature.[28] \"Ted would get red in the face, blow up and stalk out of the courtroom,\" a former court clerk later recalled of Stevens\\'s relationship with Taylor.[14]\\n\\nIn 1956, in a trial which received national headlines, Stevens prosecuted Jack Marler; a former Internal Revenue Service agent accused of failing to file tax returns. Marler\\'s first trial, which was handled by a different prosecutor, had ended in a deadlocked jury and a mistrial. For the second trial, Stevens was up against Edgar Paul Boyko, a flamboyant Anchorage attorney who built his defense of Marler on the theory of no taxation without representation, citing the Territory of Alaska\\'s lack of representation in the U.S. Congress. As recalled by Boyko, his closing argument to the jury was a rabble-rousing appeal for the jury to \"strike a blow for Alaskan freedom\", claiming that \"this case was the jury\\'s chance to move Alaska toward statehood.\" Boyko remembered that \"Ted had done a hell of a job in the case,\" but Boyko\\'s tactics paid off, and Marler was acquitted on April 3, 1956. Following the acquittal, Stevens issued a statement saying, \"I don\\'t believe the jury\\'s verdict is an expression of resistance to taxes or law enforcement or the start of a Boston Tea Party. I do believe, however, that the decision will be a blow to the hopes for Alaska statehood.\"[14]\\n\\nIn March 1956, Stevens\\'s friend Elmer Bennett, legislative counsel in the Department of the Interior, was promoted by Secretary of the Interior Douglas McKay to the Secretary\\'s office. Bennett successfully lobbied McKay to replace him in his old job with Stevens, and Stevens returned to Washington, D.C., to take up the position.[29] By the time he arrived in June 1956, McKay had resigned in order to run for the U.S. Senate from his home state of Oregon,[29] and Fred Andrew Seaton had been appointed to replace him.[29][30] Seaton, a newspaper publisher from Nebraska,[29] was a close friend of Fairbanks Daily News-Miner publisher C.W. Snedden, and in common with Snedden was an advocate of Alaska statehood,[30] unlike McKay, who had been lukewarm in his support.[29] Seaton asked Snedden if he knew any Alaskan who could come to Washington, D.C. to work for Alaska statehood; Snedden replied that the man he needed (Stevens) was already there working in the Department of the Interior.[30] The fight for Alaska statehood became Stevens\\'s principal work at Interior. \"He did all the work on statehood,\" Roger Ernst, Seaton\\'s assistant secretary for public land management, later said of Stevens. \"He wrote 90 percent of all the speeches. Statehood was his main project.\"[30] A sign on Stevens\\'s door proclaimed his office as \"Alaskan Headquarters\", and Stevens became known at the Department of the Interior as \"Mr. Alaska\".[29]\\n\\nEfforts to make Alaska a state had been going on since 1943, and had nearly come to fruition during the Truman administration in 1950 when a statehood bill passed in the U.S. House of Representatives, only to die in the Senate.[30] The national Republican Party opposed statehood for Alaska, in part out of fear that Alaska would elect Democrats to Congress.[30] At the time Stevens arrived in Washington, D.C., to take up his new job, a constitutional convention to write an Alaska constitution had just been concluded on the campus of the University of Alaska in Fairbanks.[31] The 55 delegates also elected three unofficial representatives (all Democrats) as unofficial delegates to Congress: Ernest Gruening and William Egan as U.S. Senators and Ralph Rivers as U.S. representative.[30]\\n\\nPresident Eisenhower, a Republican, regarded Alaska as too large and sparsely populated to be economically self-sufficient as a state, and furthermore saw statehood as an obstacle to effective defense of Alaska should the Soviet Union seek to invade it.[30] Eisenhower was especially worried about the sparsely populated areas of northern and western Alaska. In March 1954, he had drawn a line on a map indicating his opinion of the portions of Alaska which he felt ought to remain in federal hands even if Alaska were granted statehood.[30]\\n\\nSeaton and Stevens worked with Gen. Nathan Twining, Chairman of the Joint Chiefs of Staff, who had served in Alaska; and Jack L. Stempler, a top Defense Department attorney, to create a compromise that would address Eisenhower\\'s concerns. Much of their work was conducted in a hospital room at Walter Reed Army Hospital, where Seaton was being treated for back problems.[30] Their work concentrated on refining the line on the map that Eisenhower had drawn in 1954, one which became known as the PYK Line after three rivers (the Porcupine, Yukon, and Kuskokwim) whose courses defined much of the line.[30] The PYK Line was the basis for Section\\xa010 of the Alaska Statehood Act, which Stevens wrote.[30] Under Section 10, the land north and west of the PYK Line\\xa0– which included the entirety of Alaska\\'s North Slope, the Seward Peninsula, most of the Yukon-Kuskokwim Delta, the western portions of the Alaska Peninsula, and the Aleutian and Pribilof Islands\\xa0– would be part of the new state, but the President would be granted emergency powers to establish special national defense withdrawals in those areas if deemed necessary.[32] \"It\\'s still in the law but it\\'s never been exercised,\" Stevens later recollected. \"Now that the problem with Russia is gone, it\\'s surplusage. But it is a special law that only applies to Alaska.\"[30]\\n\\nStevens also took part (illegally) in lobbying for the statehood bill,[30] working closely with the Alaska Statehood Committee from his office at Interior.[30] Stevens hired Marilyn Atwood,[30] daughter of Anchorage Times publisher Robert Atwood,[30] who was chairman of the Alaska Statehood Committee,[33] to work with him in the Interior Department. \"We were violating the law,\" Stevens told a researcher in an October 1977 oral history interview for the Eisenhower Library. \"[W]e were lobbying from the executive branch, and there\\'s been a statute against that for a long time.\\xa0... We more or less, I would say, masterminded the House and Senate attack from the executive branch.\"[30] Stevens and the younger Atwood created file cards on members of Congress based on \"whether they were Rotarians or Kiwanians or Catholics or Baptists and veterans or loggers, the whole thing\", Stevens said in the 1977 interview. \"And we\\'d assigned these Alaskans to go talk to individual members of the Senate and split them down on the basis of people that had something in common with them.\"[30] The lobbying campaign extended to presidential press conferences. \"We set Ike up quite often at press conferences by planting questions about Alaska statehood,\" Stevens said in the 1977 interview. \"We never let a press conference go by without getting someone to try to ask him about statehood.\"[30] Newspapers were also targeted, according to Stevens. \"We planted editorials in weeklies and dailies and newspapers in the district of people we thought were opposed to us or states where they were opposed to us so that suddenly they were thinking twice about opposing us.\"[30]\\n\\nThe Alaska Statehood Act became law with Eisenhower\\'s signature on July 7, 1958,[32] and Alaska formally was admitted to statehood on January 3, 1959, when Eisenhower signed the Alaska Statehood Proclamation.[34]\\n\\nAfter returning to Alaska, Stevens practiced law in Anchorage and became a member of Operation Rampart, a group in favor of building the Rampart Dam, a hydroelectric project on the Yukon River.[35] Elected to the Alaska House of Representatives in 1964, he became House Majority Leader in his second term.\\n\\nStevens first ran for the U.S. Senate in 1962 and won the Republican nomination, but lost in the general election to incumbent Democratic U.S. Senator Ernest Gruening.[36] In 1968, Stevens once again ran for the U.S. Senate, but lost in the Republican primary to Anchorage Mayor Elmer E. Rasmuson. Rasmuson lost the general election to Democrat Mike Gravel. In December 1968, after the death of Alaska\\'s other senator, Democrat Bob Bartlett, Governor Wally Hickel appointed Stevens to the seat.[37] Since Gravel took office ten days after Stevens did, Stevens was Alaska\\'s senior senator for all but ten days of his forty-year tenure in the Senate.\\n\\nIn a special election in 1970, Stevens won the right to finish the remainder of Bartlett\\'s term. He won the seat in his own right in 1972, and was reelected in 1978, 1984, 1990, 1996 and 2002 elections. His final term expired in January 2009. Since his first election to a full term in 1972, Stevens never received less than 66% of the vote before his 2008 defeat for re-election.[38]\\n\\nStevens lost his Senate re-election bid in 2008.[39] He won the Republican primary in August[40] and was defeated by Anchorage Mayor Mark Begich in the general election.[41]\\n\\nStevens, who would have been 90 years old on election day, had filed to run for a rematch against Begich in the 2014 election,[42] but he was killed in a plane crash on August 9, 2010.[43]\\n\\nStevens served as the Assistant Republican Leader (Whip) from 1977 to 1985. Stevens served as Acting Minority Leader during Howard Baker\\'s run for president during the 1980 Republican primaries.[44] In 1994, after the Republicans took control of the Senate, Stevens was appointed Chairman of the Senate Rules Committee. Stevens became the Senate\\'s President Pro Tempore when Republicans regained control of the chamber as a result of the 2002 mid-term elections, during which the previous most senior Republican senator and former President Pro Tempore Strom Thurmond retired.\\n\\nAfter Howard Baker retired in 1984, Stevens sought the position of Republican (and then-Majority) leader, running against Bob Dole, Dick Lugar, Jim McClure and Pete Domenici. As Republican whip, Stevens was theoretically the favorite to succeed Baker, but lost to Dole in a fourth ballot.[45]\\n\\nStevens chaired the Senate Appropriations Committee from 1997 to 2005, except for the 18 months when Democrats controlled the chamber. The chairmanship gave Stevens considerable influence among fellow Senators, who relied on him for home-state project funds. Even before becoming chairman of the Appropriations Committee, Stevens secured large sums of federal money for the State of Alaska.[citation needed] Due to Republican Party rules that limited committee chairmanships to six years, Stevens gave up the Appropriations gavel at the start of the 109th Congress, in January 2005.\\n\\nHe chaired the United States Senate Committee on Commerce, Science and Transportation during the 109th Congress, becoming the committee\\'s ranking member after the Democrats regained control of the Senate for the 110th Congress. He resigned his ranking-member position on the committee due to his indictment.[46]\\n\\nAt various times, Stevens also served as Chairman of the Senate Governmental Affairs Committee, the Senate Ethics Committee, the Arms Control Observer Group, and the Joint Committee on the Library of Congress.\\n\\nDue to Stevens\\'s long tenure and that of the state\\'s sole congressman, Don Young, Alaska was considered to have clout in national politics well beyond its small population (the state was long the smallest in population and is currently 47th, ahead of only Wyoming, North Dakota, and Vermont).\\n\\nOn June 28, 2006, the Senate commerce committee was in the final day of three days of hearings,[47] during which the Committee members considered more than two hundred amendments to an omnibus telecommunications bill. Stevens authored the bill, S. 2686,[48] the Communications, Consumer\\'s Choice, and Broadband Deployment Act of 2006.\\n\\nSenators Olympia Snowe (R-ME) and Byron Dorgan (D-ND) cosponsored and spoke on behalf of an amendment that would have inserted strong network neutrality mandates into the bill. In between speeches by Snowe and Dorgan, Stevens gave a vehement 11-minute speech using colorful language to explain his opposition to the amendment. Stevens referred to the Internet as \"not a big truck\", but a \"series of tubes\" that could be clogged with information. Stevens also confused the terms Internet and e-mail. Soon after, Stevens\\'s interpretation of how the Internet works became a topic of amusement and ridicule by some in the blogosphere.[49] The phrases \"the Internet is not a big truck\" and \"series of tubes\" became internet memes and were prominently featured on U.S. television shows including Comedy Central\\'s The Daily Show.\\n\\nCNET journalist Declan McCullagh called \"series of tubes\" an \"entirely reasonable\" metaphor for the Internet, noting that some computer operating systems use the term \\'pipes\\' to describe interprocess communication. McCullagh also suggested that ridicule of Stevens was almost entirely political, espousing his belief that if Stevens has spoken in a similar manner, yet in support of Net Neutrality, \"the online chortling would have been muted or nonexistent.\"[50]\\n\\nStevens was a long-standing proponent of logging and championed a plan that would allow 2,400,000 acres (9,700\\xa0km2) of roadless old growth forest to be clear-cut. Stevens said this would revive Alaska\\'s timber industry and bring jobs to unemployed loggers; however, the proposal would mean that thousands of miles of roads would be constructed at the expense of the United States Forest Service, judged to cost taxpayers $200,000 per job created.[citation needed]\\n\\nStevens considered himself pro-abortion. According to On the Issues[51] and NARAL,[52] Stevens had a mildly anti-abortion voting record, despite some notable pro-abortion votes.[53]\\n\\nHowever, as a former member of the moderate Republican Main Street Partnership, Stevens supported human embryonic stem cell research.[54]\\n\\nStevens, once an avowed critic of anthropogenic climate change, began actively supporting legislation to combat climate change in early 2007. \"Global climate change is a very serious problem for us, becoming more so every day,\" he said at a Senate hearing, adding that he was \"concerned about the human impacts on our climate\".[55] However, in September 2007, Stevens said:\\n\\nStevens voted in favor of the bill establishing Martin Luther King Jr. Day as a federal holiday and the Civil Rights Restoration Act of 1987 (as well as to override President Reagan\\'s veto).[57][58][59] Stevens voted in favor of the nominations of Robert Bork and Clarence Thomas to the U.S. Supreme Court.\\n\\nAs a Senator, Stevens was subject to criticism several times:\\n '"
            ]
          },
          "metadata": {},
          "execution_count": 16
        }
      ]
    },
    {
      "cell_type": "code",
      "metadata": {
        "colab": {
          "base_uri": "https://localhost:8080/"
        },
        "id": "PTmiDkGguiO5",
        "outputId": "006f8275-dfcf-463c-8e3d-6941e1d75c1e"
      },
      "source": [
        "from tqdm import tqdm\n",
        "#stop_words = set(stopwords.words('english'))\n",
        "preprocessed_text = []\n",
        "# tqdm is for printing the status bar\n",
        "r_count=0\n",
        "d_count=0\n",
        "trump_count=0\n",
        "obama_count=0\n",
        "bill_count=0\n",
        "\n",
        "####### \n",
        "\n",
        "text=background_text   ###background_text,political_text,others_text\n",
        "\n",
        "\n",
        "######\n",
        "\n",
        "for sent in tqdm(text):\n",
        "    sent = sent.replace('\\\\r', ' ')\n",
        "    sent = sent.replace('\\\\\"', ' ')\n",
        "    sent = sent.replace('\\\\n', ' ')\n",
        "    sent = sent.replace('\\n\\n', ' ')\n",
        "    sent = re.sub('[^A-Za-z0-9]+', ' ', sent)\n",
        "    sent = re.sub(r'\\d+', '', sent)\n",
        "    sent = sent.replace('  ', ' ')\n",
        "    if 'republic' in sent.lower():\n",
        "      # print(sent)\n",
        "      sent=sent.replace('republican',' ')\n",
        "      sent=sent.replace('republic',' ')\n",
        "      sent=sent.replace('Republic',' ')\n",
        "      sent=sent.replace('Republican',' ')\n",
        "      r_count+=1\n",
        "      # print(sent)\n",
        "      \n",
        "    if 'democrat' in sent.lower():\n",
        "      d_count+=1\n",
        "      sent=sent.replace('democrat',' ')\n",
        "      sent=sent.replace('Democrat',' ')\n",
        "      sent=sent.replace('Democratic',' ')\n",
        "      sent=sent.replace('democratic',' ')\n",
        "\n",
        "    if 'trump' or 'donald' in sent.lower():\n",
        "      trump_count+=1\n",
        "      sent=sent.replace('Trump',' ')\n",
        "      sent=sent.replace('trump',' ')\n",
        "      sent=sent.replace('Donald Trump',' ')\n",
        "      sent=sent.replace('donald trump',' ')\n",
        "      sent=sent.replace('Donald',' ')\n",
        "      sent=sent.replace('donald',' ')\n",
        "\n",
        "    if 'obama' in sent.lower():\n",
        "      obama_count+=1\n",
        "      sent=sent.replace('Obama',' ')\n",
        "      sent=sent.replace('obama',' ')\n",
        "      sent=sent.replace('Barack Obama',' ')\n",
        "      sent=sent.replace('barack obama',' ')\n",
        "      sent=sent.replace('Barack',' ')\n",
        "      sent=sent.replace('barack',' ')\n",
        "\n",
        "    if 'clinton' in sent.lower():\n",
        "      bill_count+=1\n",
        "      sent=sent.replace('Clinton',' ')\n",
        "      sent=sent.replace('clinton',' ')\n",
        "      sent=sent.replace('bill clinton',' ')\n",
        "      sent=sent.replace('Bill Clinton',' ')\n",
        "      sent=sent.replace('William Clinton',' ')\n",
        "      sent=sent.replace('william clinton',' ')\n",
        "      sent=sent.replace('William',' ')\n",
        "      sent=sent.replace('william',' ')\n",
        "\n",
        "\n",
        "    preprocessed_text.append(sent.lower().strip())\n",
        "\n",
        "#print(preprocessed_answers)\n",
        "print(r_count)\n",
        "print(d_count)   \n",
        "print(trump_count)\n",
        "print(obama_count) \n",
        "print(bill_count)"
      ],
      "execution_count": null,
      "outputs": [
        {
          "output_type": "stream",
          "name": "stderr",
          "text": [
            "100%|██████████| 1376/1376 [00:00<00:00, 3692.57it/s]"
          ]
        },
        {
          "output_type": "stream",
          "name": "stdout",
          "text": [
            "254\n",
            "242\n",
            "1376\n",
            "39\n",
            "57\n"
          ]
        },
        {
          "output_type": "stream",
          "name": "stderr",
          "text": [
            "\n"
          ]
        }
      ]
    },
    {
      "cell_type": "code",
      "metadata": {
        "id": "Dl6MbKaFOLgs"
      },
      "source": [
        "# r_count=0\n",
        "# d_count=0\n",
        "# trump_count=0\n",
        "# obama_count=0\n",
        "# bill_count=0\n",
        "# for sent in tqdm(preprocessed_text):\n",
        "#     if 'republic' in sent.lower():\n",
        "#       r_count+=1\n",
        "#       # sent=sent.replace('republic',' ')\n",
        "      \n",
        "#     if 'democrat' in sent.lower():\n",
        "#       d_count+=1\n",
        "#       # sent=sent.replace('democrat','')\n",
        "      \n",
        "#     if 'donald' in sent.lower():\n",
        "#       trump_count+=1\n",
        "#       # sent=sent.replace('trump','')\n",
        "\n",
        "#     if 'barack'  in sent.lower():\n",
        "#       obama_count+=1\n",
        "#       # sent=sent.replace('obama','')\n",
        "\n",
        "#     if 'clinton' in sent.lower():\n",
        "#       bill_count+=1\n",
        "\n",
        "\n",
        "# print(r_count)\n",
        "# print(d_count)   \n",
        "# print(trump_count)\n",
        "# print(obama_count) \n",
        "# print(bill_count)"
      ],
      "execution_count": null,
      "outputs": []
    },
    {
      "cell_type": "code",
      "metadata": {
        "colab": {
          "base_uri": "https://localhost:8080/",
          "height": 140
        },
        "id": "U2W8pG7yulHM",
        "outputId": "8de48b5d-2c21-4dd3-f6a3-85579e8df2ec"
      },
      "source": [
        "preprocessed_text[0]"
      ],
      "execution_count": null,
      "outputs": [
        {
          "output_type": "execute_result",
          "data": {
            "application/vnd.google.colaboratory.intrinsic+json": {
              "type": "string"
            },
            "text/plain": [
              "'in heflin was elected chief justice of the alabama supreme court serving from to  in heflin was elected to the united states senate to succeed fellow   john sparkman who had been adlai e stevenson s running mate in the presidential election heflin won his party s nomination by defeating u s representative walter flowers of tuscaloosa a longtime george c wallace ally the  an gubernatorial nominee former u s representative james d martin of gadsden announced that he would challenge heflin but martin switched to a second senate race for a two year term created by the sudden death of senator james b allen leaving heflin without a  an opponent in march president reagan was shot during an assassination attempt by john hinckley jr outside the hilton hotel in washington d c hinckley being brought to trial fourteen months afterward heflin espoused the view that the time between the incident and the trial was part of the need for an overhauling of the criminal justice system so it can more efficiently and effectively deal with the rising epidemic of violent crime in this nation and noted the shootings of pope john paul ii and president of egypt anwar sadat as incidents that had happened after the reagan shooting yet had already seen the assailants be convicted and either jailed or executed heflin stated that the delays in bringing defendants to trial formed contempt for the system in addition to denouncing the delays as part of the problem calling for the senate to form a crime caucus as part of an attempt to put aside petty partisan politics and unite in an effort to wage a successful war on crime in july heflin announced he would introduce legislation calling for creation of a national court of appeals and that such legislation would relieve the supreme court of some of its present burdens while increasing the national appellate capacity the legislation was intended to also initiate a long range study of the federal court system and call for major reforms in the american judiciary heflin noted that only of the  petitions for hearings submitted to the supreme court in the previous year were granted and that a national appeals court would resolve feuds in the federal circuit courts in heflin won a second senate term handily defeating  an former u s representative albert l smith jr of birmingham who had hoped to win by running on the reelection coattails of u s president ronald w reagan heflin was reelected to a third term in defeating state senator william j cabaniss who later served as united states ambassador to the czech   under george w bush heflin did not run for reelection in and was succeeded by  an jeff sessions in heflin a member of the senate judiciary committee voted against confirmation of judge robert bork to the supreme court of the united states heflin became chairman of the select committee on ethics while on the ethics committee he led the prosecution against fellow  ic senator howard cannon of nevada for violations of senate rules as a conservative   he strongly opposed abortion and gun control heflin supported school prayer in public schools and opposed laws banning discrimination on the basis of sexual orientation citation needed he supported the gulf war of and opposed cuts in defense spending with fritz hollings of south carolina heflin was one of only two  s in the senate to vote against the family and medical leave act he occasionally voted with  ans on taxes citation needed on other economic issues he was more allied with his party s populist wing he voted against the north american free trade agreement nafta general agreement on tariffs and trade gatt and attempts to weaken enforcement of consumer protection measures citation needed he strongly supported affirmative action laws citation needed he voted against confirmation of clarence thomas to the united states supreme court citing thomas s lack of experience in heflin gave a memorable speech on the senate floor in support of senator carol moseley braun s successful effort to deny renewal of a confederate flag design patent for the united daughters of the confederacy heflin spoke of his pride and love for his confederate ancestors his respect for the united daughters of the confederacy and his conflict in breaking with them over this issue but he said heflin lived at his longtime residence in tuscumbia until his death on march  of a heart attack he was survived by his wife elizabeth ann his son h thomas jr known as tom and two grandchildren heflin was the last   to serve as a senator from alabama until the swearing in of doug jones winner of the december special election on january  years to the day after heflin left the seat a heflin had been a mentor to jones who worked for him as a senatorial aide'"
            ]
          },
          "metadata": {},
          "execution_count": 45
        }
      ]
    },
    {
      "cell_type": "code",
      "metadata": {
        "colab": {
          "base_uri": "https://localhost:8080/"
        },
        "id": "XHb8zS8-oOeC",
        "outputId": "2161f4e2-4914-423b-d2fd-08a7d731cb53"
      },
      "source": [
        "other_length=[]\n",
        "political_length=[]\n",
        "background_length=[]\n",
        "\n",
        "other_greater_than_4096 = 0\n",
        "background_greater_than_4096 = 0\n",
        "political_greater_than_4096 = 0\n",
        "max_length=0\n",
        "for i in range(len(preprocessed_text)):\n",
        "  # # if(len(preprocessed_text[i]['Others'])>4096):\n",
        "  # #   other_greater_than_4096+=1\n",
        "  # #   other_length.append(i)\n",
        "\n",
        "  # if(len(preprocessed_text[i]['Background'])>4096):\n",
        "  #   background_greater_than_4096+=1\n",
        "  #   background_length.append(i)\n",
        "\n",
        "  if(len(preprocessed_text[i])>4096):\n",
        "    if len(preprocessed_text[i])>max_length:\n",
        "      max_length=len(preprocessed_text[i])\n",
        "    political_greater_than_4096+=1\n",
        "    political_length.append(i)\n",
        "\n",
        "print(other_greater_than_4096)\n",
        "print(background_greater_than_4096)\n",
        "print(political_greater_than_4096)"
      ],
      "execution_count": null,
      "outputs": [
        {
          "output_type": "stream",
          "name": "stdout",
          "text": [
            "0\n",
            "0\n",
            "816\n"
          ]
        }
      ]
    },
    {
      "cell_type": "code",
      "metadata": {
        "colab": {
          "base_uri": "https://localhost:8080/",
          "height": 140
        },
        "id": "f_Q7J73mpqmJ",
        "outputId": "f675d801-4d42-4fc3-95d6-e7401d87380e"
      },
      "source": [
        "preprocessed_text[0]"
      ],
      "execution_count": null,
      "outputs": [
        {
          "output_type": "execute_result",
          "data": {
            "application/vnd.google.colaboratory.intrinsic+json": {
              "type": "string"
            },
            "text/plain": [
              "'in heflin was elected chief justice of the alabama supreme court serving from to  in heflin was elected to the united states senate to succeed fellow   john sparkman who had been adlai e stevenson s running mate in the presidential election heflin won his party s nomination by defeating u s representative walter flowers of tuscaloosa a longtime george c wallace ally the  an gubernatorial nominee former u s representative james d martin of gadsden announced that he would challenge heflin but martin switched to a second senate race for a two year term created by the sudden death of senator james b allen leaving heflin without a  an opponent in march president reagan was shot during an assassination attempt by john hinckley jr outside the hilton hotel in washington d c hinckley being brought to trial fourteen months afterward heflin espoused the view that the time between the incident and the trial was part of the need for an overhauling of the criminal justice system so it can more efficiently and effectively deal with the rising epidemic of violent crime in this nation and noted the shootings of pope john paul ii and president of egypt anwar sadat as incidents that had happened after the reagan shooting yet had already seen the assailants be convicted and either jailed or executed heflin stated that the delays in bringing defendants to trial formed contempt for the system in addition to denouncing the delays as part of the problem calling for the senate to form a crime caucus as part of an attempt to put aside petty partisan politics and unite in an effort to wage a successful war on crime in july heflin announced he would introduce legislation calling for creation of a national court of appeals and that such legislation would relieve the supreme court of some of its present burdens while increasing the national appellate capacity the legislation was intended to also initiate a long range study of the federal court system and call for major reforms in the american judiciary heflin noted that only of the  petitions for hearings submitted to the supreme court in the previous year were granted and that a national appeals court would resolve feuds in the federal circuit courts in heflin won a second senate term handily defeating  an former u s representative albert l smith jr of birmingham who had hoped to win by running on the reelection coattails of u s president ronald w reagan heflin was reelected to a third term in defeating state senator william j cabaniss who later served as united states ambassador to the czech   under george w bush heflin did not run for reelection in and was succeeded by  an jeff sessions in heflin a member of the senate judiciary committee voted against confirmation of judge robert bork to the supreme court of the united states heflin became chairman of the select committee on ethics while on the ethics committee he led the prosecution against fellow  ic senator howard cannon of nevada for violations of senate rules as a conservative   he strongly opposed abortion and gun control heflin supported school prayer in public schools and opposed laws banning discrimination on the basis of sexual orientation citation needed he supported the gulf war of and opposed cuts in defense spending with fritz hollings of south carolina heflin was one of only two  s in the senate to vote against the family and medical leave act he occasionally voted with  ans on taxes citation needed on other economic issues he was more allied with his party s populist wing he voted against the north american free trade agreement nafta general agreement on tariffs and trade gatt and attempts to weaken enforcement of consumer protection measures citation needed he strongly supported affirmative action laws citation needed he voted against confirmation of clarence thomas to the united states supreme court citing thomas s lack of experience in heflin gave a memorable speech on the senate floor in support of senator carol moseley braun s successful effort to deny renewal of a confederate flag design patent for the united daughters of the confederacy heflin spoke of his pride and love for his confederate ancestors his respect for the united daughters of the confederacy and his conflict in breaking with them over this issue but he said heflin lived at his longtime residence in tuscumbia until his death on march  of a heart attack he was survived by his wife elizabeth ann his son h thomas jr known as tom and two grandchildren heflin was the last   to serve as a senator from alabama until the swearing in of doug jones winner of the december special election on january  years to the day after heflin left the seat a heflin had been a mentor to jones who worked for him as a senatorial aide'"
            ]
          },
          "metadata": {},
          "execution_count": 47
        }
      ]
    },
    {
      "cell_type": "code",
      "metadata": {
        "colab": {
          "base_uri": "https://localhost:8080/"
        },
        "id": "jNCjIIBUpeoA",
        "outputId": "b099b311-eb55-46b6-b427-886ab6c29c8c"
      },
      "source": [
        "print(max_length)"
      ],
      "execution_count": null,
      "outputs": [
        {
          "output_type": "stream",
          "name": "stdout",
          "text": [
            "66260\n"
          ]
        }
      ]
    },
    {
      "cell_type": "code",
      "metadata": {
        "id": "miSRpH2eun0m"
      },
      "source": [
        "# from sentence_transformers import SentenceTransformer\n",
        "# model = SentenceTransformer('sentence-transformers/paraphrase-distilroberta-base-v2')"
      ],
      "execution_count": null,
      "outputs": []
    },
    {
      "cell_type": "code",
      "metadata": {
        "id": "krxvDIQSuqc2"
      },
      "source": [
        "# model.max_seq_length = 256"
      ],
      "execution_count": null,
      "outputs": []
    },
    {
      "cell_type": "code",
      "metadata": {
        "colab": {
          "base_uri": "https://localhost:8080/"
        },
        "id": "gqL-ZmnAutCG",
        "outputId": "101b2bd5-14f2-4eab-9e10-143687916a80"
      },
      "source": [
        "!pip install transformers"
      ],
      "execution_count": null,
      "outputs": [
        {
          "output_type": "stream",
          "name": "stdout",
          "text": [
            "Requirement already satisfied: transformers in /usr/local/lib/python3.7/dist-packages (4.13.0)\n",
            "Requirement already satisfied: regex!=2019.12.17 in /usr/local/lib/python3.7/dist-packages (from transformers) (2019.12.20)\n",
            "Requirement already satisfied: sacremoses in /usr/local/lib/python3.7/dist-packages (from transformers) (0.0.46)\n",
            "Requirement already satisfied: importlib-metadata in /usr/local/lib/python3.7/dist-packages (from transformers) (4.8.2)\n",
            "Requirement already satisfied: tokenizers<0.11,>=0.10.1 in /usr/local/lib/python3.7/dist-packages (from transformers) (0.10.3)\n",
            "Requirement already satisfied: filelock in /usr/local/lib/python3.7/dist-packages (from transformers) (3.4.0)\n",
            "Requirement already satisfied: numpy>=1.17 in /usr/local/lib/python3.7/dist-packages (from transformers) (1.19.5)\n",
            "Requirement already satisfied: tqdm>=4.27 in /usr/local/lib/python3.7/dist-packages (from transformers) (4.62.3)\n",
            "Requirement already satisfied: packaging>=20.0 in /usr/local/lib/python3.7/dist-packages (from transformers) (21.3)\n",
            "Requirement already satisfied: requests in /usr/local/lib/python3.7/dist-packages (from transformers) (2.23.0)\n",
            "Requirement already satisfied: pyyaml>=5.1 in /usr/local/lib/python3.7/dist-packages (from transformers) (6.0)\n",
            "Requirement already satisfied: huggingface-hub<1.0,>=0.1.0 in /usr/local/lib/python3.7/dist-packages (from transformers) (0.2.1)\n",
            "Requirement already satisfied: typing-extensions>=3.7.4.3 in /usr/local/lib/python3.7/dist-packages (from huggingface-hub<1.0,>=0.1.0->transformers) (3.10.0.2)\n",
            "Requirement already satisfied: pyparsing!=3.0.5,>=2.0.2 in /usr/local/lib/python3.7/dist-packages (from packaging>=20.0->transformers) (3.0.6)\n",
            "Requirement already satisfied: zipp>=0.5 in /usr/local/lib/python3.7/dist-packages (from importlib-metadata->transformers) (3.6.0)\n",
            "Requirement already satisfied: chardet<4,>=3.0.2 in /usr/local/lib/python3.7/dist-packages (from requests->transformers) (3.0.4)\n",
            "Requirement already satisfied: certifi>=2017.4.17 in /usr/local/lib/python3.7/dist-packages (from requests->transformers) (2021.10.8)\n",
            "Requirement already satisfied: urllib3!=1.25.0,!=1.25.1,<1.26,>=1.21.1 in /usr/local/lib/python3.7/dist-packages (from requests->transformers) (1.24.3)\n",
            "Requirement already satisfied: idna<3,>=2.5 in /usr/local/lib/python3.7/dist-packages (from requests->transformers) (2.10)\n",
            "Requirement already satisfied: joblib in /usr/local/lib/python3.7/dist-packages (from sacremoses->transformers) (1.1.0)\n",
            "Requirement already satisfied: six in /usr/local/lib/python3.7/dist-packages (from sacremoses->transformers) (1.15.0)\n",
            "Requirement already satisfied: click in /usr/local/lib/python3.7/dist-packages (from sacremoses->transformers) (7.1.2)\n"
          ]
        }
      ]
    },
    {
      "cell_type": "code",
      "metadata": {
        "id": "3y_Syh_IuvCo"
      },
      "source": [
        "# from transformers import AutoTokenizer, AutoModel\n",
        "  \n",
        "# tokenizer = AutoTokenizer.from_pretrained(\"allenai/longformer-base-4096\")\n",
        "\n",
        "# model = AutoModel.from_pretrained(\"allenai/longformer-base-4096\")"
      ],
      "execution_count": null,
      "outputs": []
    },
    {
      "cell_type": "code",
      "metadata": {
        "id": "4PuIZ0SG-kt7"
      },
      "source": [
        "# from transformers import AutoTokenizer, AutoModel\n",
        "  \n",
        "# tokenizer = AutoTokenizer.from_pretrained(\"allenai/longformer-large-4096\")\n",
        "\n",
        "# model = AutoModel.from_pretrained(\"allenai/longformer-large-4096\")"
      ],
      "execution_count": null,
      "outputs": []
    },
    {
      "cell_type": "code",
      "metadata": {
        "id": "zcNz_m_0EYF-",
        "colab": {
          "base_uri": "https://localhost:8080/",
          "height": 209,
          "referenced_widgets": [
            "62035d0f05ef450a80b9a62a2d4e5892",
            "ccd8f7cf4d4d49bb91b6796aa5cd786f",
            "bdaefe55231f49889f6997e066b77ed4",
            "13867d3553a74f3f8056f639789b656e",
            "9b08c4efa70c424e8bd2c0871bb8ec2a",
            "cadfb2c5364146a9a7adb212e17f571e",
            "3309770d3b7942939d94d1930a286555",
            "ab17600627fd4eb2946ef7ff3ab5a67b",
            "d188d56960294e5c83e62108d14b4289",
            "fdb1ba4f8c334b878f8971028ee5ef6d",
            "1ab3284152f74e718b617cbd577852e4",
            "e48947945bbd42d5937fb9401c88810e",
            "8699fd01bb8842128a37b3faaf600de5",
            "d65d63c88fa443d58cab6c81f44d03e4",
            "cfabe7a86e894aa48b580451074a99a2",
            "0cac850c25e9411cb711347fd077870b",
            "dbbf4fac0a8143af805b46f4ad0eb139",
            "7e33cff47d334e30b01b04ac3364dc7b",
            "d94f970f67ff447e868066b3f4a977ca",
            "fa0c4ad6c3ba41f1b86c39f230a172a4",
            "9aa151ed894143efb86f74acb7b3269c",
            "8cac24ecc3f144e096f30705a0a3e076",
            "cd7f092aa29240ffad93355b84b6e10b",
            "4ed7998390d74624ae033dedfcc3bfd9",
            "09fa48bc1b4a4aaeb3c8cc7b12caa079",
            "54e621aec19340bd98cdd8972c9a62ec",
            "df2ae69f73e4438bb11b4f449e48906d",
            "e6b79c353db54e76990c1b32af4710b2",
            "1ff3cb5855fb4a3ba6605a0ac4f17bf3",
            "18cc9ef962a643e9bf4b410d5010fec8",
            "46d70478341741e5b8fc8df336bb6f6e",
            "59c0ee7569724daf8d4cf5e6c5a7fb52",
            "94206bae244c46cab2f25299befe3897",
            "2d6190c9b2b546e4ba36218e77e28050",
            "54f567e70fd44fa8aee8f3ab0bd65d69",
            "ab5a00f46645462ea39d1e48b34898bd",
            "b9b719590c7341a2b2911b5a37bff473",
            "4a38d5e5da0e4ac1a568cb34321b9fcc",
            "328c5965ec3f4487bab505f2e7babc76",
            "db705a8320a94d64ae3896a27ee78b1b",
            "6af1e7e5df9a4fccac45ad8b9cd7fa11",
            "b651937ed6ba4f90a97163377259bdb9",
            "dce58fef71fc4afba2f16fdde3384b33",
            "4e2295e64c2c4ded8787795d9beaecbf",
            "9ac64e9c50de4ddcbb207146ff19f57e",
            "e2a3d2e75f5249f086f8766c765a344e",
            "ba03df9ed60c4578aaa9da146f723efd",
            "b40aa7c052344f758f0b3f4700daf7c2",
            "36bc284228994380b9f61814fbae77a8",
            "e99252abb38945beac078178bc17d4be",
            "6b073912fdfb4fb0ab2a8066f27210db",
            "d56f6d0c9e8244959445afe272168c21",
            "4d24002a8d66439fbac3e3b76f974ee6",
            "5e39fa0ac8224d76ba54aaddd62b10de",
            "794d8544df094e29afff33ade05a7e9e",
            "dde62bcae0bc42a693a50030a08f78d2",
            "aea396137f654fd69649b12ab2f77676",
            "5d6d8dc5abdb421380327cbc98e0c4a4",
            "2838e6a1e7fe4a0ea7e7d0196beb94d2",
            "3581ce8bfd2e4265af205aa6289a19c5",
            "582c9bafdbab4fa4aa8a55ade384e649",
            "5a43f156446e4512b406a9b10a5181ea",
            "0294fc163c414612977b1d1674855197",
            "e51cf8b704784d1dac4322d82fc21943",
            "d81ba1963b2b450e99cfb92f7f1dccac",
            "e20360d4a2ac419eb9fd8ee4122f74af"
          ]
        },
        "outputId": "fb58f138-cb7e-47df-a988-fc1f7e9e4795"
      },
      "source": [
        "from transformers import PegasusTokenizer, BigBirdPegasusForConditionalGeneration, BigBirdPegasusConfig\n",
        "from transformers import AutoTokenizer, AutoModel\n",
        "model = BigBirdPegasusForConditionalGeneration.from_pretrained('google/bigbird-pegasus-large-arxiv')\n",
        "# tokenizer = PegasusTokenizer.from_pretrained('google/bigbird-pegasus-large-arxiv')\n",
        "tokenizer = AutoTokenizer.from_pretrained(\"google/bigbird-pegasus-large-arxiv\")"
      ],
      "execution_count": null,
      "outputs": [
        {
          "output_type": "display_data",
          "data": {
            "application/vnd.jupyter.widget-view+json": {
              "model_id": "62035d0f05ef450a80b9a62a2d4e5892",
              "version_minor": 0,
              "version_major": 2
            },
            "text/plain": [
              "Downloading:   0%|          | 0.00/1.03k [00:00<?, ?B/s]"
            ]
          },
          "metadata": {}
        },
        {
          "output_type": "display_data",
          "data": {
            "application/vnd.jupyter.widget-view+json": {
              "model_id": "e48947945bbd42d5937fb9401c88810e",
              "version_minor": 0,
              "version_major": 2
            },
            "text/plain": [
              "Downloading:   0%|          | 0.00/2.15G [00:00<?, ?B/s]"
            ]
          },
          "metadata": {}
        },
        {
          "output_type": "display_data",
          "data": {
            "application/vnd.jupyter.widget-view+json": {
              "model_id": "cd7f092aa29240ffad93355b84b6e10b",
              "version_minor": 0,
              "version_major": 2
            },
            "text/plain": [
              "Downloading:   0%|          | 0.00/1.17k [00:00<?, ?B/s]"
            ]
          },
          "metadata": {}
        },
        {
          "output_type": "display_data",
          "data": {
            "application/vnd.jupyter.widget-view+json": {
              "model_id": "2d6190c9b2b546e4ba36218e77e28050",
              "version_minor": 0,
              "version_major": 2
            },
            "text/plain": [
              "Downloading:   0%|          | 0.00/1.83M [00:00<?, ?B/s]"
            ]
          },
          "metadata": {}
        },
        {
          "output_type": "display_data",
          "data": {
            "application/vnd.jupyter.widget-view+json": {
              "model_id": "9ac64e9c50de4ddcbb207146ff19f57e",
              "version_minor": 0,
              "version_major": 2
            },
            "text/plain": [
              "Downloading:   0%|          | 0.00/3.35M [00:00<?, ?B/s]"
            ]
          },
          "metadata": {}
        },
        {
          "output_type": "display_data",
          "data": {
            "application/vnd.jupyter.widget-view+json": {
              "model_id": "dde62bcae0bc42a693a50030a08f78d2",
              "version_minor": 0,
              "version_major": 2
            },
            "text/plain": [
              "Downloading:   0%|          | 0.00/775 [00:00<?, ?B/s]"
            ]
          },
          "metadata": {}
        }
      ]
    },
    {
      "cell_type": "code",
      "metadata": {
        "id": "q28vv25auxZF"
      },
      "source": [
        "def mean_pooling(model_output, attention_mask):\n",
        "    token_embeddings = model_output[0]\n",
        "    input_mask_expanded = attention_mask.unsqueeze(-1).expand(token_embeddings.size()).float()\n",
        "    sum_embeddings = torch.sum(token_embeddings * input_mask_expanded, 1)\n",
        "    sum_mask = torch.clamp(input_mask_expanded.sum(1), min=1e-9)\n",
        "    return sum_embeddings / sum_mask"
      ],
      "execution_count": null,
      "outputs": []
    },
    {
      "cell_type": "code",
      "metadata": {
        "id": "_SEvEoR9xWBI"
      },
      "source": [
        "cuda = torch.cuda.is_available()\n",
        "device = torch.device(\"cuda\" if cuda else \"cpu\")\n",
        "model = model.to(device)"
      ],
      "execution_count": null,
      "outputs": []
    },
    {
      "cell_type": "code",
      "metadata": {
        "id": "QEIA0jtrvDUM"
      },
      "source": [
        "longformer_embeddings = []\n",
        "for i,t in enumerate(preprocessed_text):  \n",
        "  encoded_input = tokenizer(t, padding=True, truncation=True, max_length=4096, return_tensors='pt')\n",
        "  # encoded_input = tokenizer(t ,return_tensors='pt')\n",
        "\n",
        "  with torch.no_grad():\n",
        "      encoded_input=encoded_input.to(device)\n",
        "      model_output = model(**encoded_input)\n",
        "\n",
        "  # mean pooling\n",
        "  sentence_embeddings = mean_pooling(model_output, encoded_input['attention_mask'])\n",
        "  longformer_embeddings.append(sentence_embeddings)  "
      ],
      "execution_count": null,
      "outputs": []
    },
    {
      "cell_type": "code",
      "metadata": {
        "id": "QFj3V6Pq3DJD"
      },
      "source": [
        "# ######### New for increased token lengths\n",
        "# longformer_embeddings = []\n",
        "# for i,t in enumerate(preprocessed_text):  \n",
        "#   if(len(t)<=4096):\n",
        "#     encoded_input = tokenizer(t, padding=True, truncation=True, max_length=4096, return_tensors='pt')\n",
        "\n",
        "#     with torch.no_grad():\n",
        "#         encoded_input=encoded_input.to(device)\n",
        "#         model_output = model(**encoded_input)\n",
        "\n",
        "#     # mean pooling\n",
        "#     sentence_embeddings = mean_pooling(model_output, encoded_input['attention_mask'])\n",
        "#     x = sentence_embeddings\n",
        "#     new_sentence_embeddings = torch.cat((x,x,x,x,x),axis=1)\n",
        "#     longformer_embeddings.append(new_sentence_embeddings)\n",
        "#   else:\n",
        "#     nums = len(t)/4096\n",
        "#     for k in nums:\n",
        "#         encoded_input = tokenizer(t, padding=True, truncation=True, max_length=128, return_tensors='pt')\n",
        "\n",
        "#         with torch.no_grad():\n",
        "#             encoded_input=encoded_input.to(device)\n",
        "#             model_output = model(**encoded_input)\n",
        "\n",
        "#         # mean pooling\n",
        "#         sentence_embeddings = mean_pooling(model_output, encoded_input['attention_mask'])\n",
        "#         x = sentence_embeddings\n",
        "#         new_sentence_embeddings = torch.cat((x,x,x,x,x),axis=1)\n",
        "#         longformer_embeddings.append(new_sentence_embeddings)"
      ],
      "execution_count": null,
      "outputs": []
    },
    {
      "cell_type": "code",
      "metadata": {
        "id": "GRiRJ0KEvUR9"
      },
      "source": [
        "longformer_embeddings_numpy = []\n",
        "for embedding in longformer_embeddings:\n",
        "  longformer_embeddings_numpy.append(embedding.cpu().detach().numpy())"
      ],
      "execution_count": null,
      "outputs": []
    },
    {
      "cell_type": "code",
      "metadata": {
        "id": "qeWOKcKpvyC0"
      },
      "source": [
        "longformer_embeddings_numpy = np.array(longformer_embeddings_numpy)\n",
        "# np.save(\"/content/drive/MyDrive/longformer_embeddings_18_nov.npy\", longformer_embeddings_numpy)"
      ],
      "execution_count": null,
      "outputs": []
    },
    {
      "cell_type": "code",
      "metadata": {
        "colab": {
          "base_uri": "https://localhost:8080/"
        },
        "id": "pfqIoCkSBDAP",
        "outputId": "61ab2452-8b9a-43eb-dc15-faae7885c147"
      },
      "source": [
        "print(longformer_embeddings_numpy.shape)"
      ],
      "execution_count": null,
      "outputs": [
        {
          "output_type": "stream",
          "name": "stdout",
          "text": [
            "(1376, 1, 96103)\n"
          ]
        }
      ]
    },
    {
      "cell_type": "code",
      "metadata": {
        "id": "980B04RFv2B1"
      },
      "source": [
        "for i in range(len(longformer_embeddings_numpy)):\n",
        "  longformer_embeddings_numpy[i] = longformer_embeddings_numpy[i].reshape((96103,))"
      ],
      "execution_count": null,
      "outputs": []
    },
    {
      "cell_type": "code",
      "metadata": {
        "id": "mXWeIy_Yv4Fa"
      },
      "source": [
        "longformer_embeddings_numpy = longformer_embeddings_numpy.reshape((1376,96103))"
      ],
      "execution_count": null,
      "outputs": []
    },
    {
      "cell_type": "code",
      "metadata": {
        "id": "RLugg-sWv58A"
      },
      "source": [
        "from sklearn.pipeline import make_pipeline\n",
        "from sklearn.preprocessing import StandardScaler\n",
        "from sklearn.svm import SVC\n",
        "clf = make_pipeline(StandardScaler(), SVC(gamma='auto'))\n",
        "# clf.fit(longformer_embeddings_numpy[:1300], new_y[:1300])"
      ],
      "execution_count": null,
      "outputs": []
    },
    {
      "cell_type": "code",
      "metadata": {
        "id": "Psw3cgcHv78G"
      },
      "source": [
        "# clf.score(longformer_embeddings_numpy[1300:],new_y[1300:])"
      ],
      "execution_count": null,
      "outputs": []
    },
    {
      "cell_type": "code",
      "metadata": {
        "id": "yY6rfsD3tYtk"
      },
      "source": [
        "# clf.score(longformer_embeddings_numpy[:1300],new_y[:1300])"
      ],
      "execution_count": null,
      "outputs": []
    },
    {
      "cell_type": "code",
      "metadata": {
        "id": "13YKTNyUw066"
      },
      "source": [
        "from sklearn.utils import shuffle\n",
        "X_new, Y_new = shuffle(longformer_embeddings_numpy, new_y)"
      ],
      "execution_count": null,
      "outputs": []
    },
    {
      "cell_type": "code",
      "metadata": {
        "id": "D0i0QlAfyDUD"
      },
      "source": [
        "X_train = X_new[:1000]\n",
        "X_test = X_new[1000:]\n",
        "Y_train = Y_new[:1000]\n",
        "Y_test = Y_new[1000:]"
      ],
      "execution_count": null,
      "outputs": []
    },
    {
      "cell_type": "code",
      "metadata": {
        "id": "IFWBOeDHZCdw"
      },
      "source": [
        "# X_train = X_new[:1300]\n",
        "# X_test = X_new[1300:]\n",
        "# Y_train = Y_new[:1300]\n",
        "# Y_test = Y_new[1300:]"
      ],
      "execution_count": null,
      "outputs": []
    },
    {
      "cell_type": "code",
      "metadata": {
        "colab": {
          "base_uri": "https://localhost:8080/"
        },
        "id": "7tq_JD5UfPx4",
        "outputId": "0d887c5a-7519-4a73-ccf1-394a092df7f5"
      },
      "source": [
        "print(X_train.shape)"
      ],
      "execution_count": null,
      "outputs": [
        {
          "output_type": "stream",
          "name": "stdout",
          "text": [
            "(1000, 96103)\n"
          ]
        }
      ]
    },
    {
      "cell_type": "code",
      "metadata": {
        "id": "Zs_3C7LUyl4A",
        "colab": {
          "base_uri": "https://localhost:8080/"
        },
        "outputId": "42e3ecb3-f4c1-4d58-9619-6172ecd5b5b7"
      },
      "source": [
        "clf.fit(X_train, Y_train)"
      ],
      "execution_count": null,
      "outputs": [
        {
          "output_type": "execute_result",
          "data": {
            "text/plain": [
              "Pipeline(steps=[('standardscaler', StandardScaler()),\n",
              "                ('svc', SVC(gamma='auto'))])"
            ]
          },
          "metadata": {},
          "execution_count": 90
        }
      ]
    },
    {
      "cell_type": "code",
      "metadata": {
        "id": "SCnOrbiXyqlu",
        "colab": {
          "base_uri": "https://localhost:8080/"
        },
        "outputId": "9e15ae5c-e179-4976-8b4e-d7706c2041c4"
      },
      "source": [
        "clf.score(X_test,Y_test)*100"
      ],
      "execution_count": null,
      "outputs": [
        {
          "output_type": "execute_result",
          "data": {
            "text/plain": [
              "62.23404255319149"
            ]
          },
          "metadata": {},
          "execution_count": 91
        }
      ]
    },
    {
      "cell_type": "code",
      "metadata": {
        "id": "BAWyowrVyvV4"
      },
      "source": [
        "from sklearn.cluster import KMeans\n",
        "kmeans = KMeans(n_clusters=2, random_state=0).fit(X_test)"
      ],
      "execution_count": null,
      "outputs": []
    },
    {
      "cell_type": "code",
      "metadata": {
        "id": "qDcIXUe6B023"
      },
      "source": [
        "correct = 0\n",
        "for i in range(len(Y_test)):\n",
        "  if(Y_test[i] == kmeans.labels_[i]):\n",
        "    correct+=1"
      ],
      "execution_count": null,
      "outputs": []
    },
    {
      "cell_type": "code",
      "metadata": {
        "colab": {
          "base_uri": "https://localhost:8080/"
        },
        "id": "Dh4ezNwbB499",
        "outputId": "f323c562-0bc7-403d-adaf-9e001b8763e3"
      },
      "source": [
        "(correct/len(Y_test))*100\n",
        "######## Best accuracy using K-means is 63.825%"
      ],
      "execution_count": null,
      "outputs": [
        {
          "output_type": "execute_result",
          "data": {
            "text/plain": [
              "42.5531914893617"
            ]
          },
          "metadata": {},
          "execution_count": 94
        }
      ]
    },
    {
      "cell_type": "code",
      "metadata": {
        "colab": {
          "base_uri": "https://localhost:8080/"
        },
        "id": "-eDzAeoAfv59",
        "outputId": "ec5e042e-53c3-4ef1-9995-ad5b2bf93c58"
      },
      "source": [
        "100-(correct/len(Y_test))*100"
      ],
      "execution_count": null,
      "outputs": [
        {
          "output_type": "execute_result",
          "data": {
            "text/plain": [
              "57.4468085106383"
            ]
          },
          "metadata": {},
          "execution_count": 95
        }
      ]
    },
    {
      "cell_type": "code",
      "metadata": {
        "id": "tMIjGji-DEDa"
      },
      "source": [
        ""
      ],
      "execution_count": null,
      "outputs": []
    }
  ]
}